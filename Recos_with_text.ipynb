{
 "cells": [
  {
   "cell_type": "code",
   "execution_count": 2,
   "id": "75f678ea-6687-43ae-b1ea-c7ddbda410e1",
   "metadata": {},
   "outputs": [],
   "source": [
    "import os\n",
    "import pandas as pd\n",
    "import numpy as np\n",
    "import re\n",
    "os.chdir(r\"C:\\Users\\vladick\\Desktop\\WBTECH\")"
   ]
  },
  {
   "cell_type": "code",
   "execution_count": 98,
   "id": "7a02aa58-3b09-4105-b0df-d0263bd2f1c2",
   "metadata": {},
   "outputs": [],
   "source": [
    "text = pd.read_parquet('text_data.parquet')"
   ]
  },
  {
   "cell_type": "code",
   "execution_count": 99,
   "id": "d57e06b1-50d7-49a1-aab6-38c554560cd4",
   "metadata": {},
   "outputs": [],
   "source": [
    "text['colornames'] = text['colornames'].fillna(text['Цвет'])\n",
    "\n",
    "text['Длина юбки/платья'] = text['Длина юбки/платья'].fillna(text['Длина юбки\\платья'])\n",
    "\n",
    "text.drop(columns=['Цвет', 'Длина юбки\\платья', 'Длина упаковки', 'Высота упаковки', 'Ширина упаковки', 'ИКПУ',\n",
    "                   'Рост модели на фото', 'Код упаковки','Номер сертификата соответствия',\n",
    "                   'Дата регистрации сертификата/декларации'], inplace=True)"
   ]
  },
  {
   "cell_type": "code",
   "execution_count": 100,
   "id": "aa2c6155-4017-4d20-a746-5aebf9721068",
   "metadata": {},
   "outputs": [],
   "source": [
    "text.drop(columns=['Ставка НДС', 'Номер декларации соответствия', 'Дата окончания действия сертификата/декларации',\n",
    "                  'Пол'], inplace=True)"
   ]
  },
  {
   "cell_type": "code",
   "execution_count": 101,
   "id": "94d8fd29-77c2-4831-9dc3-d9407f23fac4",
   "metadata": {},
   "outputs": [
    {
     "name": "stderr",
     "output_type": "stream",
     "text": [
      "100%|██████████| 12956/12956 [00:00<00:00, 242690.89it/s]\n"
     ]
    }
   ],
   "source": [
    "def clean_colornames(color_list):\n",
    "    \"\"\"\n",
    "    Функция для очистки списка цветов.\n",
    "    Удаляет лишние кавычки, пробелы и приводит к нижнему регистру.\n",
    "    Возвращает очищенный список или пустой список, если ввод некорректен.\n",
    "    \"\"\"\n",
    "    if not isinstance(color_list, np.ndarray):\n",
    "        return []\n",
    "\n",
    "    cleaned = []\n",
    "    for color in color_list:\n",
    "        if isinstance(color, str):\n",
    "            color_cleaned = color.strip().strip(\"'\\\"\").lower()\n",
    "            if color_cleaned:  \n",
    "                cleaned.append(color_cleaned)\n",
    "    return cleaned\n",
    "\n",
    "text['colornames'] = text['colornames'].progress_apply(clean_colornames)"
   ]
  },
  {
   "cell_type": "code",
   "execution_count": 102,
   "id": "d67af362-acce-48e3-8848-434fcf887872",
   "metadata": {},
   "outputs": [],
   "source": [
    "columns_to_process = [col for col in text.columns if col not in ['item_id', 'description']]"
   ]
  },
  {
   "cell_type": "code",
   "execution_count": 103,
   "id": "cd92b220-d186-444d-a901-725cded4e884",
   "metadata": {},
   "outputs": [
    {
     "name": "stderr",
     "output_type": "stream",
     "text": [
      "100%|██████████| 12956/12956 [00:04<00:00, 2988.39it/s]\n"
     ]
    }
   ],
   "source": [
    "def flatten_lists(value):\n",
    "    \"\"\"\n",
    "    Рекурсивно разворачивает вложенные списки и массивы (например, numpy.ndarray) и возвращает плоский список элементов.\n",
    "    Если значение не список или массив, возвращает список с одним элементом.\n",
    "    \"\"\"\n",
    "    if isinstance(value, (list, np.ndarray)):\n",
    "        flat_list = []\n",
    "        for item in value:\n",
    "            flat_list.extend(flatten_lists(item))\n",
    "        return flat_list\n",
    "    else:\n",
    "        return [value]\n",
    "\n",
    "def is_value_na(value):\n",
    "    \"\"\"\n",
    "    Проверяет, является ли значение пропуском (NaN).\n",
    "    Если значение список или массив, возвращает True, только если все элементы пропущены.\n",
    "    \"\"\"\n",
    "    if isinstance(value, (list, np.ndarray)):\n",
    "        flat = flatten_lists(value)\n",
    "        return all(pd.isna(item) for item in flat)\n",
    "    else:\n",
    "        return pd.isna(value)\n",
    "\n",
    "def process_value(value):\n",
    "    try:\n",
    "        if is_value_na(value):\n",
    "            return 'пропуск'\n",
    "        if isinstance(value, (list, np.ndarray)):\n",
    "            flat_elements = flatten_lists(value)\n",
    "            flat_elements = [item for item in flat_elements if not pd.isna(item)]\n",
    "            value = ' '.join(map(str, flat_elements))\n",
    "        else:\n",
    "            value = str(value)\n",
    "\n",
    "        cleaned = re.findall(r'[^\\W\\d_]+|\\d+|-', value, re.UNICODE)\n",
    "        cleaned = ' '.join(cleaned)\n",
    "        cleaned = cleaned.lower()\n",
    "\n",
    "        if not cleaned.strip():\n",
    "            return 'пропуск'\n",
    "        \n",
    "        return cleaned\n",
    "    except Exception as e:\n",
    "        print(f\"Ошибка обработки значения: {value} (тип: {type(value)})\")\n",
    "        raise e\n",
    "\n",
    "def create_combined_text(row):\n",
    "    parts = []\n",
    "    for col in columns_to_process:\n",
    "        value = row[col]\n",
    "        processed = process_value(value)\n",
    "        part = f\"{col}: {processed}\"\n",
    "        parts.append(part)\n",
    "    # Объединяем части с переносом строки\n",
    "    return '\\n'.join(parts)\n",
    "\n",
    "text['text'] = text.progress_apply(create_combined_text, axis=1)"
   ]
  },
  {
   "cell_type": "code",
   "execution_count": 104,
   "id": "4715cb3e-e3d9-47b1-94ec-f32ba947c853",
   "metadata": {},
   "outputs": [],
   "source": [
    "text[['item_id', 'text']].to_parquet('text_wo_desc.parquet')"
   ]
  },
  {
   "cell_type": "code",
   "execution_count": 51,
   "id": "d537090c-50c2-4bc6-ab46-2ef9fb3861d2",
   "metadata": {},
   "outputs": [],
   "source": [
    "from sentence_transformers import SentenceTransformer\n",
    "from collections import defaultdict"
   ]
  },
  {
   "cell_type": "code",
   "execution_count": 2,
   "id": "0fdd97d5-7dc5-4b14-9273-57fac3facb96",
   "metadata": {},
   "outputs": [],
   "source": [
    "items = pd.read_parquet('text_wo_desc.parquet')          "
   ]
  },
  {
   "cell_type": "code",
   "execution_count": 10,
   "id": "a7e7beef-1420-45a2-8912-5e9534cca46b",
   "metadata": {},
   "outputs": [],
   "source": [
    "first_train = pd.read_parquet('first_train_2.parquet') \n",
    "first_val = pd.read_parquet('first_val_2.parquet') \n",
    "warm_test = pd.read_parquet('warm_test_2.parquet') "
   ]
  },
  {
   "cell_type": "code",
   "execution_count": 52,
   "id": "c31f0298-dc4f-422e-aeda-0d21f517eab2",
   "metadata": {},
   "outputs": [],
   "source": [
    "model_name = 'intfloat/multilingual-e5-small'\n",
    "model = SentenceTransformer(model_name)"
   ]
  },
  {
   "cell_type": "code",
   "execution_count": 53,
   "id": "0004b8b2-59d7-413c-99b4-5b9cecaf44e5",
   "metadata": {},
   "outputs": [
    {
     "data": {
      "application/vnd.jupyter.widget-view+json": {
       "model_id": "7bebe7d848e1463cbd5f81747400b49a",
       "version_major": 2,
       "version_minor": 0
      },
      "text/plain": [
       "Batches:   0%|          | 0/405 [00:00<?, ?it/s]"
      ]
     },
     "metadata": {},
     "output_type": "display_data"
    }
   ],
   "source": [
    "item_texts = items['text'].tolist()\n",
    "item_embeddings = model.encode(item_texts, show_progress_bar=True, convert_to_numpy=True, normalize_embeddings=True)"
   ]
  },
  {
   "cell_type": "code",
   "execution_count": 54,
   "id": "8dead0d7-42b0-4304-ad5e-8c35d6d789cd",
   "metadata": {},
   "outputs": [],
   "source": [
    "items = items.drop(columns=['text'])"
   ]
  },
  {
   "cell_type": "code",
   "execution_count": 55,
   "id": "916e0400-e585-4eb1-9557-06400652836b",
   "metadata": {},
   "outputs": [],
   "source": [
    "embedding_dim = item_embeddings.shape[1]"
   ]
  },
  {
   "cell_type": "code",
   "execution_count": 56,
   "id": "a3e77529-a004-499c-9b8b-040a3a4e03e9",
   "metadata": {},
   "outputs": [],
   "source": [
    "embedding_cols = [f'text_{i}' for i in range(embedding_dim)]\n",
    "\n",
    "embeddings_df = pd.DataFrame(item_embeddings, columns=embedding_cols)\n",
    "\n",
    "embeddings_df.index = items.index.copy()\n",
    "\n",
    "items = pd.concat([items, embeddings_df], axis=1)"
   ]
  },
  {
   "cell_type": "code",
   "execution_count": 58,
   "id": "634b847b-ba24-4933-b5e6-0bc8c5ab6471",
   "metadata": {},
   "outputs": [],
   "source": [
    "items.to_parquet('text_emb_e5.parquet')"
   ]
  },
  {
   "cell_type": "code",
   "execution_count": 156,
   "id": "400eafae-ecff-4a04-825e-9fcadc7fda10",
   "metadata": {},
   "outputs": [],
   "source": [
    "from sklearn.preprocessing import normalize\n",
    "import faiss"
   ]
  },
  {
   "cell_type": "code",
   "execution_count": 18,
   "id": "09149d2e-4fa0-4fea-bb49-3f728f7256f0",
   "metadata": {},
   "outputs": [],
   "source": [
    "from rectools.metrics import (\n",
    "    HitRate,\n",
    "    Serendipity,\n",
    "    calc_metrics,\n",
    "    Recall,\n",
    "    MAP,\n",
    "    MRR,\n",
    "    AvgRecPopularity\n",
    ")\n",
    "from rectools import Columns\n",
    "from rectools.dataset import Dataset"
   ]
  },
  {
   "cell_type": "code",
   "execution_count": 19,
   "id": "eda436b1-2fcc-4d11-898b-95d56a8d0d40",
   "metadata": {},
   "outputs": [],
   "source": [
    "catalog = first_train[Columns.Item].unique()"
   ]
  },
  {
   "cell_type": "code",
   "execution_count": 20,
   "id": "73c1bb00-a65a-4b65-aa01-64355030adcc",
   "metadata": {},
   "outputs": [],
   "source": [
    "metrics = {\n",
    "    \"hit_rate@1\": HitRate(k=1),\n",
    "    \"hit_rate@5\": HitRate(k=5),\n",
    "    \"hit_rate@10\": HitRate(k=10),\n",
    "    \"Recall@1\": Recall(k=1),\n",
    "    \"Recall@5\": Recall(k=5),\n",
    "    \"Recall@10\": Recall(k=10),\n",
    "    \"MAP@1\": MAP(k=1),\n",
    "    \"MAP@5\": MAP(k=5),\n",
    "    \"MAP@10\": MAP(k=10),\n",
    "    \"MRR@1\": MRR(k=1),\n",
    "    \"MRR@5\": MRR(k=5),\n",
    "    \"MRR@10\": MRR(k=10),\n",
    "    \"pop_bias@10\": AvgRecPopularity(k=10),\n",
    "    \"serendipity@10\": Serendipity(k=10),\n",
    "}"
   ]
  },
  {
   "cell_type": "code",
   "execution_count": 180,
   "id": "4fb14a2c-8b92-4332-857c-2268a82285c4",
   "metadata": {},
   "outputs": [],
   "source": [
    "interaction_counts = first_train.groupby(['user_id', 'item_id']).size().reset_index(name='count')\n",
    "interaction_emb = interaction_counts.merge(items, on='item_id', how='left')\n",
    "embedding_cols = [col for col in items.columns if col.startswith('text_')]\n",
    "interaction_emb[embedding_cols] = interaction_emb[embedding_cols].multiply(interaction_emb['count'], axis=0)\n",
    "user_embeddings_sum = interaction_emb.groupby('user_id')[embedding_cols].sum()\n",
    "user_total_counts = interaction_emb.groupby('user_id')['count'].sum()\n",
    "user_embeddings = user_embeddings_sum.div(user_total_counts, axis=0).reset_index()"
   ]
  },
  {
   "cell_type": "code",
   "execution_count": 181,
   "id": "37384c8c-2654-4130-91f0-70588288c9bf",
   "metadata": {},
   "outputs": [],
   "source": [
    "user_ids = user_embeddings['user_id'].values\n",
    "user_emb_matrix = user_embeddings[embedding_cols].values\n",
    "item_ids = items['item_id'].values\n",
    "item_emb_matrix = items[embedding_cols].values\n",
    "user_emb_matrix_normalized = normalize(user_emb_matrix, axis=1)\n",
    "item_emb_matrix_normalized = normalize(item_emb_matrix, axis=1)"
   ]
  },
  {
   "cell_type": "code",
   "execution_count": 182,
   "id": "9e63a12e-c6e2-490f-9315-1c3fe0035641",
   "metadata": {},
   "outputs": [
    {
     "name": "stdout",
     "output_type": "stream",
     "text": [
      "Количество добавленных в индекс векторов: 12956\n"
     ]
    }
   ],
   "source": [
    "dimension = item_emb_matrix_normalized.shape[1]\n",
    "index = faiss.IndexFlatIP(dimension)\n",
    "index.add(item_emb_matrix_normalized)\n",
    "print(f\"Количество добавленных в индекс векторов: {index.ntotal}\")"
   ]
  },
  {
   "cell_type": "code",
   "execution_count": 198,
   "id": "a050fcd7-f863-4f92-ae4f-6c3ee6c23dc4",
   "metadata": {},
   "outputs": [],
   "source": [
    "val_users = first_val['user_id'].unique()\n",
    "user_embeddings_val = user_embeddings[user_embeddings['user_id'].isin(val_users)].reset_index(drop=True)\n",
    "user_ids_val = user_embeddings_val['user_id'].values\n",
    "user_emb_matrix_val = user_embeddings_val[embedding_cols].values\n",
    "user_emb_matrix_val_normalized = normalize(user_emb_matrix_val, axis=1)"
   ]
  },
  {
   "cell_type": "code",
   "execution_count": 199,
   "id": "20f31093-3a67-4635-adc1-a853936e0313",
   "metadata": {},
   "outputs": [],
   "source": [
    "top_n = 50\n",
    "D, I = index.search(user_emb_matrix_val_normalized, top_n)\n",
    "index_to_item_id = {idx: item_id for idx, item_id in enumerate(item_ids)}\n",
    "recommendations = []\n",
    "\n",
    "for user_idx, user_id in enumerate(user_ids_val):\n",
    "    user_scores = D[user_idx]\n",
    "    top_item_indices = I[user_idx]\n",
    "    top_items = [index_to_item_id[idx] for idx in top_item_indices]\n",
    "    top_scores = user_scores.tolist()\n",
    "    \n",
    "    for rank, (item, score) in enumerate(zip(top_items, top_scores), start=1):\n",
    "        recommendations.append({\n",
    "            'user_id': user_id,\n",
    "            'item_id': item,\n",
    "            'score': score,\n",
    "            'rank': rank\n",
    "        })\n",
    "\n",
    "recommendations_df = pd.DataFrame(recommendations)"
   ]
  },
  {
   "cell_type": "code",
   "execution_count": 200,
   "id": "74bf1e7e-b782-457e-b4ed-480a7efe2b5d",
   "metadata": {},
   "outputs": [
    {
     "data": {
      "text/plain": [
       "{'hit_rate@1': 0.30603431656063235,\n",
       " 'hit_rate@5': 0.44569115095430883,\n",
       " 'hit_rate@10': 0.4749566223250434,\n",
       " 'Recall@1': 0.14651050703682283,\n",
       " 'Recall@5': 0.24086176980913823,\n",
       " 'Recall@10': 0.26168305378831697,\n",
       " 'MRR@1': 0.30603431656063235,\n",
       " 'MRR@5': 0.36328706381337966,\n",
       " 'MRR@10': 0.3672579189120543,\n",
       " 'MAP@1': 0.14651050703682283,\n",
       " 'MAP@5': 0.20653476640318744,\n",
       " 'MAP@10': 0.21150724797341341,\n",
       " 'pop_bias@10': 335.050649701176,\n",
       " 'serendipity@10': 0.0033030058197051305}"
      ]
     },
     "execution_count": 200,
     "metadata": {},
     "output_type": "execute_result"
    }
   ],
   "source": [
    "calc_metrics(\n",
    "    metrics=metrics,\n",
    "    reco=recommendations_df,\n",
    "    interactions=first_val,\n",
    "    prev_interactions=first_train,\n",
    "    catalog=catalog\n",
    ")"
   ]
  },
  {
   "cell_type": "code",
   "execution_count": 201,
   "id": "d542ac45-d7d0-4bbf-98d6-55e33e8608c3",
   "metadata": {},
   "outputs": [],
   "source": [
    "recommendations_df.to_parquet('text_recommendations_val.parquet')"
   ]
  },
  {
   "cell_type": "code",
   "execution_count": 202,
   "id": "ed63cda6-1102-4eab-a4e0-84747fa53162",
   "metadata": {},
   "outputs": [],
   "source": [
    "test_users = warm_test['user_id'].unique()\n",
    "\n",
    "user_embeddings_test = user_embeddings[user_embeddings['user_id'].isin(test_users)].reset_index(drop=True)\n",
    "\n",
    "user_ids_test = user_embeddings_test['user_id'].values\n",
    "user_emb_matrix_test = user_embeddings_test[embedding_cols].values\n",
    "\n",
    "user_emb_matrix_test_normalized = normalize(user_emb_matrix_test, axis=1)"
   ]
  },
  {
   "cell_type": "code",
   "execution_count": 203,
   "id": "8676b00d-975c-4cc1-85da-de280d1d4cc1",
   "metadata": {},
   "outputs": [],
   "source": [
    "top_n = 50\n",
    "\n",
    "D, I = index.search(user_emb_matrix_test_normalized, top_n)\n",
    "\n",
    "index_to_item_id = {idx: item_id for idx, item_id in enumerate(item_ids)}\n",
    "\n",
    "recommendations = []\n",
    "\n",
    "for user_idx, user_id in enumerate(user_ids_test):\n",
    "    user_scores = D[user_idx]\n",
    "    top_item_indices = I[user_idx]\n",
    "    top_items = [index_to_item_id[idx] for idx in top_item_indices]\n",
    "    top_scores = user_scores.tolist()\n",
    "    \n",
    "    for rank, (item, score) in enumerate(zip(top_items, top_scores), start=1):\n",
    "        recommendations.append({\n",
    "            'user_id': user_id,\n",
    "            'item_id': item,\n",
    "            'score': score,\n",
    "            'rank': rank\n",
    "        })\n",
    "\n",
    "recommendations_df = pd.DataFrame(recommendations)"
   ]
  },
  {
   "cell_type": "code",
   "execution_count": 204,
   "id": "19c09ef7-4eb9-4905-8bc8-103b007cb63a",
   "metadata": {},
   "outputs": [
    {
     "data": {
      "text/plain": [
       "{'hit_rate@1': 0.3091455891425046,\n",
       " 'hit_rate@5': 0.44509561998766195,\n",
       " 'hit_rate@10': 0.47466841455891423,\n",
       " 'Recall@1': 0.14603254164096238,\n",
       " 'Recall@5': 0.24215376310919184,\n",
       " 'Recall@10': 0.2623091455891425,\n",
       " 'MRR@1': 0.3091455891425046,\n",
       " 'MRR@5': 0.3648493728151347,\n",
       " 'MRR@10': 0.3687908055726918,\n",
       " 'MAP@1': 0.14603254164096238,\n",
       " 'MAP@5': 0.20789716353074236,\n",
       " 'MAP@10': 0.21265624923499116,\n",
       " 'pop_bias@10': 334.00565623072174,\n",
       " 'serendipity@10': 0.003342622222985479}"
      ]
     },
     "execution_count": 204,
     "metadata": {},
     "output_type": "execute_result"
    }
   ],
   "source": [
    "calc_metrics(\n",
    "    metrics=metrics,\n",
    "    reco=recommendations_df,\n",
    "    interactions=warm_test,\n",
    "    prev_interactions=first_train,\n",
    "    catalog=catalog\n",
    ")"
   ]
  },
  {
   "cell_type": "code",
   "execution_count": 205,
   "id": "7221320c-1571-42ec-86cc-cdd6d8f9015e",
   "metadata": {},
   "outputs": [],
   "source": [
    "recommendations_df.to_parquet('text_recommendations_test.parquet')"
   ]
  },
  {
   "cell_type": "code",
   "execution_count": null,
   "id": "e9c22050-d94c-478f-8597-18b9da5091cb",
   "metadata": {},
   "outputs": [],
   "source": []
  },
  {
   "cell_type": "code",
   "execution_count": 6,
   "id": "a6994a2a-738d-459b-8b14-cd7c34aa663d",
   "metadata": {},
   "outputs": [
    {
     "name": "stderr",
     "output_type": "stream",
     "text": [
      "C:\\Users\\vladick\\anaconda3\\Lib\\site-packages\\lightfm\\_lightfm_fast.py:9: UserWarning: LightFM was compiled without OpenMP support. Only a single thread will be used.\n",
      "  warnings.warn(\n"
     ]
    }
   ],
   "source": [
    "from rectools.models import ImplicitItemKNNWrapperModel\n",
    "from implicit.nearest_neighbours import TFIDFRecommender, BM25Recommender\n",
    "\n",
    "import threadpoolctl\n",
    "from implicit.als import AlternatingLeastSquares\n",
    "from rectools.models import ImplicitALSWrapperModel\n",
    "\n",
    "# For implicit ALS\n",
    "os.environ[\"OPENBLAS_NUM_THREADS\"] = \"1\"\n",
    "threadpoolctl.threadpool_limits(1, \"blas\")\n",
    "\n",
    "num_threads = os.cpu_count()"
   ]
  },
  {
   "cell_type": "code",
   "execution_count": 7,
   "id": "6c66d486-8d7a-4227-953a-ac50e3adab7c",
   "metadata": {},
   "outputs": [],
   "source": [
    "first_train_df = Dataset.construct(first_train)\n",
    "first_val_df = Dataset.construct(first_val)"
   ]
  },
  {
   "cell_type": "code",
   "execution_count": 8,
   "id": "ed4b0678-e83c-42bb-8298-a39514a5a078",
   "metadata": {},
   "outputs": [
    {
     "data": {
      "text/plain": [
       "<rectools.models.implicit_knn.ImplicitItemKNNWrapperModel at 0x2eb8cca2720>"
      ]
     },
     "execution_count": 8,
     "metadata": {},
     "output_type": "execute_result"
    }
   ],
   "source": [
    "best_itemknn_model = ImplicitItemKNNWrapperModel(\n",
    "    model = BM25Recommender(\n",
    "        K=50,\n",
    "        num_threads=num_threads,\n",
    "        K1=0.8,\n",
    "        B=0.3\n",
    "    ),\n",
    "    verbose=False\n",
    ")\n",
    "best_itemknn_model.fit(first_train_df)"
   ]
  },
  {
   "cell_type": "code",
   "execution_count": 9,
   "id": "d1bcde32-f66c-4ed7-af85-1d96e76f3f01",
   "metadata": {},
   "outputs": [],
   "source": [
    "bm_25_recommendations_df = best_itemknn_model.recommend(first_val[Columns.User].unique(), \n",
    "                                               first_train_df, k=50, filter_viewed=False)"
   ]
  },
  {
   "cell_type": "code",
   "execution_count": 10,
   "id": "2feee8a6-f8fc-4b32-8bfe-94825d9cd504",
   "metadata": {},
   "outputs": [],
   "source": [
    "bm_25_recommendations_df.to_parquet('bm_25_recommendations_df_50_val.parquet')"
   ]
  },
  {
   "cell_type": "code",
   "execution_count": 11,
   "id": "7f80db5e-cb0c-42eb-9f8c-c6611e067859",
   "metadata": {},
   "outputs": [],
   "source": [
    "bm_25_recommendations_df = best_itemknn_model.recommend(warm_test[Columns.User].unique(), \n",
    "                                               first_train_df, k=50, filter_viewed=False)"
   ]
  },
  {
   "cell_type": "code",
   "execution_count": 12,
   "id": "bdfc97f6-17c9-4b73-ad56-937789c96a0d",
   "metadata": {},
   "outputs": [],
   "source": [
    "bm_25_recommendations_df.to_parquet('bm_25_recommendations_df_50_test.parquet')"
   ]
  },
  {
   "cell_type": "code",
   "execution_count": null,
   "id": "65695157-785a-4ed6-b938-51d2df0d6521",
   "metadata": {},
   "outputs": [],
   "source": []
  },
  {
   "cell_type": "code",
   "execution_count": 13,
   "id": "685f01ec-e854-439d-93f7-56764456811e",
   "metadata": {},
   "outputs": [
    {
     "data": {
      "text/plain": [
       "<rectools.models.implicit_knn.ImplicitItemKNNWrapperModel at 0x2eb8ce10080>"
      ]
     },
     "execution_count": 13,
     "metadata": {},
     "output_type": "execute_result"
    }
   ],
   "source": [
    "second_itemknn_model = ImplicitItemKNNWrapperModel(\n",
    "    model = TFIDFRecommender(\n",
    "            K=50,\n",
    "            num_threads=num_threads,\n",
    "        ),\n",
    "    verbose=False\n",
    ")\n",
    "second_itemknn_model.fit(first_train_df)"
   ]
  },
  {
   "cell_type": "code",
   "execution_count": 14,
   "id": "1dbc352e-dd1c-4837-9ee9-cf2a5662b366",
   "metadata": {},
   "outputs": [],
   "source": [
    "tfidf_recommendations_df = second_itemknn_model.recommend(first_val[Columns.User].unique(), \n",
    "                                                   first_train_df, k=50, filter_viewed=False)"
   ]
  },
  {
   "cell_type": "code",
   "execution_count": 15,
   "id": "c755a00e-f089-4c52-a187-92f597545816",
   "metadata": {},
   "outputs": [],
   "source": [
    "tfidf_recommendations_df.to_parquet('tfidf_recommendations_df_50_val.parquet')"
   ]
  },
  {
   "cell_type": "code",
   "execution_count": 16,
   "id": "55358cac-ea73-431d-a02f-acb4240f72e1",
   "metadata": {},
   "outputs": [],
   "source": [
    "tfidf_recommendations_df = second_itemknn_model.recommend(warm_test[Columns.User].unique(), \n",
    "                                                   first_train_df, k=50, filter_viewed=False)"
   ]
  },
  {
   "cell_type": "code",
   "execution_count": 17,
   "id": "6f1ec532-5359-426b-b01d-1453bde8233e",
   "metadata": {},
   "outputs": [],
   "source": [
    "tfidf_recommendations_df.to_parquet('tfidf_recommendations_df_50_test.parquet')"
   ]
  },
  {
   "cell_type": "code",
   "execution_count": null,
   "id": "11a8182e-84c4-4990-ae17-d4281af3a08d",
   "metadata": {},
   "outputs": [],
   "source": []
  },
  {
   "cell_type": "code",
   "execution_count": 18,
   "id": "09823f65-b1da-4053-b6cc-539f371e674d",
   "metadata": {},
   "outputs": [
    {
     "data": {
      "text/plain": [
       "<rectools.models.implicit_als.ImplicitALSWrapperModel at 0x2eb8b7a5220>"
      ]
     },
     "execution_count": 18,
     "metadata": {},
     "output_type": "execute_result"
    }
   ],
   "source": [
    "best_ials_model = ImplicitALSWrapperModel(\n",
    "        AlternatingLeastSquares(\n",
    "            factors=300,\n",
    "            regularization=0.01,\n",
    "            alpha=150,\n",
    "            iterations = 9,\n",
    "            random_state=0,\n",
    "            use_gpu=False,\n",
    "            num_threads = num_threads),\n",
    "    )\n",
    "best_ials_model.fit(first_train_df)"
   ]
  },
  {
   "cell_type": "code",
   "execution_count": 19,
   "id": "2c5fa517-cd83-4b4d-b09f-4a2785e6c95b",
   "metadata": {},
   "outputs": [],
   "source": [
    "ials_recommendations_df = best_ials_model.recommend(first_val[Columns.User].unique(), first_train_df, k=50, filter_viewed=False)"
   ]
  },
  {
   "cell_type": "code",
   "execution_count": 20,
   "id": "4ca33d05-8d03-469d-86e8-612162a9b2e0",
   "metadata": {},
   "outputs": [],
   "source": [
    "ials_recommendations_df.to_parquet('ials_recommendations_df_50_val.parquet')"
   ]
  },
  {
   "cell_type": "code",
   "execution_count": 21,
   "id": "c571dfff-2b2a-4939-8d0a-49b22e59d557",
   "metadata": {},
   "outputs": [],
   "source": [
    "ials_recommendations_df = best_ials_model.recommend(warm_test[Columns.User].unique(), first_train_df, k=50, filter_viewed=False)"
   ]
  },
  {
   "cell_type": "code",
   "execution_count": 22,
   "id": "5b6ad3af-c4b5-41cd-9fb7-ecd3fbcd533e",
   "metadata": {},
   "outputs": [],
   "source": [
    "ials_recommendations_df.to_parquet('ials_recommendations_df_50_test.parquet')"
   ]
  },
  {
   "cell_type": "code",
   "execution_count": null,
   "id": "fd7c29d1-b6bd-4538-930d-285f58fcde37",
   "metadata": {},
   "outputs": [],
   "source": []
  },
  {
   "cell_type": "code",
   "execution_count": null,
   "id": "45304093-8dcf-402d-ad4c-95bd5865af45",
   "metadata": {},
   "outputs": [],
   "source": []
  },
  {
   "cell_type": "code",
   "execution_count": 15,
   "id": "c7f634b0-8ddb-420a-be8b-81eaa4e3a6db",
   "metadata": {},
   "outputs": [],
   "source": [
    "ials_recommendations_df = pd.read_parquet('ials_recommendations_df_50_val.parquet')\n",
    "bm_25_recommendations_df = pd.read_parquet('bm_25_recommendations_df_50_val.parquet')\n",
    "tfidf_recommendations_df = pd.read_parquet('tfidf_recommendations_df_50_val.parquet')\n",
    "text_recommendations_df = pd.read_parquet('text_recommendations_val.parquet')"
   ]
  },
  {
   "cell_type": "code",
   "execution_count": 16,
   "id": "ea2866aa-494d-4e79-8121-091200ba1d3a",
   "metadata": {},
   "outputs": [],
   "source": [
    "bm_25_recommendations_df = bm_25_recommendations_df.rename({\"score\": \"bm_25_score\", \"rank\": \"bm_25_rank\"}, axis=1)\n",
    "text_recommendations_df = text_recommendations_df.rename({\"score\": \"text_score\", \"rank\": \"text_rank\"}, axis=1)\n",
    "ials_recommendations_df = ials_recommendations_df.rename({\"score\": \"ials_score\", \"rank\": \"ials_rank\"}, axis=1)\n",
    "tfidf_recommendations_df = tfidf_recommendations_df.rename({\"score\": \"tfidf_score\", \"rank\": \"tfidf_rank\"}, axis=1)"
   ]
  },
  {
   "cell_type": "code",
   "execution_count": 17,
   "id": "3493e159-0902-4759-96db-7dbf4d6f7ff2",
   "metadata": {},
   "outputs": [],
   "source": [
    "recommendations_df = (\n",
    "    pd.merge(\n",
    "        bm_25_recommendations_df,\n",
    "        ials_recommendations_df,\n",
    "        how='outer',\n",
    "        on=['user_id', 'item_id']\n",
    "    )\n",
    ")"
   ]
  },
  {
   "cell_type": "code",
   "execution_count": 18,
   "id": "d1aa475c-84d2-4c6c-8740-0e89dfe1a651",
   "metadata": {},
   "outputs": [],
   "source": [
    "recommendations_df = (\n",
    "    pd.merge(\n",
    "        recommendations_df,\n",
    "        text_recommendations_df,\n",
    "        how='outer',\n",
    "        on=['user_id', 'item_id']\n",
    "    )\n",
    ")"
   ]
  },
  {
   "cell_type": "code",
   "execution_count": 19,
   "id": "20f6ce82-a874-4a00-a7ec-ee5c949a0d39",
   "metadata": {},
   "outputs": [],
   "source": [
    "recommendations_df = (\n",
    "    pd.merge(\n",
    "        recommendations_df,\n",
    "        tfidf_recommendations_df,\n",
    "        how='outer',\n",
    "        on=['user_id', 'item_id']\n",
    "    )\n",
    ")"
   ]
  },
  {
   "cell_type": "code",
   "execution_count": 20,
   "id": "f0ff5cdb-b642-4602-98bc-5e947d0aa08f",
   "metadata": {},
   "outputs": [],
   "source": [
    "recommendations_df = (\n",
    "    pd.merge(\n",
    "        recommendations_df,\n",
    "        first_val[['user_id', 'item_id', 'weight']].drop_duplicates(),\n",
    "        how='left',\n",
    "        on=['user_id', 'item_id']\n",
    "    )\n",
    ")"
   ]
  },
  {
   "cell_type": "code",
   "execution_count": 21,
   "id": "6904ef76-1663-40d1-8604-20b13330d933",
   "metadata": {},
   "outputs": [],
   "source": [
    "recommendations_df = (\n",
    "    recommendations_df\n",
    "    .fillna(\n",
    "        {\n",
    "            'bm_25_score': -101, 'bm_25_rank': 101,\n",
    "            'tfidf_score': -101, 'tfidf_rank': 101,\n",
    "            'ials_score': -101, 'ials_rank': 101,\n",
    "            'text_score': -101, 'text_rank': 101,\n",
    "            'weight': 0\n",
    "        }\n",
    "    )\n",
    "    .astype(\n",
    "        {\n",
    "            'user_id': 'int32', 'item_id': 'int32', 'weight': 'float16',\n",
    "            'bm_25_score': 'float16', 'bm_25_rank': 'int16',\n",
    "            'tfidf_score': 'float16', 'tfidf_rank': 'int16',\n",
    "            'ials_score': 'float16', 'ials_rank': 'int16',\n",
    "            'text_score': 'float16', 'text_rank': 'int16',\n",
    "        }\n",
    "    )\n",
    "\n",
    ")"
   ]
  },
  {
   "cell_type": "code",
   "execution_count": 22,
   "id": "08fad8de-ec02-4ec6-a64e-9f81b948253c",
   "metadata": {},
   "outputs": [],
   "source": [
    "items = pd.read_parquet('items_full.parquet')"
   ]
  },
  {
   "cell_type": "code",
   "execution_count": 23,
   "id": "e94ec1fb-62a5-4809-be74-82c64a8dca02",
   "metadata": {},
   "outputs": [],
   "source": [
    "recommendations_df = recommendations_df.merge(\n",
    "    items[['item_id', 'item_popul']],\n",
    "    on='item_id',\n",
    "    how='left',\n",
    ")"
   ]
  },
  {
   "cell_type": "code",
   "execution_count": null,
   "id": "644b8891-b283-4a20-85d5-ea43e7408117",
   "metadata": {},
   "outputs": [],
   "source": []
  },
  {
   "cell_type": "code",
   "execution_count": 24,
   "id": "8d335fbb-61cd-436b-b061-34e0f5938e07",
   "metadata": {},
   "outputs": [],
   "source": [
    "import faiss\n",
    "from sklearn.preprocessing import normalize\n",
    "from sklearn.metrics.pairwise import cosine_distances"
   ]
  },
  {
   "cell_type": "code",
   "execution_count": 25,
   "id": "4df4144e-269f-4654-9d9a-c970a6390bbe",
   "metadata": {},
   "outputs": [],
   "source": [
    "users_emb = pd.read_parquet('users_emb_full.parquet')\n",
    "items_emb = pd.read_parquet('items_emb_full.parquet')"
   ]
  },
  {
   "cell_type": "code",
   "execution_count": 26,
   "id": "96be9178-4af7-4bf2-b464-e7a15abd7fab",
   "metadata": {},
   "outputs": [],
   "source": [
    "user_ids = users_emb.index.tolist()\n",
    "item_ids = items_emb.index.tolist()\n",
    "\n",
    "user_id_to_idx = {user_id: idx for idx, user_id in enumerate(user_ids)}\n",
    "item_id_to_idx = {item_id: idx for idx, item_id in enumerate(item_ids)}"
   ]
  },
  {
   "cell_type": "code",
   "execution_count": 27,
   "id": "037bf26b-b950-4e2d-aaa3-748e8f5a764b",
   "metadata": {},
   "outputs": [],
   "source": [
    "users_emb_normalized = normalize(users_emb.values, axis=1)\n",
    "items_emb_normalized = normalize(items_emb.values, axis=1)"
   ]
  },
  {
   "cell_type": "code",
   "execution_count": 28,
   "id": "34ac131d-8f62-4b7f-95e4-57d3af40c55d",
   "metadata": {},
   "outputs": [],
   "source": [
    "d = users_emb_normalized.shape[1] \n",
    "index = faiss.IndexFlatIP(d)  \n",
    "index.add(items_emb_normalized)  "
   ]
  },
  {
   "cell_type": "code",
   "execution_count": 29,
   "id": "d437506b-c540-4239-b2fa-0e528700943f",
   "metadata": {},
   "outputs": [],
   "source": [
    "def get_inner_product(user_id, item_id):\n",
    "    user_idx = user_id_to_idx.get(user_id)\n",
    "    item_idx = item_id_to_idx.get(item_id)\n",
    "    \n",
    "    user_vector = users_emb_normalized[user_idx]\n",
    "    item_vector = items_emb_normalized[item_idx]\n",
    "\n",
    "    return float(np.dot(user_vector, item_vector))"
   ]
  },
  {
   "cell_type": "code",
   "execution_count": 31,
   "id": "557a75cd-bceb-4e75-a392-69b787ec94b5",
   "metadata": {},
   "outputs": [],
   "source": [
    "from tqdm import tqdm\n",
    "tqdm.pandas()"
   ]
  },
  {
   "cell_type": "code",
   "execution_count": 32,
   "id": "bb64f383-0d2b-4570-a259-6841c8f1ce95",
   "metadata": {},
   "outputs": [
    {
     "name": "stderr",
     "output_type": "stream",
     "text": [
      "100%|██████████| 3356633/3356633 [00:55<00:00, 60585.23it/s]\n"
     ]
    }
   ],
   "source": [
    "recommendations_df['inner_product'] = recommendations_df.progress_apply(\n",
    "    lambda row: get_inner_product(row['user_id'], row['item_id']), axis=1\n",
    ")"
   ]
  },
  {
   "cell_type": "code",
   "execution_count": 35,
   "id": "7bdd73eb-834a-4a80-8d3b-ad4fe8134fec",
   "metadata": {},
   "outputs": [],
   "source": [
    "items = pd.read_parquet('text_emb_e5.parquet')"
   ]
  },
  {
   "cell_type": "code",
   "execution_count": 36,
   "id": "3de357c1-c043-4177-99df-c0c28a71949f",
   "metadata": {},
   "outputs": [],
   "source": [
    "item_id_to_idx = {item_id: idx for idx, item_id in enumerate(items['item_id'])}\n",
    "\n",
    "text_embedding_cols = [col for col in items.columns if col.startswith('text_')]"
   ]
  },
  {
   "cell_type": "code",
   "execution_count": 37,
   "id": "68dad0f4-e0f9-46e0-8c8e-1f5332cd2ffd",
   "metadata": {},
   "outputs": [],
   "source": [
    "text_emb_matrix = items[text_embedding_cols].values\n",
    "\n",
    "text_emb_normalized = normalize(text_emb_matrix, norm='l2', axis=1)"
   ]
  },
  {
   "cell_type": "code",
   "execution_count": 38,
   "id": "18f3c2c7-6250-45de-815b-28543e11e885",
   "metadata": {},
   "outputs": [],
   "source": [
    "user_interactions = first_train.groupby('user_id')['item_id'].apply(list).to_dict()"
   ]
  },
  {
   "cell_type": "code",
   "execution_count": 39,
   "id": "438c49a8-ee11-46e7-bc14-1955b407770b",
   "metadata": {},
   "outputs": [],
   "source": [
    "def compute_distance_stats(user_id, candidate_item_id):\n",
    "    candidate_idx = item_id_to_idx[candidate_item_id]\n",
    "    interacted_item_ids = user_interactions.get(user_id, [])\n",
    "    interacted_indices = []\n",
    "    for item_id in interacted_item_ids:\n",
    "        idx = item_id_to_idx[item_id]\n",
    "        interacted_indices.append(idx)\n",
    "        \n",
    "    candidate_text_emb = text_emb_normalized[candidate_idx].reshape(1, -1)  \n",
    "\n",
    "    interacted_text_emb = text_emb_normalized[interacted_indices]  \n",
    "\n",
    "    text_distances = cosine_distances(candidate_text_emb, interacted_text_emb).flatten()\n",
    "\n",
    "    text_mean = text_distances.mean()\n",
    "    text_min = text_distances.min()\n",
    "    text_max = text_distances.max()\n",
    "    text_median = np.median(text_distances)\n",
    "    text_var = text_distances.var()\n",
    "\n",
    "    return pd.Series({\n",
    "        'text_mean_dist': text_mean,\n",
    "        'text_min_dist': text_min,\n",
    "        'text_max_dist': text_max,\n",
    "        'text_median_dist': text_median,\n",
    "        'text_var_dist': text_var\n",
    "    })"
   ]
  },
  {
   "cell_type": "code",
   "execution_count": 40,
   "id": "d44e2c3b-546d-44d4-b1d2-69d3f960ede8",
   "metadata": {},
   "outputs": [
    {
     "name": "stderr",
     "output_type": "stream",
     "text": [
      "100%|██████████| 3356633/3356633 [49:08<00:00, 1138.45it/s] \n"
     ]
    }
   ],
   "source": [
    "stats_df = recommendations_df.progress_apply(\n",
    "    lambda row: compute_distance_stats(row['user_id'], row['item_id']), axis=1\n",
    ")\n",
    "\n",
    "recommendations_df = pd.concat([recommendations_df, stats_df], axis=1)"
   ]
  },
  {
   "cell_type": "code",
   "execution_count": null,
   "id": "fb928043-6baa-4b88-8fc8-ee1bcdd2817d",
   "metadata": {},
   "outputs": [],
   "source": []
  },
  {
   "cell_type": "code",
   "execution_count": 42,
   "id": "3c71b2c7-1b0d-4124-8ace-c7a8a9c24083",
   "metadata": {},
   "outputs": [],
   "source": [
    "user_items = first_train.groupby('user_id')['item_id'].apply(set).reset_index()\n",
    "user_items = user_items.rename(columns={'item_id': 'interacted_items'})"
   ]
  },
  {
   "cell_type": "code",
   "execution_count": 43,
   "id": "3c0d7bb9-2b7f-4734-bfd7-887918dbff54",
   "metadata": {},
   "outputs": [],
   "source": [
    "recommendations_df = recommendations_df.merge(user_items, on='user_id', how='left')\n",
    "\n",
    "recommendations_df['interacted_items'] = recommendations_df['interacted_items'].apply(\n",
    "    lambda x: x if isinstance(x, set) else set()\n",
    ")"
   ]
  },
  {
   "cell_type": "code",
   "execution_count": 44,
   "id": "67aef1a7-5a87-4fe6-a7db-0c7ba0a29e1d",
   "metadata": {},
   "outputs": [],
   "source": [
    "item_popularity = first_train.groupby('item_id')['user_id'].nunique().reset_index()\n",
    "item_popularity = item_popularity.rename(columns={'user_id': 'item_popularity'})"
   ]
  },
  {
   "cell_type": "code",
   "execution_count": 45,
   "id": "cd37a6fa-359c-44fb-9582-5e46da1597a3",
   "metadata": {},
   "outputs": [],
   "source": [
    "item_users = first_train.groupby('item_id')['user_id'].apply(set).reset_index()\n",
    "item_users_dict = dict(zip(item_users['item_id'], item_users['user_id']))"
   ]
  },
  {
   "cell_type": "code",
   "execution_count": 46,
   "id": "92f2c541-7b00-4e87-afcc-665ceab208a0",
   "metadata": {},
   "outputs": [],
   "source": [
    "def compute_normalized_cooccurrence_stats(row):\n",
    "    candidate_item = row['item_id']\n",
    "    interacted_items = row['interacted_items']\n",
    "    \n",
    "    candidate_users = item_users_dict.get(candidate_item, set())\n",
    "    candidate_popularity = len(candidate_users)\n",
    "    \n",
    "    cooccurrences = []\n",
    "    for item in interacted_items:\n",
    "        users = item_users_dict.get(item, set())\n",
    "        co_users = candidate_users.intersection(users)\n",
    "        co_count = len(co_users)\n",
    "        normalized = co_count / candidate_popularity\n",
    "        cooccurrences.append(normalized)\n",
    "\n",
    "    avg_co = np.mean(cooccurrences)\n",
    "    max_co = np.max(cooccurrences)\n",
    "    min_co = np.min(cooccurrences)\n",
    "    median_co = np.median(cooccurrences)\n",
    "    var_co = np.var(cooccurrences)\n",
    "    \n",
    "    return pd.Series({\n",
    "        'avg_normalized_cooccurrence': avg_co,\n",
    "        'max_normalized_cooccurrence': max_co,\n",
    "        'min_normalized_cooccurrence': min_co,\n",
    "        'median_normalized_cooccurrence': median_co,\n",
    "        'var_normalized_cooccurrence': var_co\n",
    "    })"
   ]
  },
  {
   "cell_type": "code",
   "execution_count": 47,
   "id": "ad340fab-966d-44ff-a9ad-7aaa8eaa7887",
   "metadata": {},
   "outputs": [
    {
     "name": "stderr",
     "output_type": "stream",
     "text": [
      "100%|██████████| 3356633/3356633 [19:34<00:00, 2858.71it/s] \n"
     ]
    }
   ],
   "source": [
    "cooccurrence_stats = recommendations_df.progress_apply(\n",
    "    compute_normalized_cooccurrence_stats, axis=1\n",
    ")"
   ]
  },
  {
   "cell_type": "code",
   "execution_count": 48,
   "id": "41620547-0a64-4a93-801b-21d20c9db499",
   "metadata": {},
   "outputs": [],
   "source": [
    "recommendations_df = pd.concat([recommendations_df, cooccurrence_stats], axis=1)\n",
    "recommendations_df = recommendations_df.drop(columns=['interacted_items'])"
   ]
  },
  {
   "cell_type": "code",
   "execution_count": null,
   "id": "3a8c338f-0150-4737-9b33-57d4492a6716",
   "metadata": {},
   "outputs": [],
   "source": []
  },
  {
   "cell_type": "code",
   "execution_count": 50,
   "id": "abe81d79-0d7c-4c6f-9ebb-fb42e65481b1",
   "metadata": {},
   "outputs": [],
   "source": [
    "users_clusters = pd.read_parquet('users_clusters_2.parquet')"
   ]
  },
  {
   "cell_type": "code",
   "execution_count": 65,
   "id": "15a95836-d507-44ee-bd1b-0329938f3a07",
   "metadata": {},
   "outputs": [],
   "source": [
    "first_train_with_user_cluster = first_train.merge(users_clusters, on='user_id', how='left')\n",
    "\n",
    "recommendations_with_user_cluster = recommendations_df.merge(users_clusters, on='user_id', how='left')"
   ]
  },
  {
   "cell_type": "code",
   "execution_count": 66,
   "id": "5444f452-a937-424f-90da-2305718bbe08",
   "metadata": {},
   "outputs": [],
   "source": [
    "cluster_user_items_dict = first_train_with_user_cluster.groupby(['user_cluster', 'user_id'])['item_id'].apply(set).to_dict()\n",
    "\n",
    "cluster_item_users_dict = first_train_with_user_cluster.groupby(['user_cluster', 'item_id'])['user_id'].apply(set).to_dict()"
   ]
  },
  {
   "cell_type": "code",
   "execution_count": 67,
   "id": "453efdaf-61b5-4ea3-955d-6cb09d0c99c6",
   "metadata": {},
   "outputs": [],
   "source": [
    "def compute_normalized_cooccurrence(row):\n",
    "    candidate_item = row['item_id']\n",
    "    user_id = row['user_id']\n",
    "    user_cluster = row['user_cluster']\n",
    "\n",
    "    interacted_items = cluster_user_items_dict.get((user_cluster, user_id), set())\n",
    "\n",
    "    if not interacted_items:\n",
    "        return 0.0  \n",
    "\n",
    "    candidate_users = cluster_item_users_dict.get((user_cluster, candidate_item), set())\n",
    "    candidate_popularity = len(candidate_users)\n",
    "    if candidate_popularity == 0:\n",
    "        return 0.0  \n",
    "    \n",
    "    cooccurrences = []\n",
    "    for item in interacted_items:\n",
    "        users = cluster_item_users_dict.get((user_cluster, item), set())\n",
    "\n",
    "        co_users = candidate_users.intersection(users)\n",
    "        co_count = len(co_users)\n",
    "\n",
    "        normalized = co_count / candidate_popularity\n",
    "        cooccurrences.append(normalized)\n",
    "    \n",
    "    return sum(cooccurrences) / len(cooccurrences) if cooccurrences else 0.0"
   ]
  },
  {
   "cell_type": "code",
   "execution_count": 68,
   "id": "c1f665a8-4c91-4959-8fd9-b09896b57584",
   "metadata": {},
   "outputs": [
    {
     "name": "stderr",
     "output_type": "stream",
     "text": [
      "100%|██████████| 3356633/3356633 [00:33<00:00, 101623.57it/s]\n"
     ]
    }
   ],
   "source": [
    "recommendations_with_user_cluster['interacted_items'] = recommendations_with_user_cluster.progress_apply(\n",
    "    lambda row: cluster_user_items_dict.get((row['user_cluster'], row['user_id']), set()), axis=1\n",
    ")"
   ]
  },
  {
   "cell_type": "code",
   "execution_count": 69,
   "id": "46c6eae0-e317-48ef-b8f0-25f655167c3e",
   "metadata": {},
   "outputs": [
    {
     "name": "stderr",
     "output_type": "stream",
     "text": [
      "100%|██████████| 3356633/3356633 [01:08<00:00, 48861.27it/s]\n"
     ]
    }
   ],
   "source": [
    "recommendations_with_user_cluster['cluster_avg_normalized_cooccurrence'] = recommendations_with_user_cluster.progress_apply(\n",
    "    compute_normalized_cooccurrence, axis=1\n",
    ")"
   ]
  },
  {
   "cell_type": "code",
   "execution_count": 70,
   "id": "2e4008c5-40c0-4ded-923c-fd91645576c9",
   "metadata": {},
   "outputs": [],
   "source": [
    "popularity = first_train_with_user_cluster.groupby(['user_cluster', 'item_id']).size().reset_index(name='item_cluster_popularity')\n",
    "\n",
    "cluster_total_popularity = popularity.groupby('user_cluster')['item_cluster_popularity'].sum().reset_index(name='cluster_total_popularity')\n",
    "\n",
    "popularity_normalized = popularity.merge(cluster_total_popularity, on='user_cluster', how='left')\n",
    "\n",
    "popularity_normalized['item_cluster_popularity_normalized'] = popularity_normalized.apply(\n",
    "    lambda row: row['item_cluster_popularity'] / row['cluster_total_popularity'] if row['cluster_total_popularity'] > 0 else 0,\n",
    "    axis=1\n",
    ")\n",
    "\n",
    "recommendations_with_features = recommendations_with_user_cluster.merge(\n",
    "    popularity_normalized[['user_cluster', 'item_id', 'item_cluster_popularity_normalized']],\n",
    "    on=['user_cluster', 'item_id'], how='left'\n",
    ")\n",
    "\n",
    "recommendations_with_features['item_cluster_popularity_normalized'] = recommendations_with_features['item_cluster_popularity_normalized'].fillna(0)"
   ]
  },
  {
   "cell_type": "code",
   "execution_count": 71,
   "id": "11470c3d-5600-443c-aee5-5d8d40b02b39",
   "metadata": {},
   "outputs": [],
   "source": [
    "recommendations_with_features  = recommendations_with_features.drop(['user_cluster', 'interacted_items'], axis=1)"
   ]
  },
  {
   "cell_type": "code",
   "execution_count": 74,
   "id": "683c3686-b2b4-4f60-af99-0f11c704ac87",
   "metadata": {},
   "outputs": [],
   "source": [
    "recommendations_with_features.to_parquet('recos_final_val.parquet')"
   ]
  },
  {
   "cell_type": "code",
   "execution_count": 73,
   "id": "d65dbf8e-d412-43c1-a23f-4073f42bd96e",
   "metadata": {},
   "outputs": [
    {
     "data": {
      "text/plain": [
       "Index(['user_id', 'item_id', 'bm_25_score', 'bm_25_rank', 'ials_score',\n",
       "       'ials_rank', 'text_score', 'text_rank', 'tfidf_score', 'tfidf_rank',\n",
       "       'weight', 'item_popul', 'inner_product', 'text_mean_dist',\n",
       "       'text_min_dist', 'text_max_dist', 'text_median_dist', 'text_var_dist',\n",
       "       'avg_normalized_cooccurrence', 'max_normalized_cooccurrence',\n",
       "       'min_normalized_cooccurrence', 'median_normalized_cooccurrence',\n",
       "       'var_normalized_cooccurrence', 'cluster_avg_normalized_cooccurrence',\n",
       "       'item_cluster_popularity_normalized'],\n",
       "      dtype='object')"
      ]
     },
     "execution_count": 73,
     "metadata": {},
     "output_type": "execute_result"
    }
   ],
   "source": [
    "recommendations_with_features.columns"
   ]
  },
  {
   "cell_type": "code",
   "execution_count": null,
   "id": "b2e80567-2340-4a12-98a8-387104a09b74",
   "metadata": {},
   "outputs": [],
   "source": []
  },
  {
   "cell_type": "code",
   "execution_count": 1,
   "id": "7a09f870-ec6b-442e-bb88-5add46676b8e",
   "metadata": {},
   "outputs": [],
   "source": [
    "from sklearn.model_selection import train_test_split\n",
    "from lightgbm import LGBMRanker, LGBMClassifier\n",
    "import optuna"
   ]
  },
  {
   "cell_type": "code",
   "execution_count": 3,
   "id": "a99aa3f9-60b8-4e76-a99f-e184534c7261",
   "metadata": {},
   "outputs": [],
   "source": [
    "recommendations_df = pd.read_parquet('recos_final_val.parquet')"
   ]
  },
  {
   "cell_type": "code",
   "execution_count": 4,
   "id": "cba6e52a-248e-4a26-bb58-353ae8de77e4",
   "metadata": {},
   "outputs": [],
   "source": [
    "unique_users = recommendations_df['user_id'].unique()\n",
    "train_users, val_users = train_test_split(unique_users, test_size=0.2, random_state=17)\n",
    "\n",
    "train_df = recommendations_df[recommendations_df['user_id'].isin(train_users)]\n",
    "val_df = recommendations_df[recommendations_df['user_id'].isin(val_users)]"
   ]
  },
  {
   "cell_type": "code",
   "execution_count": 5,
   "id": "6a7fb066-62af-4091-980f-83b464ac617d",
   "metadata": {},
   "outputs": [],
   "source": [
    "cols = [col for col in recommendations_df.columns if col not in ['user_id'] + ['item_id'] + ['weight']]"
   ]
  },
  {
   "cell_type": "code",
   "execution_count": 6,
   "id": "2c5b4be8-b2ee-422c-8cd4-0099065bc7d5",
   "metadata": {},
   "outputs": [],
   "source": [
    "def get_group(df):\n",
    "    return np.array(\n",
    "        df[['user_id', 'item_id']]\n",
    "        .groupby(by=['user_id']).count()\n",
    "        ['item_id']\n",
    "    )"
   ]
  },
  {
   "cell_type": "code",
   "execution_count": 7,
   "id": "d91d0ee5-ef88-492a-8fcd-c4cfdbb64162",
   "metadata": {},
   "outputs": [],
   "source": [
    "group_train = get_group(train_df)\n",
    "group_val = get_group(val_df)"
   ]
  },
  {
   "cell_type": "code",
   "execution_count": 8,
   "id": "5fe04e3d-2132-4bfa-86dc-9ceecf7fa2af",
   "metadata": {},
   "outputs": [],
   "source": [
    "def objective(trial):\n",
    "\n",
    "    param = {\n",
    "        'objective': 'lambdarank',\n",
    "        'metric': 'map',  \n",
    "        'verbosity': -1,\n",
    "        'learning_rate': trial.suggest_float('learning_rate', 1e-3, 1e-1, log=True),\n",
    "        'n_estimators': trial.suggest_int('n_estimators', 1000, 4000),\n",
    "        'max_depth': trial.suggest_int('max_depth', 3, 6),\n",
    "        'num_leaves': trial.suggest_int('num_leaves', 16, 32),\n",
    "        'min_child_samples': trial.suggest_int('min_child_samples', 20, 300),\n",
    "        'reg_lambda': trial.suggest_float('reg_lambda', 1e-3, 10.0, log=True),\n",
    "        'colsample_bytree': trial.suggest_float('colsample_bytree', 0.5, 1.0),\n",
    "        'subsample': trial.suggest_float('subsample', 0.5, 1.0),\n",
    "        'early_stopping_rounds': 16,\n",
    "        'random_state': 0,\n",
    "    }\n",
    "\n",
    "    model = LGBMRanker(**param)\n",
    "\n",
    "    fit_params = {\n",
    "        'X': train_df[cols],\n",
    "        'y': train_df['weight'],\n",
    "        'group': get_group(train_df),\n",
    "        'eval_set': [(val_df[cols], val_df['weight'])],\n",
    "        'eval_group': [get_group(val_df)],\n",
    "        'eval_metric': 'map',\n",
    "        'eval_at': (1, 5, 10),\n",
    "        'feature_name': cols,\n",
    "    }\n",
    "\n",
    "    model.fit(**fit_params)\n",
    "    best_map = max(model.evals_result_['valid_0']['map@10'])\n",
    "\n",
    "    return best_map  "
   ]
  },
  {
   "cell_type": "code",
   "execution_count": null,
   "id": "de46d465-4a4e-403b-8cb9-20f8532fb98d",
   "metadata": {},
   "outputs": [],
   "source": [
    "study = optuna.create_study(direction='maximize')\n",
    "study.optimize(objective, n_trials=300)"
   ]
  },
  {
   "cell_type": "code",
   "execution_count": 11,
   "id": "1366fa08-e027-412b-93c7-5d35d25502ef",
   "metadata": {},
   "outputs": [
    {
     "data": {
      "text/plain": [
       "{'learning_rate': 0.05974447951147871,\n",
       " 'n_estimators': 2111,\n",
       " 'max_depth': 5,\n",
       " 'num_leaves': 31,\n",
       " 'min_child_samples': 147,\n",
       " 'reg_lambda': 1.0158983067724794,\n",
       " 'colsample_bytree': 0.8662207530248702,\n",
       " 'subsample': 0.7079911683682848}"
      ]
     },
     "execution_count": 11,
     "metadata": {},
     "output_type": "execute_result"
    }
   ],
   "source": [
    "study.best_trial.params"
   ]
  },
  {
   "cell_type": "code",
   "execution_count": 12,
   "id": "f7d5f268-7cc2-46d7-a439-71a406218daa",
   "metadata": {},
   "outputs": [
    {
     "data": {
      "text/html": [
       "<style>#sk-container-id-1 {\n",
       "  /* Definition of color scheme common for light and dark mode */\n",
       "  --sklearn-color-text: black;\n",
       "  --sklearn-color-line: gray;\n",
       "  /* Definition of color scheme for unfitted estimators */\n",
       "  --sklearn-color-unfitted-level-0: #fff5e6;\n",
       "  --sklearn-color-unfitted-level-1: #f6e4d2;\n",
       "  --sklearn-color-unfitted-level-2: #ffe0b3;\n",
       "  --sklearn-color-unfitted-level-3: chocolate;\n",
       "  /* Definition of color scheme for fitted estimators */\n",
       "  --sklearn-color-fitted-level-0: #f0f8ff;\n",
       "  --sklearn-color-fitted-level-1: #d4ebff;\n",
       "  --sklearn-color-fitted-level-2: #b3dbfd;\n",
       "  --sklearn-color-fitted-level-3: cornflowerblue;\n",
       "\n",
       "  /* Specific color for light theme */\n",
       "  --sklearn-color-text-on-default-background: var(--sg-text-color, var(--theme-code-foreground, var(--jp-content-font-color1, black)));\n",
       "  --sklearn-color-background: var(--sg-background-color, var(--theme-background, var(--jp-layout-color0, white)));\n",
       "  --sklearn-color-border-box: var(--sg-text-color, var(--theme-code-foreground, var(--jp-content-font-color1, black)));\n",
       "  --sklearn-color-icon: #696969;\n",
       "\n",
       "  @media (prefers-color-scheme: dark) {\n",
       "    /* Redefinition of color scheme for dark theme */\n",
       "    --sklearn-color-text-on-default-background: var(--sg-text-color, var(--theme-code-foreground, var(--jp-content-font-color1, white)));\n",
       "    --sklearn-color-background: var(--sg-background-color, var(--theme-background, var(--jp-layout-color0, #111)));\n",
       "    --sklearn-color-border-box: var(--sg-text-color, var(--theme-code-foreground, var(--jp-content-font-color1, white)));\n",
       "    --sklearn-color-icon: #878787;\n",
       "  }\n",
       "}\n",
       "\n",
       "#sk-container-id-1 {\n",
       "  color: var(--sklearn-color-text);\n",
       "}\n",
       "\n",
       "#sk-container-id-1 pre {\n",
       "  padding: 0;\n",
       "}\n",
       "\n",
       "#sk-container-id-1 input.sk-hidden--visually {\n",
       "  border: 0;\n",
       "  clip: rect(1px 1px 1px 1px);\n",
       "  clip: rect(1px, 1px, 1px, 1px);\n",
       "  height: 1px;\n",
       "  margin: -1px;\n",
       "  overflow: hidden;\n",
       "  padding: 0;\n",
       "  position: absolute;\n",
       "  width: 1px;\n",
       "}\n",
       "\n",
       "#sk-container-id-1 div.sk-dashed-wrapped {\n",
       "  border: 1px dashed var(--sklearn-color-line);\n",
       "  margin: 0 0.4em 0.5em 0.4em;\n",
       "  box-sizing: border-box;\n",
       "  padding-bottom: 0.4em;\n",
       "  background-color: var(--sklearn-color-background);\n",
       "}\n",
       "\n",
       "#sk-container-id-1 div.sk-container {\n",
       "  /* jupyter's `normalize.less` sets `[hidden] { display: none; }`\n",
       "     but bootstrap.min.css set `[hidden] { display: none !important; }`\n",
       "     so we also need the `!important` here to be able to override the\n",
       "     default hidden behavior on the sphinx rendered scikit-learn.org.\n",
       "     See: https://github.com/scikit-learn/scikit-learn/issues/21755 */\n",
       "  display: inline-block !important;\n",
       "  position: relative;\n",
       "}\n",
       "\n",
       "#sk-container-id-1 div.sk-text-repr-fallback {\n",
       "  display: none;\n",
       "}\n",
       "\n",
       "div.sk-parallel-item,\n",
       "div.sk-serial,\n",
       "div.sk-item {\n",
       "  /* draw centered vertical line to link estimators */\n",
       "  background-image: linear-gradient(var(--sklearn-color-text-on-default-background), var(--sklearn-color-text-on-default-background));\n",
       "  background-size: 2px 100%;\n",
       "  background-repeat: no-repeat;\n",
       "  background-position: center center;\n",
       "}\n",
       "\n",
       "/* Parallel-specific style estimator block */\n",
       "\n",
       "#sk-container-id-1 div.sk-parallel-item::after {\n",
       "  content: \"\";\n",
       "  width: 100%;\n",
       "  border-bottom: 2px solid var(--sklearn-color-text-on-default-background);\n",
       "  flex-grow: 1;\n",
       "}\n",
       "\n",
       "#sk-container-id-1 div.sk-parallel {\n",
       "  display: flex;\n",
       "  align-items: stretch;\n",
       "  justify-content: center;\n",
       "  background-color: var(--sklearn-color-background);\n",
       "  position: relative;\n",
       "}\n",
       "\n",
       "#sk-container-id-1 div.sk-parallel-item {\n",
       "  display: flex;\n",
       "  flex-direction: column;\n",
       "}\n",
       "\n",
       "#sk-container-id-1 div.sk-parallel-item:first-child::after {\n",
       "  align-self: flex-end;\n",
       "  width: 50%;\n",
       "}\n",
       "\n",
       "#sk-container-id-1 div.sk-parallel-item:last-child::after {\n",
       "  align-self: flex-start;\n",
       "  width: 50%;\n",
       "}\n",
       "\n",
       "#sk-container-id-1 div.sk-parallel-item:only-child::after {\n",
       "  width: 0;\n",
       "}\n",
       "\n",
       "/* Serial-specific style estimator block */\n",
       "\n",
       "#sk-container-id-1 div.sk-serial {\n",
       "  display: flex;\n",
       "  flex-direction: column;\n",
       "  align-items: center;\n",
       "  background-color: var(--sklearn-color-background);\n",
       "  padding-right: 1em;\n",
       "  padding-left: 1em;\n",
       "}\n",
       "\n",
       "\n",
       "/* Toggleable style: style used for estimator/Pipeline/ColumnTransformer box that is\n",
       "clickable and can be expanded/collapsed.\n",
       "- Pipeline and ColumnTransformer use this feature and define the default style\n",
       "- Estimators will overwrite some part of the style using the `sk-estimator` class\n",
       "*/\n",
       "\n",
       "/* Pipeline and ColumnTransformer style (default) */\n",
       "\n",
       "#sk-container-id-1 div.sk-toggleable {\n",
       "  /* Default theme specific background. It is overwritten whether we have a\n",
       "  specific estimator or a Pipeline/ColumnTransformer */\n",
       "  background-color: var(--sklearn-color-background);\n",
       "}\n",
       "\n",
       "/* Toggleable label */\n",
       "#sk-container-id-1 label.sk-toggleable__label {\n",
       "  cursor: pointer;\n",
       "  display: block;\n",
       "  width: 100%;\n",
       "  margin-bottom: 0;\n",
       "  padding: 0.5em;\n",
       "  box-sizing: border-box;\n",
       "  text-align: center;\n",
       "}\n",
       "\n",
       "#sk-container-id-1 label.sk-toggleable__label-arrow:before {\n",
       "  /* Arrow on the left of the label */\n",
       "  content: \"▸\";\n",
       "  float: left;\n",
       "  margin-right: 0.25em;\n",
       "  color: var(--sklearn-color-icon);\n",
       "}\n",
       "\n",
       "#sk-container-id-1 label.sk-toggleable__label-arrow:hover:before {\n",
       "  color: var(--sklearn-color-text);\n",
       "}\n",
       "\n",
       "/* Toggleable content - dropdown */\n",
       "\n",
       "#sk-container-id-1 div.sk-toggleable__content {\n",
       "  max-height: 0;\n",
       "  max-width: 0;\n",
       "  overflow: hidden;\n",
       "  text-align: left;\n",
       "  /* unfitted */\n",
       "  background-color: var(--sklearn-color-unfitted-level-0);\n",
       "}\n",
       "\n",
       "#sk-container-id-1 div.sk-toggleable__content.fitted {\n",
       "  /* fitted */\n",
       "  background-color: var(--sklearn-color-fitted-level-0);\n",
       "}\n",
       "\n",
       "#sk-container-id-1 div.sk-toggleable__content pre {\n",
       "  margin: 0.2em;\n",
       "  border-radius: 0.25em;\n",
       "  color: var(--sklearn-color-text);\n",
       "  /* unfitted */\n",
       "  background-color: var(--sklearn-color-unfitted-level-0);\n",
       "}\n",
       "\n",
       "#sk-container-id-1 div.sk-toggleable__content.fitted pre {\n",
       "  /* unfitted */\n",
       "  background-color: var(--sklearn-color-fitted-level-0);\n",
       "}\n",
       "\n",
       "#sk-container-id-1 input.sk-toggleable__control:checked~div.sk-toggleable__content {\n",
       "  /* Expand drop-down */\n",
       "  max-height: 200px;\n",
       "  max-width: 100%;\n",
       "  overflow: auto;\n",
       "}\n",
       "\n",
       "#sk-container-id-1 input.sk-toggleable__control:checked~label.sk-toggleable__label-arrow:before {\n",
       "  content: \"▾\";\n",
       "}\n",
       "\n",
       "/* Pipeline/ColumnTransformer-specific style */\n",
       "\n",
       "#sk-container-id-1 div.sk-label input.sk-toggleable__control:checked~label.sk-toggleable__label {\n",
       "  color: var(--sklearn-color-text);\n",
       "  background-color: var(--sklearn-color-unfitted-level-2);\n",
       "}\n",
       "\n",
       "#sk-container-id-1 div.sk-label.fitted input.sk-toggleable__control:checked~label.sk-toggleable__label {\n",
       "  background-color: var(--sklearn-color-fitted-level-2);\n",
       "}\n",
       "\n",
       "/* Estimator-specific style */\n",
       "\n",
       "/* Colorize estimator box */\n",
       "#sk-container-id-1 div.sk-estimator input.sk-toggleable__control:checked~label.sk-toggleable__label {\n",
       "  /* unfitted */\n",
       "  background-color: var(--sklearn-color-unfitted-level-2);\n",
       "}\n",
       "\n",
       "#sk-container-id-1 div.sk-estimator.fitted input.sk-toggleable__control:checked~label.sk-toggleable__label {\n",
       "  /* fitted */\n",
       "  background-color: var(--sklearn-color-fitted-level-2);\n",
       "}\n",
       "\n",
       "#sk-container-id-1 div.sk-label label.sk-toggleable__label,\n",
       "#sk-container-id-1 div.sk-label label {\n",
       "  /* The background is the default theme color */\n",
       "  color: var(--sklearn-color-text-on-default-background);\n",
       "}\n",
       "\n",
       "/* On hover, darken the color of the background */\n",
       "#sk-container-id-1 div.sk-label:hover label.sk-toggleable__label {\n",
       "  color: var(--sklearn-color-text);\n",
       "  background-color: var(--sklearn-color-unfitted-level-2);\n",
       "}\n",
       "\n",
       "/* Label box, darken color on hover, fitted */\n",
       "#sk-container-id-1 div.sk-label.fitted:hover label.sk-toggleable__label.fitted {\n",
       "  color: var(--sklearn-color-text);\n",
       "  background-color: var(--sklearn-color-fitted-level-2);\n",
       "}\n",
       "\n",
       "/* Estimator label */\n",
       "\n",
       "#sk-container-id-1 div.sk-label label {\n",
       "  font-family: monospace;\n",
       "  font-weight: bold;\n",
       "  display: inline-block;\n",
       "  line-height: 1.2em;\n",
       "}\n",
       "\n",
       "#sk-container-id-1 div.sk-label-container {\n",
       "  text-align: center;\n",
       "}\n",
       "\n",
       "/* Estimator-specific */\n",
       "#sk-container-id-1 div.sk-estimator {\n",
       "  font-family: monospace;\n",
       "  border: 1px dotted var(--sklearn-color-border-box);\n",
       "  border-radius: 0.25em;\n",
       "  box-sizing: border-box;\n",
       "  margin-bottom: 0.5em;\n",
       "  /* unfitted */\n",
       "  background-color: var(--sklearn-color-unfitted-level-0);\n",
       "}\n",
       "\n",
       "#sk-container-id-1 div.sk-estimator.fitted {\n",
       "  /* fitted */\n",
       "  background-color: var(--sklearn-color-fitted-level-0);\n",
       "}\n",
       "\n",
       "/* on hover */\n",
       "#sk-container-id-1 div.sk-estimator:hover {\n",
       "  /* unfitted */\n",
       "  background-color: var(--sklearn-color-unfitted-level-2);\n",
       "}\n",
       "\n",
       "#sk-container-id-1 div.sk-estimator.fitted:hover {\n",
       "  /* fitted */\n",
       "  background-color: var(--sklearn-color-fitted-level-2);\n",
       "}\n",
       "\n",
       "/* Specification for estimator info (e.g. \"i\" and \"?\") */\n",
       "\n",
       "/* Common style for \"i\" and \"?\" */\n",
       "\n",
       ".sk-estimator-doc-link,\n",
       "a:link.sk-estimator-doc-link,\n",
       "a:visited.sk-estimator-doc-link {\n",
       "  float: right;\n",
       "  font-size: smaller;\n",
       "  line-height: 1em;\n",
       "  font-family: monospace;\n",
       "  background-color: var(--sklearn-color-background);\n",
       "  border-radius: 1em;\n",
       "  height: 1em;\n",
       "  width: 1em;\n",
       "  text-decoration: none !important;\n",
       "  margin-left: 1ex;\n",
       "  /* unfitted */\n",
       "  border: var(--sklearn-color-unfitted-level-1) 1pt solid;\n",
       "  color: var(--sklearn-color-unfitted-level-1);\n",
       "}\n",
       "\n",
       ".sk-estimator-doc-link.fitted,\n",
       "a:link.sk-estimator-doc-link.fitted,\n",
       "a:visited.sk-estimator-doc-link.fitted {\n",
       "  /* fitted */\n",
       "  border: var(--sklearn-color-fitted-level-1) 1pt solid;\n",
       "  color: var(--sklearn-color-fitted-level-1);\n",
       "}\n",
       "\n",
       "/* On hover */\n",
       "div.sk-estimator:hover .sk-estimator-doc-link:hover,\n",
       ".sk-estimator-doc-link:hover,\n",
       "div.sk-label-container:hover .sk-estimator-doc-link:hover,\n",
       ".sk-estimator-doc-link:hover {\n",
       "  /* unfitted */\n",
       "  background-color: var(--sklearn-color-unfitted-level-3);\n",
       "  color: var(--sklearn-color-background);\n",
       "  text-decoration: none;\n",
       "}\n",
       "\n",
       "div.sk-estimator.fitted:hover .sk-estimator-doc-link.fitted:hover,\n",
       ".sk-estimator-doc-link.fitted:hover,\n",
       "div.sk-label-container:hover .sk-estimator-doc-link.fitted:hover,\n",
       ".sk-estimator-doc-link.fitted:hover {\n",
       "  /* fitted */\n",
       "  background-color: var(--sklearn-color-fitted-level-3);\n",
       "  color: var(--sklearn-color-background);\n",
       "  text-decoration: none;\n",
       "}\n",
       "\n",
       "/* Span, style for the box shown on hovering the info icon */\n",
       ".sk-estimator-doc-link span {\n",
       "  display: none;\n",
       "  z-index: 9999;\n",
       "  position: relative;\n",
       "  font-weight: normal;\n",
       "  right: .2ex;\n",
       "  padding: .5ex;\n",
       "  margin: .5ex;\n",
       "  width: min-content;\n",
       "  min-width: 20ex;\n",
       "  max-width: 50ex;\n",
       "  color: var(--sklearn-color-text);\n",
       "  box-shadow: 2pt 2pt 4pt #999;\n",
       "  /* unfitted */\n",
       "  background: var(--sklearn-color-unfitted-level-0);\n",
       "  border: .5pt solid var(--sklearn-color-unfitted-level-3);\n",
       "}\n",
       "\n",
       ".sk-estimator-doc-link.fitted span {\n",
       "  /* fitted */\n",
       "  background: var(--sklearn-color-fitted-level-0);\n",
       "  border: var(--sklearn-color-fitted-level-3);\n",
       "}\n",
       "\n",
       ".sk-estimator-doc-link:hover span {\n",
       "  display: block;\n",
       "}\n",
       "\n",
       "/* \"?\"-specific style due to the `<a>` HTML tag */\n",
       "\n",
       "#sk-container-id-1 a.estimator_doc_link {\n",
       "  float: right;\n",
       "  font-size: 1rem;\n",
       "  line-height: 1em;\n",
       "  font-family: monospace;\n",
       "  background-color: var(--sklearn-color-background);\n",
       "  border-radius: 1rem;\n",
       "  height: 1rem;\n",
       "  width: 1rem;\n",
       "  text-decoration: none;\n",
       "  /* unfitted */\n",
       "  color: var(--sklearn-color-unfitted-level-1);\n",
       "  border: var(--sklearn-color-unfitted-level-1) 1pt solid;\n",
       "}\n",
       "\n",
       "#sk-container-id-1 a.estimator_doc_link.fitted {\n",
       "  /* fitted */\n",
       "  border: var(--sklearn-color-fitted-level-1) 1pt solid;\n",
       "  color: var(--sklearn-color-fitted-level-1);\n",
       "}\n",
       "\n",
       "/* On hover */\n",
       "#sk-container-id-1 a.estimator_doc_link:hover {\n",
       "  /* unfitted */\n",
       "  background-color: var(--sklearn-color-unfitted-level-3);\n",
       "  color: var(--sklearn-color-background);\n",
       "  text-decoration: none;\n",
       "}\n",
       "\n",
       "#sk-container-id-1 a.estimator_doc_link.fitted:hover {\n",
       "  /* fitted */\n",
       "  background-color: var(--sklearn-color-fitted-level-3);\n",
       "}\n",
       "</style><div id=\"sk-container-id-1\" class=\"sk-top-container\"><div class=\"sk-text-repr-fallback\"><pre>LGBMRanker(colsample_bytree=0.8662207530248702, early_stopping_rounds=16,\n",
       "           learning_rate=0.05974447951147871, max_depth=5, metric=&#x27;map&#x27;,\n",
       "           min_child_samples=147, n_estimators=2111, objective=&#x27;lambdarank&#x27;,\n",
       "           random_state=0, reg_lambda=1.0158983067724794,\n",
       "           subsample=0.7079911683682848, verbosity=-1)</pre><b>In a Jupyter environment, please rerun this cell to show the HTML representation or trust the notebook. <br />On GitHub, the HTML representation is unable to render, please try loading this page with nbviewer.org.</b></div><div class=\"sk-container\" hidden><div class=\"sk-item\"><div class=\"sk-estimator fitted sk-toggleable\"><input class=\"sk-toggleable__control sk-hidden--visually\" id=\"sk-estimator-id-1\" type=\"checkbox\" checked><label for=\"sk-estimator-id-1\" class=\"sk-toggleable__label fitted sk-toggleable__label-arrow fitted\">&nbsp;LGBMRanker<span class=\"sk-estimator-doc-link fitted\">i<span>Fitted</span></span></label><div class=\"sk-toggleable__content fitted\"><pre>LGBMRanker(colsample_bytree=0.8662207530248702, early_stopping_rounds=16,\n",
       "           learning_rate=0.05974447951147871, max_depth=5, metric=&#x27;map&#x27;,\n",
       "           min_child_samples=147, n_estimators=2111, objective=&#x27;lambdarank&#x27;,\n",
       "           random_state=0, reg_lambda=1.0158983067724794,\n",
       "           subsample=0.7079911683682848, verbosity=-1)</pre></div> </div></div></div></div>"
      ],
      "text/plain": [
       "LGBMRanker(colsample_bytree=0.8662207530248702, early_stopping_rounds=16,\n",
       "           learning_rate=0.05974447951147871, max_depth=5, metric='map',\n",
       "           min_child_samples=147, n_estimators=2111, objective='lambdarank',\n",
       "           random_state=0, reg_lambda=1.0158983067724794,\n",
       "           subsample=0.7079911683682848, verbosity=-1)"
      ]
     },
     "execution_count": 12,
     "metadata": {},
     "output_type": "execute_result"
    }
   ],
   "source": [
    "best_params = study.best_trial.params\n",
    "best_params['objective'] = 'lambdarank'\n",
    "best_params['metric'] = 'map'\n",
    "best_params['verbosity'] = -1\n",
    "best_params['random_state'] = 0\n",
    "\n",
    "fit_params = {\n",
    "    'X': train_df[cols],\n",
    "    'y': train_df['weight'],\n",
    "    'group': get_group(train_df),\n",
    "    'eval_set': [(val_df[cols], val_df['weight'])],\n",
    "    'eval_group': [get_group(val_df)],\n",
    "    'eval_metric': 'map',\n",
    "    'eval_at': (1, 5, 10),\n",
    "    'feature_name': cols,\n",
    "}\n",
    "listwise_model = LGBMRanker(**best_params, early_stopping_rounds = 16)\n",
    "listwise_model.fit(**fit_params)"
   ]
  },
  {
   "cell_type": "code",
   "execution_count": null,
   "id": "6dc13436-c99a-4ba9-848e-e9868bbeb849",
   "metadata": {},
   "outputs": [],
   "source": []
  },
  {
   "cell_type": "code",
   "execution_count": 13,
   "id": "2d9a7571-6aaa-4558-a66a-bc12691e506d",
   "metadata": {},
   "outputs": [],
   "source": [
    "test_df = pd.read_parquet('recos_final_test.parquet')"
   ]
  },
  {
   "cell_type": "code",
   "execution_count": 14,
   "id": "1e6e668d-b021-42d0-9052-a8d46a910443",
   "metadata": {},
   "outputs": [],
   "source": [
    "listwise_df = test_df[[\"user_id\", \"item_id\"]].copy()\n",
    "listwise_df[\"listwise_score\"] = listwise_model.predict(test_df[cols])\n",
    "listwise_df = listwise_df.sort_values([\"user_id\", \"listwise_score\"], ascending=[True, False])"
   ]
  },
  {
   "cell_type": "code",
   "execution_count": 15,
   "id": "12ee0716-8d4d-4acf-81c1-bd86ef47d68a",
   "metadata": {},
   "outputs": [],
   "source": [
    "listwise_df['rank'] = listwise_df.groupby('user_id').cumcount() + 1"
   ]
  },
  {
   "cell_type": "code",
   "execution_count": 16,
   "id": "1430abe1-3621-4ddc-946e-bfbf489e14c5",
   "metadata": {},
   "outputs": [],
   "source": [
    "listwise_df.to_parquet('listwise_df_text_final.parquet')"
   ]
  },
  {
   "cell_type": "code",
   "execution_count": 21,
   "id": "69b9586d-c22d-4778-9ac9-ad19d3ea67e4",
   "metadata": {},
   "outputs": [],
   "source": [
    "listwise_metrics = calc_metrics(\n",
    "    metrics=metrics,\n",
    "    reco=(\n",
    "        listwise_df\n",
    "        .rename(columns={'listwise_rank': Columns.Rank})\n",
    "        [[Columns.User, Columns.Item, Columns.Rank]]\n",
    "    ),\n",
    "    interactions=(\n",
    "        warm_test\n",
    "        [[Columns.User, Columns.Item, Columns.Weight]]\n",
    "    ),\n",
    "    prev_interactions=(\n",
    "        first_train\n",
    "        [[Columns.User, Columns.Item, Columns.Weight]]\n",
    "    ),\n",
    "    catalog=catalog\n",
    ")"
   ]
  },
  {
   "cell_type": "code",
   "execution_count": 22,
   "id": "89a37ba7-a343-4b52-b37b-6eacd53a70ba",
   "metadata": {},
   "outputs": [],
   "source": [
    "models_results_df_test = pd.DataFrame(index=list(metrics.keys()))"
   ]
  },
  {
   "cell_type": "code",
   "execution_count": 23,
   "id": "1511adee-cfaf-4b5e-9b13-bdc4a0b437e9",
   "metadata": {},
   "outputs": [],
   "source": [
    "models_results_df_test[\"LGBM_extra_final\"] = [listwise_metrics[metric] for metric in models_results_df_test.index]"
   ]
  },
  {
   "cell_type": "code",
   "execution_count": 24,
   "id": "e73218df-e90f-4540-b848-eb56039e20ad",
   "metadata": {},
   "outputs": [
    {
     "data": {
      "text/html": [
       "<div>\n",
       "<style scoped>\n",
       "    .dataframe tbody tr th:only-of-type {\n",
       "        vertical-align: middle;\n",
       "    }\n",
       "\n",
       "    .dataframe tbody tr th {\n",
       "        vertical-align: top;\n",
       "    }\n",
       "\n",
       "    .dataframe thead th {\n",
       "        text-align: right;\n",
       "    }\n",
       "</style>\n",
       "<table border=\"1\" class=\"dataframe\">\n",
       "  <thead>\n",
       "    <tr style=\"text-align: right;\">\n",
       "      <th></th>\n",
       "      <th>LGBM_extra_final</th>\n",
       "    </tr>\n",
       "  </thead>\n",
       "  <tbody>\n",
       "    <tr>\n",
       "      <th>hit_rate@1</th>\n",
       "      <td>0.340685</td>\n",
       "    </tr>\n",
       "    <tr>\n",
       "      <th>hit_rate@5</th>\n",
       "      <td>0.563849</td>\n",
       "    </tr>\n",
       "    <tr>\n",
       "      <th>hit_rate@10</th>\n",
       "      <td>0.642697</td>\n",
       "    </tr>\n",
       "    <tr>\n",
       "      <th>Recall@1</th>\n",
       "      <td>0.155151</td>\n",
       "    </tr>\n",
       "    <tr>\n",
       "      <th>Recall@5</th>\n",
       "      <td>0.318640</td>\n",
       "    </tr>\n",
       "    <tr>\n",
       "      <th>Recall@10</th>\n",
       "      <td>0.379540</td>\n",
       "    </tr>\n",
       "    <tr>\n",
       "      <th>MAP@1</th>\n",
       "      <td>0.155151</td>\n",
       "    </tr>\n",
       "    <tr>\n",
       "      <th>MAP@5</th>\n",
       "      <td>0.254688</td>\n",
       "    </tr>\n",
       "    <tr>\n",
       "      <th>MAP@10</th>\n",
       "      <td>0.269389</td>\n",
       "    </tr>\n",
       "    <tr>\n",
       "      <th>MRR@1</th>\n",
       "      <td>0.340685</td>\n",
       "    </tr>\n",
       "    <tr>\n",
       "      <th>MRR@5</th>\n",
       "      <td>0.425168</td>\n",
       "    </tr>\n",
       "    <tr>\n",
       "      <th>MRR@10</th>\n",
       "      <td>0.435794</td>\n",
       "    </tr>\n",
       "    <tr>\n",
       "      <th>pop_bias@10</th>\n",
       "      <td>1144.313695</td>\n",
       "    </tr>\n",
       "    <tr>\n",
       "      <th>serendipity@10</th>\n",
       "      <td>0.004466</td>\n",
       "    </tr>\n",
       "  </tbody>\n",
       "</table>\n",
       "</div>"
      ],
      "text/plain": [
       "                LGBM_extra_final\n",
       "hit_rate@1              0.340685\n",
       "hit_rate@5              0.563849\n",
       "hit_rate@10             0.642697\n",
       "Recall@1                0.155151\n",
       "Recall@5                0.318640\n",
       "Recall@10               0.379540\n",
       "MAP@1                   0.155151\n",
       "MAP@5                   0.254688\n",
       "MAP@10                  0.269389\n",
       "MRR@1                   0.340685\n",
       "MRR@5                   0.425168\n",
       "MRR@10                  0.435794\n",
       "pop_bias@10          1144.313695\n",
       "serendipity@10          0.004466"
      ]
     },
     "execution_count": 24,
     "metadata": {},
     "output_type": "execute_result"
    }
   ],
   "source": [
    "models_results_df_test"
   ]
  },
  {
   "cell_type": "code",
   "execution_count": null,
   "id": "b31490ef-95c3-4451-834d-6f0edf870298",
   "metadata": {},
   "outputs": [],
   "source": []
  },
  {
   "cell_type": "code",
   "execution_count": 26,
   "id": "06a0861d-2a02-48ca-adfc-ea54be26d5f5",
   "metadata": {},
   "outputs": [
    {
     "data": {
      "image/png": "[encoded data removed]",
      "text/plain": [
       "<Figure size 800x1250 with 1 Axes>"
      ]
     },
     "metadata": {},
     "output_type": "display_data"
    }
   ],
   "source": [
    "import shap\n",
    "explainer = shap.Explainer(listwise_model)\n",
    "shap_values = explainer(test_df[cols])\n",
    "shap.plots.bar(shap_values, max_display=len(cols))"
   ]
  },
  {
   "cell_type": "code",
   "execution_count": null,
   "id": "d2522c18-80e4-4b1b-bb6f-9bf20a84caee",
   "metadata": {},
   "outputs": [],
   "source": []
  },
  {
   "cell_type": "code",
   "execution_count": 33,
   "id": "cbbe54d2-33d6-41e0-b883-68849405ffb4",
   "metadata": {},
   "outputs": [],
   "source": [
    "cols = [col for col in recommendations_df.columns if col not in ['user_id'] + ['item_id'] + ['weight']\n",
    "       + ['text_var_dist'] + ['text_score'] + ['var_normalized_cooccurrence'] + ['text_mean_dist']\n",
    "       + ['text_median_dist'] + ['text_max_dist']]"
   ]
  },
  {
   "cell_type": "code",
   "execution_count": null,
   "id": "137b6e2a-9d3a-4dd4-9754-e8e530daf5a7",
   "metadata": {},
   "outputs": [],
   "source": [
    "study = optuna.create_study(direction='maximize')\n",
    "study.optimize(objective, n_trials=300)"
   ]
  },
  {
   "cell_type": "code",
   "execution_count": 35,
   "id": "c44c5ab5-149f-4303-9f4d-aad0fe527852",
   "metadata": {},
   "outputs": [
    {
     "data": {
      "text/plain": [
       "{'learning_rate': 0.0999216727810641,\n",
       " 'n_estimators': 1256,\n",
       " 'max_depth': 4,\n",
       " 'num_leaves': 17,\n",
       " 'min_child_samples': 114,\n",
       " 'reg_lambda': 5.198045171235755,\n",
       " 'colsample_bytree': 0.7270261311314077,\n",
       " 'subsample': 0.9206826801502651}"
      ]
     },
     "execution_count": 35,
     "metadata": {},
     "output_type": "execute_result"
    }
   ],
   "source": [
    "study.best_trial.params"
   ]
  },
  {
   "cell_type": "code",
   "execution_count": 36,
   "id": "525124aa-1582-43b4-8962-1dfe0d4f40f6",
   "metadata": {},
   "outputs": [
    {
     "data": {
      "text/html": [
       "<style>#sk-container-id-2 {\n",
       "  /* Definition of color scheme common for light and dark mode */\n",
       "  --sklearn-color-text: black;\n",
       "  --sklearn-color-line: gray;\n",
       "  /* Definition of color scheme for unfitted estimators */\n",
       "  --sklearn-color-unfitted-level-0: #fff5e6;\n",
       "  --sklearn-color-unfitted-level-1: #f6e4d2;\n",
       "  --sklearn-color-unfitted-level-2: #ffe0b3;\n",
       "  --sklearn-color-unfitted-level-3: chocolate;\n",
       "  /* Definition of color scheme for fitted estimators */\n",
       "  --sklearn-color-fitted-level-0: #f0f8ff;\n",
       "  --sklearn-color-fitted-level-1: #d4ebff;\n",
       "  --sklearn-color-fitted-level-2: #b3dbfd;\n",
       "  --sklearn-color-fitted-level-3: cornflowerblue;\n",
       "\n",
       "  /* Specific color for light theme */\n",
       "  --sklearn-color-text-on-default-background: var(--sg-text-color, var(--theme-code-foreground, var(--jp-content-font-color1, black)));\n",
       "  --sklearn-color-background: var(--sg-background-color, var(--theme-background, var(--jp-layout-color0, white)));\n",
       "  --sklearn-color-border-box: var(--sg-text-color, var(--theme-code-foreground, var(--jp-content-font-color1, black)));\n",
       "  --sklearn-color-icon: #696969;\n",
       "\n",
       "  @media (prefers-color-scheme: dark) {\n",
       "    /* Redefinition of color scheme for dark theme */\n",
       "    --sklearn-color-text-on-default-background: var(--sg-text-color, var(--theme-code-foreground, var(--jp-content-font-color1, white)));\n",
       "    --sklearn-color-background: var(--sg-background-color, var(--theme-background, var(--jp-layout-color0, #111)));\n",
       "    --sklearn-color-border-box: var(--sg-text-color, var(--theme-code-foreground, var(--jp-content-font-color1, white)));\n",
       "    --sklearn-color-icon: #878787;\n",
       "  }\n",
       "}\n",
       "\n",
       "#sk-container-id-2 {\n",
       "  color: var(--sklearn-color-text);\n",
       "}\n",
       "\n",
       "#sk-container-id-2 pre {\n",
       "  padding: 0;\n",
       "}\n",
       "\n",
       "#sk-container-id-2 input.sk-hidden--visually {\n",
       "  border: 0;\n",
       "  clip: rect(1px 1px 1px 1px);\n",
       "  clip: rect(1px, 1px, 1px, 1px);\n",
       "  height: 1px;\n",
       "  margin: -1px;\n",
       "  overflow: hidden;\n",
       "  padding: 0;\n",
       "  position: absolute;\n",
       "  width: 1px;\n",
       "}\n",
       "\n",
       "#sk-container-id-2 div.sk-dashed-wrapped {\n",
       "  border: 1px dashed var(--sklearn-color-line);\n",
       "  margin: 0 0.4em 0.5em 0.4em;\n",
       "  box-sizing: border-box;\n",
       "  padding-bottom: 0.4em;\n",
       "  background-color: var(--sklearn-color-background);\n",
       "}\n",
       "\n",
       "#sk-container-id-2 div.sk-container {\n",
       "  /* jupyter's `normalize.less` sets `[hidden] { display: none; }`\n",
       "     but bootstrap.min.css set `[hidden] { display: none !important; }`\n",
       "     so we also need the `!important` here to be able to override the\n",
       "     default hidden behavior on the sphinx rendered scikit-learn.org.\n",
       "     See: https://github.com/scikit-learn/scikit-learn/issues/21755 */\n",
       "  display: inline-block !important;\n",
       "  position: relative;\n",
       "}\n",
       "\n",
       "#sk-container-id-2 div.sk-text-repr-fallback {\n",
       "  display: none;\n",
       "}\n",
       "\n",
       "div.sk-parallel-item,\n",
       "div.sk-serial,\n",
       "div.sk-item {\n",
       "  /* draw centered vertical line to link estimators */\n",
       "  background-image: linear-gradient(var(--sklearn-color-text-on-default-background), var(--sklearn-color-text-on-default-background));\n",
       "  background-size: 2px 100%;\n",
       "  background-repeat: no-repeat;\n",
       "  background-position: center center;\n",
       "}\n",
       "\n",
       "/* Parallel-specific style estimator block */\n",
       "\n",
       "#sk-container-id-2 div.sk-parallel-item::after {\n",
       "  content: \"\";\n",
       "  width: 100%;\n",
       "  border-bottom: 2px solid var(--sklearn-color-text-on-default-background);\n",
       "  flex-grow: 1;\n",
       "}\n",
       "\n",
       "#sk-container-id-2 div.sk-parallel {\n",
       "  display: flex;\n",
       "  align-items: stretch;\n",
       "  justify-content: center;\n",
       "  background-color: var(--sklearn-color-background);\n",
       "  position: relative;\n",
       "}\n",
       "\n",
       "#sk-container-id-2 div.sk-parallel-item {\n",
       "  display: flex;\n",
       "  flex-direction: column;\n",
       "}\n",
       "\n",
       "#sk-container-id-2 div.sk-parallel-item:first-child::after {\n",
       "  align-self: flex-end;\n",
       "  width: 50%;\n",
       "}\n",
       "\n",
       "#sk-container-id-2 div.sk-parallel-item:last-child::after {\n",
       "  align-self: flex-start;\n",
       "  width: 50%;\n",
       "}\n",
       "\n",
       "#sk-container-id-2 div.sk-parallel-item:only-child::after {\n",
       "  width: 0;\n",
       "}\n",
       "\n",
       "/* Serial-specific style estimator block */\n",
       "\n",
       "#sk-container-id-2 div.sk-serial {\n",
       "  display: flex;\n",
       "  flex-direction: column;\n",
       "  align-items: center;\n",
       "  background-color: var(--sklearn-color-background);\n",
       "  padding-right: 1em;\n",
       "  padding-left: 1em;\n",
       "}\n",
       "\n",
       "\n",
       "/* Toggleable style: style used for estimator/Pipeline/ColumnTransformer box that is\n",
       "clickable and can be expanded/collapsed.\n",
       "- Pipeline and ColumnTransformer use this feature and define the default style\n",
       "- Estimators will overwrite some part of the style using the `sk-estimator` class\n",
       "*/\n",
       "\n",
       "/* Pipeline and ColumnTransformer style (default) */\n",
       "\n",
       "#sk-container-id-2 div.sk-toggleable {\n",
       "  /* Default theme specific background. It is overwritten whether we have a\n",
       "  specific estimator or a Pipeline/ColumnTransformer */\n",
       "  background-color: var(--sklearn-color-background);\n",
       "}\n",
       "\n",
       "/* Toggleable label */\n",
       "#sk-container-id-2 label.sk-toggleable__label {\n",
       "  cursor: pointer;\n",
       "  display: block;\n",
       "  width: 100%;\n",
       "  margin-bottom: 0;\n",
       "  padding: 0.5em;\n",
       "  box-sizing: border-box;\n",
       "  text-align: center;\n",
       "}\n",
       "\n",
       "#sk-container-id-2 label.sk-toggleable__label-arrow:before {\n",
       "  /* Arrow on the left of the label */\n",
       "  content: \"▸\";\n",
       "  float: left;\n",
       "  margin-right: 0.25em;\n",
       "  color: var(--sklearn-color-icon);\n",
       "}\n",
       "\n",
       "#sk-container-id-2 label.sk-toggleable__label-arrow:hover:before {\n",
       "  color: var(--sklearn-color-text);\n",
       "}\n",
       "\n",
       "/* Toggleable content - dropdown */\n",
       "\n",
       "#sk-container-id-2 div.sk-toggleable__content {\n",
       "  max-height: 0;\n",
       "  max-width: 0;\n",
       "  overflow: hidden;\n",
       "  text-align: left;\n",
       "  /* unfitted */\n",
       "  background-color: var(--sklearn-color-unfitted-level-0);\n",
       "}\n",
       "\n",
       "#sk-container-id-2 div.sk-toggleable__content.fitted {\n",
       "  /* fitted */\n",
       "  background-color: var(--sklearn-color-fitted-level-0);\n",
       "}\n",
       "\n",
       "#sk-container-id-2 div.sk-toggleable__content pre {\n",
       "  margin: 0.2em;\n",
       "  border-radius: 0.25em;\n",
       "  color: var(--sklearn-color-text);\n",
       "  /* unfitted */\n",
       "  background-color: var(--sklearn-color-unfitted-level-0);\n",
       "}\n",
       "\n",
       "#sk-container-id-2 div.sk-toggleable__content.fitted pre {\n",
       "  /* unfitted */\n",
       "  background-color: var(--sklearn-color-fitted-level-0);\n",
       "}\n",
       "\n",
       "#sk-container-id-2 input.sk-toggleable__control:checked~div.sk-toggleable__content {\n",
       "  /* Expand drop-down */\n",
       "  max-height: 200px;\n",
       "  max-width: 100%;\n",
       "  overflow: auto;\n",
       "}\n",
       "\n",
       "#sk-container-id-2 input.sk-toggleable__control:checked~label.sk-toggleable__label-arrow:before {\n",
       "  content: \"▾\";\n",
       "}\n",
       "\n",
       "/* Pipeline/ColumnTransformer-specific style */\n",
       "\n",
       "#sk-container-id-2 div.sk-label input.sk-toggleable__control:checked~label.sk-toggleable__label {\n",
       "  color: var(--sklearn-color-text);\n",
       "  background-color: var(--sklearn-color-unfitted-level-2);\n",
       "}\n",
       "\n",
       "#sk-container-id-2 div.sk-label.fitted input.sk-toggleable__control:checked~label.sk-toggleable__label {\n",
       "  background-color: var(--sklearn-color-fitted-level-2);\n",
       "}\n",
       "\n",
       "/* Estimator-specific style */\n",
       "\n",
       "/* Colorize estimator box */\n",
       "#sk-container-id-2 div.sk-estimator input.sk-toggleable__control:checked~label.sk-toggleable__label {\n",
       "  /* unfitted */\n",
       "  background-color: var(--sklearn-color-unfitted-level-2);\n",
       "}\n",
       "\n",
       "#sk-container-id-2 div.sk-estimator.fitted input.sk-toggleable__control:checked~label.sk-toggleable__label {\n",
       "  /* fitted */\n",
       "  background-color: var(--sklearn-color-fitted-level-2);\n",
       "}\n",
       "\n",
       "#sk-container-id-2 div.sk-label label.sk-toggleable__label,\n",
       "#sk-container-id-2 div.sk-label label {\n",
       "  /* The background is the default theme color */\n",
       "  color: var(--sklearn-color-text-on-default-background);\n",
       "}\n",
       "\n",
       "/* On hover, darken the color of the background */\n",
       "#sk-container-id-2 div.sk-label:hover label.sk-toggleable__label {\n",
       "  color: var(--sklearn-color-text);\n",
       "  background-color: var(--sklearn-color-unfitted-level-2);\n",
       "}\n",
       "\n",
       "/* Label box, darken color on hover, fitted */\n",
       "#sk-container-id-2 div.sk-label.fitted:hover label.sk-toggleable__label.fitted {\n",
       "  color: var(--sklearn-color-text);\n",
       "  background-color: var(--sklearn-color-fitted-level-2);\n",
       "}\n",
       "\n",
       "/* Estimator label */\n",
       "\n",
       "#sk-container-id-2 div.sk-label label {\n",
       "  font-family: monospace;\n",
       "  font-weight: bold;\n",
       "  display: inline-block;\n",
       "  line-height: 1.2em;\n",
       "}\n",
       "\n",
       "#sk-container-id-2 div.sk-label-container {\n",
       "  text-align: center;\n",
       "}\n",
       "\n",
       "/* Estimator-specific */\n",
       "#sk-container-id-2 div.sk-estimator {\n",
       "  font-family: monospace;\n",
       "  border: 1px dotted var(--sklearn-color-border-box);\n",
       "  border-radius: 0.25em;\n",
       "  box-sizing: border-box;\n",
       "  margin-bottom: 0.5em;\n",
       "  /* unfitted */\n",
       "  background-color: var(--sklearn-color-unfitted-level-0);\n",
       "}\n",
       "\n",
       "#sk-container-id-2 div.sk-estimator.fitted {\n",
       "  /* fitted */\n",
       "  background-color: var(--sklearn-color-fitted-level-0);\n",
       "}\n",
       "\n",
       "/* on hover */\n",
       "#sk-container-id-2 div.sk-estimator:hover {\n",
       "  /* unfitted */\n",
       "  background-color: var(--sklearn-color-unfitted-level-2);\n",
       "}\n",
       "\n",
       "#sk-container-id-2 div.sk-estimator.fitted:hover {\n",
       "  /* fitted */\n",
       "  background-color: var(--sklearn-color-fitted-level-2);\n",
       "}\n",
       "\n",
       "/* Specification for estimator info (e.g. \"i\" and \"?\") */\n",
       "\n",
       "/* Common style for \"i\" and \"?\" */\n",
       "\n",
       ".sk-estimator-doc-link,\n",
       "a:link.sk-estimator-doc-link,\n",
       "a:visited.sk-estimator-doc-link {\n",
       "  float: right;\n",
       "  font-size: smaller;\n",
       "  line-height: 1em;\n",
       "  font-family: monospace;\n",
       "  background-color: var(--sklearn-color-background);\n",
       "  border-radius: 1em;\n",
       "  height: 1em;\n",
       "  width: 1em;\n",
       "  text-decoration: none !important;\n",
       "  margin-left: 1ex;\n",
       "  /* unfitted */\n",
       "  border: var(--sklearn-color-unfitted-level-1) 1pt solid;\n",
       "  color: var(--sklearn-color-unfitted-level-1);\n",
       "}\n",
       "\n",
       ".sk-estimator-doc-link.fitted,\n",
       "a:link.sk-estimator-doc-link.fitted,\n",
       "a:visited.sk-estimator-doc-link.fitted {\n",
       "  /* fitted */\n",
       "  border: var(--sklearn-color-fitted-level-1) 1pt solid;\n",
       "  color: var(--sklearn-color-fitted-level-1);\n",
       "}\n",
       "\n",
       "/* On hover */\n",
       "div.sk-estimator:hover .sk-estimator-doc-link:hover,\n",
       ".sk-estimator-doc-link:hover,\n",
       "div.sk-label-container:hover .sk-estimator-doc-link:hover,\n",
       ".sk-estimator-doc-link:hover {\n",
       "  /* unfitted */\n",
       "  background-color: var(--sklearn-color-unfitted-level-3);\n",
       "  color: var(--sklearn-color-background);\n",
       "  text-decoration: none;\n",
       "}\n",
       "\n",
       "div.sk-estimator.fitted:hover .sk-estimator-doc-link.fitted:hover,\n",
       ".sk-estimator-doc-link.fitted:hover,\n",
       "div.sk-label-container:hover .sk-estimator-doc-link.fitted:hover,\n",
       ".sk-estimator-doc-link.fitted:hover {\n",
       "  /* fitted */\n",
       "  background-color: var(--sklearn-color-fitted-level-3);\n",
       "  color: var(--sklearn-color-background);\n",
       "  text-decoration: none;\n",
       "}\n",
       "\n",
       "/* Span, style for the box shown on hovering the info icon */\n",
       ".sk-estimator-doc-link span {\n",
       "  display: none;\n",
       "  z-index: 9999;\n",
       "  position: relative;\n",
       "  font-weight: normal;\n",
       "  right: .2ex;\n",
       "  padding: .5ex;\n",
       "  margin: .5ex;\n",
       "  width: min-content;\n",
       "  min-width: 20ex;\n",
       "  max-width: 50ex;\n",
       "  color: var(--sklearn-color-text);\n",
       "  box-shadow: 2pt 2pt 4pt #999;\n",
       "  /* unfitted */\n",
       "  background: var(--sklearn-color-unfitted-level-0);\n",
       "  border: .5pt solid var(--sklearn-color-unfitted-level-3);\n",
       "}\n",
       "\n",
       ".sk-estimator-doc-link.fitted span {\n",
       "  /* fitted */\n",
       "  background: var(--sklearn-color-fitted-level-0);\n",
       "  border: var(--sklearn-color-fitted-level-3);\n",
       "}\n",
       "\n",
       ".sk-estimator-doc-link:hover span {\n",
       "  display: block;\n",
       "}\n",
       "\n",
       "/* \"?\"-specific style due to the `<a>` HTML tag */\n",
       "\n",
       "#sk-container-id-2 a.estimator_doc_link {\n",
       "  float: right;\n",
       "  font-size: 1rem;\n",
       "  line-height: 1em;\n",
       "  font-family: monospace;\n",
       "  background-color: var(--sklearn-color-background);\n",
       "  border-radius: 1rem;\n",
       "  height: 1rem;\n",
       "  width: 1rem;\n",
       "  text-decoration: none;\n",
       "  /* unfitted */\n",
       "  color: var(--sklearn-color-unfitted-level-1);\n",
       "  border: var(--sklearn-color-unfitted-level-1) 1pt solid;\n",
       "}\n",
       "\n",
       "#sk-container-id-2 a.estimator_doc_link.fitted {\n",
       "  /* fitted */\n",
       "  border: var(--sklearn-color-fitted-level-1) 1pt solid;\n",
       "  color: var(--sklearn-color-fitted-level-1);\n",
       "}\n",
       "\n",
       "/* On hover */\n",
       "#sk-container-id-2 a.estimator_doc_link:hover {\n",
       "  /* unfitted */\n",
       "  background-color: var(--sklearn-color-unfitted-level-3);\n",
       "  color: var(--sklearn-color-background);\n",
       "  text-decoration: none;\n",
       "}\n",
       "\n",
       "#sk-container-id-2 a.estimator_doc_link.fitted:hover {\n",
       "  /* fitted */\n",
       "  background-color: var(--sklearn-color-fitted-level-3);\n",
       "}\n",
       "</style><div id=\"sk-container-id-2\" class=\"sk-top-container\"><div class=\"sk-text-repr-fallback\"><pre>LGBMRanker(colsample_bytree=0.7270261311314077, early_stopping_rounds=16,\n",
       "           learning_rate=0.0999216727810641, max_depth=4, metric=&#x27;map&#x27;,\n",
       "           min_child_samples=114, n_estimators=1256, num_leaves=17,\n",
       "           objective=&#x27;lambdarank&#x27;, random_state=0, reg_lambda=5.198045171235755,\n",
       "           subsample=0.9206826801502651, verbosity=-1)</pre><b>In a Jupyter environment, please rerun this cell to show the HTML representation or trust the notebook. <br />On GitHub, the HTML representation is unable to render, please try loading this page with nbviewer.org.</b></div><div class=\"sk-container\" hidden><div class=\"sk-item\"><div class=\"sk-estimator fitted sk-toggleable\"><input class=\"sk-toggleable__control sk-hidden--visually\" id=\"sk-estimator-id-2\" type=\"checkbox\" checked><label for=\"sk-estimator-id-2\" class=\"sk-toggleable__label fitted sk-toggleable__label-arrow fitted\">&nbsp;LGBMRanker<span class=\"sk-estimator-doc-link fitted\">i<span>Fitted</span></span></label><div class=\"sk-toggleable__content fitted\"><pre>LGBMRanker(colsample_bytree=0.7270261311314077, early_stopping_rounds=16,\n",
       "           learning_rate=0.0999216727810641, max_depth=4, metric=&#x27;map&#x27;,\n",
       "           min_child_samples=114, n_estimators=1256, num_leaves=17,\n",
       "           objective=&#x27;lambdarank&#x27;, random_state=0, reg_lambda=5.198045171235755,\n",
       "           subsample=0.9206826801502651, verbosity=-1)</pre></div> </div></div></div></div>"
      ],
      "text/plain": [
       "LGBMRanker(colsample_bytree=0.7270261311314077, early_stopping_rounds=16,\n",
       "           learning_rate=0.0999216727810641, max_depth=4, metric='map',\n",
       "           min_child_samples=114, n_estimators=1256, num_leaves=17,\n",
       "           objective='lambdarank', random_state=0, reg_lambda=5.198045171235755,\n",
       "           subsample=0.9206826801502651, verbosity=-1)"
      ]
     },
     "execution_count": 36,
     "metadata": {},
     "output_type": "execute_result"
    }
   ],
   "source": [
    "best_params = study.best_trial.params\n",
    "best_params['objective'] = 'lambdarank'\n",
    "best_params['metric'] = 'map'\n",
    "best_params['verbosity'] = -1\n",
    "best_params['random_state'] = 0\n",
    "\n",
    "fit_params = {\n",
    "    'X': train_df[cols],\n",
    "    'y': train_df['weight'],\n",
    "    'group': get_group(train_df),\n",
    "    'eval_set': [(val_df[cols], val_df['weight'])],\n",
    "    'eval_group': [get_group(val_df)],\n",
    "    'eval_metric': 'map',\n",
    "    'eval_at': (1, 5, 10),\n",
    "    'feature_name': cols,\n",
    "}\n",
    "listwise_model = LGBMRanker(**best_params, early_stopping_rounds = 16)\n",
    "listwise_model.fit(**fit_params)"
   ]
  },
  {
   "cell_type": "code",
   "execution_count": 37,
   "id": "44824d99-a2c0-478c-9d27-18104a15b595",
   "metadata": {},
   "outputs": [],
   "source": [
    "listwise_df = test_df[[\"user_id\", \"item_id\"]].copy()\n",
    "listwise_df[\"listwise_score\"] = listwise_model.predict(test_df[cols])\n",
    "listwise_df = listwise_df.sort_values([\"user_id\", \"listwise_score\"], ascending=[True, False])"
   ]
  },
  {
   "cell_type": "code",
   "execution_count": 38,
   "id": "a4f0f0f3-3039-4101-b03c-d780750f2334",
   "metadata": {},
   "outputs": [],
   "source": [
    "listwise_df['rank'] = listwise_df.groupby('user_id').cumcount() + 1"
   ]
  },
  {
   "cell_type": "code",
   "execution_count": 39,
   "id": "80674dc4-e6db-43f6-abd3-49ab19a315b7",
   "metadata": {},
   "outputs": [],
   "source": [
    "listwise_df.to_parquet('listwise_df_text_final_2.parquet')"
   ]
  },
  {
   "cell_type": "code",
   "execution_count": 40,
   "id": "5ad0c2ca-cd01-4bf9-b37b-caff44853f67",
   "metadata": {},
   "outputs": [],
   "source": [
    "listwise_metrics = calc_metrics(\n",
    "    metrics=metrics,\n",
    "    reco=(\n",
    "        listwise_df\n",
    "        .rename(columns={'listwise_rank': Columns.Rank})\n",
    "        [[Columns.User, Columns.Item, Columns.Rank]]\n",
    "    ),\n",
    "    interactions=(\n",
    "        warm_test\n",
    "        [[Columns.User, Columns.Item, Columns.Weight]]\n",
    "    ),\n",
    "    prev_interactions=(\n",
    "        first_train\n",
    "        [[Columns.User, Columns.Item, Columns.Weight]]\n",
    "    ),\n",
    "    catalog=catalog\n",
    ")"
   ]
  },
  {
   "cell_type": "code",
   "execution_count": 41,
   "id": "57d1b2f5-bebf-4e2a-99be-7451ecfefa31",
   "metadata": {},
   "outputs": [],
   "source": [
    "models_results_df_test[\"LGBM_extra_final_2\"] = [listwise_metrics[metric] for metric in models_results_df_test.index]"
   ]
  },
  {
   "cell_type": "code",
   "execution_count": 42,
   "id": "18c93d40-290b-4e26-ab23-c0be128308e7",
   "metadata": {},
   "outputs": [
    {
     "data": {
      "text/html": [
       "<div>\n",
       "<style scoped>\n",
       "    .dataframe tbody tr th:only-of-type {\n",
       "        vertical-align: middle;\n",
       "    }\n",
       "\n",
       "    .dataframe tbody tr th {\n",
       "        vertical-align: top;\n",
       "    }\n",
       "\n",
       "    .dataframe thead th {\n",
       "        text-align: right;\n",
       "    }\n",
       "</style>\n",
       "<table border=\"1\" class=\"dataframe\">\n",
       "  <thead>\n",
       "    <tr style=\"text-align: right;\">\n",
       "      <th></th>\n",
       "      <th>LGBM_extra_final</th>\n",
       "      <th>LGBM_extra_final_2</th>\n",
       "    </tr>\n",
       "  </thead>\n",
       "  <tbody>\n",
       "    <tr>\n",
       "      <th>hit_rate@1</th>\n",
       "      <td>0.340685</td>\n",
       "      <td>0.339952</td>\n",
       "    </tr>\n",
       "    <tr>\n",
       "      <th>hit_rate@5</th>\n",
       "      <td>0.563849</td>\n",
       "      <td>0.563040</td>\n",
       "    </tr>\n",
       "    <tr>\n",
       "      <th>hit_rate@10</th>\n",
       "      <td>0.642697</td>\n",
       "      <td>0.642543</td>\n",
       "    </tr>\n",
       "    <tr>\n",
       "      <th>Recall@1</th>\n",
       "      <td>0.155151</td>\n",
       "      <td>0.155219</td>\n",
       "    </tr>\n",
       "    <tr>\n",
       "      <th>Recall@5</th>\n",
       "      <td>0.318640</td>\n",
       "      <td>0.318033</td>\n",
       "    </tr>\n",
       "    <tr>\n",
       "      <th>Recall@10</th>\n",
       "      <td>0.379540</td>\n",
       "      <td>0.379858</td>\n",
       "    </tr>\n",
       "    <tr>\n",
       "      <th>MAP@1</th>\n",
       "      <td>0.155151</td>\n",
       "      <td>0.155219</td>\n",
       "    </tr>\n",
       "    <tr>\n",
       "      <th>MAP@5</th>\n",
       "      <td>0.254688</td>\n",
       "      <td>0.254656</td>\n",
       "    </tr>\n",
       "    <tr>\n",
       "      <th>MAP@10</th>\n",
       "      <td>0.269389</td>\n",
       "      <td>0.269462</td>\n",
       "    </tr>\n",
       "    <tr>\n",
       "      <th>MRR@1</th>\n",
       "      <td>0.340685</td>\n",
       "      <td>0.339952</td>\n",
       "    </tr>\n",
       "    <tr>\n",
       "      <th>MRR@5</th>\n",
       "      <td>0.425168</td>\n",
       "      <td>0.424416</td>\n",
       "    </tr>\n",
       "    <tr>\n",
       "      <th>MRR@10</th>\n",
       "      <td>0.435794</td>\n",
       "      <td>0.435119</td>\n",
       "    </tr>\n",
       "    <tr>\n",
       "      <th>pop_bias@10</th>\n",
       "      <td>1144.313695</td>\n",
       "      <td>1136.073408</td>\n",
       "    </tr>\n",
       "    <tr>\n",
       "      <th>serendipity@10</th>\n",
       "      <td>0.004466</td>\n",
       "      <td>0.004474</td>\n",
       "    </tr>\n",
       "  </tbody>\n",
       "</table>\n",
       "</div>"
      ],
      "text/plain": [
       "                LGBM_extra_final  LGBM_extra_final_2\n",
       "hit_rate@1              0.340685            0.339952\n",
       "hit_rate@5              0.563849            0.563040\n",
       "hit_rate@10             0.642697            0.642543\n",
       "Recall@1                0.155151            0.155219\n",
       "Recall@5                0.318640            0.318033\n",
       "Recall@10               0.379540            0.379858\n",
       "MAP@1                   0.155151            0.155219\n",
       "MAP@5                   0.254688            0.254656\n",
       "MAP@10                  0.269389            0.269462\n",
       "MRR@1                   0.340685            0.339952\n",
       "MRR@5                   0.425168            0.424416\n",
       "MRR@10                  0.435794            0.435119\n",
       "pop_bias@10          1144.313695         1136.073408\n",
       "serendipity@10          0.004466            0.004474"
      ]
     },
     "execution_count": 42,
     "metadata": {},
     "output_type": "execute_result"
    }
   ],
   "source": [
    "models_results_df_test"
   ]
  },
  {
   "cell_type": "code",
   "execution_count": 43,
   "id": "be743859-3f33-42dd-863a-90378b78b15f",
   "metadata": {},
   "outputs": [
    {
     "data": {
      "image/png": "[encoded data removed]",
      "text/plain": [
       "<Figure size 800x950 with 1 Axes>"
      ]
     },
     "metadata": {},
     "output_type": "display_data"
    }
   ],
   "source": [
    "explainer = shap.Explainer(listwise_model)\n",
    "shap_values = explainer(test_df[cols])\n",
    "shap.plots.bar(shap_values, max_display=len(cols))"
   ]
  },
  {
   "cell_type": "code",
   "execution_count": null,
   "id": "25a75203-c2ce-4536-abc0-307160ab2226",
   "metadata": {},
   "outputs": [],
   "source": []
  }
 ],
 "metadata": {
  "kernelspec": {
   "display_name": "Python 3 (ipykernel)",
   "language": "python",
   "name": "python3"
  },
  "language_info": {
   "codemirror_mode": {
    "name": "ipython",
    "version": 3
   },
   "file_extension": ".py",
   "mimetype": "text/x-python",
   "name": "python",
   "nbconvert_exporter": "python",
   "pygments_lexer": "ipython3",
   "version": "3.12.7"
  }
 },
 "nbformat": 4,
 "nbformat_minor": 5
}
