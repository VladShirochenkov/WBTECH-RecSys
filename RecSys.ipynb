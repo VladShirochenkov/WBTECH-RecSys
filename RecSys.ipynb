{
 "cells": [
  {
   "cell_type": "markdown",
   "metadata": {
    "id": "W_U2hDbi0gDY"
   },
   "source": [
    "# 1. Вес взаимодействия\n",
    "\n",
    "Прежде, чем строить эксперименты с моделями, необходимо подобрать способ взвешивания взаимодействий пользователей с товарами. Сущесвтует множество подходов кроме бинарного, некоторые из них:\n",
    "\n",
    "## 1. Кумулятивный вес взаимодействия\n",
    "\n",
    "### Описание:\n",
    "Кумулятивный вес учитывает общее количество взаимодействий пользователя с конкретным элементом. Вместо простого наличия или отсутствия взаимодействия, этот метод учитывает частоту повторных взаимодействий.\n",
    "\n",
    "### Преимущества:\n",
    "- Учёт предпочтений пользователей, которые часто взаимодействуют с определенными элементами.\n",
    "- Более точное отображение интересов пользователя.\n",
    "\n",
    "### Недостатки:\n",
    "- Не учитывает временную динамику взаимодействий.\n",
    "- Может переоценивать популярные элементы.\n",
    "\n",
    "## 2. Взвешенные взаимодействия с использованием временных меток\n",
    "\n",
    "### Описание:\n",
    "Этот метод учитывает не только количество взаимодействий, но и их временную последовательность. Свежие взаимодействия могут иметь больший вес, чем более старые.\n",
    "\n",
    "### Преимущества:\n",
    "- Отражает текущие интересы пользователя.\n",
    "- Способствует адаптивности модели к изменениям в поведении пользователя.\n",
    "\n",
    "### Недостатки:\n",
    "- Определение оптимальной функции затухания может быть сложным.\n",
    "- Возможность потери информации о долгосрочных предпочтениях.\n",
    "\n",
    "## 3. TF-IDF-подобное взвешивание\n",
    "\n",
    "### Описание:\n",
    "Использует концепцию TF-IDF (Term Frequency-Inverse Document Frequency) для взвешивания взаимодействий, подчеркивая редкие и важные взаимодействия.\n",
    "\n",
    "### Преимущества:\n",
    "- Подчеркивает уникальные предпочтения пользователя.\n",
    "- Снижает влияние популярных элементов, которые есть у многих пользователей.\n",
    "\n",
    "### Недостатки:\n",
    "- Меньшая точность при наличии широкой популярности элементов.\n",
    "- Сложность реализации в динамических системах.\n",
    "\n",
    "## 4. Взвешивания на основе популярности элементов\n",
    "\n",
    "### Описание:\n",
    "Веса взаимодействий основаны на глобальной популярности элементов. Менее популярные элементы могут иметь больший вес, чтобы избежать смещения в пользу популярных элементов.\n",
    "\n",
    "### Преимущества:\n",
    "- Снижает эффект доминирования популярных элементов.\n",
    "- Поощряет разнообразие рекомендаций.\n",
    "\n",
    "### Недостатки:\n",
    "- Может не учитывать реальную вероятность интереса пользователя.\n",
    "- Требует регулярного обновления популярности элементов."
   ]
  },
  {
   "cell_type": "code",
   "execution_count": null,
   "metadata": {},
   "outputs": [],
   "source": [
    "!pip install rectools[all]"
   ]
  },
  {
   "cell_type": "code",
   "execution_count": null,
   "metadata": {},
   "outputs": [],
   "source": [
    "!pip install lightfm"
   ]
  },
  {
   "cell_type": "code",
   "execution_count": 3,
   "metadata": {
    "colab": {
     "base_uri": "https://localhost:8080/"
    },
    "id": "jhXveNAdxXQV",
    "outputId": "c5450bc0-fc72-4cfd-db6f-31341a77be8f"
   },
   "outputs": [
    {
     "name": "stdout",
     "output_type": "stream",
     "text": [
      "Mounted at /content/drive\n"
     ]
    }
   ],
   "source": [
    "import os\n",
    "import pandas as pd\n",
    "import numpy as np\n",
    "from google.colab import drive\n",
    "drive.mount('/content/drive')\n",
    "os.chdir('/content/drive/My Drive/WBTECH')"
   ]
  },
  {
   "cell_type": "code",
   "execution_count": 4,
   "metadata": {
    "id": "3BEzpazXxYk-"
   },
   "outputs": [],
   "source": [
    "from rectools.metrics import (\n",
    "    HitRate,\n",
    "    Serendipity,\n",
    "    calc_metrics,\n",
    "    Recall,\n",
    "    MAP,\n",
    "    MRR,\n",
    "    AvgRecPopularity\n",
    ")\n",
    "from rectools import Columns\n",
    "from rectools.dataset import Dataset"
   ]
  },
  {
   "cell_type": "code",
   "execution_count": 5,
   "metadata": {
    "id": "nMFAoyKjxahr"
   },
   "outputs": [],
   "source": [
    "first_train = pd.read_parquet('first_train_2.parquet')\n",
    "first_val = pd.read_parquet('first_val_2.parquet')"
   ]
  },
  {
   "cell_type": "code",
   "execution_count": 6,
   "metadata": {
    "id": "p3jAinkRxb8A"
   },
   "outputs": [],
   "source": [
    "first_train['watched'] = 1\n",
    "first_val['watched'] = 1"
   ]
  },
  {
   "cell_type": "code",
   "execution_count": 7,
   "metadata": {
    "id": "UZlJAbX3xfcJ"
   },
   "outputs": [],
   "source": [
    "first_train = first_train.rename(\n",
    "    columns={\n",
    "        'watched': Columns.Weight,\n",
    "        'dt': Columns.Datetime,\n",
    "        'nm_id': Columns.Item,\n",
    "        'wbuser_id': Columns.User,\n",
    "    }\n",
    ")"
   ]
  },
  {
   "cell_type": "code",
   "execution_count": 20,
   "metadata": {
    "id": "j35MXeGaxkFE"
   },
   "outputs": [],
   "source": [
    "first_val = first_val.rename(\n",
    "    columns={\n",
    "        'watched': Columns.Weight,\n",
    "        'dt': Columns.Datetime,\n",
    "        'nm_id': Columns.Item,\n",
    "        'wbuser_id': Columns.User,\n",
    "    }\n",
    ")"
   ]
  },
  {
   "cell_type": "code",
   "execution_count": 21,
   "metadata": {
    "id": "DEfIJXi_xkfy"
   },
   "outputs": [],
   "source": [
    "first_train_df = Dataset.construct(first_train)\n",
    "first_val_df = Dataset.construct(first_val)"
   ]
  },
  {
   "cell_type": "code",
   "execution_count": 9,
   "metadata": {
    "id": "LAIkDx0JxmT3"
   },
   "outputs": [],
   "source": [
    "catalog = first_train[Columns.Item].unique()"
   ]
  },
  {
   "cell_type": "code",
   "execution_count": 10,
   "metadata": {
    "id": "xDaW3P2-xoVl"
   },
   "outputs": [],
   "source": [
    "from lightfm import LightFM\n",
    "from rectools.models import LightFMWrapperModel"
   ]
  },
  {
   "cell_type": "code",
   "execution_count": 11,
   "metadata": {
    "id": "nVym53LS1CkA"
   },
   "outputs": [],
   "source": [
    "num_threads = os.cpu_count()"
   ]
  },
  {
   "cell_type": "code",
   "execution_count": null,
   "metadata": {
    "colab": {
     "base_uri": "https://localhost:8080/"
    },
    "id": "Z5lGPAo3xr4D",
    "outputId": "65356d6e-451e-444d-936e-0afbc33d171e"
   },
   "outputs": [
    {
     "name": "stderr",
     "output_type": "stream",
     "text": [
      "Epoch:  73%|███████▎  | 11/15 [00:48<00:17,  4.40s/it]"
     ]
    }
   ],
   "source": [
    "model = LightFMWrapperModel(LightFM(no_components=100, loss=\"warp\", learning_rate=0.1, max_sampled=5,), num_threads=num_threads, epochs=15, verbose=1)\n",
    "model.fit(first_train_df);"
   ]
  },
  {
   "cell_type": "code",
   "execution_count": null,
   "metadata": {
    "colab": {
     "base_uri": "https://localhost:8080/"
    },
    "id": "oxvxbojxxvAM",
    "outputId": "77cb1362-8983-4411-ad6a-f5d5348580b3"
   },
   "outputs": [
    {
     "name": "stdout",
     "output_type": "stream",
     "text": [
      "CPU times: user 3 µs, sys: 0 ns, total: 3 µs\n",
      "Wall time: 5.01 µs\n"
     ]
    }
   ],
   "source": [
    "%time\n",
    "recos = model.recommend(\n",
    "    users=first_val[Columns.User].unique(),\n",
    "    dataset=first_train_df,\n",
    "    k=20,\n",
    "    filter_viewed=False,\n",
    ")"
   ]
  },
  {
   "cell_type": "code",
   "execution_count": null,
   "metadata": {
    "colab": {
     "base_uri": "https://localhost:8080/"
    },
    "id": "88w_EIUAxvU7",
    "outputId": "7ccfe036-2ca8-4876-a983-594f417fadb7"
   },
   "outputs": [
    {
     "data": {
      "text/plain": [
       "{'hit_rate@20': 0.5314408661854525,\n",
       " 'Recall@20': 0.28177817375885056,\n",
       " 'MRR@20': 0.2730269439693359,\n",
       " 'MAP@20': 0.15074025209283384,\n",
       " 'pop_bias@20': 1846.90296710161,\n",
       " 'serendipity@20': 0.00145679889181293}"
      ]
     },
     "execution_count": 15,
     "metadata": {},
     "output_type": "execute_result"
    }
   ],
   "source": [
    "metrics = {\n",
    "    \"hit_rate@20\": HitRate(k=20),\n",
    "    \"serendipity@20\": Serendipity(k=20),\n",
    "    \"Recall@20\": Recall(k=20),\n",
    "    \"MAP@20\": MAP(k=20),\n",
    "    \"MRR@20\": MRR(k=20),\n",
    "    \"pop_bias@20\": AvgRecPopularity(k=20),\n",
    "}\n",
    "\n",
    "calc_metrics(\n",
    "    metrics,\n",
    "    reco=recos,\n",
    "    interactions=first_val,  \n",
    "    prev_interactions=first_train,  \n",
    "    catalog=catalog,  \n",
    ")"
   ]
  },
  {
   "cell_type": "code",
   "execution_count": null,
   "metadata": {
    "id": "oXDB1Ex_1bCB"
   },
   "outputs": [],
   "source": []
  },
  {
   "cell_type": "code",
   "execution_count": 13,
   "metadata": {
    "id": "AD9dqryT1bJs"
   },
   "outputs": [],
   "source": [
    "tf = first_train.groupby(['user_id', 'item_id']).size().reset_index(name='tf')"
   ]
  },
  {
   "cell_type": "code",
   "execution_count": 14,
   "metadata": {
    "id": "etfsK0bj198S"
   },
   "outputs": [],
   "source": [
    "df = first_train.groupby('item_id')['user_id'].nunique().reset_index(name='df')"
   ]
  },
  {
   "cell_type": "code",
   "execution_count": 15,
   "metadata": {
    "id": "KPW9fh351_om"
   },
   "outputs": [],
   "source": [
    "N = first_train['user_id'].nunique()\n",
    "df['idf'] = np.log(N / df['df'])"
   ]
  },
  {
   "cell_type": "code",
   "execution_count": 16,
   "metadata": {
    "id": "2iRZltoq2Ct5"
   },
   "outputs": [],
   "source": [
    "tf_idf = tf.merge(df, on='item_id')\n",
    "tf_idf['weight'] = tf_idf['tf'] * tf_idf['idf']"
   ]
  },
  {
   "cell_type": "code",
   "execution_count": 17,
   "metadata": {
    "id": "Sn_rAQ3q2E-T"
   },
   "outputs": [],
   "source": [
    "first_train = first_train.merge(tf_idf[['user_id', 'item_id', 'weight']], on=['user_id', 'item_id'], how='left')"
   ]
  },
  {
   "cell_type": "code",
   "execution_count": 22,
   "metadata": {
    "colab": {
     "base_uri": "https://localhost:8080/"
    },
    "id": "N5UH0ftk2Kjp",
    "outputId": "bc2e0583-2ef5-49ba-9b6d-9965b7d727bb"
   },
   "outputs": [
    {
     "name": "stderr",
     "output_type": "stream",
     "text": [
      "Epoch: 100%|██████████| 15/15 [00:49<00:00,  3.33s/it]\n"
     ]
    }
   ],
   "source": [
    "model = LightFMWrapperModel(LightFM(no_components=100, loss=\"warp\", learning_rate=0.1, max_sampled=5,), num_threads=num_threads, epochs=15, verbose=1)\n",
    "model.fit(first_train_df);"
   ]
  },
  {
   "cell_type": "code",
   "execution_count": 23,
   "metadata": {
    "id": "jYUL3CR92T8-"
   },
   "outputs": [],
   "source": [
    "recos = model.recommend(\n",
    "    users=first_val[Columns.User].unique(),\n",
    "    dataset=first_train_df,\n",
    "    k=20,\n",
    "    filter_viewed=False,\n",
    ")"
   ]
  },
  {
   "cell_type": "code",
   "execution_count": 24,
   "metadata": {
    "colab": {
     "base_uri": "https://localhost:8080/"
    },
    "id": "cdvstL_o2YHA",
    "outputId": "f3641c5c-eb30-4733-ad71-97ef5f54673f"
   },
   "outputs": [
    {
     "data": {
      "text/plain": [
       "{'hit_rate@20': 0.5191907273736813,\n",
       " 'Recall@20': 0.27548039637513355,\n",
       " 'MRR@20': 0.301684047790716,\n",
       " 'MAP@20': 0.16634590962705165,\n",
       " 'pop_bias@20': 1801.3892976124375,\n",
       " 'serendipity@20': 0.0015233372434206478}"
      ]
     },
     "execution_count": 24,
     "metadata": {},
     "output_type": "execute_result"
    }
   ],
   "source": [
    "metrics = {\n",
    "    \"hit_rate@20\": HitRate(k=20),\n",
    "    \"serendipity@20\": Serendipity(k=20),\n",
    "    \"Recall@20\": Recall(k=20),\n",
    "    \"MAP@20\": MAP(k=20),\n",
    "    \"MRR@20\": MRR(k=20),\n",
    "    \"pop_bias@20\": AvgRecPopularity(k=20),\n",
    "}\n",
    "\n",
    "calc_metrics(\n",
    "    metrics,\n",
    "    reco=recos,\n",
    "    interactions=first_val,  \n",
    "    prev_interactions=first_train,  \n",
    "    catalog=catalog,  \n",
    ")"
   ]
  },
  {
   "cell_type": "code",
   "execution_count": null,
   "metadata": {
    "id": "39kMx2V7xzTs"
   },
   "outputs": [],
   "source": []
  },
  {
   "cell_type": "code",
   "execution_count": 12,
   "metadata": {
    "id": "3-HGYYYM6M4a"
   },
   "outputs": [],
   "source": [
    "first_train = first_train.drop(columns='weight')\n",
    "first_val = first_val.drop(columns='weight')"
   ]
  },
  {
   "cell_type": "code",
   "execution_count": null,
   "metadata": {
    "id": "JRaMixMYxzZ3"
   },
   "outputs": [],
   "source": [
    "train_df_weights = first_train.groupby([\"user_id\", \"item_id\"]).agg({\"item_id\": \"count\",}).rename(columns={\"item_id\": \"ui_inter\",}).reset_index()"
   ]
  },
  {
   "cell_type": "code",
   "execution_count": null,
   "metadata": {
    "id": "qUB3wey12ZJH"
   },
   "outputs": [],
   "source": [
    "total_users_interactions_count = train_df_weights[[\"user_id\", \"ui_inter\"]].groupby(\"user_id\").sum().rename(columns={\"ui_inter\": \"u_total_inter\"})"
   ]
  },
  {
   "cell_type": "code",
   "execution_count": null,
   "metadata": {
    "id": "oA4hX1DG2duo"
   },
   "outputs": [],
   "source": [
    "train_df_weights = train_df_weights.join(\n",
    "    total_users_interactions_count,\n",
    "    on=\"user_id\",\n",
    "    how=\"left\")\n",
    "\n",
    "train_df_weights[\"weight\"] = train_df_weights[\"ui_inter\"] / train_df_weights[\"u_total_inter\"]"
   ]
  },
  {
   "cell_type": "code",
   "execution_count": null,
   "metadata": {
    "id": "AB-I50oT2gee"
   },
   "outputs": [],
   "source": [
    "first_train = first_train.merge(train_df_weights, on=[\"user_id\", \"item_id\"], how=\"left\")"
   ]
  },
  {
   "cell_type": "code",
   "execution_count": null,
   "metadata": {
    "id": "Y3Wt4JwZ3RPa"
   },
   "outputs": [],
   "source": [
    "first_train[\"u_entry\"] = first_train.groupby([\"user_id\"]).cumcount() + 1\n",
    "first_train[\"ui_entry\"] = first_train.groupby([\"user_id\", \"item_id\"]).cumcount() + 1"
   ]
  },
  {
   "cell_type": "code",
   "execution_count": null,
   "metadata": {
    "id": "SF86KgZv3WOC"
   },
   "outputs": [],
   "source": [
    "first_train[\"ui_entry_inter_ratio\"] = first_train[\"ui_entry\"] / first_train[\"ui_inter\"]\n",
    "\n",
    "first_train[\"cum_weight\"] = first_train[\"weight\"] * first_train[\"ui_entry_inter_ratio\"]"
   ]
  },
  {
   "cell_type": "code",
   "execution_count": null,
   "metadata": {
    "id": "xwvBSiC-7n13"
   },
   "outputs": [],
   "source": [
    "first_train_1 = first_train.rename(\n",
    "    columns={\n",
    "        'watched': Columns.Weight,\n",
    "        'dt': Columns.Datetime,\n",
    "        'nm_id': Columns.Item,\n",
    "        'wbuser_id': Columns.User,\n",
    "    }\n",
    ")\n",
    "first_val_1 = first_val\n",
    "first_val_1['watched']=1\n",
    "first_val_1 = first_val.rename(\n",
    "    columns={\n",
    "        'watched': Columns.Weight,\n",
    "        'dt': Columns.Datetime,\n",
    "        'nm_id': Columns.Item,\n",
    "        'wbuser_id': Columns.User,\n",
    "    }\n",
    ")"
   ]
  },
  {
   "cell_type": "code",
   "execution_count": null,
   "metadata": {
    "id": "2GGVa42C8rhW"
   },
   "outputs": [],
   "source": [
    "first_train_df = Dataset.construct(first_train_1)\n",
    "first_val_df = Dataset.construct(first_val_1)"
   ]
  },
  {
   "cell_type": "code",
   "execution_count": null,
   "metadata": {
    "colab": {
     "base_uri": "https://localhost:8080/"
    },
    "id": "_c_RsDY18wiU",
    "outputId": "487bddad-9bc9-4899-8a76-dbbedc9afc88"
   },
   "outputs": [
    {
     "name": "stderr",
     "output_type": "stream",
     "text": [
      "Epoch: 100%|██████████| 15/15 [00:43<00:00,  2.90s/it]\n"
     ]
    }
   ],
   "source": [
    "model = LightFMWrapperModel(LightFM(no_components=100, loss=\"warp\", learning_rate=0.1, max_sampled=5,), num_threads=num_threads, epochs=15, verbose=1)\n",
    "model.fit(first_train_df);"
   ]
  },
  {
   "cell_type": "code",
   "execution_count": null,
   "metadata": {
    "colab": {
     "base_uri": "https://localhost:8080/"
    },
    "id": "9vIgde6t8w3D",
    "outputId": "91f8a156-f63a-4bf3-bd4b-457760488774"
   },
   "outputs": [
    {
     "name": "stdout",
     "output_type": "stream",
     "text": [
      "CPU times: user 3 µs, sys: 0 ns, total: 3 µs\n",
      "Wall time: 6.2 µs\n"
     ]
    }
   ],
   "source": [
    "%time\n",
    "recos = model.recommend(\n",
    "    users=first_val[Columns.User].unique(),\n",
    "    dataset=first_train_df,\n",
    "    k=20,\n",
    "    filter_viewed=False,\n",
    ")"
   ]
  },
  {
   "cell_type": "code",
   "execution_count": null,
   "metadata": {
    "colab": {
     "base_uri": "https://localhost:8080/"
    },
    "id": "rvtCrHhT8w5H",
    "outputId": "1b5a232a-15c4-4c98-b509-fb4189ca09c0"
   },
   "outputs": [
    {
     "data": {
      "text/plain": [
       "{'hit_rate@20': 0.5704469739033871,\n",
       " 'Recall@20': 0.31430716203847864,\n",
       " 'MRR@20': 0.30129006135304315,\n",
       " 'MAP@20': 0.1734375968001548,\n",
       " 'pop_bias@20': 1789.1518375208216,\n",
       " 'serendipity@20': 0.0017135318270556615}"
      ]
     },
     "execution_count": 29,
     "metadata": {},
     "output_type": "execute_result"
    }
   ],
   "source": [
    "metrics = {\n",
    "    \"hit_rate@20\": HitRate(k=20),\n",
    "    \"serendipity@20\": Serendipity(k=20),\n",
    "    \"Recall@20\": Recall(k=20),\n",
    "    \"MAP@20\": MAP(k=20),\n",
    "    \"MRR@20\": MRR(k=20),\n",
    "    \"pop_bias@20\": AvgRecPopularity(k=20),\n",
    "}\n",
    "\n",
    "calc_metrics(\n",
    "    metrics,\n",
    "    reco=recos,\n",
    "    interactions=first_val,  \n",
    "    prev_interactions=first_train,  \n",
    "    catalog=catalog,  \n",
    ")"
   ]
  },
  {
   "cell_type": "code",
   "execution_count": null,
   "metadata": {
    "id": "49OKzGTV-gZY"
   },
   "outputs": [],
   "source": [
    "first_train = first_train.drop(columns='weight')"
   ]
  },
  {
   "cell_type": "code",
   "execution_count": null,
   "metadata": {
    "id": "s56hy5aR9S2V"
   },
   "outputs": [],
   "source": [
    "first_train_1 = first_train.rename(\n",
    "    columns={\n",
    "        'cum_weight': Columns.Weight,\n",
    "        'dt': Columns.Datetime,\n",
    "        'nm_id': Columns.Item,\n",
    "        'wbuser_id': Columns.User,\n",
    "    }\n",
    ")"
   ]
  },
  {
   "cell_type": "code",
   "execution_count": null,
   "metadata": {
    "id": "rDS5DgJR-sVt"
   },
   "outputs": [],
   "source": [
    "first_train_df = Dataset.construct(first_train_1)\n",
    "first_val_df = Dataset.construct(first_val_1)"
   ]
  },
  {
   "cell_type": "code",
   "execution_count": null,
   "metadata": {
    "colab": {
     "base_uri": "https://localhost:8080/"
    },
    "id": "8fhihSSm-u1S",
    "outputId": "6b768b57-9fad-46e3-8dde-bebc17276b83"
   },
   "outputs": [
    {
     "name": "stderr",
     "output_type": "stream",
     "text": [
      "Epoch: 100%|██████████| 15/15 [00:46<00:00,  3.12s/it]\n"
     ]
    }
   ],
   "source": [
    "model = LightFMWrapperModel(LightFM(no_components=100, loss=\"warp\", learning_rate=0.1, max_sampled=5,), num_threads=num_threads, epochs=15, verbose=1)\n",
    "model.fit(first_train_df);"
   ]
  },
  {
   "cell_type": "code",
   "execution_count": null,
   "metadata": {
    "colab": {
     "base_uri": "https://localhost:8080/"
    },
    "id": "mGK4cMfa-yRt",
    "outputId": "16594261-40d8-42d9-c6f9-9a03f4864358"
   },
   "outputs": [
    {
     "name": "stdout",
     "output_type": "stream",
     "text": [
      "CPU times: user 4 µs, sys: 0 ns, total: 4 µs\n",
      "Wall time: 7.63 µs\n"
     ]
    }
   ],
   "source": [
    "%time\n",
    "recos = model.recommend(\n",
    "    users=first_val[Columns.User].unique(),\n",
    "    dataset=first_train_df,\n",
    "    k=20,\n",
    "    filter_viewed=False,\n",
    ")"
   ]
  },
  {
   "cell_type": "code",
   "execution_count": null,
   "metadata": {
    "colab": {
     "base_uri": "https://localhost:8080/"
    },
    "id": "IK1Ij-VC-yvm",
    "outputId": "465f7341-2d1a-40aa-f52d-66c3489365dc"
   },
   "outputs": [
    {
     "data": {
      "text/plain": [
       "{'hit_rate@20': 0.579782065519156,\n",
       " 'Recall@20': 0.3194506305861797,\n",
       " 'MRR@20': 0.30460562833530586,\n",
       " 'MAP@20': 0.17580173553095726,\n",
       " 'pop_bias@20': 1758.0339655052749,\n",
       " 'serendipity@20': 0.0017715068975873503}"
      ]
     },
     "execution_count": 41,
     "metadata": {},
     "output_type": "execute_result"
    }
   ],
   "source": [
    "calc_metrics(\n",
    "    metrics,\n",
    "    reco=recos,\n",
    "    interactions=first_val,  \n",
    "    prev_interactions=first_train,  \n",
    "    catalog=catalog,  \n",
    ")"
   ]
  },
  {
   "cell_type": "markdown",
   "metadata": {
    "id": "bd66dFQEZDh5"
   },
   "source": [
    "## Лучшим вариантом оказался кумулятивный вес взаимодействия"
   ]
  },
  {
   "cell_type": "markdown",
   "metadata": {
    "id": "IGAP64A2foUj"
   },
   "source": [
    "# 2. Оптимизация гиперпараметров моделей"
   ]
  },
  {
   "cell_type": "code",
   "execution_count": null,
   "metadata": {},
   "outputs": [],
   "source": [
    "!pip install optuna"
   ]
  },
  {
   "cell_type": "code",
   "execution_count": null,
   "metadata": {
    "id": "BRlriDeK0gDj"
   },
   "outputs": [],
   "source": [
    "!pip install rectools[all]"
   ]
  },
  {
   "cell_type": "code",
   "execution_count": null,
   "metadata": {
    "id": "6uhmp1HAVDbP"
   },
   "outputs": [],
   "source": [
    "!pip install lightfm"
   ]
  },
  {
   "cell_type": "code",
   "execution_count": null,
   "metadata": {
    "id": "qc_I775qGeHV"
   },
   "outputs": [],
   "source": [
    "import os\n",
    "import pandas as pd\n",
    "import numpy as np\n",
    "os.chdir(r\"C:\\..\\..\\..\\WBTECH\")"
   ]
  },
  {
   "cell_type": "code",
   "execution_count": null,
   "metadata": {
    "id": "K8oWBybOVI8Q"
   },
   "outputs": [],
   "source": [
    "from rectools.metrics import (\n",
    "    HitRate,\n",
    "    Serendipity,\n",
    "    calc_metrics,\n",
    "    Recall,\n",
    "    MAP,\n",
    "    MRR,\n",
    "    AvgRecPopularity\n",
    ")\n",
    "from rectools import Columns\n",
    "from rectools.dataset import Dataset"
   ]
  },
  {
   "cell_type": "code",
   "execution_count": null,
   "metadata": {
    "id": "ueT3pfc2HEFA"
   },
   "outputs": [],
   "source": [
    "first_train = pd.read_parquet('first_train_2.parquet')\n",
    "first_val = pd.read_parquet('first_val_2.parquet')"
   ]
  },
  {
   "cell_type": "code",
   "execution_count": null,
   "metadata": {
    "id": "xKMvyuofg0i3"
   },
   "outputs": [],
   "source": [
    "first_train = first_train.rename(\n",
    "    columns={\n",
    "        'dt': Columns.Datetime,\n",
    "        'nm_id': 'item_id',\n",
    "        'wbuser_id': 'user_id',\n",
    "    }\n",
    ")\n",
    "\n",
    "first_val['weight'] = 1\n",
    "first_val = first_val.rename(\n",
    "    columns={\n",
    "        'dt': Columns.Datetime,\n",
    "        'nm_id': 'item_id',\n",
    "        'wbuser_id': 'user_id',\n",
    "    }\n",
    ")"
   ]
  },
  {
   "cell_type": "code",
   "execution_count": null,
   "metadata": {
    "id": "yZ02TaPvIHrS"
   },
   "outputs": [],
   "source": [
    "train_df_weights = first_train.groupby([\"user_id\", \"item_id\"]).agg({\"item_id\": \"count\",}).rename(columns={\"item_id\": \"ui_inter\",}).reset_index()"
   ]
  },
  {
   "cell_type": "code",
   "execution_count": null,
   "metadata": {
    "id": "jFU5NNq_IHrS"
   },
   "outputs": [],
   "source": [
    "total_users_interactions_count = train_df_weights[[\"user_id\", \"ui_inter\"]].groupby(\"user_id\").sum().rename(columns={\"ui_inter\": \"u_total_inter\"})"
   ]
  },
  {
   "cell_type": "code",
   "execution_count": null,
   "metadata": {
    "id": "jff-mosaIHrS"
   },
   "outputs": [],
   "source": [
    "train_df_weights = train_df_weights.join(\n",
    "    total_users_interactions_count,\n",
    "    on=\"user_id\",\n",
    "    how=\"left\")\n",
    "\n",
    "train_df_weights[\"weight\"] = train_df_weights[\"ui_inter\"] / train_df_weights[\"u_total_inter\"]"
   ]
  },
  {
   "cell_type": "code",
   "execution_count": null,
   "metadata": {
    "id": "WASI77a3IHrS"
   },
   "outputs": [],
   "source": [
    "first_train = first_train.merge(train_df_weights, on=[\"user_id\", \"item_id\"], how=\"left\")"
   ]
  },
  {
   "cell_type": "code",
   "execution_count": null,
   "metadata": {
    "id": "sBfX6kArIHrS"
   },
   "outputs": [],
   "source": [
    "first_train[\"u_entry\"] = first_train.groupby([\"user_id\"]).cumcount() + 1\n",
    "first_train[\"ui_entry\"] = first_train.groupby([\"user_id\", \"item_id\"]).cumcount() + 1"
   ]
  },
  {
   "cell_type": "code",
   "execution_count": null,
   "metadata": {
    "id": "j6x-xg5-IHrS"
   },
   "outputs": [],
   "source": [
    "first_train[\"ui_entry_inter_ratio\"] = first_train[\"ui_entry\"] / first_train[\"ui_inter\"]\n",
    "\n",
    "first_train[\"cum_weight\"] = first_train[\"weight\"] * first_train[\"ui_entry_inter_ratio\"]"
   ]
  },
  {
   "cell_type": "code",
   "execution_count": null,
   "metadata": {
    "id": "BaC08sHAhJTi"
   },
   "outputs": [],
   "source": [
    "first_train = first_train.drop(columns='weight')\n",
    "first_train = first_train.rename(\n",
    "    columns={\n",
    "        'cum_weight': 'weight',\n",
    "    }\n",
    ")"
   ]
  },
  {
   "cell_type": "code",
   "execution_count": null,
   "metadata": {
    "id": "FOV_LjInUwAS"
   },
   "outputs": [],
   "source": [
    "first_train_df = Dataset.construct(first_train)\n",
    "first_val_df = Dataset.construct(first_val)"
   ]
  },
  {
   "cell_type": "code",
   "execution_count": null,
   "metadata": {},
   "outputs": [],
   "source": [
    "from rectools.models import PopularModel\n",
    "\n",
    "model = PopularModel()\n",
    "model.fit(first_train_df)\n",
    "recos = model.recommend(\n",
    "    users=first_val[Columns.User].unique(),\n",
    "    dataset=first_train_df,\n",
    "    k=10,\n",
    "    filter_viewed=False,\n",
    ")"
   ]
  },
  {
   "cell_type": "code",
   "execution_count": null,
   "metadata": {
    "id": "jseLL7HsXrpj"
   },
   "outputs": [],
   "source": [
    "catalog = first_train[Columns.Item].unique()"
   ]
  },
  {
   "cell_type": "code",
   "execution_count": null,
   "metadata": {
    "id": "CSHCRQ-iXuiz"
   },
   "outputs": [],
   "source": [
    "metrics = {\n",
    "    \"hit_rate@10\": HitRate(k=10),\n",
    "    \"serendipity@10\": Serendipity(k=10),\n",
    "    \"Recall@10\": Recall(k=10),\n",
    "    \"MAP@10\": MAP(k=10),\n",
    "    \"MRR@10\": MRR(k=10),\n",
    "    \"pop_bias@10\": AvgRecPopularity(k=10),\n",
    "}\n",
    "\n",
    "popular_metrics = calc_metrics(\n",
    "    metrics,\n",
    "    reco=recos,\n",
    "    interactions=first_val,\n",
    "    prev_interactions=first_train,\n",
    "    catalog=catalog,\n",
    ")"
   ]
  },
  {
   "cell_type": "code",
   "execution_count": null,
   "metadata": {
    "id": "SSOH5DdJZl-I"
   },
   "outputs": [],
   "source": [
    "models_results_df_val = pd.DataFrame(index=list(metrics.keys()))"
   ]
  },
  {
   "cell_type": "code",
   "execution_count": null,
   "metadata": {
    "id": "gqd9Q5DFY5Fz"
   },
   "outputs": [],
   "source": [
    "models_results_df_val[\"Popular\"] = [popular_metrics[metric] for metric in models_results_df_val.index]"
   ]
  },
  {
   "cell_type": "markdown",
   "metadata": {
    "id": "cW5BdZFlcL4Y"
   },
   "source": [
    "## LightFM"
   ]
  },
  {
   "cell_type": "code",
   "execution_count": null,
   "metadata": {
    "id": "0dcgQFkHcMDl"
   },
   "outputs": [],
   "source": [
    "from lightfm import LightFM\n",
    "from rectools.models import LightFMWrapperModel"
   ]
  },
  {
   "cell_type": "code",
   "execution_count": null,
   "metadata": {
    "id": "2EpRKFJXck5B"
   },
   "outputs": [],
   "source": [
    "import optuna\n",
    "from tqdm.auto import tqdm"
   ]
  },
  {
   "cell_type": "code",
   "execution_count": null,
   "metadata": {},
   "outputs": [],
   "source": [
    "num_threads = os.cpu_count()"
   ]
  },
  {
   "cell_type": "code",
   "execution_count": null,
   "metadata": {
    "id": "MT12KF3IcQG4"
   },
   "outputs": [],
   "source": [
    "LIGHTFM_N_TRIALS = 50\n",
    "RANDOM_STATE = 0"
   ]
  },
  {
   "cell_type": "code",
   "execution_count": null,
   "metadata": {
    "id": "F-ZLrlBzdHvO"
   },
   "outputs": [],
   "source": [
    "def train_and_calculate_score(model, metrics, head_metric=\"MAP@10\"):\n",
    "    model.fit(first_train_df)\n",
    "    recos = model.recommend(first_val[Columns.User].unique(), first_train_df, k=10, filter_viewed=False)\n",
    "    metric_values = calc_metrics(\n",
    "            metrics,\n",
    "            reco=recos,\n",
    "            interactions=first_val,\n",
    "            prev_interactions=first_train,\n",
    "            catalog=catalog,\n",
    "    )\n",
    "\n",
    "    return metric_values[head_metric]"
   ]
  },
  {
   "cell_type": "code",
   "execution_count": null,
   "metadata": {
    "id": "ogcPJYu5cXxP"
   },
   "outputs": [],
   "source": [
    "def lightfm_objective(trial: optuna.Trial):\n",
    "    global metrics\n",
    "\n",
    "    loss = trial.suggest_categorical(\"loss\", ['bpr', 'warp'])\n",
    "    no_components = trial.suggest_categorical(\"no_components\", [150, 200, 250, 300, 350, 400, 450, 500, 550, 600])\n",
    "    learning_rate = trial.suggest_categorical(\"learning_rate\", [1e-2, 5e-2, 1e-1])\n",
    "    epochs = trial.suggest_categorical(\"epochs\", [6, 9, 12, 15, 18, 21])\n",
    "    learning_schedule = trial.suggest_categorical(\"learning_schedule\", ['adagrad', 'adadelta'])\n",
    "    max_sampled = trial.suggest_categorical(\"max_sampled\", [5, 10, 20, 40])\n",
    "\n",
    "    lightfm_model = LightFMWrapperModel(\n",
    "        model=LightFM(\n",
    "            no_components=no_components,\n",
    "            loss=loss,\n",
    "            learning_rate=learning_rate,\n",
    "            learning_schedule=learning_schedule,\n",
    "            max_sampled=max_sampled,\n",
    "            random_state=RANDOM_STATE,\n",
    "        ),\n",
    "        num_threads=num_threads,\n",
    "        epochs=epochs,\n",
    "        verbose=False\n",
    "    )\n",
    "\n",
    "    score = train_and_calculate_score(lightfm_model, metrics)\n",
    "    return score"
   ]
  },
  {
   "cell_type": "code",
   "execution_count": null,
   "metadata": {
    "id": "lWzt-L-20gDt"
   },
   "outputs": [],
   "source": [
    "lightfm_study = optuna.create_study(direction=\"maximize\", study_name=\"LightFM\", sampler=optuna.samplers.TPESampler(), pruner=optuna.pruners.NopPruner())\n",
    "lightfm_study.optimize(lightfm_objective, n_trials=LIGHTFM_N_TRIALS)"
   ]
  },
  {
   "cell_type": "code",
   "execution_count": null,
   "metadata": {
    "colab": {
     "base_uri": "https://localhost:8080/"
    },
    "id": "q8XHOKsz8Dnx",
    "outputId": "5a766a78-ae9b-4a46-9b04-60486677d89e"
   },
   "outputs": [
    {
     "name": "stdout",
     "output_type": "stream",
     "text": [
      "Параметры лучшей модели:  {'loss': 'warp', 'no_components': 500, 'learning_rate': 0.05, 'epochs': 21, 'learning_schedule': 'adadelta', 'max_sampled': 10}\n",
      "MAP@10 лучшей модели:  0.21365722669743137\n"
     ]
    }
   ],
   "source": [
    "print(\"Параметры лучшей модели: \", lightfm_study.best_params)\n",
    "print(\"MAP@10 лучшей модели: \", lightfm_study.best_value)"
   ]
  },
  {
   "cell_type": "code",
   "execution_count": null,
   "metadata": {
    "colab": {
     "base_uri": "https://localhost:8080/"
    },
    "id": "1DJi3Csg8FTb",
    "outputId": "b45399aa-38d7-4748-f48e-344cb9ef2955"
   },
   "outputs": [
    {
     "data": {
      "text/plain": [
       "<rectools.models.lightfm.LightFMWrapperModel at 0x7fad150cd930>"
      ]
     },
     "execution_count": 29,
     "metadata": {},
     "output_type": "execute_result"
    }
   ],
   "source": [
    "best_lightfm_params = lightfm_study.best_params.copy()\n",
    "epochs = best_lightfm_params[\"epochs\"]\n",
    "del best_lightfm_params[\"epochs\"]\n",
    "best_lightfm_model = LightFMWrapperModel(\n",
    "    model=LightFM(**best_lightfm_params),\n",
    "    num_threads=num_threads,\n",
    "    epochs=epochs,\n",
    "    verbose=False\n",
    ")\n",
    "best_lightfm_model.fit(first_train_df)"
   ]
  },
  {
   "cell_type": "code",
   "execution_count": null,
   "metadata": {
    "id": "Yn-VOSzY8Ujo"
   },
   "outputs": [],
   "source": [
    "lightfm_reco_df = best_lightfm_model.recommend(first_val[Columns.User].unique(), first_train_df, k=10, filter_viewed=False)"
   ]
  },
  {
   "cell_type": "code",
   "execution_count": null,
   "metadata": {
    "id": "FSYFXYdF8m3k"
   },
   "outputs": [],
   "source": [
    "lightfm_reco_df.to_parquet('lfm_wof_val.parquet')"
   ]
  },
  {
   "cell_type": "code",
   "execution_count": null,
   "metadata": {
    "id": "Zt_wS4St9DVX"
   },
   "outputs": [],
   "source": [
    "lightfm_metrics = calc_metrics(\n",
    "    metrics,\n",
    "    reco=lightfm_reco_df,\n",
    "    interactions=first_val,\n",
    "    prev_interactions=first_train,\n",
    "    catalog=catalog,\n",
    ")\n",
    "\n",
    "models_results_df_val[\"LightFM\"] = [lightfm_metrics[metric] for metric in models_results_df_val.index]"
   ]
  },
  {
   "cell_type": "code",
   "execution_count": null,
   "metadata": {
    "id": "0Xv8L7JG9GP7"
   },
   "outputs": [],
   "source": [
    "models_results_df_val.to_parquet('models_results_df_val.parquet')"
   ]
  },
  {
   "cell_type": "markdown",
   "metadata": {},
   "source": [
    "Стоит отметить, что и на 30 эпохах модель явно не обучилась. Вероятно это так же причина того, что при добавлении признаков результаты не улучшаются, а чаще ухудшаются. При добавлении признаков модель показывает результаты намного лучше, если увеличивать параметр max_sampled, что логично. Но так как модель обучалась на моем компьютере через Docker, очень быстро были достигнуты пределы, после которых модель обучалась слишком долго. Поэтому было решено использовать эту модель без признаков"
   ]
  },
  {
   "cell_type": "markdown",
   "metadata": {
    "id": "CmN36SKBqaIk"
   },
   "source": [
    "## KNN"
   ]
  },
  {
   "cell_type": "code",
   "execution_count": null,
   "metadata": {
    "id": "Hbo3w6ne932y"
   },
   "outputs": [],
   "source": [
    "from rectools.models import ImplicitItemKNNWrapperModel\n",
    "from implicit.nearest_neighbours import TFIDFRecommender, BM25Recommender, CosineRecommender"
   ]
  },
  {
   "cell_type": "code",
   "execution_count": null,
   "metadata": {
    "id": "fJRgAUNv9uJp"
   },
   "outputs": [],
   "source": [
    "ITEMKNN_K_RECOMMENDATIONS = 10\n",
    "ITEMKNN_N_TRIALS = 10"
   ]
  },
  {
   "cell_type": "code",
   "execution_count": null,
   "metadata": {
    "id": "z_kbgEOhku43"
   },
   "outputs": [],
   "source": [
    "filtered_first_val = first_val[first_val['user_id'].isin(first_train['user_id'])]\n",
    "first_val_df = Dataset.construct(filtered_first_val)"
   ]
  },
  {
   "cell_type": "code",
   "execution_count": null,
   "metadata": {
    "id": "P6GUIXvVEDxU"
   },
   "outputs": [],
   "source": [
    "def train_and_calculate_score(model, metrics, head_metric=\"MAP@10\"):\n",
    "    model.fit(first_train_df)\n",
    "    recos = model.recommend(filtered_first_val[Columns.User].unique(), first_train_df, k=10, filter_viewed=False)\n",
    "    metric_values = calc_metrics(\n",
    "            metrics,\n",
    "            reco=recos,\n",
    "            interactions=filtered_first_val,\n",
    "            prev_interactions=first_train,\n",
    "            catalog=catalog,\n",
    "    )\n",
    "\n",
    "    return metric_values[head_metric]"
   ]
  },
  {
   "cell_type": "code",
   "execution_count": null,
   "metadata": {
    "id": "nz9oMHz26zHz"
   },
   "outputs": [],
   "source": [
    "def itemknn_objective(trial: optuna.Trial):\n",
    "    global metrics\n",
    "\n",
    "    recommender_type = trial.suggest_categorical(\"type\", ['cosine', 'bm25', 'tfidf'])\n",
    "    if recommender_type == 'cosine':\n",
    "        recommender = CosineRecommender(\n",
    "            K=ITEMKNN_K_RECOMMENDATIONS,\n",
    "            num_threads=num_threads,\n",
    "        )\n",
    "    elif recommender_type == 'bm25':\n",
    "        k1 = trial.suggest_categorical(\"k1\", [0.8, 1.2, 1.5])\n",
    "        b = trial.suggest_categorical(\"b\", [0.3, 0.7, 1])\n",
    "        recommender = BM25Recommender(\n",
    "            K=ITEMKNN_K_RECOMMENDATIONS,\n",
    "            num_threads=num_threads,\n",
    "            K1=k1,\n",
    "            B=b,\n",
    "        )\n",
    "    else:\n",
    "        recommender = TFIDFRecommender(\n",
    "            K=ITEMKNN_K_RECOMMENDATIONS,\n",
    "            num_threads=num_threads,\n",
    "        )\n",
    "\n",
    "    itemknn_model = ImplicitItemKNNWrapperModel(\n",
    "        recommender,\n",
    "        verbose=False,\n",
    "    )\n",
    "    score = train_and_calculate_score(itemknn_model, metrics)\n",
    "    return score"
   ]
  },
  {
   "cell_type": "code",
   "execution_count": null,
   "metadata": {},
   "outputs": [],
   "source": [
    "itemknn_study = optuna.create_study(direction=\"maximize\", study_name=\"ItemKNN\", sampler=optuna.samplers.TPESampler(), pruner=optuna.pruners.NopPruner())\n",
    "itemknn_study.optimize(itemknn_objective, n_trials=ITEMKNN_N_TRIALS)"
   ]
  },
  {
   "cell_type": "code",
   "execution_count": null,
   "metadata": {
    "colab": {
     "base_uri": "https://localhost:8080/"
    },
    "id": "Dt7sUR0o74H2",
    "outputId": "a0a159d4-06aa-4b13-8841-cf26e54ba741"
   },
   "outputs": [
    {
     "name": "stdout",
     "output_type": "stream",
     "text": [
      "Параметры лучшей модели:  {'type': 'bm25', 'k1': 0.8, 'b': 0.3}\n",
      "MAP@10 лучшей модели:  0.25403057016778824\n"
     ]
    }
   ],
   "source": [
    "print(\"Параметры лучшей модели: \", itemknn_study.best_params)\n",
    "print(\"MAP@10 лучшей модели: \", itemknn_study.best_value)"
   ]
  },
  {
   "cell_type": "code",
   "execution_count": null,
   "metadata": {
    "colab": {
     "base_uri": "https://localhost:8080/"
    },
    "id": "Tzz6loh674Kj",
    "outputId": "0fd7a8b4-f0ca-4fea-f128-d0fc12a1163a"
   },
   "outputs": [
    {
     "data": {
      "text/plain": [
       "<rectools.models.implicit_knn.ImplicitItemKNNWrapperModel at 0x7e8d961c8a30>"
      ]
     },
     "execution_count": 37,
     "metadata": {},
     "output_type": "execute_result"
    }
   ],
   "source": [
    "best_itemknn_model = ImplicitItemKNNWrapperModel(\n",
    "    model = BM25Recommender(\n",
    "        K=ITEMKNN_K_RECOMMENDATIONS,\n",
    "        num_threads=num_threads,\n",
    "        K1=0.8,\n",
    "        B=0.3\n",
    "    ),\n",
    "    verbose=False\n",
    ")\n",
    "best_itemknn_model.fit(first_train_df)"
   ]
  },
  {
   "cell_type": "code",
   "execution_count": null,
   "metadata": {
    "id": "t_lH6nvvExzU"
   },
   "outputs": [],
   "source": [
    "itemknn_reco_df = best_itemknn_model.recommend(filtered_first_val[Columns.User].unique(), first_train_df, k=ITEMKNN_K_RECOMMENDATIONS, filter_viewed=False)"
   ]
  },
  {
   "cell_type": "code",
   "execution_count": null,
   "metadata": {
    "id": "SFSGHXBZGt7b"
   },
   "outputs": [],
   "source": [
    "models_results_df_val = pd.read_parquet('models_results_df_val.parquet')"
   ]
  },
  {
   "cell_type": "code",
   "execution_count": null,
   "metadata": {
    "id": "79isueO774Np"
   },
   "outputs": [],
   "source": [
    "itemknn_metrics = calc_metrics(\n",
    "    metrics=metrics,\n",
    "    reco=itemknn_reco_df,\n",
    "    interactions=first_val,\n",
    "    prev_interactions=first_train,\n",
    "    catalog=catalog\n",
    ")\n",
    "models_results_df_val[\"ItemKNN_BM25\"] = [itemknn_metrics[metric] for metric in models_results_df_val.index]"
   ]
  },
  {
   "cell_type": "code",
   "execution_count": null,
   "metadata": {
    "id": "vtmV7AXI74Qg"
   },
   "outputs": [],
   "source": []
  },
  {
   "cell_type": "code",
   "execution_count": null,
   "metadata": {
    "colab": {
     "base_uri": "https://localhost:8080/"
    },
    "id": "9l9v-6oHI3eq",
    "outputId": "72ed3768-6b7c-442f-f2cf-ca7b1a512c4b"
   },
   "outputs": [
    {
     "data": {
      "text/plain": [
       "<rectools.models.implicit_knn.ImplicitItemKNNWrapperModel at 0x7e8d96151750>"
      ]
     },
     "execution_count": 57,
     "metadata": {},
     "output_type": "execute_result"
    }
   ],
   "source": [
    "second_itemknn_model = ImplicitItemKNNWrapperModel(\n",
    "    model = TFIDFRecommender(\n",
    "            K=ITEMKNN_K_RECOMMENDATIONS,\n",
    "            num_threads=num_threads,\n",
    "        ),\n",
    "    verbose=False\n",
    ")\n",
    "second_itemknn_model.fit(first_train_df)"
   ]
  },
  {
   "cell_type": "code",
   "execution_count": null,
   "metadata": {
    "id": "ClTvTG8k6zLO"
   },
   "outputs": [],
   "source": [
    "itemknn_2_reco_df = second_itemknn_model.recommend(filtered_first_val[Columns.User].unique(), first_train_df, k=ITEMKNN_K_RECOMMENDATIONS, filter_viewed=False)"
   ]
  },
  {
   "cell_type": "code",
   "execution_count": null,
   "metadata": {
    "id": "cTQI8fDIJOO6"
   },
   "outputs": [],
   "source": [
    "second_itemknn_metrics = calc_metrics(\n",
    "    metrics=metrics,\n",
    "    reco=itemknn_2_reco_df,\n",
    "    interactions=first_val,\n",
    "    prev_interactions=first_train,\n",
    "    catalog=catalog\n",
    ")\n",
    "models_results_df_val[\"ItemKNN_TF-IDF\"] = [second_itemknn_metrics[metric] for metric in models_results_df_val.index]"
   ]
  },
  {
   "cell_type": "code",
   "execution_count": null,
   "metadata": {
    "id": "lKqqJHQy6zRz"
   },
   "outputs": [],
   "source": [
    "itemknn_reco_df.to_parquet('bm25_val.parquet')\n",
    "itemknn_2_reco_df.to_parquet('tfidf_val.parquet')"
   ]
  },
  {
   "cell_type": "markdown",
   "metadata": {},
   "source": [
    "Самые быстрые в обучении модели, которые имеют наибольшее значение MAP."
   ]
  },
  {
   "cell_type": "markdown",
   "metadata": {
    "id": "CflaVIzxarN0"
   },
   "source": [
    "## EASE"
   ]
  },
  {
   "cell_type": "code",
   "execution_count": null,
   "metadata": {
    "id": "83_7MIduJmbh"
   },
   "outputs": [],
   "source": [
    "from rectools.models import EASEModel"
   ]
  },
  {
   "cell_type": "code",
   "execution_count": null,
   "metadata": {
    "id": "H00HkFDtUo2T"
   },
   "outputs": [],
   "source": [
    "regularizations = [256, 512, 1024, 2048, 4096]"
   ]
  },
  {
   "cell_type": "code",
   "execution_count": null,
   "metadata": {
    "id": "KIjRrwRVaILR"
   },
   "outputs": [],
   "source": [
    "from tqdm import tqdm"
   ]
  },
  {
   "cell_type": "code",
   "execution_count": null,
   "metadata": {
    "colab": {
     "base_uri": "https://localhost:8080/"
    },
    "id": "PcPvfVWTUvlK",
    "outputId": "daa712ec-e2ea-43a4-f932-7c9e48a87ee4"
   },
   "outputs": [
    {
     "name": "stderr",
     "output_type": "stream",
     "text": [
      "100%|██████████| 5/5 [59:07<00:00, 709.59s/it]\n"
     ]
    }
   ],
   "source": [
    "results = []\n",
    "\n",
    "for regularization in tqdm(regularizations):\n",
    "            model_name = f\"EASE_reg_{regularization}\"\n",
    "            ease_model = EASEModel(\n",
    "                regularization = regularization,\n",
    "            num_threads=num_threads,\n",
    "            )\n",
    "            ease_model.fit(first_train_df)\n",
    "            recos = ease_model.recommend(\n",
    "                users=filtered_first_val[Columns.User].unique(),\n",
    "                dataset=first_train_df,\n",
    "                k=10,\n",
    "                filter_viewed=False,\n",
    "            )\n",
    "            metric_values = calc_metrics(metrics, recos, first_val, first_train, catalog)\n",
    "            metric_values[\"ease_model\"] = model_name\n",
    "            results.append(metric_values)"
   ]
  },
  {
   "cell_type": "code",
   "execution_count": null,
   "metadata": {
    "id": "7gUqve1LVled"
   },
   "outputs": [],
   "source": [
    "pure_df = pd.DataFrame(results).set_index(\"ease_model\").sort_values(by=[\"MAP@10\"], ascending=False)"
   ]
  },
  {
   "cell_type": "code",
   "execution_count": null,
   "metadata": {
    "colab": {
     "base_uri": "https://localhost:8080/",
     "height": 237
    },
    "id": "cHE7gN0AYYEL",
    "outputId": "8371ef8c-e337-4ffd-a084-67089456ddce"
   },
   "outputs": [
    {
     "data": {
      "application/vnd.google.colaboratory.intrinsic+json": {
       "summary": "{\n  \"name\": \"pure_df\",\n  \"rows\": 5,\n  \"fields\": [\n    {\n      \"column\": \"ease_model\",\n      \"properties\": {\n        \"dtype\": \"string\",\n        \"num_unique_values\": 5,\n        \"samples\": [\n          \"EASE_reg_4096\",\n          \"EASE_reg_256\",\n          \"EASE_reg_1024\"\n        ],\n        \"semantic_type\": \"\",\n        \"description\": \"\"\n      }\n    },\n    {\n      \"column\": \"hit_rate@10\",\n      \"properties\": {\n        \"dtype\": \"number\",\n        \"std\": 0.006108575589043961,\n        \"min\": 0.3749305941143809,\n        \"max\": 0.3903387007218212,\n        \"num_unique_values\": 5,\n        \"samples\": [\n          0.3903387007218212,\n          0.3749305941143809,\n          0.3855149916712937\n        ],\n        \"semantic_type\": \"\",\n        \"description\": \"\"\n      }\n    },\n    {\n      \"column\": \"Recall@10\",\n      \"properties\": {\n        \"dtype\": \"number\",\n        \"std\": 0.0031039073785405283,\n        \"min\": 0.17998681288173238,\n        \"max\": 0.1876388117712382,\n        \"num_unique_values\": 5,\n        \"samples\": [\n          0.1876388117712382,\n          0.17998681288173238,\n          0.18588631315935591\n        ],\n        \"semantic_type\": \"\",\n        \"description\": \"\"\n      }\n    },\n    {\n      \"column\": \"MRR@10\",\n      \"properties\": {\n        \"dtype\": \"number\",\n        \"std\": 0.00201651733383246,\n        \"min\": 0.21934281439764503,\n        \"max\": 0.2241695392991548,\n        \"num_unique_values\": 5,\n        \"samples\": [\n          0.22405508844292854,\n          0.21934281439764503,\n          0.2234210711862017\n        ],\n        \"semantic_type\": \"\",\n        \"description\": \"\"\n      }\n    },\n    {\n      \"column\": \"MAP@10\",\n      \"properties\": {\n        \"dtype\": \"number\",\n        \"std\": 0.0010408102072828346,\n        \"min\": 0.10607056030930788,\n        \"max\": 0.10861838633519295,\n        \"num_unique_values\": 5,\n        \"samples\": [\n          0.10848735174131655,\n          0.10607056030930788,\n          0.10817104543441473\n        ],\n        \"semantic_type\": \"\",\n        \"description\": \"\"\n      }\n    },\n    {\n      \"column\": \"pop_bias@10\",\n      \"properties\": {\n        \"dtype\": \"number\",\n        \"std\": 261.8954813216575,\n        \"min\": 686.3329978793136,\n        \"max\": 1337.1835280508963,\n        \"num_unique_values\": 5,\n        \"samples\": [\n          1337.1835280508963,\n          686.3329978793136,\n          1026.210402930403\n        ],\n        \"semantic_type\": \"\",\n        \"description\": \"\"\n      }\n    },\n    {\n      \"column\": \"serendipity@10\",\n      \"properties\": {\n        \"dtype\": \"number\",\n        \"std\": 8.507405929292999e-05,\n        \"min\": 0.0022776174112243996,\n        \"max\": 0.0024877615361664136,\n        \"num_unique_values\": 5,\n        \"samples\": [\n          0.0022776174112243996,\n          0.0024877615361664136,\n          0.0023643614347372815\n        ],\n        \"semantic_type\": \"\",\n        \"description\": \"\"\n      }\n    }\n  ]\n}",
       "type": "dataframe",
       "variable_name": "pure_df"
      },
      "text/html": [
       "\n",
       "  <div id=\"df-ef37bde7-ed1e-42b6-af8a-a489dec19db4\" class=\"colab-df-container\">\n",
       "    <div>\n",
       "<style scoped>\n",
       "    .dataframe tbody tr th:only-of-type {\n",
       "        vertical-align: middle;\n",
       "    }\n",
       "\n",
       "    .dataframe tbody tr th {\n",
       "        vertical-align: top;\n",
       "    }\n",
       "\n",
       "    .dataframe thead th {\n",
       "        text-align: right;\n",
       "    }\n",
       "</style>\n",
       "<table border=\"1\" class=\"dataframe\">\n",
       "  <thead>\n",
       "    <tr style=\"text-align: right;\">\n",
       "      <th></th>\n",
       "      <th>hit_rate@10</th>\n",
       "      <th>Recall@10</th>\n",
       "      <th>MRR@10</th>\n",
       "      <th>MAP@10</th>\n",
       "      <th>pop_bias@10</th>\n",
       "      <th>serendipity@10</th>\n",
       "    </tr>\n",
       "    <tr>\n",
       "      <th>ease_model</th>\n",
       "      <th></th>\n",
       "      <th></th>\n",
       "      <th></th>\n",
       "      <th></th>\n",
       "      <th></th>\n",
       "      <th></th>\n",
       "    </tr>\n",
       "  </thead>\n",
       "  <tbody>\n",
       "    <tr>\n",
       "      <th>EASE_reg_2048</th>\n",
       "      <td>0.388187</td>\n",
       "      <td>0.186988</td>\n",
       "      <td>0.224170</td>\n",
       "      <td>0.108618</td>\n",
       "      <td>1198.877205</td>\n",
       "      <td>0.002314</td>\n",
       "    </tr>\n",
       "    <tr>\n",
       "      <th>EASE_reg_4096</th>\n",
       "      <td>0.390339</td>\n",
       "      <td>0.187639</td>\n",
       "      <td>0.224055</td>\n",
       "      <td>0.108487</td>\n",
       "      <td>1337.183528</td>\n",
       "      <td>0.002278</td>\n",
       "    </tr>\n",
       "    <tr>\n",
       "      <th>EASE_reg_1024</th>\n",
       "      <td>0.385515</td>\n",
       "      <td>0.185886</td>\n",
       "      <td>0.223421</td>\n",
       "      <td>0.108171</td>\n",
       "      <td>1026.210403</td>\n",
       "      <td>0.002364</td>\n",
       "    </tr>\n",
       "    <tr>\n",
       "      <th>EASE_reg_512</th>\n",
       "      <td>0.381351</td>\n",
       "      <td>0.183639</td>\n",
       "      <td>0.221966</td>\n",
       "      <td>0.107546</td>\n",
       "      <td>845.676067</td>\n",
       "      <td>0.002429</td>\n",
       "    </tr>\n",
       "    <tr>\n",
       "      <th>EASE_reg_256</th>\n",
       "      <td>0.374931</td>\n",
       "      <td>0.179987</td>\n",
       "      <td>0.219343</td>\n",
       "      <td>0.106071</td>\n",
       "      <td>686.332998</td>\n",
       "      <td>0.002488</td>\n",
       "    </tr>\n",
       "  </tbody>\n",
       "</table>\n",
       "</div>\n",
       "    <div class=\"colab-df-buttons\">\n",
       "\n",
       "  <div class=\"colab-df-container\">\n",
       "    <button class=\"colab-df-convert\" onclick=\"convertToInteractive('df-ef37bde7-ed1e-42b6-af8a-a489dec19db4')\"\n",
       "            title=\"Convert this dataframe to an interactive table.\"\n",
       "            style=\"display:none;\">\n",
       "\n",
       "  <svg xmlns=\"http://www.w3.org/2000/svg\" height=\"24px\" viewBox=\"0 -960 960 960\">\n",
       "    <path d=\"M120-120v-720h720v720H120Zm60-500h600v-160H180v160Zm220 220h160v-160H400v160Zm0 220h160v-160H400v160ZM180-400h160v-160H180v160Zm440 0h160v-160H620v160ZM180-180h160v-160H180v160Zm440 0h160v-160H620v160Z\"/>\n",
       "  </svg>\n",
       "    </button>\n",
       "\n",
       "  <style>\n",
       "    .colab-df-container {\n",
       "      display:flex;\n",
       "      gap: 12px;\n",
       "    }\n",
       "\n",
       "    .colab-df-convert {\n",
       "      background-color: #E8F0FE;\n",
       "      border: none;\n",
       "      border-radius: 50%;\n",
       "      cursor: pointer;\n",
       "      display: none;\n",
       "      fill: #1967D2;\n",
       "      height: 32px;\n",
       "      padding: 0 0 0 0;\n",
       "      width: 32px;\n",
       "    }\n",
       "\n",
       "    .colab-df-convert:hover {\n",
       "      background-color: #E2EBFA;\n",
       "      box-shadow: 0px 1px 2px rgba(60, 64, 67, 0.3), 0px 1px 3px 1px rgba(60, 64, 67, 0.15);\n",
       "      fill: #174EA6;\n",
       "    }\n",
       "\n",
       "    .colab-df-buttons div {\n",
       "      margin-bottom: 4px;\n",
       "    }\n",
       "\n",
       "    [theme=dark] .colab-df-convert {\n",
       "      background-color: #3B4455;\n",
       "      fill: #D2E3FC;\n",
       "    }\n",
       "\n",
       "    [theme=dark] .colab-df-convert:hover {\n",
       "      background-color: #434B5C;\n",
       "      box-shadow: 0px 1px 3px 1px rgba(0, 0, 0, 0.15);\n",
       "      filter: drop-shadow(0px 1px 2px rgba(0, 0, 0, 0.3));\n",
       "      fill: #FFFFFF;\n",
       "    }\n",
       "  </style>\n",
       "\n",
       "    <script>\n",
       "      const buttonEl =\n",
       "        document.querySelector('#df-ef37bde7-ed1e-42b6-af8a-a489dec19db4 button.colab-df-convert');\n",
       "      buttonEl.style.display =\n",
       "        google.colab.kernel.accessAllowed ? 'block' : 'none';\n",
       "\n",
       "      async function convertToInteractive(key) {\n",
       "        const element = document.querySelector('#df-ef37bde7-ed1e-42b6-af8a-a489dec19db4');\n",
       "        const dataTable =\n",
       "          await google.colab.kernel.invokeFunction('convertToInteractive',\n",
       "                                                    [key], {});\n",
       "        if (!dataTable) return;\n",
       "\n",
       "        const docLinkHtml = 'Like what you see? Visit the ' +\n",
       "          '<a target=\"_blank\" href=https://colab.research.google.com/notebooks/data_table.ipynb>data table notebook</a>'\n",
       "          + ' to learn more about interactive tables.';\n",
       "        element.innerHTML = '';\n",
       "        dataTable['output_type'] = 'display_data';\n",
       "        await google.colab.output.renderOutput(dataTable, element);\n",
       "        const docLink = document.createElement('div');\n",
       "        docLink.innerHTML = docLinkHtml;\n",
       "        element.appendChild(docLink);\n",
       "      }\n",
       "    </script>\n",
       "  </div>\n",
       "\n",
       "\n",
       "<div id=\"df-4980761d-909e-4891-88d4-a52b01188df0\">\n",
       "  <button class=\"colab-df-quickchart\" onclick=\"quickchart('df-4980761d-909e-4891-88d4-a52b01188df0')\"\n",
       "            title=\"Suggest charts\"\n",
       "            style=\"display:none;\">\n",
       "\n",
       "<svg xmlns=\"http://www.w3.org/2000/svg\" height=\"24px\"viewBox=\"0 0 24 24\"\n",
       "     width=\"24px\">\n",
       "    <g>\n",
       "        <path d=\"M19 3H5c-1.1 0-2 .9-2 2v14c0 1.1.9 2 2 2h14c1.1 0 2-.9 2-2V5c0-1.1-.9-2-2-2zM9 17H7v-7h2v7zm4 0h-2V7h2v10zm4 0h-2v-4h2v4z\"/>\n",
       "    </g>\n",
       "</svg>\n",
       "  </button>\n",
       "\n",
       "<style>\n",
       "  .colab-df-quickchart {\n",
       "      --bg-color: #E8F0FE;\n",
       "      --fill-color: #1967D2;\n",
       "      --hover-bg-color: #E2EBFA;\n",
       "      --hover-fill-color: #174EA6;\n",
       "      --disabled-fill-color: #AAA;\n",
       "      --disabled-bg-color: #DDD;\n",
       "  }\n",
       "\n",
       "  [theme=dark] .colab-df-quickchart {\n",
       "      --bg-color: #3B4455;\n",
       "      --fill-color: #D2E3FC;\n",
       "      --hover-bg-color: #434B5C;\n",
       "      --hover-fill-color: #FFFFFF;\n",
       "      --disabled-bg-color: #3B4455;\n",
       "      --disabled-fill-color: #666;\n",
       "  }\n",
       "\n",
       "  .colab-df-quickchart {\n",
       "    background-color: var(--bg-color);\n",
       "    border: none;\n",
       "    border-radius: 50%;\n",
       "    cursor: pointer;\n",
       "    display: none;\n",
       "    fill: var(--fill-color);\n",
       "    height: 32px;\n",
       "    padding: 0;\n",
       "    width: 32px;\n",
       "  }\n",
       "\n",
       "  .colab-df-quickchart:hover {\n",
       "    background-color: var(--hover-bg-color);\n",
       "    box-shadow: 0 1px 2px rgba(60, 64, 67, 0.3), 0 1px 3px 1px rgba(60, 64, 67, 0.15);\n",
       "    fill: var(--button-hover-fill-color);\n",
       "  }\n",
       "\n",
       "  .colab-df-quickchart-complete:disabled,\n",
       "  .colab-df-quickchart-complete:disabled:hover {\n",
       "    background-color: var(--disabled-bg-color);\n",
       "    fill: var(--disabled-fill-color);\n",
       "    box-shadow: none;\n",
       "  }\n",
       "\n",
       "  .colab-df-spinner {\n",
       "    border: 2px solid var(--fill-color);\n",
       "    border-color: transparent;\n",
       "    border-bottom-color: var(--fill-color);\n",
       "    animation:\n",
       "      spin 1s steps(1) infinite;\n",
       "  }\n",
       "\n",
       "  @keyframes spin {\n",
       "    0% {\n",
       "      border-color: transparent;\n",
       "      border-bottom-color: var(--fill-color);\n",
       "      border-left-color: var(--fill-color);\n",
       "    }\n",
       "    20% {\n",
       "      border-color: transparent;\n",
       "      border-left-color: var(--fill-color);\n",
       "      border-top-color: var(--fill-color);\n",
       "    }\n",
       "    30% {\n",
       "      border-color: transparent;\n",
       "      border-left-color: var(--fill-color);\n",
       "      border-top-color: var(--fill-color);\n",
       "      border-right-color: var(--fill-color);\n",
       "    }\n",
       "    40% {\n",
       "      border-color: transparent;\n",
       "      border-right-color: var(--fill-color);\n",
       "      border-top-color: var(--fill-color);\n",
       "    }\n",
       "    60% {\n",
       "      border-color: transparent;\n",
       "      border-right-color: var(--fill-color);\n",
       "    }\n",
       "    80% {\n",
       "      border-color: transparent;\n",
       "      border-right-color: var(--fill-color);\n",
       "      border-bottom-color: var(--fill-color);\n",
       "    }\n",
       "    90% {\n",
       "      border-color: transparent;\n",
       "      border-bottom-color: var(--fill-color);\n",
       "    }\n",
       "  }\n",
       "</style>\n",
       "\n",
       "  <script>\n",
       "    async function quickchart(key) {\n",
       "      const quickchartButtonEl =\n",
       "        document.querySelector('#' + key + ' button');\n",
       "      quickchartButtonEl.disabled = true;  // To prevent multiple clicks.\n",
       "      quickchartButtonEl.classList.add('colab-df-spinner');\n",
       "      try {\n",
       "        const charts = await google.colab.kernel.invokeFunction(\n",
       "            'suggestCharts', [key], {});\n",
       "      } catch (error) {\n",
       "        console.error('Error during call to suggestCharts:', error);\n",
       "      }\n",
       "      quickchartButtonEl.classList.remove('colab-df-spinner');\n",
       "      quickchartButtonEl.classList.add('colab-df-quickchart-complete');\n",
       "    }\n",
       "    (() => {\n",
       "      let quickchartButtonEl =\n",
       "        document.querySelector('#df-4980761d-909e-4891-88d4-a52b01188df0 button');\n",
       "      quickchartButtonEl.style.display =\n",
       "        google.colab.kernel.accessAllowed ? 'block' : 'none';\n",
       "    })();\n",
       "  </script>\n",
       "</div>\n",
       "    </div>\n",
       "  </div>\n"
      ],
      "text/plain": [
       "               hit_rate@10  Recall@10    MRR@10    MAP@10  pop_bias@10  \\\n",
       "ease_model                                                               \n",
       "EASE_reg_2048     0.388187   0.186988  0.224170  0.108618  1198.877205   \n",
       "EASE_reg_4096     0.390339   0.187639  0.224055  0.108487  1337.183528   \n",
       "EASE_reg_1024     0.385515   0.185886  0.223421  0.108171  1026.210403   \n",
       "EASE_reg_512      0.381351   0.183639  0.221966  0.107546   845.676067   \n",
       "EASE_reg_256      0.374931   0.179987  0.219343  0.106071   686.332998   \n",
       "\n",
       "               serendipity@10  \n",
       "ease_model                     \n",
       "EASE_reg_2048        0.002314  \n",
       "EASE_reg_4096        0.002278  \n",
       "EASE_reg_1024        0.002364  \n",
       "EASE_reg_512         0.002429  \n",
       "EASE_reg_256         0.002488  "
      ]
     },
     "execution_count": 75,
     "metadata": {},
     "output_type": "execute_result"
    }
   ],
   "source": [
    "pure_df"
   ]
  },
  {
   "cell_type": "code",
   "execution_count": null,
   "metadata": {
    "colab": {
     "base_uri": "https://localhost:8080/"
    },
    "id": "_7IcUI_cJmnI",
    "outputId": "fb943592-4344-4066-fb3e-18bdd49ba67e"
   },
   "outputs": [
    {
     "data": {
      "text/plain": [
       "<rectools.models.ease.EASEModel at 0x7e8d963596c0>"
      ]
     },
     "execution_count": 76,
     "metadata": {},
     "output_type": "execute_result"
    }
   ],
   "source": [
    "best_ease_model = EASEModel(\n",
    "        regularization = 2048,\n",
    "        num_threads=num_threads,\n",
    "    )\n",
    "best_ease_model.fit(first_train_df)"
   ]
  },
  {
   "cell_type": "code",
   "execution_count": null,
   "metadata": {
    "id": "aDujHZ29Mk9x"
   },
   "outputs": [],
   "source": [
    "ease_reco_df = best_ease_model.recommend(filtered_first_val[Columns.User].unique(), first_train_df, k=10, filter_viewed=False)"
   ]
  },
  {
   "cell_type": "code",
   "execution_count": null,
   "metadata": {
    "id": "F7HLIMUVMWil"
   },
   "outputs": [],
   "source": [
    "ease_metrics = calc_metrics(\n",
    "    metrics=metrics,\n",
    "    reco=ease_reco_df,\n",
    "    interactions=first_val,\n",
    "    prev_interactions=first_train,\n",
    "    catalog=catalog\n",
    ")\n",
    "models_results_df_val[\"EASE\"] = [ease_metrics[metric] for metric in models_results_df_val.index]"
   ]
  },
  {
   "cell_type": "code",
   "execution_count": null,
   "metadata": {
    "id": "NlmZWjv9MWfs"
   },
   "outputs": [],
   "source": [
    "ease_reco_df.to_parquet('ease_val.parquet')"
   ]
  },
  {
   "cell_type": "markdown",
   "metadata": {},
   "source": [
    "Самые слабые результаты среди всех моделей. Возможно данная модель проявляет себя лучше с меньшим числом товаров и более богатой историей взаимодействий."
   ]
  },
  {
   "cell_type": "markdown",
   "metadata": {
    "id": "WmWZEbKXNT2A"
   },
   "source": [
    "## iALS"
   ]
  },
  {
   "cell_type": "code",
   "execution_count": null,
   "metadata": {
    "id": "vM0iXW3zNT4u"
   },
   "outputs": [],
   "source": [
    "import threadpoolctl\n",
    "from implicit.als import AlternatingLeastSquares\n",
    "from rectools.models import ImplicitALSWrapperModel"
   ]
  },
  {
   "cell_type": "code",
   "execution_count": null,
   "metadata": {
    "id": "7EhcRxByJmp2",
    "outputId": "c7f2a70b-d8f0-4d57-f7b4-88dd6858ac94"
   },
   "outputs": [
    {
     "data": {
      "text/plain": [
       "<threadpoolctl.threadpool_limits at 0x1fdb04a3a40>"
      ]
     },
     "execution_count": 20,
     "metadata": {},
     "output_type": "execute_result"
    }
   ],
   "source": [
    "# For implicit ALS\n",
    "os.environ[\"OPENBLAS_NUM_THREADS\"] = \"1\"\n",
    "threadpoolctl.threadpool_limits(1, \"blas\")"
   ]
  },
  {
   "cell_type": "code",
   "execution_count": null,
   "metadata": {
    "id": "9-_7WW0bzhBE"
   },
   "outputs": [],
   "source": [
    "def ials_objective(trial: optuna.Trial):\n",
    "    global metrics\n",
    "\n",
    "    factors = trial.suggest_categorical(\"factors\", [100, 150, 200, 250, 300, 350, 400, 450, 500, 550, 600])\n",
    "    regularization = trial.suggest_categorical(\"regularization\", [1e-2, 5e-2, 1e-1, 5e-1])\n",
    "    iterations = trial.suggest_categorical(\"iterations\", [6, 9, 12, 15, 18, 21])\n",
    "    alpha = trial.suggest_categorical(\"max_sampled\", [1, 10, 25, 50, 100])\n",
    "\n",
    "    ials_model = ImplicitALSWrapperModel(\n",
    "        AlternatingLeastSquares(\n",
    "            factors=factors,\n",
    "            regularization=regularization,\n",
    "            alpha=alpha,\n",
    "            iterations = iterations,\n",
    "            random_state=0,\n",
    "            use_gpu=False,\n",
    "            num_threads = num_threads),\n",
    "    )\n",
    "\n",
    "    score = train_and_calculate_score(ials_model, metrics)\n",
    "    return score"
   ]
  },
  {
   "cell_type": "code",
   "execution_count": null,
   "metadata": {
    "id": "I8dXxsSd0gDz"
   },
   "outputs": [],
   "source": [
    "ials_study = optuna.create_study(direction=\"maximize\", study_name=\"iALS\", sampler=optuna.samplers.TPESampler(), pruner=optuna.pruners.NopPruner())\n",
    "ials_study.optimize(ials_objective, n_trials=50)"
   ]
  },
  {
   "cell_type": "code",
   "execution_count": null,
   "metadata": {
    "id": "6bsSyfFgzhGc",
    "outputId": "d7021009-57fb-4129-9755-3ebe8e7c44d4"
   },
   "outputs": [
    {
     "name": "stdout",
     "output_type": "stream",
     "text": [
      "Параметры лучшей модели:  {'factors': 600, 'regularization': 0.01, 'iterations': 6, 'max_sampled': 100}\n",
      "MAP@10 лучшей модели:  0.2536875652195201\n"
     ]
    }
   ],
   "source": [
    "print(\"Параметры лучшей модели: \", ials_study.best_params)\n",
    "print(\"MAP@10 лучшей модели: \", ials_study.best_value)"
   ]
  },
  {
   "cell_type": "code",
   "execution_count": null,
   "metadata": {
    "id": "16P1csLDzhJP",
    "outputId": "efd160c0-4134-44c6-93cc-6b483070ddf8"
   },
   "outputs": [
    {
     "data": {
      "text/plain": [
       "<rectools.models.implicit_als.ImplicitALSWrapperModel at 0x2729a832510>"
      ]
     },
     "execution_count": 34,
     "metadata": {},
     "output_type": "execute_result"
    }
   ],
   "source": [
    "best_ials_model = ImplicitALSWrapperModel(\n",
    "        AlternatingLeastSquares(\n",
    "            factors=600,\n",
    "            regularization=0.01,\n",
    "            alpha=100,\n",
    "            iterations = 6,\n",
    "            random_state=0,\n",
    "            use_gpu=False,\n",
    "            num_threads = num_threads),\n",
    "    )\n",
    "best_ials_model.fit(first_train_df)"
   ]
  },
  {
   "cell_type": "code",
   "execution_count": null,
   "metadata": {
    "id": "Tar-ih4ZzhMM"
   },
   "outputs": [],
   "source": [
    "ials_reco_df = best_ials_model.recommend(filtered_first_val[Columns.User].unique(), first_train_df, k=10, filter_viewed=False)"
   ]
  },
  {
   "cell_type": "code",
   "execution_count": null,
   "metadata": {
    "id": "oRia1JcSzhOf"
   },
   "outputs": [],
   "source": [
    "models_results_df_val = pd.read_parquet('models_results_df_val.parquet')"
   ]
  },
  {
   "cell_type": "code",
   "execution_count": null,
   "metadata": {
    "id": "GT3tiXNJJm25"
   },
   "outputs": [],
   "source": [
    "ials_metrics = calc_metrics(\n",
    "    metrics=metrics,\n",
    "    reco=ials_reco_df,\n",
    "    interactions=first_val,\n",
    "    prev_interactions=first_train,\n",
    "    catalog=catalog\n",
    ")\n",
    "models_results_df_val[\"iALS\"] = [ials_metrics[metric] for metric in models_results_df_val.index]"
   ]
  },
  {
   "cell_type": "code",
   "execution_count": null,
   "metadata": {
    "id": "KRNXZaKT0gD0"
   },
   "outputs": [],
   "source": [
    "models_results_df_val.to_parquet('models_results_df_val.parquet')"
   ]
  },
  {
   "cell_type": "code",
   "execution_count": null,
   "metadata": {
    "id": "tKy0gGuD0gD0"
   },
   "outputs": [],
   "source": []
  },
  {
   "cell_type": "code",
   "execution_count": null,
   "metadata": {
    "id": "MUoP5pZ-qaKs"
   },
   "outputs": [],
   "source": [
    "items = pd.read_parquet('items_min_wo_emb.parquet')"
   ]
  },
  {
   "cell_type": "code",
   "execution_count": null,
   "metadata": {
    "id": "6lhrusJzv_gB"
   },
   "outputs": [],
   "source": [
    "items = items.rename(columns={'nm_id': Columns.Item})"
   ]
  },
  {
   "cell_type": "code",
   "execution_count": null,
   "metadata": {
    "id": "q9syki9XwCwD"
   },
   "outputs": [],
   "source": [
    "items = items.loc[items[Columns.Item].isin(first_train[Columns.Item])].copy()"
   ]
  },
  {
   "cell_type": "code",
   "execution_count": null,
   "metadata": {
    "id": "D-Lpi7Uk11hx"
   },
   "outputs": [],
   "source": [
    "items = items.loc[:, (items != 0).any(axis=0)]"
   ]
  },
  {
   "cell_type": "code",
   "execution_count": null,
   "metadata": {
    "id": "vUTggD5frukT"
   },
   "outputs": [],
   "source": [
    "binary_cols = [col for col in items.columns if items[col].nunique() == 2 and col != 'item_id']\n",
    "\n",
    "numeric_cols = [col for col in items.select_dtypes(include=[np.number]).columns if col not in binary_cols + ['item_id']]"
   ]
  },
  {
   "cell_type": "code",
   "execution_count": null,
   "metadata": {
    "id": "tuVvHQurwX8u"
   },
   "outputs": [],
   "source": [
    "def bin_numeric_columns_into_binary(df, numeric_cols, max_bins=5):\n",
    "\n",
    "       binary_dfs = []\n",
    "\n",
    "       for col in numeric_cols:\n",
    "           try:\n",
    "               bins = pd.qcut(df[col], q=max_bins, duplicates='drop')\n",
    "\n",
    "               dummies = pd.get_dummies(bins, prefix=col)\n",
    "\n",
    "               binary_dfs.append(dummies)\n",
    "\n",
    "           except ValueError as e:\n",
    "               print(f\"Не удалось разбить колонку '{col}' на {max_bins} квантилей: {e}\")\n",
    "\n",
    "               unique_vals = df[col].unique()\n",
    "               dummies = pd.get_dummies(df[col], prefix=f\"{col}_bin\")\n",
    "               binary_dfs.append(dummies)\n",
    "\n",
    "       binary_features = pd.concat(binary_dfs, axis=1)\n",
    "\n",
    "       df_binned = pd.concat([df.drop(columns=numeric_cols), binary_features], axis=1)\n",
    "\n",
    "       return df_binned"
   ]
  },
  {
   "cell_type": "code",
   "execution_count": null,
   "metadata": {
    "id": "IK7Dq8hS0gD1"
   },
   "outputs": [],
   "source": [
    "items = bin_numeric_columns_into_binary(items, numeric_cols, max_bins=5)"
   ]
  },
  {
   "cell_type": "code",
   "execution_count": null,
   "metadata": {
    "id": "AemGhN4N0gD1"
   },
   "outputs": [],
   "source": [
    "items *= 1"
   ]
  },
  {
   "cell_type": "code",
   "execution_count": null,
   "metadata": {
    "id": "YCXZp25yy0m7"
   },
   "outputs": [],
   "source": [
    "features_dataset = Dataset.construct(\n",
    "    interactions_df=first_train,\n",
    "    item_features_df=items,\n",
    "    make_dense_item_features=True\n",
    ")"
   ]
  },
  {
   "cell_type": "code",
   "execution_count": null,
   "metadata": {
    "id": "RAC73UeI8SqD"
   },
   "outputs": [],
   "source": [
    "def train_and_calculate_score(model, metrics, head_metric=\"MAP@10\"):\n",
    "    model.fit(features_dataset)\n",
    "    recos = model.recommend(filtered_first_val[Columns.User].unique(), features_dataset, k=10, filter_viewed=False)\n",
    "    metric_values = calc_metrics(\n",
    "            metrics,\n",
    "            reco=recos,\n",
    "            interactions=filtered_first_val,\n",
    "            prev_interactions=first_train,\n",
    "            catalog=catalog,\n",
    "    )\n",
    "\n",
    "    return metric_values[head_metric]"
   ]
  },
  {
   "cell_type": "code",
   "execution_count": null,
   "metadata": {
    "id": "EtpctEh80gD2"
   },
   "outputs": [],
   "source": [
    "def fials_objective(trial: optuna.Trial):\n",
    "    global metrics\n",
    "\n",
    "    factors = trial.suggest_categorical(\"factors\", [300, 350, 400, 450, 500, 550, 600, 650, 700])\n",
    "    regularization = trial.suggest_categorical(\"regularization\", [1e-2, 5e-2, 1e-1, 5e-1, 1])\n",
    "    iterations = trial.suggest_categorical(\"iterations\", [6, 9, 12, 15, 18, 21])\n",
    "    alpha = trial.suggest_categorical(\"max_sampled\", [25, 50, 75, 100, 125, 150])\n",
    "\n",
    "    ials_model = ImplicitALSWrapperModel(\n",
    "        AlternatingLeastSquares(\n",
    "            factors=factors,\n",
    "            regularization=regularization,\n",
    "            alpha=alpha,\n",
    "            iterations = iterations,\n",
    "            random_state=0,\n",
    "            use_gpu=False,\n",
    "            num_threads = num_threads),\n",
    "    )\n",
    "\n",
    "    score = train_and_calculate_score(ials_model, metrics)\n",
    "    return score"
   ]
  },
  {
   "cell_type": "code",
   "execution_count": null,
   "metadata": {
    "id": "ao5glPcI0gD2"
   },
   "outputs": [],
   "source": [
    "fials_study = optuna.create_study(direction=\"maximize\", study_name=\"iALS_with_feat\", sampler=optuna.samplers.TPESampler(), pruner=optuna.pruners.NopPruner())\n",
    "fials_study.optimize(fials_objective, n_trials=50)"
   ]
  },
  {
   "cell_type": "code",
   "execution_count": null,
   "metadata": {
    "id": "b-OaRlp60gD2",
    "outputId": "5fb16fbf-bb89-42c0-a8ef-8cc643d6c923"
   },
   "outputs": [
    {
     "name": "stdout",
     "output_type": "stream",
     "text": [
      "Параметры лучшей модели:  {'factors': 400, 'regularization': 0.01, 'iterations': 18, 'max_sampled': 125}\n",
      "MAP@10 лучшей модели:  0.2573499683274119\n"
     ]
    }
   ],
   "source": [
    "print(\"Параметры лучшей модели: \", fials_study.best_params)\n",
    "print(\"MAP@10 лучшей модели: \", fials_study.best_value)"
   ]
  },
  {
   "cell_type": "code",
   "execution_count": null,
   "metadata": {
    "colab": {
     "referenced_widgets": [
      "7904013dc0f74fffa5ac0e60f4248057"
     ]
    },
    "id": "-KOG3S4U0gD2",
    "outputId": "5653985d-5c49-4f68-f034-7636721208f2"
   },
   "outputs": [
    {
     "data": {
      "application/vnd.jupyter.widget-view+json": {
       "model_id": "7904013dc0f74fffa5ac0e60f4248057",
       "version_major": 2,
       "version_minor": 0
      },
      "text/plain": [
       "  0%|          | 0/1 [00:00<?, ?it/s]"
      ]
     },
     "metadata": {},
     "output_type": "display_data"
    },
    {
     "data": {
      "text/plain": [
       "<rectools.models.implicit_als.ImplicitALSWrapperModel at 0x1fd82de82c0>"
      ]
     },
     "execution_count": 42,
     "metadata": {},
     "output_type": "execute_result"
    }
   ],
   "source": [
    "best_fials_model = ImplicitALSWrapperModel(\n",
    "        AlternatingLeastSquares(\n",
    "            factors=300,\n",
    "            regularization=0.01,\n",
    "            alpha=150,\n",
    "            iterations = 9,\n",
    "            random_state=0,\n",
    "            use_gpu=False,\n",
    "            num_threads = num_threads),\n",
    "    )\n",
    "best_fials_model.fit(features_dataset)"
   ]
  },
  {
   "cell_type": "code",
   "execution_count": null,
   "metadata": {
    "id": "XsWnmaEQ0gD2"
   },
   "outputs": [],
   "source": [
    "fials_reco_df = best_fials_model.recommend(filtered_first_val[Columns.User].unique(), features_dataset, k=10, filter_viewed=False)"
   ]
  },
  {
   "cell_type": "code",
   "execution_count": null,
   "metadata": {
    "id": "TX_hpuo00gD2"
   },
   "outputs": [],
   "source": [
    "fials_reco_df.to_parquet('ials_feat_val.parquet')"
   ]
  },
  {
   "cell_type": "code",
   "execution_count": null,
   "metadata": {
    "id": "nXt5MVeH0gD3"
   },
   "outputs": [],
   "source": [
    "fials_metrics = calc_metrics(\n",
    "    metrics=metrics,\n",
    "    reco=fials_reco_df,\n",
    "    interactions=first_val,\n",
    "    prev_interactions=first_train,\n",
    "    catalog=catalog\n",
    ")\n",
    "models_results_df_val[\"iALS_w_f\"] = [fials_metrics[metric] for metric in models_results_df_val.index]"
   ]
  },
  {
   "cell_type": "code",
   "execution_count": null,
   "metadata": {
    "id": "9tjxFg3D0gD3",
    "outputId": "4693811b-759e-401e-a442-a55aaf25247a"
   },
   "outputs": [
    {
     "data": {
      "text/plain": [
       "{'hit_rate@10': 0.556947529150472,\n",
       " 'Recall@10': 0.3257565241532482,\n",
       " 'MRR@10': 0.37502674329957775,\n",
       " 'MAP@10': 0.23185035402510074,\n",
       " 'pop_bias@10': 713.5270792365529,\n",
       " 'serendipity@10': 0.004389848605377838}"
      ]
     },
     "execution_count": 40,
     "metadata": {},
     "output_type": "execute_result"
    }
   ],
   "source": [
    "fials_metrics"
   ]
  },
  {
   "cell_type": "code",
   "execution_count": null,
   "metadata": {
    "id": "BtgOx-SC0gD3"
   },
   "outputs": [],
   "source": [
    "models_results_df_val.to_parquet('models_results_df_val.parquet')"
   ]
  },
  {
   "cell_type": "markdown",
   "metadata": {},
   "source": [
    "Как мы видим для iALS признаки дали минимальное улучшение. Наиболее вероятная причина - из-за уменьшения датасета потерялась информативность признаков, они больше не характеризуют определенные группы товаров, которые могли бы дополнить коллаборативные рекомендации."
   ]
  },
  {
   "cell_type": "markdown",
   "metadata": {
    "id": "GsZOrNCB0gD3"
   },
   "source": [
    "## Рекомендации по косинусной схожести между эмбеддингами изображений айтемов и последним просмотренным айтемом"
   ]
  },
  {
   "cell_type": "code",
   "execution_count": null,
   "metadata": {
    "id": "x33WRW7O0gD3"
   },
   "outputs": [],
   "source": [
    "items = pd.read_parquet('items_full.parquet')"
   ]
  },
  {
   "cell_type": "code",
   "execution_count": null,
   "metadata": {
    "id": "Mk5G2mct0gD4"
   },
   "outputs": [],
   "source": [
    "items = items.rename(columns={'nm_id': Columns.Item})"
   ]
  },
  {
   "cell_type": "code",
   "execution_count": null,
   "metadata": {
    "id": "VUzw_OHB0gD4"
   },
   "outputs": [],
   "source": [
    "emb_columns = [f\"emb_{i}\" for i in range(256)] #для 256\n",
    "items = items[['item_id'] + emb_columns]"
   ]
  },
  {
   "cell_type": "code",
   "execution_count": null,
   "metadata": {},
   "outputs": [],
   "source": [
    "!pip install faiss-cpu"
   ]
  },
  {
   "cell_type": "code",
   "execution_count": null,
   "metadata": {
    "id": "Jof2RyS-0gD4"
   },
   "outputs": [],
   "source": [
    "items_embeddings = items.set_index('item_id')"
   ]
  },
  {
   "cell_type": "code",
   "execution_count": null,
   "metadata": {
    "id": "fbj_gUFy0gD4"
   },
   "outputs": [],
   "source": [
    "item_ids = items_embeddings.index.values  \n",
    "embeddings = items_embeddings.values.astype('float32')  "
   ]
  },
  {
   "cell_type": "code",
   "execution_count": null,
   "metadata": {
    "id": "NN-UTf_K0gD4"
   },
   "outputs": [],
   "source": [
    "import faiss\n",
    "\n",
    "faiss.omp_set_num_threads(num_threads)"
   ]
  },
  {
   "cell_type": "code",
   "execution_count": null,
   "metadata": {
    "id": "R6JZ6qbh0gD4"
   },
   "outputs": [],
   "source": [
    "d = embeddings.shape[1]\n",
    "\n",
    "index = faiss.IndexFlatL2(d)\n",
    "\n",
    "index.add(embeddings)"
   ]
  },
  {
   "cell_type": "code",
   "execution_count": null,
   "metadata": {
    "id": "nf5M0Nof0gD4"
   },
   "outputs": [],
   "source": [
    "last_interactions = first_train.groupby('user_id').tail(1).reset_index(drop=True)"
   ]
  },
  {
   "cell_type": "code",
   "execution_count": null,
   "metadata": {
    "id": "pdaxUKkZ0gD5"
   },
   "outputs": [],
   "source": [
    "results = []\n",
    "top_N = 10  \n",
    "index_to_item_id = dict(enumerate(item_ids))  "
   ]
  },
  {
   "cell_type": "code",
   "execution_count": null,
   "metadata": {
    "id": "AL0x4GkP0gD5"
   },
   "outputs": [],
   "source": [
    "from sklearn.preprocessing import normalize\n",
    "\n",
    "normalized_embeddings = normalize(embeddings, norm='l2', axis=1)\n",
    "\n",
    "d = normalized_embeddings.shape[1]\n",
    "\n",
    "index = faiss.IndexFlatIP(d)\n",
    "\n",
    "index.add(normalized_embeddings)"
   ]
  },
  {
   "cell_type": "code",
   "execution_count": null,
   "metadata": {
    "id": "MZZf1Yid0gD5"
   },
   "outputs": [],
   "source": [
    "for idx, row in last_interactions.iterrows():\n",
    "    user_id = row['user_id']\n",
    "    last_item_id = row['item_id']\n",
    "\n",
    "    last_item_index = items_embeddings.index.get_loc(last_item_id)\n",
    "\n",
    "    last_item_emb = normalized_embeddings[last_item_index].reshape(1, -1)\n",
    "\n",
    "    similarities, indices = index.search(last_item_emb, top_N + 1)\n",
    "    similarities = similarities.flatten()\n",
    "    indices = indices.flatten()\n",
    "\n",
    "    mask = indices != last_item_index\n",
    "    filtered_similarities = similarities[mask][:top_N]\n",
    "    filtered_indices = indices[mask][:top_N]\n",
    "\n",
    "    recommended_item_ids = [index_to_item_id[i] for i in filtered_indices]\n",
    "\n",
    "    filtered_distances = 1 - filtered_similarities\n",
    "\n",
    "    ranks = np.arange(1, len(recommended_item_ids) + 1)\n",
    "    for rank, item_id, score in zip(ranks, recommended_item_ids, filtered_distances):\n",
    "        results.append({\n",
    "            'user_id': user_id,\n",
    "            'item_id': item_id,\n",
    "            'score': score,\n",
    "            'rank': rank\n",
    "        })"
   ]
  },
  {
   "cell_type": "code",
   "execution_count": null,
   "metadata": {
    "id": "rnp-gpJt0gD5"
   },
   "outputs": [],
   "source": [
    "recommendations_df = pd.DataFrame(results)\n",
    "recommendations_df = recommendations_df[['user_id', 'item_id', 'score', 'rank']]\n",
    "recommendations_df = recommendations_df.sort_values(by=['user_id', 'rank']).reset_index(drop=True)"
   ]
  },
  {
   "cell_type": "code",
   "execution_count": null,
   "metadata": {
    "id": "yq4wg0_40gD5"
   },
   "outputs": [],
   "source": [
    "recommendations_df_val = recommendations_df[recommendations_df['user_id'].isin(filtered_first_val['user_id'])]"
   ]
  },
  {
   "cell_type": "code",
   "execution_count": null,
   "metadata": {
    "id": "dc6GVqIz0gD6",
    "outputId": "ea24ff09-0cb8-4f28-f531-df85d848358e"
   },
   "outputs": [
    {
     "data": {
      "text/plain": [
       "{'hit_rate@10': 0.0021515824541921153,\n",
       " 'Recall@10': 0.000694058856191005,\n",
       " 'MRR@10': 0.0005172253289618642,\n",
       " 'MAP@10': 0.0001618713258947851,\n",
       " 'pop_bias@10': 107.75564295353767,\n",
       " 'serendipity@10': 9.785648831163205e-06}"
      ]
     },
     "execution_count": 197,
     "metadata": {},
     "output_type": "execute_result"
    }
   ],
   "source": [
    "img_metrics = calc_metrics(\n",
    "    metrics=metrics,\n",
    "    reco=recommendations_df_val,\n",
    "    interactions=first_val,\n",
    "    prev_interactions=first_train,\n",
    "    catalog=catalog\n",
    ")\n",
    "img_metrics # cosine_4096"
   ]
  },
  {
   "cell_type": "code",
   "execution_count": null,
   "metadata": {
    "id": "Dw3m4vgz0gD6",
    "outputId": "6e59f4ef-0ced-4084-98b4-16d441614603"
   },
   "outputs": [
    {
     "data": {
      "text/plain": [
       "{'hit_rate@10': 0.003609106052193226,\n",
       " 'Recall@10': 0.0013197859654689192,\n",
       " 'MRR@10': 0.0009701400456536492,\n",
       " 'MAP@10': 0.0003941974948409865,\n",
       " 'pop_bias@10': 110.6365162907268,\n",
       " 'serendipity@10': 1.3214953620536892e-05}"
      ]
     },
     "execution_count": 183,
     "metadata": {},
     "output_type": "execute_result"
    }
   ],
   "source": [
    "img_metrics = calc_metrics(\n",
    "    metrics=metrics,\n",
    "    reco=recommendations_df_val,\n",
    "    interactions=first_val,\n",
    "    prev_interactions=first_train,\n",
    "    catalog=catalog\n",
    ")\n",
    "img_metrics # cosine_256"
   ]
  },
  {
   "cell_type": "markdown",
   "metadata": {
    "id": "owPM-RBI0gD6"
   },
   "source": [
    "Как мы видим, результаты околонулевые. Наиболее вероятная причина в том, что датасет был уменьшен: товаров в разы меньше, следующее взаимодействие пользователя на самом деле таким не является."
   ]
  },
  {
   "cell_type": "markdown",
   "metadata": {
    "id": "u1KKwIBM0gD8"
   },
   "source": [
    "## Итоговые значения метрик для моделей первого уровня\n",
    "\n",
    "Значения в данной таблице немного ниже, чем будут в тестовой, так как в валидационной выборке были холодные пользователи. В презентации отдельно будут значения MAP моделей только для теплых пользователей."
   ]
  },
  {
   "cell_type": "code",
   "execution_count": null,
   "metadata": {
    "id": "4o3T4rqP0gD8",
    "outputId": "607e14df-fbf0-42bd-f45e-04428542367c"
   },
   "outputs": [
    {
     "data": {
      "text/html": [
       "<div>\n",
       "<style scoped>\n",
       "    .dataframe tbody tr th:only-of-type {\n",
       "        vertical-align: middle;\n",
       "    }\n",
       "\n",
       "    .dataframe tbody tr th {\n",
       "        vertical-align: top;\n",
       "    }\n",
       "\n",
       "    .dataframe thead th {\n",
       "        text-align: right;\n",
       "    }\n",
       "</style>\n",
       "<table border=\"1\" class=\"dataframe\">\n",
       "  <thead>\n",
       "    <tr style=\"text-align: right;\">\n",
       "      <th></th>\n",
       "      <th>Popular</th>\n",
       "      <th>LightFM</th>\n",
       "      <th>ItemKNN_BM25</th>\n",
       "      <th>ItemKNN_TF-IDF</th>\n",
       "      <th>EASE</th>\n",
       "      <th>iALS</th>\n",
       "      <th>iALS_w_f</th>\n",
       "    </tr>\n",
       "  </thead>\n",
       "  <tbody>\n",
       "    <tr>\n",
       "      <th>hit_rate@10</th>\n",
       "      <td>1.013673e-01</td>\n",
       "      <td>0.575687</td>\n",
       "      <td>0.544836</td>\n",
       "      <td>0.537514</td>\n",
       "      <td>0.388187</td>\n",
       "      <td>0.555455</td>\n",
       "      <td>0.556948</td>\n",
       "    </tr>\n",
       "    <tr>\n",
       "      <th>serendipity@10</th>\n",
       "      <td>9.087599e-07</td>\n",
       "      <td>0.003547</td>\n",
       "      <td>0.004354</td>\n",
       "      <td>0.004308</td>\n",
       "      <td>0.002314</td>\n",
       "      <td>0.004471</td>\n",
       "      <td>0.004390</td>\n",
       "    </tr>\n",
       "    <tr>\n",
       "      <th>Recall@10</th>\n",
       "      <td>3.399385e-02</td>\n",
       "      <td>0.323716</td>\n",
       "      <td>0.315753</td>\n",
       "      <td>0.312188</td>\n",
       "      <td>0.186988</td>\n",
       "      <td>0.324820</td>\n",
       "      <td>0.325757</td>\n",
       "    </tr>\n",
       "    <tr>\n",
       "      <th>MAP@10</th>\n",
       "      <td>1.221302e-02</td>\n",
       "      <td>0.218699</td>\n",
       "      <td>0.228633</td>\n",
       "      <td>0.227064</td>\n",
       "      <td>0.108618</td>\n",
       "      <td>0.228324</td>\n",
       "      <td>0.231850</td>\n",
       "    </tr>\n",
       "    <tr>\n",
       "      <th>MRR@10</th>\n",
       "      <td>3.863950e-02</td>\n",
       "      <td>0.368995</td>\n",
       "      <td>0.370727</td>\n",
       "      <td>0.368268</td>\n",
       "      <td>0.224170</td>\n",
       "      <td>0.370355</td>\n",
       "      <td>0.375027</td>\n",
       "    </tr>\n",
       "    <tr>\n",
       "      <th>pop_bias@10</th>\n",
       "      <td>4.975100e+03</td>\n",
       "      <td>2033.098289</td>\n",
       "      <td>594.603433</td>\n",
       "      <td>586.087617</td>\n",
       "      <td>1198.877205</td>\n",
       "      <td>643.046235</td>\n",
       "      <td>713.527079</td>\n",
       "    </tr>\n",
       "  </tbody>\n",
       "</table>\n",
       "</div>"
      ],
      "text/plain": [
       "                     Popular      LightFM  ItemKNN_BM25  ItemKNN_TF-IDF  \\\n",
       "hit_rate@10     1.013673e-01     0.575687      0.544836        0.537514   \n",
       "serendipity@10  9.087599e-07     0.003547      0.004354        0.004308   \n",
       "Recall@10       3.399385e-02     0.323716      0.315753        0.312188   \n",
       "MAP@10          1.221302e-02     0.218699      0.228633        0.227064   \n",
       "MRR@10          3.863950e-02     0.368995      0.370727        0.368268   \n",
       "pop_bias@10     4.975100e+03  2033.098289    594.603433      586.087617   \n",
       "\n",
       "                       EASE        iALS    iALS_w_f  \n",
       "hit_rate@10        0.388187    0.555455    0.556948  \n",
       "serendipity@10     0.002314    0.004471    0.004390  \n",
       "Recall@10          0.186988    0.324820    0.325757  \n",
       "MAP@10             0.108618    0.228324    0.231850  \n",
       "MRR@10             0.224170    0.370355    0.375027  \n",
       "pop_bias@10     1198.877205  643.046235  713.527079  "
      ]
     },
     "execution_count": 61,
     "metadata": {},
     "output_type": "execute_result"
    }
   ],
   "source": [
    "models_results_df_val"
   ]
  },
  {
   "cell_type": "markdown",
   "metadata": {},
   "source": [
    "### Из того, что еще не получилось:\n",
    "\n",
    "TIFU KNN требует, чтобы пользователи были представлены как векторы размерностью в количество айтемов. Для формирования этого итогового вектора требуется еще больше памяти и огромное количество векторных вычислений. Поэтому по итогу я решил не использовать этот метод, посчитав его неподходящим для данной задачи."
   ]
  },
  {
   "cell_type": "code",
   "execution_count": null,
   "metadata": {
    "id": "hK0CYf_K0gD8"
   },
   "outputs": [],
   "source": [
    "models_results_df_val.to_parquet('models_results_df_val.parquet')"
   ]
  },
  {
   "cell_type": "markdown",
   "metadata": {
    "id": "En8nOGKn0gD8"
   },
   "source": [
    "# 3. Собираем итоговый датасет кандидатов для модели второго уровня"
   ]
  },
  {
   "cell_type": "code",
   "execution_count": null,
   "metadata": {
    "id": "zfTSVlfM0gD8"
   },
   "outputs": [],
   "source": [
    "first_val = filtered_first_val"
   ]
  },
  {
   "cell_type": "code",
   "execution_count": null,
   "metadata": {
    "id": "YPBC6MZU0gD9"
   },
   "outputs": [],
   "source": [
    "popmpd = PopularModel()\n",
    "popmpd.fit(first_train_df)\n",
    "popular_reco_df = popmpd.recommend(\n",
    "    users=first_val[Columns.User].unique(),\n",
    "    dataset=first_train_df,\n",
    "    k=10,\n",
    "    filter_viewed=False,\n",
    ")"
   ]
  },
  {
   "cell_type": "code",
   "execution_count": null,
   "metadata": {
    "id": "XW9CIJ5-0gD9"
   },
   "outputs": [],
   "source": [
    "lightfm_recommendations_df = pd.read_parquet(\"lfm_wof_val.parquet\")\n",
    "lightfm_recommendations_df = lightfm_recommendations_df.astype(\n",
    "    {'user_id': 'int32', 'item_id': 'int32', 'score': 'float32', 'rank': 'int16'}\n",
    ")\n",
    "lightfm_recommendations_df = lightfm_recommendations_df.rename({\"score\": \"lightfm_score\", \"rank\": \"lightfm_rank\"}, axis=1)"
   ]
  },
  {
   "cell_type": "code",
   "execution_count": null,
   "metadata": {
    "id": "CI0FJUj40gD9"
   },
   "outputs": [],
   "source": [
    "bm_25_recommendations_df = pd.read_parquet(\"bm25_val.parquet\")\n",
    "bm_25_recommendations_df = bm_25_recommendations_df.astype(\n",
    "    {'user_id': 'int32', 'item_id': 'int32', 'score': 'float32', 'rank': 'int16'}\n",
    ")\n",
    "bm_25_recommendations_df = bm_25_recommendations_df.rename({\"score\": \"bm_25_score\", \"rank\": \"bm_25_rank\"}, axis=1)"
   ]
  },
  {
   "cell_type": "code",
   "execution_count": null,
   "metadata": {
    "id": "iWrYO0oe0gD9"
   },
   "outputs": [],
   "source": [
    "lightfm_recommendations_df = lightfm_recommendations_df[lightfm_recommendations_df['user_id'].isin(bm_25_recommendations_df['user_id'].unique())]"
   ]
  },
  {
   "cell_type": "code",
   "execution_count": null,
   "metadata": {
    "id": "FUhbspGe0gD9"
   },
   "outputs": [],
   "source": [
    "tfidf_recommendations_df = pd.read_parquet(\"tfidf_val.parquet\")\n",
    "tfidf_recommendations_df = tfidf_recommendations_df.astype(\n",
    "    {'user_id': 'int32', 'item_id': 'int32', 'score': 'float32', 'rank': 'int16'}\n",
    ")\n",
    "tfidf_recommendations_df = tfidf_recommendations_df.rename({\"score\": \"tfidf_score\", \"rank\": \"tfidf_rank\"}, axis=1)"
   ]
  },
  {
   "cell_type": "code",
   "execution_count": null,
   "metadata": {
    "id": "rtn5YDTw0gD9"
   },
   "outputs": [],
   "source": [
    "ease_recommendations_df = pd.read_parquet(\"ease_val.parquet\")\n",
    "ease_recommendations_df = ease_recommendations_df.astype(\n",
    "    {'user_id': 'int32', 'item_id': 'int32', 'score': 'float32', 'rank': 'int16'}\n",
    ")\n",
    "ease_recommendations_df = ease_recommendations_df.rename({\"score\": \"ease_score\", \"rank\": \"ease_rank\"}, axis=1)"
   ]
  },
  {
   "cell_type": "code",
   "execution_count": null,
   "metadata": {
    "id": "qayPK4tn0gD-"
   },
   "outputs": [],
   "source": [
    "ials_recommendations_df = pd.read_parquet(\"ials_val.parquet\")\n",
    "ials_recommendations_df = ials_recommendations_df.astype(\n",
    "    {'user_id': 'int32', 'item_id': 'int32', 'score': 'float32', 'rank': 'int16'}\n",
    ")\n",
    "ials_recommendations_df = ials_recommendations_df.rename({\"score\": \"ials_score\", \"rank\": \"ials_rank\"}, axis=1)"
   ]
  },
  {
   "cell_type": "code",
   "execution_count": null,
   "metadata": {
    "id": "5l3jgPlf0gD-"
   },
   "outputs": [],
   "source": [
    "ials_feat_recommendations_df = pd.read_parquet(\"ials_feat_val.parquet\")\n",
    "ials_feat_recommendations_df = ials_feat_recommendations_df.astype(\n",
    "    {'user_id': 'int32', 'item_id': 'int32', 'score': 'float32', 'rank': 'int16'}\n",
    ")\n",
    "ials_feat_recommendations_df = ials_feat_recommendations_df.rename({\"score\": \"ials_feat_score\", \"rank\": \"ials_feat_rank\"}, axis=1)"
   ]
  },
  {
   "cell_type": "code",
   "execution_count": null,
   "metadata": {
    "id": "ze1KKSdI0gD-"
   },
   "outputs": [],
   "source": [
    "recommendations_df = (\n",
    "    pd.merge(\n",
    "        popular_reco_df,\n",
    "        lightfm_recommendations_df,\n",
    "        how='outer',\n",
    "        on=['user_id', 'item_id']\n",
    "    )\n",
    ")"
   ]
  },
  {
   "cell_type": "code",
   "execution_count": null,
   "metadata": {
    "id": "R7LVXO520gD-"
   },
   "outputs": [],
   "source": [
    "recommendations_df = (\n",
    "    pd.merge(\n",
    "        recommendations_df,\n",
    "        bm_25_recommendations_df,\n",
    "        how='outer',\n",
    "        on=['user_id', 'item_id']\n",
    "    )\n",
    ")"
   ]
  },
  {
   "cell_type": "code",
   "execution_count": null,
   "metadata": {
    "id": "Est5_60Y0gD-"
   },
   "outputs": [],
   "source": [
    "recommendations_df = (\n",
    "    pd.merge(\n",
    "        recommendations_df,\n",
    "        tfidf_recommendations_df,\n",
    "        how='outer',\n",
    "        on=['user_id', 'item_id']\n",
    "    )\n",
    ")"
   ]
  },
  {
   "cell_type": "code",
   "execution_count": null,
   "metadata": {
    "id": "vqJMiLrn0gD-"
   },
   "outputs": [],
   "source": [
    "recommendations_df = (\n",
    "    pd.merge(\n",
    "        recommendations_df,\n",
    "        ease_recommendations_df,\n",
    "        how='outer',\n",
    "        on=['user_id', 'item_id']\n",
    "    )\n",
    ")"
   ]
  },
  {
   "cell_type": "code",
   "execution_count": null,
   "metadata": {
    "id": "pHjjOjLV0gD_"
   },
   "outputs": [],
   "source": [
    "recommendations_df = (\n",
    "    pd.merge(\n",
    "        recommendations_df,\n",
    "        ials_recommendations_df,\n",
    "        how='outer',\n",
    "        on=['user_id', 'item_id']\n",
    "    )\n",
    ")"
   ]
  },
  {
   "cell_type": "code",
   "execution_count": null,
   "metadata": {
    "id": "99V3pSsl0gD_"
   },
   "outputs": [],
   "source": [
    "recommendations_df = (\n",
    "    pd.merge(\n",
    "        recommendations_df,\n",
    "        ials_feat_recommendations_df,\n",
    "        how='outer',\n",
    "        on=['user_id', 'item_id']\n",
    "    )\n",
    ")"
   ]
  },
  {
   "cell_type": "code",
   "execution_count": null,
   "metadata": {
    "id": "pkUkNlyg0gD_"
   },
   "outputs": [],
   "source": [
    "recommendations_df = recommendations_df.rename({\"score\": \"popular_score\", \"rank\": \"popular_rank\"}, axis=1)"
   ]
  },
  {
   "cell_type": "code",
   "execution_count": null,
   "metadata": {
    "id": "zYBY7ERj0gD_"
   },
   "outputs": [],
   "source": [
    "recommendations_df = (\n",
    "    pd.merge(\n",
    "        recommendations_df,\n",
    "        first_val[['user_id', 'item_id', 'weight']].drop_duplicates(),\n",
    "        how='left',\n",
    "        on=['user_id', 'item_id']\n",
    "    )\n",
    ")"
   ]
  },
  {
   "cell_type": "code",
   "execution_count": null,
   "metadata": {
    "id": "h6mr7fjM0gD_"
   },
   "outputs": [],
   "source": [
    "recommendations_df = (\n",
    "    recommendations_df\n",
    "    .fillna(\n",
    "        {\n",
    "            'lightfm_score': -101, 'lightfm_rank': 101,\n",
    "            'bm_25_score': -101, 'bm_25_rank': 101,\n",
    "            'popular_score': -101, 'popular_rank': 101,\n",
    "            'tfidf_score': -101, 'tfidf_rank': 101,\n",
    "            'ease_score': -101, 'ease_rank': 101,\n",
    "            'ials_score': -101, 'ials_rank': 101,\n",
    "            'ials_feat_score': -101, 'ials_feat_rank': 101,\n",
    "            'weight': 0\n",
    "        }\n",
    "    )\n",
    "    .astype(\n",
    "        {\n",
    "            'user_id': 'int32', 'item_id': 'int32', 'weight': 'float16',\n",
    "            'lightfm_score': 'float16', 'lightfm_rank': 'int16',\n",
    "            'bm_25_score': 'float16', 'bm_25_rank': 'int16',\n",
    "            'popular_score': 'float16', 'popular_rank': 'int16',\n",
    "            'tfidf_score': 'float16', 'tfidf_rank': 'int16',\n",
    "            'ease_score': 'float16', 'ease_rank': 'int16',\n",
    "            'ials_score': 'float16', 'ials_rank': 'int16',\n",
    "            'ials_feat_score': 'float16', 'ials_feat_rank': 'int16',\n",
    "        }\n",
    "    )\n",
    "\n",
    ")"
   ]
  },
  {
   "cell_type": "code",
   "execution_count": null,
   "metadata": {
    "id": "jhet19B-0gEA"
   },
   "outputs": [],
   "source": [
    "recommendations_df.to_parquet('recommendations_df_val_without_last_features.parquet')"
   ]
  },
  {
   "cell_type": "markdown",
   "metadata": {
    "id": "GHEqYw1O0gEA"
   },
   "source": [
    "## Дополнительные признаки\n",
    "\n",
    "Так как не вышло сделать модель на схожести эмбеддингов изображений, я решил добавить косинусное расстояние между кандидатом и последним просмотренным айтемом и между кандидатом и последним просмотренным айтемом.\n",
    "\n",
    "Так же я добавлю среднюю нормализованную совстречаемость кандидатов с товарами, которые пользователь уже просматривал."
   ]
  },
  {
   "cell_type": "code",
   "execution_count": null,
   "metadata": {
    "id": "4fp_u0uB0gEA"
   },
   "outputs": [],
   "source": [
    "items_embeddings_normalized = pd.DataFrame(\n",
    "    normalize(items_embeddings, norm='l2', axis=1),\n",
    "    index=items_embeddings.index,\n",
    "    columns=emb_columns\n",
    ")"
   ]
  },
  {
   "cell_type": "code",
   "execution_count": null,
   "metadata": {
    "id": "ELcZuZ800gEA"
   },
   "outputs": [],
   "source": [
    "last_item_embeddings = last_interactions.merge(items_embeddings_normalized, on='item_id', how='left')\n",
    "last_item_embeddings = last_item_embeddings[['user_id'] + emb_columns].set_index('user_id')"
   ]
  },
  {
   "cell_type": "code",
   "execution_count": null,
   "metadata": {
    "id": "z1cz0WGe0gEA"
   },
   "outputs": [],
   "source": [
    "user_avg_embeddings = first_train.merge(items_embeddings_normalized, on='item_id', how='left')\n",
    "user_avg_embeddings = user_avg_embeddings.groupby('user_id')[emb_columns].mean()"
   ]
  },
  {
   "cell_type": "code",
   "execution_count": null,
   "metadata": {
    "id": "0XtMlivc0gEA"
   },
   "outputs": [],
   "source": [
    "recommendations_with_emb = recommendations_df.merge(\n",
    "    items_embeddings_normalized,\n",
    "    on='item_id',\n",
    "    how='left',\n",
    ")"
   ]
  },
  {
   "cell_type": "code",
   "execution_count": null,
   "metadata": {
    "id": "GgWGXbwx0gEB"
   },
   "outputs": [],
   "source": [
    "recommendations_with_emb = recommendations_with_emb.merge(\n",
    "    last_item_embeddings,\n",
    "    on='user_id',\n",
    "    how='left',\n",
    "    suffixes=('', '_last')\n",
    ")"
   ]
  },
  {
   "cell_type": "code",
   "execution_count": null,
   "metadata": {
    "id": "Uoljkc680gEB"
   },
   "outputs": [],
   "source": [
    "def compute_cosine_similarity(row, emb_cols):\n",
    "    candidate_emb = row[[f\"emb_{i}\" for i in range(256)]].values\n",
    "    last_emb = row[[f\"emb_{i}_last\" for i in range(256)]].values\n",
    "    return np.dot(candidate_emb, last_emb)"
   ]
  },
  {
   "cell_type": "code",
   "execution_count": null,
   "metadata": {
    "id": "4wJXb3IW0gEB"
   },
   "outputs": [],
   "source": [
    "recommendations_with_emb['cosine_sim_last'] = recommendations_with_emb.apply(\n",
    "    lambda row: compute_cosine_similarity(row, emb_columns), axis=1\n",
    ")"
   ]
  },
  {
   "cell_type": "code",
   "execution_count": null,
   "metadata": {
    "id": "vRgKnky-0gEB"
   },
   "outputs": [],
   "source": [
    "recommendations_with_emb = recommendations_with_emb.merge(\n",
    "    user_avg_embeddings,\n",
    "    on='user_id',\n",
    "    how='left',\n",
    "    suffixes=('', '_avg')\n",
    ")"
   ]
  },
  {
   "cell_type": "code",
   "execution_count": null,
   "metadata": {
    "id": "xxw3jIp50gEB"
   },
   "outputs": [],
   "source": [
    "def compute_cosine_similarity_avg(row, emb_cols):\n",
    "    candidate_emb = row[[f\"emb_{i}\" for i in range(256)]].values\n",
    "    avg_emb = row[[f\"emb_{i}_avg\" for i in range(256)]].values\n",
    "    return np.dot(candidate_emb, avg_emb)"
   ]
  },
  {
   "cell_type": "code",
   "execution_count": null,
   "metadata": {
    "id": "pF2EMEtm0gEB"
   },
   "outputs": [],
   "source": [
    "recommendations_with_emb['cosine_sim_avg'] = recommendations_with_emb.apply(\n",
    "    lambda row: compute_cosine_similarity_avg(row, emb_columns), axis=1\n",
    ")"
   ]
  },
  {
   "cell_type": "code",
   "execution_count": null,
   "metadata": {
    "id": "wYX0Zr_V0gEC"
   },
   "outputs": [],
   "source": [
    "recommendations_df[['cosine_sim_last', 'cosine_sim_avg']] = recommendations_with_emb[['cosine_sim_last', 'cosine_sim_avg']]"
   ]
  },
  {
   "cell_type": "code",
   "execution_count": null,
   "metadata": {
    "id": "1ejk3EAm0gED"
   },
   "outputs": [],
   "source": [
    "recommendations_df = recommendations_df.merge(\n",
    "    items[['item_id', 'item_popul']],\n",
    "    on='item_id',\n",
    "    how='left',\n",
    ")"
   ]
  },
  {
   "cell_type": "code",
   "execution_count": null,
   "metadata": {
    "id": "IXgVrhZL0gED"
   },
   "outputs": [],
   "source": []
  },
  {
   "cell_type": "code",
   "execution_count": null,
   "metadata": {
    "id": "5v1SvXMs0gED"
   },
   "outputs": [],
   "source": [
    "from tqdm import tqdm"
   ]
  },
  {
   "cell_type": "code",
   "execution_count": null,
   "metadata": {
    "id": "jxOLpMxt0gED"
   },
   "outputs": [],
   "source": [
    "tqdm.pandas()"
   ]
  },
  {
   "cell_type": "code",
   "execution_count": null,
   "metadata": {
    "id": "NKr2Twl_0gED",
    "outputId": "dbd5d748-4006-4c23-f88e-5236ff1abe8a"
   },
   "outputs": [
    {
     "name": "stderr",
     "output_type": "stream",
     "text": [
      "100%|██████████| 838643/838643 [00:00<00:00, 1090268.57it/s]\n"
     ]
    }
   ],
   "source": [
    "user_items = first_train.groupby('user_id')['item_id'].apply(set).reset_index()\n",
    "user_items = user_items.rename(columns={'item_id': 'interacted_items'})\n",
    "\n",
    "recommendations_df = recommendations_df.merge(user_items, on='user_id', how='left')\n",
    "\n",
    "recommendations_df['interacted_items'] = recommendations_df['interacted_items'].progress_apply(lambda x: x if isinstance(x, set) else set())"
   ]
  },
  {
   "cell_type": "code",
   "execution_count": null,
   "metadata": {
    "id": "tksm0jPW0gED"
   },
   "outputs": [],
   "source": [
    "item_popularity = first_train.groupby('item_id')['user_id'].nunique().reset_index()\n",
    "item_popularity = item_popularity.rename(columns={'user_id': 'item_popularity'})"
   ]
  },
  {
   "cell_type": "code",
   "execution_count": null,
   "metadata": {
    "id": "nRBfKbch0gED"
   },
   "outputs": [],
   "source": [
    "item_users = first_train.groupby('item_id')['user_id'].apply(set).reset_index()\n",
    "item_users_dict = dict(zip(item_users['item_id'], item_users['user_id']))"
   ]
  },
  {
   "cell_type": "code",
   "execution_count": null,
   "metadata": {
    "id": "11OKNMwr0gEE"
   },
   "outputs": [],
   "source": [
    "def compute_normalized_cooccurrence(row):\n",
    "    candidate_item = row['item_id']\n",
    "    interacted_items = row['interacted_items']\n",
    "\n",
    "    if not interacted_items:\n",
    "        return 0.0  \n",
    "\n",
    "    candidate_users = item_users_dict.get(candidate_item, set())\n",
    "    candidate_popularity = len(candidate_users)\n",
    "    if candidate_popularity == 0:\n",
    "        return 0.0  \n",
    "\n",
    "    cooccurrences = []\n",
    "    for item in interacted_items:\n",
    "        users = item_users_dict.get(item, set())\n",
    "\n",
    "        co_users = candidate_users.intersection(users)\n",
    "        co_count = len(co_users)\n",
    "\n",
    "        normalized = co_count / candidate_popularity\n",
    "        cooccurrences.append(normalized)\n",
    "\n",
    "    return sum(cooccurrences) / len(cooccurrences)"
   ]
  },
  {
   "cell_type": "code",
   "execution_count": null,
   "metadata": {
    "id": "zgOa3qVU0gEE",
    "outputId": "7a667fd6-6305-45d2-afaa-a8d927527353"
   },
   "outputs": [
    {
     "name": "stderr",
     "output_type": "stream",
     "text": [
      "100%|██████████| 838643/838643 [00:44<00:00, 18956.13it/s]\n"
     ]
    }
   ],
   "source": [
    "recommendations_df['avg_normalized_cooccurrence'] = recommendations_df.progress_apply(compute_normalized_cooccurrence, axis=1)"
   ]
  },
  {
   "cell_type": "code",
   "execution_count": null,
   "metadata": {
    "id": "REaEAZbS0gEE"
   },
   "outputs": [],
   "source": [
    "recommendations_df = recommendations_df.drop(columns=['interacted_items'])"
   ]
  },
  {
   "cell_type": "code",
   "execution_count": null,
   "metadata": {},
   "outputs": [],
   "source": [
    "recommendations_df"
   ]
  },
  {
   "cell_type": "code",
   "execution_count": null,
   "metadata": {
    "id": "puCy0TnL0gEE"
   },
   "outputs": [],
   "source": [
    "recommendations_df.to_parquet('recommendations_df_val.parquet')"
   ]
  },
  {
   "cell_type": "code",
   "execution_count": null,
   "metadata": {
    "id": "ORz297IW0gEE"
   },
   "outputs": [],
   "source": [
    "from sklearn.model_selection import train_test_split"
   ]
  },
  {
   "cell_type": "markdown",
   "metadata": {
    "id": "8RT7Krgi0gEF"
   },
   "source": [
    "# 4. Обучение модели второго уровня и итоговые рекомендации\n",
    "\n",
    "Будут использоваться LGBM и XGBoost"
   ]
  },
  {
   "cell_type": "code",
   "execution_count": null,
   "metadata": {
    "id": "gKFPmoiJ0gEF"
   },
   "outputs": [],
   "source": [
    "recommendations_df = pd.read_parquet('recommendations_df_val.parquet')"
   ]
  },
  {
   "cell_type": "code",
   "execution_count": null,
   "metadata": {
    "id": "_UFV4Z9-0gEF"
   },
   "outputs": [],
   "source": [
    "unique_users = recommendations_df['user_id'].unique()\n",
    "train_users, val_users = train_test_split(unique_users, test_size=0.2, random_state=42)\n",
    "\n",
    "train_df = recommendations_df[recommendations_df['user_id'].isin(train_users)]\n",
    "val_df = recommendations_df[recommendations_df['user_id'].isin(val_users)]"
   ]
  },
  {
   "cell_type": "code",
   "execution_count": null,
   "metadata": {
    "id": "RHDWLGri0gEF"
   },
   "outputs": [],
   "source": [
    "from lightgbm import LGBMRanker, LGBMClassifier"
   ]
  },
  {
   "cell_type": "code",
   "execution_count": null,
   "metadata": {
    "id": "vuTH4IIm0gEF"
   },
   "outputs": [],
   "source": [
    "cols = [col for col in recommendations_df.columns if col not in ['user_id'] + ['item_id'] + ['weight']]"
   ]
  },
  {
   "cell_type": "code",
   "execution_count": null,
   "metadata": {
    "id": "56XfWnq80gEF"
   },
   "outputs": [],
   "source": [
    "def get_group(df):\n",
    "    return np.array(\n",
    "        df[['user_id', 'item_id']]\n",
    "        .groupby(by=['user_id']).count()\n",
    "        ['item_id']\n",
    "    )"
   ]
  },
  {
   "cell_type": "code",
   "execution_count": null,
   "metadata": {
    "id": "3KoOkZn90gEF"
   },
   "outputs": [],
   "source": [
    "group_train = get_group(train_df)\n",
    "group_val = get_group(val_df)"
   ]
  },
  {
   "cell_type": "code",
   "execution_count": null,
   "metadata": {
    "id": "ZiFlDD-l0gEF"
   },
   "outputs": [],
   "source": [
    "from sklearn.metrics import average_precision_score"
   ]
  },
  {
   "cell_type": "code",
   "execution_count": null,
   "metadata": {
    "id": "Od2eL2Vb0gEF"
   },
   "outputs": [],
   "source": [
    "def objective(trial):\n",
    "\n",
    "    param = {\n",
    "        'objective': 'lambdarank',\n",
    "        'metric': 'map',  \n",
    "        'verbosity': -1,\n",
    "        'learning_rate': trial.suggest_float('learning_rate', 1e-3, 1e-1, log=True),\n",
    "        'n_estimators': trial.suggest_int('n_estimators', 1000, 4000),\n",
    "        'max_depth': trial.suggest_int('max_depth', 3, 6),\n",
    "        'num_leaves': trial.suggest_int('num_leaves', 16, 32),\n",
    "        'min_child_samples': trial.suggest_int('min_child_samples', 20, 300),\n",
    "        'reg_lambda': trial.suggest_float('reg_lambda', 1e-3, 10.0, log=True),\n",
    "        'colsample_bytree': trial.suggest_float('colsample_bytree', 0.5, 1.0),\n",
    "        'subsample': trial.suggest_float('subsample', 0.5, 1.0),\n",
    "        'early_stopping_rounds': 32,\n",
    "        'random_state': 0,\n",
    "    }\n",
    "\n",
    "    model = LGBMRanker(**param)\n",
    "\n",
    "    fit_params = {\n",
    "        'X': train_df[cols],\n",
    "        'y': train_df['weight'],\n",
    "        'group': get_group(train_df),\n",
    "        'eval_set': [(val_df[cols], val_df['weight'])],\n",
    "        'eval_group': [get_group(val_df)],\n",
    "        'eval_metric': 'map',\n",
    "        'eval_at': (1, 5, 10),\n",
    "        'feature_name': cols,\n",
    "    }\n",
    "\n",
    "    model.fit(**fit_params)\n",
    "\n",
    "    best_map = max(model.evals_result_['valid_0']['map'])\n",
    "\n",
    "    return best_map  "
   ]
  },
  {
   "cell_type": "code",
   "execution_count": null,
   "metadata": {
    "id": "rRB7-P-90gEG"
   },
   "outputs": [],
   "source": [
    "study = optuna.create_study(direction='maximize')\n",
    "study.optimize(objective, n_trials=500)"
   ]
  },
  {
   "cell_type": "code",
   "execution_count": null,
   "metadata": {
    "id": "wIJsL3RR0gEG",
    "outputId": "213d04cd-0125-42b2-a42d-e6b932d65061"
   },
   "outputs": [
    {
     "data": {
      "text/plain": [
       "{'learning_rate': 0.062410997759006485,\n",
       " 'n_estimators': 3427,\n",
       " 'max_depth': 6,\n",
       " 'num_leaves': 23,\n",
       " 'min_child_samples': 74,\n",
       " 'reg_lambda': 0.8799886723716531,\n",
       " 'colsample_bytree': 0.5494895379572062,\n",
       " 'subsample': 0.848913826618584}"
      ]
     },
     "execution_count": 49,
     "metadata": {},
     "output_type": "execute_result"
    }
   ],
   "source": [
    "study.best_trial.params"
   ]
  },
  {
   "cell_type": "code",
   "execution_count": null,
   "metadata": {
    "id": "fzWYPmh40gEG",
    "outputId": "c2c5a181-1b7e-41be-bb3e-aac1083ba14a"
   },
   "outputs": [
    {
     "data": {
      "text/html": [
       "<style>#sk-container-id-3 {\n",
       "  /* Definition of color scheme common for light and dark mode */\n",
       "  --sklearn-color-text: black;\n",
       "  --sklearn-color-line: gray;\n",
       "  /* Definition of color scheme for unfitted estimators */\n",
       "  --sklearn-color-unfitted-level-0: #fff5e6;\n",
       "  --sklearn-color-unfitted-level-1: #f6e4d2;\n",
       "  --sklearn-color-unfitted-level-2: #ffe0b3;\n",
       "  --sklearn-color-unfitted-level-3: chocolate;\n",
       "  /* Definition of color scheme for fitted estimators */\n",
       "  --sklearn-color-fitted-level-0: #f0f8ff;\n",
       "  --sklearn-color-fitted-level-1: #d4ebff;\n",
       "  --sklearn-color-fitted-level-2: #b3dbfd;\n",
       "  --sklearn-color-fitted-level-3: cornflowerblue;\n",
       "\n",
       "  /* Specific color for light theme */\n",
       "  --sklearn-color-text-on-default-background: var(--sg-text-color, var(--theme-code-foreground, var(--jp-content-font-color1, black)));\n",
       "  --sklearn-color-background: var(--sg-background-color, var(--theme-background, var(--jp-layout-color0, white)));\n",
       "  --sklearn-color-border-box: var(--sg-text-color, var(--theme-code-foreground, var(--jp-content-font-color1, black)));\n",
       "  --sklearn-color-icon: #696969;\n",
       "\n",
       "  @media (prefers-color-scheme: dark) {\n",
       "    /* Redefinition of color scheme for dark theme */\n",
       "    --sklearn-color-text-on-default-background: var(--sg-text-color, var(--theme-code-foreground, var(--jp-content-font-color1, white)));\n",
       "    --sklearn-color-background: var(--sg-background-color, var(--theme-background, var(--jp-layout-color0, #111)));\n",
       "    --sklearn-color-border-box: var(--sg-text-color, var(--theme-code-foreground, var(--jp-content-font-color1, white)));\n",
       "    --sklearn-color-icon: #878787;\n",
       "  }\n",
       "}\n",
       "\n",
       "#sk-container-id-3 {\n",
       "  color: var(--sklearn-color-text);\n",
       "}\n",
       "\n",
       "#sk-container-id-3 pre {\n",
       "  padding: 0;\n",
       "}\n",
       "\n",
       "#sk-container-id-3 input.sk-hidden--visually {\n",
       "  border: 0;\n",
       "  clip: rect(1px 1px 1px 1px);\n",
       "  clip: rect(1px, 1px, 1px, 1px);\n",
       "  height: 1px;\n",
       "  margin: -1px;\n",
       "  overflow: hidden;\n",
       "  padding: 0;\n",
       "  position: absolute;\n",
       "  width: 1px;\n",
       "}\n",
       "\n",
       "#sk-container-id-3 div.sk-dashed-wrapped {\n",
       "  border: 1px dashed var(--sklearn-color-line);\n",
       "  margin: 0 0.4em 0.5em 0.4em;\n",
       "  box-sizing: border-box;\n",
       "  padding-bottom: 0.4em;\n",
       "  background-color: var(--sklearn-color-background);\n",
       "}\n",
       "\n",
       "#sk-container-id-3 div.sk-container {\n",
       "  /* jupyter's `normalize.less` sets `[hidden] { display: none; }`\n",
       "     but bootstrap.min.css set `[hidden] { display: none !important; }`\n",
       "     so we also need the `!important` here to be able to override the\n",
       "     default hidden behavior on the sphinx rendered scikit-learn.org.\n",
       "     See: https://github.com/scikit-learn/scikit-learn/issues/21755 */\n",
       "  display: inline-block !important;\n",
       "  position: relative;\n",
       "}\n",
       "\n",
       "#sk-container-id-3 div.sk-text-repr-fallback {\n",
       "  display: none;\n",
       "}\n",
       "\n",
       "div.sk-parallel-item,\n",
       "div.sk-serial,\n",
       "div.sk-item {\n",
       "  /* draw centered vertical line to link estimators */\n",
       "  background-image: linear-gradient(var(--sklearn-color-text-on-default-background), var(--sklearn-color-text-on-default-background));\n",
       "  background-size: 2px 100%;\n",
       "  background-repeat: no-repeat;\n",
       "  background-position: center center;\n",
       "}\n",
       "\n",
       "/* Parallel-specific style estimator block */\n",
       "\n",
       "#sk-container-id-3 div.sk-parallel-item::after {\n",
       "  content: \"\";\n",
       "  width: 100%;\n",
       "  border-bottom: 2px solid var(--sklearn-color-text-on-default-background);\n",
       "  flex-grow: 1;\n",
       "}\n",
       "\n",
       "#sk-container-id-3 div.sk-parallel {\n",
       "  display: flex;\n",
       "  align-items: stretch;\n",
       "  justify-content: center;\n",
       "  background-color: var(--sklearn-color-background);\n",
       "  position: relative;\n",
       "}\n",
       "\n",
       "#sk-container-id-3 div.sk-parallel-item {\n",
       "  display: flex;\n",
       "  flex-direction: column;\n",
       "}\n",
       "\n",
       "#sk-container-id-3 div.sk-parallel-item:first-child::after {\n",
       "  align-self: flex-end;\n",
       "  width: 50%;\n",
       "}\n",
       "\n",
       "#sk-container-id-3 div.sk-parallel-item:last-child::after {\n",
       "  align-self: flex-start;\n",
       "  width: 50%;\n",
       "}\n",
       "\n",
       "#sk-container-id-3 div.sk-parallel-item:only-child::after {\n",
       "  width: 0;\n",
       "}\n",
       "\n",
       "/* Serial-specific style estimator block */\n",
       "\n",
       "#sk-container-id-3 div.sk-serial {\n",
       "  display: flex;\n",
       "  flex-direction: column;\n",
       "  align-items: center;\n",
       "  background-color: var(--sklearn-color-background);\n",
       "  padding-right: 1em;\n",
       "  padding-left: 1em;\n",
       "}\n",
       "\n",
       "\n",
       "/* Toggleable style: style used for estimator/Pipeline/ColumnTransformer box that is\n",
       "clickable and can be expanded/collapsed.\n",
       "- Pipeline and ColumnTransformer use this feature and define the default style\n",
       "- Estimators will overwrite some part of the style using the `sk-estimator` class\n",
       "*/\n",
       "\n",
       "/* Pipeline and ColumnTransformer style (default) */\n",
       "\n",
       "#sk-container-id-3 div.sk-toggleable {\n",
       "  /* Default theme specific background. It is overwritten whether we have a\n",
       "  specific estimator or a Pipeline/ColumnTransformer */\n",
       "  background-color: var(--sklearn-color-background);\n",
       "}\n",
       "\n",
       "/* Toggleable label */\n",
       "#sk-container-id-3 label.sk-toggleable__label {\n",
       "  cursor: pointer;\n",
       "  display: block;\n",
       "  width: 100%;\n",
       "  margin-bottom: 0;\n",
       "  padding: 0.5em;\n",
       "  box-sizing: border-box;\n",
       "  text-align: center;\n",
       "}\n",
       "\n",
       "#sk-container-id-3 label.sk-toggleable__label-arrow:before {\n",
       "  /* Arrow on the left of the label */\n",
       "  content: \"▸\";\n",
       "  float: left;\n",
       "  margin-right: 0.25em;\n",
       "  color: var(--sklearn-color-icon);\n",
       "}\n",
       "\n",
       "#sk-container-id-3 label.sk-toggleable__label-arrow:hover:before {\n",
       "  color: var(--sklearn-color-text);\n",
       "}\n",
       "\n",
       "/* Toggleable content - dropdown */\n",
       "\n",
       "#sk-container-id-3 div.sk-toggleable__content {\n",
       "  max-height: 0;\n",
       "  max-width: 0;\n",
       "  overflow: hidden;\n",
       "  text-align: left;\n",
       "  /* unfitted */\n",
       "  background-color: var(--sklearn-color-unfitted-level-0);\n",
       "}\n",
       "\n",
       "#sk-container-id-3 div.sk-toggleable__content.fitted {\n",
       "  /* fitted */\n",
       "  background-color: var(--sklearn-color-fitted-level-0);\n",
       "}\n",
       "\n",
       "#sk-container-id-3 div.sk-toggleable__content pre {\n",
       "  margin: 0.2em;\n",
       "  border-radius: 0.25em;\n",
       "  color: var(--sklearn-color-text);\n",
       "  /* unfitted */\n",
       "  background-color: var(--sklearn-color-unfitted-level-0);\n",
       "}\n",
       "\n",
       "#sk-container-id-3 div.sk-toggleable__content.fitted pre {\n",
       "  /* unfitted */\n",
       "  background-color: var(--sklearn-color-fitted-level-0);\n",
       "}\n",
       "\n",
       "#sk-container-id-3 input.sk-toggleable__control:checked~div.sk-toggleable__content {\n",
       "  /* Expand drop-down */\n",
       "  max-height: 200px;\n",
       "  max-width: 100%;\n",
       "  overflow: auto;\n",
       "}\n",
       "\n",
       "#sk-container-id-3 input.sk-toggleable__control:checked~label.sk-toggleable__label-arrow:before {\n",
       "  content: \"▾\";\n",
       "}\n",
       "\n",
       "/* Pipeline/ColumnTransformer-specific style */\n",
       "\n",
       "#sk-container-id-3 div.sk-label input.sk-toggleable__control:checked~label.sk-toggleable__label {\n",
       "  color: var(--sklearn-color-text);\n",
       "  background-color: var(--sklearn-color-unfitted-level-2);\n",
       "}\n",
       "\n",
       "#sk-container-id-3 div.sk-label.fitted input.sk-toggleable__control:checked~label.sk-toggleable__label {\n",
       "  background-color: var(--sklearn-color-fitted-level-2);\n",
       "}\n",
       "\n",
       "/* Estimator-specific style */\n",
       "\n",
       "/* Colorize estimator box */\n",
       "#sk-container-id-3 div.sk-estimator input.sk-toggleable__control:checked~label.sk-toggleable__label {\n",
       "  /* unfitted */\n",
       "  background-color: var(--sklearn-color-unfitted-level-2);\n",
       "}\n",
       "\n",
       "#sk-container-id-3 div.sk-estimator.fitted input.sk-toggleable__control:checked~label.sk-toggleable__label {\n",
       "  /* fitted */\n",
       "  background-color: var(--sklearn-color-fitted-level-2);\n",
       "}\n",
       "\n",
       "#sk-container-id-3 div.sk-label label.sk-toggleable__label,\n",
       "#sk-container-id-3 div.sk-label label {\n",
       "  /* The background is the default theme color */\n",
       "  color: var(--sklearn-color-text-on-default-background);\n",
       "}\n",
       "\n",
       "/* On hover, darken the color of the background */\n",
       "#sk-container-id-3 div.sk-label:hover label.sk-toggleable__label {\n",
       "  color: var(--sklearn-color-text);\n",
       "  background-color: var(--sklearn-color-unfitted-level-2);\n",
       "}\n",
       "\n",
       "/* Label box, darken color on hover, fitted */\n",
       "#sk-container-id-3 div.sk-label.fitted:hover label.sk-toggleable__label.fitted {\n",
       "  color: var(--sklearn-color-text);\n",
       "  background-color: var(--sklearn-color-fitted-level-2);\n",
       "}\n",
       "\n",
       "/* Estimator label */\n",
       "\n",
       "#sk-container-id-3 div.sk-label label {\n",
       "  font-family: monospace;\n",
       "  font-weight: bold;\n",
       "  display: inline-block;\n",
       "  line-height: 1.2em;\n",
       "}\n",
       "\n",
       "#sk-container-id-3 div.sk-label-container {\n",
       "  text-align: center;\n",
       "}\n",
       "\n",
       "/* Estimator-specific */\n",
       "#sk-container-id-3 div.sk-estimator {\n",
       "  font-family: monospace;\n",
       "  border: 1px dotted var(--sklearn-color-border-box);\n",
       "  border-radius: 0.25em;\n",
       "  box-sizing: border-box;\n",
       "  margin-bottom: 0.5em;\n",
       "  /* unfitted */\n",
       "  background-color: var(--sklearn-color-unfitted-level-0);\n",
       "}\n",
       "\n",
       "#sk-container-id-3 div.sk-estimator.fitted {\n",
       "  /* fitted */\n",
       "  background-color: var(--sklearn-color-fitted-level-0);\n",
       "}\n",
       "\n",
       "/* on hover */\n",
       "#sk-container-id-3 div.sk-estimator:hover {\n",
       "  /* unfitted */\n",
       "  background-color: var(--sklearn-color-unfitted-level-2);\n",
       "}\n",
       "\n",
       "#sk-container-id-3 div.sk-estimator.fitted:hover {\n",
       "  /* fitted */\n",
       "  background-color: var(--sklearn-color-fitted-level-2);\n",
       "}\n",
       "\n",
       "/* Specification for estimator info (e.g. \"i\" and \"?\") */\n",
       "\n",
       "/* Common style for \"i\" and \"?\" */\n",
       "\n",
       ".sk-estimator-doc-link,\n",
       "a:link.sk-estimator-doc-link,\n",
       "a:visited.sk-estimator-doc-link {\n",
       "  float: right;\n",
       "  font-size: smaller;\n",
       "  line-height: 1em;\n",
       "  font-family: monospace;\n",
       "  background-color: var(--sklearn-color-background);\n",
       "  border-radius: 1em;\n",
       "  height: 1em;\n",
       "  width: 1em;\n",
       "  text-decoration: none !important;\n",
       "  margin-left: 1ex;\n",
       "  /* unfitted */\n",
       "  border: var(--sklearn-color-unfitted-level-1) 1pt solid;\n",
       "  color: var(--sklearn-color-unfitted-level-1);\n",
       "}\n",
       "\n",
       ".sk-estimator-doc-link.fitted,\n",
       "a:link.sk-estimator-doc-link.fitted,\n",
       "a:visited.sk-estimator-doc-link.fitted {\n",
       "  /* fitted */\n",
       "  border: var(--sklearn-color-fitted-level-1) 1pt solid;\n",
       "  color: var(--sklearn-color-fitted-level-1);\n",
       "}\n",
       "\n",
       "/* On hover */\n",
       "div.sk-estimator:hover .sk-estimator-doc-link:hover,\n",
       ".sk-estimator-doc-link:hover,\n",
       "div.sk-label-container:hover .sk-estimator-doc-link:hover,\n",
       ".sk-estimator-doc-link:hover {\n",
       "  /* unfitted */\n",
       "  background-color: var(--sklearn-color-unfitted-level-3);\n",
       "  color: var(--sklearn-color-background);\n",
       "  text-decoration: none;\n",
       "}\n",
       "\n",
       "div.sk-estimator.fitted:hover .sk-estimator-doc-link.fitted:hover,\n",
       ".sk-estimator-doc-link.fitted:hover,\n",
       "div.sk-label-container:hover .sk-estimator-doc-link.fitted:hover,\n",
       ".sk-estimator-doc-link.fitted:hover {\n",
       "  /* fitted */\n",
       "  background-color: var(--sklearn-color-fitted-level-3);\n",
       "  color: var(--sklearn-color-background);\n",
       "  text-decoration: none;\n",
       "}\n",
       "\n",
       "/* Span, style for the box shown on hovering the info icon */\n",
       ".sk-estimator-doc-link span {\n",
       "  display: none;\n",
       "  z-index: 9999;\n",
       "  position: relative;\n",
       "  font-weight: normal;\n",
       "  right: .2ex;\n",
       "  padding: .5ex;\n",
       "  margin: .5ex;\n",
       "  width: min-content;\n",
       "  min-width: 20ex;\n",
       "  max-width: 50ex;\n",
       "  color: var(--sklearn-color-text);\n",
       "  box-shadow: 2pt 2pt 4pt #999;\n",
       "  /* unfitted */\n",
       "  background: var(--sklearn-color-unfitted-level-0);\n",
       "  border: .5pt solid var(--sklearn-color-unfitted-level-3);\n",
       "}\n",
       "\n",
       ".sk-estimator-doc-link.fitted span {\n",
       "  /* fitted */\n",
       "  background: var(--sklearn-color-fitted-level-0);\n",
       "  border: var(--sklearn-color-fitted-level-3);\n",
       "}\n",
       "\n",
       ".sk-estimator-doc-link:hover span {\n",
       "  display: block;\n",
       "}\n",
       "\n",
       "/* \"?\"-specific style due to the `<a>` HTML tag */\n",
       "\n",
       "#sk-container-id-3 a.estimator_doc_link {\n",
       "  float: right;\n",
       "  font-size: 1rem;\n",
       "  line-height: 1em;\n",
       "  font-family: monospace;\n",
       "  background-color: var(--sklearn-color-background);\n",
       "  border-radius: 1rem;\n",
       "  height: 1rem;\n",
       "  width: 1rem;\n",
       "  text-decoration: none;\n",
       "  /* unfitted */\n",
       "  color: var(--sklearn-color-unfitted-level-1);\n",
       "  border: var(--sklearn-color-unfitted-level-1) 1pt solid;\n",
       "}\n",
       "\n",
       "#sk-container-id-3 a.estimator_doc_link.fitted {\n",
       "  /* fitted */\n",
       "  border: var(--sklearn-color-fitted-level-1) 1pt solid;\n",
       "  color: var(--sklearn-color-fitted-level-1);\n",
       "}\n",
       "\n",
       "/* On hover */\n",
       "#sk-container-id-3 a.estimator_doc_link:hover {\n",
       "  /* unfitted */\n",
       "  background-color: var(--sklearn-color-unfitted-level-3);\n",
       "  color: var(--sklearn-color-background);\n",
       "  text-decoration: none;\n",
       "}\n",
       "\n",
       "#sk-container-id-3 a.estimator_doc_link.fitted:hover {\n",
       "  /* fitted */\n",
       "  background-color: var(--sklearn-color-fitted-level-3);\n",
       "}\n",
       "</style><div id=\"sk-container-id-3\" class=\"sk-top-container\"><div class=\"sk-text-repr-fallback\"><pre>LGBMRanker(colsample_bytree=0.5494895379572062, early_stopping_rounds=32,\n",
       "           learning_rate=0.062410997759006485, max_depth=6, metric=&#x27;map&#x27;,\n",
       "           min_child_samples=74, n_estimators=3427, num_leaves=23,\n",
       "           objective=&#x27;lambdarank&#x27;, random_state=0,\n",
       "           reg_lambda=0.8799886723716531, subsample=0.848913826618584,\n",
       "           verbosity=-1)</pre><b>In a Jupyter environment, please rerun this cell to show the HTML representation or trust the notebook. <br />On GitHub, the HTML representation is unable to render, please try loading this page with nbviewer.org.</b></div><div class=\"sk-container\" hidden><div class=\"sk-item\"><div class=\"sk-estimator fitted sk-toggleable\"><input class=\"sk-toggleable__control sk-hidden--visually\" id=\"sk-estimator-id-3\" type=\"checkbox\" checked><label for=\"sk-estimator-id-3\" class=\"sk-toggleable__label fitted sk-toggleable__label-arrow fitted\">&nbsp;LGBMRanker<span class=\"sk-estimator-doc-link fitted\">i<span>Fitted</span></span></label><div class=\"sk-toggleable__content fitted\"><pre>LGBMRanker(colsample_bytree=0.5494895379572062, early_stopping_rounds=32,\n",
       "           learning_rate=0.062410997759006485, max_depth=6, metric=&#x27;map&#x27;,\n",
       "           min_child_samples=74, n_estimators=3427, num_leaves=23,\n",
       "           objective=&#x27;lambdarank&#x27;, random_state=0,\n",
       "           reg_lambda=0.8799886723716531, subsample=0.848913826618584,\n",
       "           verbosity=-1)</pre></div> </div></div></div></div>"
      ],
      "text/plain": [
       "LGBMRanker(colsample_bytree=0.5494895379572062, early_stopping_rounds=32,\n",
       "           learning_rate=0.062410997759006485, max_depth=6, metric='map',\n",
       "           min_child_samples=74, n_estimators=3427, num_leaves=23,\n",
       "           objective='lambdarank', random_state=0,\n",
       "           reg_lambda=0.8799886723716531, subsample=0.848913826618584,\n",
       "           verbosity=-1)"
      ]
     },
     "execution_count": 56,
     "metadata": {},
     "output_type": "execute_result"
    }
   ],
   "source": [
    "best_params = study.best_trial.params\n",
    "best_params['objective'] = 'lambdarank'\n",
    "best_params['metric'] = 'map'\n",
    "best_params['verbosity'] = -1\n",
    "best_params['random_state'] = 0\n",
    "\n",
    "fit_params = {\n",
    "    'X': train_df[cols],\n",
    "    'y': train_df['weight'],\n",
    "    'group': get_group(train_df),\n",
    "    'eval_set': [(val_df[cols], val_df['weight'])],\n",
    "    'eval_group': [get_group(val_df)],\n",
    "    'eval_metric': 'map',\n",
    "    'eval_at': (1, 5, 10),\n",
    "    'feature_name': cols,\n",
    "}\n",
    "listwise_model = LGBMRanker(**best_params, early_stopping_rounds = 32)\n",
    "listwise_model.fit(**fit_params)"
   ]
  },
  {
   "cell_type": "code",
   "execution_count": null,
   "metadata": {
    "id": "Gh3kmEV60gEG"
   },
   "outputs": [],
   "source": []
  },
  {
   "cell_type": "code",
   "execution_count": null,
   "metadata": {
    "id": "VSqzyX9S0gEG"
   },
   "outputs": [],
   "source": [
    "test_df = pd.read_parquet('recommendations_df_test.parquet')"
   ]
  },
  {
   "cell_type": "code",
   "execution_count": null,
   "metadata": {
    "id": "2Nc5dkZz0gEG"
   },
   "outputs": [],
   "source": [
    "warm_test = pd.read_parquet('warm_test_2.parquet')"
   ]
  },
  {
   "cell_type": "code",
   "execution_count": null,
   "metadata": {
    "id": "Lcsdi_j70gEG"
   },
   "outputs": [],
   "source": [
    "warm_test['weight'] = 1\n",
    "warm_test = warm_test.rename(\n",
    "    columns={\n",
    "        'dt': Columns.Datetime,\n",
    "        'nm_id': 'item_id',\n",
    "        'wbuser_id': 'user_id',\n",
    "    }\n",
    ")"
   ]
  },
  {
   "cell_type": "code",
   "execution_count": null,
   "metadata": {
    "id": "rmE3TRoq0gEH"
   },
   "outputs": [],
   "source": [
    "listwise_df = test_df[[\"user_id\", \"item_id\"]].copy()\n",
    "listwise_df[\"listwise_score\"] = listwise_model.predict(test_df[cols])\n",
    "listwise_df = listwise_df.sort_values([\"user_id\", \"listwise_score\"], ascending=[True, False])"
   ]
  },
  {
   "cell_type": "code",
   "execution_count": null,
   "metadata": {
    "id": "Jkz174qS0gEH"
   },
   "outputs": [],
   "source": [
    "listwise_df['rank'] = listwise_df.groupby('user_id').cumcount() + 1"
   ]
  },
  {
   "cell_type": "code",
   "execution_count": null,
   "metadata": {},
   "outputs": [],
   "source": [
    "listwise_df"
   ]
  },
  {
   "cell_type": "code",
   "execution_count": null,
   "metadata": {
    "id": "qDtND1VU0gEH"
   },
   "outputs": [],
   "source": [
    "metrics = {\n",
    "    \"hit_rate@10\": HitRate(k=10),\n",
    "    \"serendipity@10\": Serendipity(k=10),\n",
    "    \"Recall@10\": Recall(k=10),\n",
    "    \"MAP@10\": MAP(k=10),\n",
    "    \"MRR@10\": MRR(k=10),\n",
    "    \"pop_bias@10\": AvgRecPopularity(k=10),\n",
    "}\n",
    "catalog = first_train[Columns.Item].unique()\n",
    "\n",
    "listwise_metrics = calc_metrics(\n",
    "    metrics=metrics,\n",
    "    reco=(\n",
    "        listwise_df\n",
    "        .rename(columns={'listwise_rank': Columns.Rank})\n",
    "        [[Columns.User, Columns.Item, Columns.Rank]]\n",
    "    ),\n",
    "    interactions=(\n",
    "        warm_test\n",
    "        [[Columns.User, Columns.Item, Columns.Weight]]\n",
    "    ),\n",
    "    prev_interactions=(\n",
    "        first_train\n",
    "        [[Columns.User, Columns.Item, Columns.Weight]]\n",
    "    ),\n",
    "    catalog=catalog\n",
    ")"
   ]
  },
  {
   "cell_type": "code",
   "execution_count": null,
   "metadata": {
    "id": "ux-96k530gEH",
    "outputId": "686ec660-74fd-4be0-9900-b96141ed3398"
   },
   "outputs": [
    {
     "data": {
      "text/plain": [
       "{'hit_rate@10': 0.6423118445404071,\n",
       " 'Recall@10': 0.3784122455274522,\n",
       " 'MRR@10': 0.4309380905868414,\n",
       " 'MAP@10': 0.2656746911506223,\n",
       " 'pop_bias@10': 1317.0123650524365,\n",
       " 'serendipity@10': 0.0044344959816185175}"
      ]
     },
     "execution_count": 66,
     "metadata": {},
     "output_type": "execute_result"
    }
   ],
   "source": [
    "listwise_metrics"
   ]
  },
  {
   "cell_type": "code",
   "execution_count": null,
   "metadata": {
    "id": "I3iNCq920gEH"
   },
   "outputs": [],
   "source": [
    "models_results_df_test = pd.read_parquet('models_results_df_test.parquet')"
   ]
  },
  {
   "cell_type": "code",
   "execution_count": null,
   "metadata": {
    "id": "b6RTtlZ30gEH"
   },
   "outputs": [],
   "source": [
    "models_results_df_test[\"LGBM\"] = [listwise_metrics[metric] for metric in models_results_df_test.index]"
   ]
  },
  {
   "cell_type": "markdown",
   "metadata": {},
   "source": [
    "## Важность признаков для LGBM"
   ]
  },
  {
   "cell_type": "code",
   "execution_count": null,
   "metadata": {
    "id": "tO5juNuf0gEH",
    "outputId": "35bb77ed-feaf-4ecf-b4ec-1d0f4ff49a7e"
   },
   "outputs": [
    {
     "data": {
      "image/png": "[encoded data removed]",
      "text/plain": [
       "<Figure size 800x1050 with 1 Axes>"
      ]
     },
     "metadata": {},
     "output_type": "display_data"
    }
   ],
   "source": [
    "import shap\n",
    "explainer = shap.Explainer(listwise_model)\n",
    "shap_values = explainer(test_df[cols])\n",
    "shap.plots.bar(shap_values, max_display=len(cols))"
   ]
  },
  {
   "cell_type": "code",
   "execution_count": null,
   "metadata": {
    "id": "UXU2hXYZ0gEI"
   },
   "outputs": [],
   "source": []
  },
  {
   "cell_type": "code",
   "execution_count": null,
   "metadata": {
    "id": "5hvkG79Z0gEI"
   },
   "outputs": [],
   "source": [
    "def get_xgboost_group(df):\n",
    "    counts = df[['user_id', 'item_id']].groupby(by=['user_id']).count()['item_id'].values\n",
    "    group_id = 1\n",
    "    for count in counts:\n",
    "        for i in range(count):\n",
    "            yield group_id\n",
    "        group_id += 1"
   ]
  },
  {
   "cell_type": "code",
   "execution_count": null,
   "metadata": {
    "id": "4siGJ-aw0gEI"
   },
   "outputs": [],
   "source": [
    "quids = list(get_xgboost_group(train_df))"
   ]
  },
  {
   "cell_type": "code",
   "execution_count": null,
   "metadata": {
    "id": "i8EG-Pj10gEI"
   },
   "outputs": [],
   "source": [
    "xgb_cols = cols"
   ]
  },
  {
   "cell_type": "code",
   "execution_count": null,
   "metadata": {
    "id": "LLh9AHd40gEI"
   },
   "outputs": [],
   "source": [
    "import xgboost as xgb"
   ]
  },
  {
   "cell_type": "code",
   "execution_count": null,
   "metadata": {
    "id": "Hcq9VtqX0gEJ"
   },
   "outputs": [],
   "source": [
    "def get_xgboost_group(df, group_col='user_id'):\n",
    "    return df.groupby(group_col).size().tolist()\n",
    "train_group = get_xgboost_group(train_df)\n",
    "val_group = get_xgboost_group(val_df)"
   ]
  },
  {
   "cell_type": "code",
   "execution_count": null,
   "metadata": {
    "id": "AQg0b22E0gEJ"
   },
   "outputs": [],
   "source": [
    "def objective(trial):\n",
    "    param = {\n",
    "        'n_estimators': trial.suggest_int('n_estimators', 100, 1000),\n",
    "        'max_depth': trial.suggest_int('max_depth', 3, 10),\n",
    "        'learning_rate': trial.suggest_float('learning_rate', 0.01, 0.3, log=True),\n",
    "        'subsample': trial.suggest_float('subsample', 0.5, 1.0),\n",
    "        'colsample_bytree': trial.suggest_float('colsample_bytree', 0.5, 1.0),\n",
    "        'min_child_weight': trial.suggest_int('min_child_weight', 1, 10),\n",
    "        'gamma': trial.suggest_float('gamma', 1e-3, 1.0, log=True),\n",
    "        'lambda': trial.suggest_float('lambda', 1e-3, 10.0, log=True),\n",
    "        'alpha': trial.suggest_float('alpha', 1e-3, 10.0, log=True),\n",
    "        'max_leaves': trial.suggest_int('max_leaves', 16, 64),\n",
    "        'tree_method': 'hist',\n",
    "        'objective': 'rank:map',\n",
    "        'eval_metric': 'map',\n",
    "        'verbosity': 0,\n",
    "        'random_state': 42,\n",
    "        'n_jobs': -1\n",
    "    }\n",
    "\n",
    "    model = xgb.XGBRanker(**param)\n",
    "\n",
    "    model.fit(\n",
    "        train_df[xgb_cols],\n",
    "        train_df['weight'],\n",
    "        group=train_group,\n",
    "        eval_set=[(val_df[xgb_cols], val_df['weight'])],\n",
    "        eval_group=[val_group],\n",
    "        verbose=False\n",
    "    )\n",
    "\n",
    "    evals_result = model.evals_result()\n",
    "    map_val = evals_result['validation_0']['map'][-1]\n",
    "\n",
    "    return map_val"
   ]
  },
  {
   "cell_type": "code",
   "execution_count": null,
   "metadata": {},
   "outputs": [],
   "source": [
    "study = optuna.create_study(direction='maximize', study_name='xgb_ranker_map_optimization')\n",
    "study.optimize(objective, n_trials=50)"
   ]
  },
  {
   "cell_type": "code",
   "execution_count": null,
   "metadata": {
    "id": "qqBdM9LR0gEJ",
    "outputId": "32bcf3fb-03de-4b1d-8d2f-cab862d639a8"
   },
   "outputs": [
    {
     "data": {
      "text/plain": [
       "{'n_estimators': 779,\n",
       " 'max_depth': 10,\n",
       " 'learning_rate': 0.028229752010860996,\n",
       " 'subsample': 0.549626333911696,\n",
       " 'colsample_bytree': 0.811893008351086,\n",
       " 'min_child_weight': 4,\n",
       " 'gamma': 0.011652061497653847,\n",
       " 'lambda': 0.02160312791766124,\n",
       " 'alpha': 0.06622670101921636,\n",
       " 'max_leaves': 37}"
      ]
     },
     "execution_count": 78,
     "metadata": {},
     "output_type": "execute_result"
    }
   ],
   "source": [
    "study.best_trial.params"
   ]
  },
  {
   "cell_type": "code",
   "execution_count": null,
   "metadata": {
    "id": "bGgl_9dp0gEJ"
   },
   "outputs": [],
   "source": [
    "best_params = study.best_trial.params\n",
    "best_params['tree_method'] = 'hist'\n",
    "best_params['objective'] = 'rank:map'\n",
    "best_params['eval_metric'] = 'map'\n",
    "best_params['verbosity'] = 1\n",
    "best_params['random_state'] = 42\n",
    "best_params['n_jobs'] = -1"
   ]
  },
  {
   "cell_type": "code",
   "execution_count": null,
   "metadata": {
    "id": "Y1qmlb7e0gEJ",
    "outputId": "4e7a5353-6b1c-4cc9-e174-a67917468d7c"
   },
   "outputs": [
    {
     "data": {
      "text/html": [
       "<style>#sk-container-id-4 {\n",
       "  /* Definition of color scheme common for light and dark mode */\n",
       "  --sklearn-color-text: black;\n",
       "  --sklearn-color-line: gray;\n",
       "  /* Definition of color scheme for unfitted estimators */\n",
       "  --sklearn-color-unfitted-level-0: #fff5e6;\n",
       "  --sklearn-color-unfitted-level-1: #f6e4d2;\n",
       "  --sklearn-color-unfitted-level-2: #ffe0b3;\n",
       "  --sklearn-color-unfitted-level-3: chocolate;\n",
       "  /* Definition of color scheme for fitted estimators */\n",
       "  --sklearn-color-fitted-level-0: #f0f8ff;\n",
       "  --sklearn-color-fitted-level-1: #d4ebff;\n",
       "  --sklearn-color-fitted-level-2: #b3dbfd;\n",
       "  --sklearn-color-fitted-level-3: cornflowerblue;\n",
       "\n",
       "  /* Specific color for light theme */\n",
       "  --sklearn-color-text-on-default-background: var(--sg-text-color, var(--theme-code-foreground, var(--jp-content-font-color1, black)));\n",
       "  --sklearn-color-background: var(--sg-background-color, var(--theme-background, var(--jp-layout-color0, white)));\n",
       "  --sklearn-color-border-box: var(--sg-text-color, var(--theme-code-foreground, var(--jp-content-font-color1, black)));\n",
       "  --sklearn-color-icon: #696969;\n",
       "\n",
       "  @media (prefers-color-scheme: dark) {\n",
       "    /* Redefinition of color scheme for dark theme */\n",
       "    --sklearn-color-text-on-default-background: var(--sg-text-color, var(--theme-code-foreground, var(--jp-content-font-color1, white)));\n",
       "    --sklearn-color-background: var(--sg-background-color, var(--theme-background, var(--jp-layout-color0, #111)));\n",
       "    --sklearn-color-border-box: var(--sg-text-color, var(--theme-code-foreground, var(--jp-content-font-color1, white)));\n",
       "    --sklearn-color-icon: #878787;\n",
       "  }\n",
       "}\n",
       "\n",
       "#sk-container-id-4 {\n",
       "  color: var(--sklearn-color-text);\n",
       "}\n",
       "\n",
       "#sk-container-id-4 pre {\n",
       "  padding: 0;\n",
       "}\n",
       "\n",
       "#sk-container-id-4 input.sk-hidden--visually {\n",
       "  border: 0;\n",
       "  clip: rect(1px 1px 1px 1px);\n",
       "  clip: rect(1px, 1px, 1px, 1px);\n",
       "  height: 1px;\n",
       "  margin: -1px;\n",
       "  overflow: hidden;\n",
       "  padding: 0;\n",
       "  position: absolute;\n",
       "  width: 1px;\n",
       "}\n",
       "\n",
       "#sk-container-id-4 div.sk-dashed-wrapped {\n",
       "  border: 1px dashed var(--sklearn-color-line);\n",
       "  margin: 0 0.4em 0.5em 0.4em;\n",
       "  box-sizing: border-box;\n",
       "  padding-bottom: 0.4em;\n",
       "  background-color: var(--sklearn-color-background);\n",
       "}\n",
       "\n",
       "#sk-container-id-4 div.sk-container {\n",
       "  /* jupyter's `normalize.less` sets `[hidden] { display: none; }`\n",
       "     but bootstrap.min.css set `[hidden] { display: none !important; }`\n",
       "     so we also need the `!important` here to be able to override the\n",
       "     default hidden behavior on the sphinx rendered scikit-learn.org.\n",
       "     See: https://github.com/scikit-learn/scikit-learn/issues/21755 */\n",
       "  display: inline-block !important;\n",
       "  position: relative;\n",
       "}\n",
       "\n",
       "#sk-container-id-4 div.sk-text-repr-fallback {\n",
       "  display: none;\n",
       "}\n",
       "\n",
       "div.sk-parallel-item,\n",
       "div.sk-serial,\n",
       "div.sk-item {\n",
       "  /* draw centered vertical line to link estimators */\n",
       "  background-image: linear-gradient(var(--sklearn-color-text-on-default-background), var(--sklearn-color-text-on-default-background));\n",
       "  background-size: 2px 100%;\n",
       "  background-repeat: no-repeat;\n",
       "  background-position: center center;\n",
       "}\n",
       "\n",
       "/* Parallel-specific style estimator block */\n",
       "\n",
       "#sk-container-id-4 div.sk-parallel-item::after {\n",
       "  content: \"\";\n",
       "  width: 100%;\n",
       "  border-bottom: 2px solid var(--sklearn-color-text-on-default-background);\n",
       "  flex-grow: 1;\n",
       "}\n",
       "\n",
       "#sk-container-id-4 div.sk-parallel {\n",
       "  display: flex;\n",
       "  align-items: stretch;\n",
       "  justify-content: center;\n",
       "  background-color: var(--sklearn-color-background);\n",
       "  position: relative;\n",
       "}\n",
       "\n",
       "#sk-container-id-4 div.sk-parallel-item {\n",
       "  display: flex;\n",
       "  flex-direction: column;\n",
       "}\n",
       "\n",
       "#sk-container-id-4 div.sk-parallel-item:first-child::after {\n",
       "  align-self: flex-end;\n",
       "  width: 50%;\n",
       "}\n",
       "\n",
       "#sk-container-id-4 div.sk-parallel-item:last-child::after {\n",
       "  align-self: flex-start;\n",
       "  width: 50%;\n",
       "}\n",
       "\n",
       "#sk-container-id-4 div.sk-parallel-item:only-child::after {\n",
       "  width: 0;\n",
       "}\n",
       "\n",
       "/* Serial-specific style estimator block */\n",
       "\n",
       "#sk-container-id-4 div.sk-serial {\n",
       "  display: flex;\n",
       "  flex-direction: column;\n",
       "  align-items: center;\n",
       "  background-color: var(--sklearn-color-background);\n",
       "  padding-right: 1em;\n",
       "  padding-left: 1em;\n",
       "}\n",
       "\n",
       "\n",
       "/* Toggleable style: style used for estimator/Pipeline/ColumnTransformer box that is\n",
       "clickable and can be expanded/collapsed.\n",
       "- Pipeline and ColumnTransformer use this feature and define the default style\n",
       "- Estimators will overwrite some part of the style using the `sk-estimator` class\n",
       "*/\n",
       "\n",
       "/* Pipeline and ColumnTransformer style (default) */\n",
       "\n",
       "#sk-container-id-4 div.sk-toggleable {\n",
       "  /* Default theme specific background. It is overwritten whether we have a\n",
       "  specific estimator or a Pipeline/ColumnTransformer */\n",
       "  background-color: var(--sklearn-color-background);\n",
       "}\n",
       "\n",
       "/* Toggleable label */\n",
       "#sk-container-id-4 label.sk-toggleable__label {\n",
       "  cursor: pointer;\n",
       "  display: block;\n",
       "  width: 100%;\n",
       "  margin-bottom: 0;\n",
       "  padding: 0.5em;\n",
       "  box-sizing: border-box;\n",
       "  text-align: center;\n",
       "}\n",
       "\n",
       "#sk-container-id-4 label.sk-toggleable__label-arrow:before {\n",
       "  /* Arrow on the left of the label */\n",
       "  content: \"▸\";\n",
       "  float: left;\n",
       "  margin-right: 0.25em;\n",
       "  color: var(--sklearn-color-icon);\n",
       "}\n",
       "\n",
       "#sk-container-id-4 label.sk-toggleable__label-arrow:hover:before {\n",
       "  color: var(--sklearn-color-text);\n",
       "}\n",
       "\n",
       "/* Toggleable content - dropdown */\n",
       "\n",
       "#sk-container-id-4 div.sk-toggleable__content {\n",
       "  max-height: 0;\n",
       "  max-width: 0;\n",
       "  overflow: hidden;\n",
       "  text-align: left;\n",
       "  /* unfitted */\n",
       "  background-color: var(--sklearn-color-unfitted-level-0);\n",
       "}\n",
       "\n",
       "#sk-container-id-4 div.sk-toggleable__content.fitted {\n",
       "  /* fitted */\n",
       "  background-color: var(--sklearn-color-fitted-level-0);\n",
       "}\n",
       "\n",
       "#sk-container-id-4 div.sk-toggleable__content pre {\n",
       "  margin: 0.2em;\n",
       "  border-radius: 0.25em;\n",
       "  color: var(--sklearn-color-text);\n",
       "  /* unfitted */\n",
       "  background-color: var(--sklearn-color-unfitted-level-0);\n",
       "}\n",
       "\n",
       "#sk-container-id-4 div.sk-toggleable__content.fitted pre {\n",
       "  /* unfitted */\n",
       "  background-color: var(--sklearn-color-fitted-level-0);\n",
       "}\n",
       "\n",
       "#sk-container-id-4 input.sk-toggleable__control:checked~div.sk-toggleable__content {\n",
       "  /* Expand drop-down */\n",
       "  max-height: 200px;\n",
       "  max-width: 100%;\n",
       "  overflow: auto;\n",
       "}\n",
       "\n",
       "#sk-container-id-4 input.sk-toggleable__control:checked~label.sk-toggleable__label-arrow:before {\n",
       "  content: \"▾\";\n",
       "}\n",
       "\n",
       "/* Pipeline/ColumnTransformer-specific style */\n",
       "\n",
       "#sk-container-id-4 div.sk-label input.sk-toggleable__control:checked~label.sk-toggleable__label {\n",
       "  color: var(--sklearn-color-text);\n",
       "  background-color: var(--sklearn-color-unfitted-level-2);\n",
       "}\n",
       "\n",
       "#sk-container-id-4 div.sk-label.fitted input.sk-toggleable__control:checked~label.sk-toggleable__label {\n",
       "  background-color: var(--sklearn-color-fitted-level-2);\n",
       "}\n",
       "\n",
       "/* Estimator-specific style */\n",
       "\n",
       "/* Colorize estimator box */\n",
       "#sk-container-id-4 div.sk-estimator input.sk-toggleable__control:checked~label.sk-toggleable__label {\n",
       "  /* unfitted */\n",
       "  background-color: var(--sklearn-color-unfitted-level-2);\n",
       "}\n",
       "\n",
       "#sk-container-id-4 div.sk-estimator.fitted input.sk-toggleable__control:checked~label.sk-toggleable__label {\n",
       "  /* fitted */\n",
       "  background-color: var(--sklearn-color-fitted-level-2);\n",
       "}\n",
       "\n",
       "#sk-container-id-4 div.sk-label label.sk-toggleable__label,\n",
       "#sk-container-id-4 div.sk-label label {\n",
       "  /* The background is the default theme color */\n",
       "  color: var(--sklearn-color-text-on-default-background);\n",
       "}\n",
       "\n",
       "/* On hover, darken the color of the background */\n",
       "#sk-container-id-4 div.sk-label:hover label.sk-toggleable__label {\n",
       "  color: var(--sklearn-color-text);\n",
       "  background-color: var(--sklearn-color-unfitted-level-2);\n",
       "}\n",
       "\n",
       "/* Label box, darken color on hover, fitted */\n",
       "#sk-container-id-4 div.sk-label.fitted:hover label.sk-toggleable__label.fitted {\n",
       "  color: var(--sklearn-color-text);\n",
       "  background-color: var(--sklearn-color-fitted-level-2);\n",
       "}\n",
       "\n",
       "/* Estimator label */\n",
       "\n",
       "#sk-container-id-4 div.sk-label label {\n",
       "  font-family: monospace;\n",
       "  font-weight: bold;\n",
       "  display: inline-block;\n",
       "  line-height: 1.2em;\n",
       "}\n",
       "\n",
       "#sk-container-id-4 div.sk-label-container {\n",
       "  text-align: center;\n",
       "}\n",
       "\n",
       "/* Estimator-specific */\n",
       "#sk-container-id-4 div.sk-estimator {\n",
       "  font-family: monospace;\n",
       "  border: 1px dotted var(--sklearn-color-border-box);\n",
       "  border-radius: 0.25em;\n",
       "  box-sizing: border-box;\n",
       "  margin-bottom: 0.5em;\n",
       "  /* unfitted */\n",
       "  background-color: var(--sklearn-color-unfitted-level-0);\n",
       "}\n",
       "\n",
       "#sk-container-id-4 div.sk-estimator.fitted {\n",
       "  /* fitted */\n",
       "  background-color: var(--sklearn-color-fitted-level-0);\n",
       "}\n",
       "\n",
       "/* on hover */\n",
       "#sk-container-id-4 div.sk-estimator:hover {\n",
       "  /* unfitted */\n",
       "  background-color: var(--sklearn-color-unfitted-level-2);\n",
       "}\n",
       "\n",
       "#sk-container-id-4 div.sk-estimator.fitted:hover {\n",
       "  /* fitted */\n",
       "  background-color: var(--sklearn-color-fitted-level-2);\n",
       "}\n",
       "\n",
       "/* Specification for estimator info (e.g. \"i\" and \"?\") */\n",
       "\n",
       "/* Common style for \"i\" and \"?\" */\n",
       "\n",
       ".sk-estimator-doc-link,\n",
       "a:link.sk-estimator-doc-link,\n",
       "a:visited.sk-estimator-doc-link {\n",
       "  float: right;\n",
       "  font-size: smaller;\n",
       "  line-height: 1em;\n",
       "  font-family: monospace;\n",
       "  background-color: var(--sklearn-color-background);\n",
       "  border-radius: 1em;\n",
       "  height: 1em;\n",
       "  width: 1em;\n",
       "  text-decoration: none !important;\n",
       "  margin-left: 1ex;\n",
       "  /* unfitted */\n",
       "  border: var(--sklearn-color-unfitted-level-1) 1pt solid;\n",
       "  color: var(--sklearn-color-unfitted-level-1);\n",
       "}\n",
       "\n",
       ".sk-estimator-doc-link.fitted,\n",
       "a:link.sk-estimator-doc-link.fitted,\n",
       "a:visited.sk-estimator-doc-link.fitted {\n",
       "  /* fitted */\n",
       "  border: var(--sklearn-color-fitted-level-1) 1pt solid;\n",
       "  color: var(--sklearn-color-fitted-level-1);\n",
       "}\n",
       "\n",
       "/* On hover */\n",
       "div.sk-estimator:hover .sk-estimator-doc-link:hover,\n",
       ".sk-estimator-doc-link:hover,\n",
       "div.sk-label-container:hover .sk-estimator-doc-link:hover,\n",
       ".sk-estimator-doc-link:hover {\n",
       "  /* unfitted */\n",
       "  background-color: var(--sklearn-color-unfitted-level-3);\n",
       "  color: var(--sklearn-color-background);\n",
       "  text-decoration: none;\n",
       "}\n",
       "\n",
       "div.sk-estimator.fitted:hover .sk-estimator-doc-link.fitted:hover,\n",
       ".sk-estimator-doc-link.fitted:hover,\n",
       "div.sk-label-container:hover .sk-estimator-doc-link.fitted:hover,\n",
       ".sk-estimator-doc-link.fitted:hover {\n",
       "  /* fitted */\n",
       "  background-color: var(--sklearn-color-fitted-level-3);\n",
       "  color: var(--sklearn-color-background);\n",
       "  text-decoration: none;\n",
       "}\n",
       "\n",
       "/* Span, style for the box shown on hovering the info icon */\n",
       ".sk-estimator-doc-link span {\n",
       "  display: none;\n",
       "  z-index: 9999;\n",
       "  position: relative;\n",
       "  font-weight: normal;\n",
       "  right: .2ex;\n",
       "  padding: .5ex;\n",
       "  margin: .5ex;\n",
       "  width: min-content;\n",
       "  min-width: 20ex;\n",
       "  max-width: 50ex;\n",
       "  color: var(--sklearn-color-text);\n",
       "  box-shadow: 2pt 2pt 4pt #999;\n",
       "  /* unfitted */\n",
       "  background: var(--sklearn-color-unfitted-level-0);\n",
       "  border: .5pt solid var(--sklearn-color-unfitted-level-3);\n",
       "}\n",
       "\n",
       ".sk-estimator-doc-link.fitted span {\n",
       "  /* fitted */\n",
       "  background: var(--sklearn-color-fitted-level-0);\n",
       "  border: var(--sklearn-color-fitted-level-3);\n",
       "}\n",
       "\n",
       ".sk-estimator-doc-link:hover span {\n",
       "  display: block;\n",
       "}\n",
       "\n",
       "/* \"?\"-specific style due to the `<a>` HTML tag */\n",
       "\n",
       "#sk-container-id-4 a.estimator_doc_link {\n",
       "  float: right;\n",
       "  font-size: 1rem;\n",
       "  line-height: 1em;\n",
       "  font-family: monospace;\n",
       "  background-color: var(--sklearn-color-background);\n",
       "  border-radius: 1rem;\n",
       "  height: 1rem;\n",
       "  width: 1rem;\n",
       "  text-decoration: none;\n",
       "  /* unfitted */\n",
       "  color: var(--sklearn-color-unfitted-level-1);\n",
       "  border: var(--sklearn-color-unfitted-level-1) 1pt solid;\n",
       "}\n",
       "\n",
       "#sk-container-id-4 a.estimator_doc_link.fitted {\n",
       "  /* fitted */\n",
       "  border: var(--sklearn-color-fitted-level-1) 1pt solid;\n",
       "  color: var(--sklearn-color-fitted-level-1);\n",
       "}\n",
       "\n",
       "/* On hover */\n",
       "#sk-container-id-4 a.estimator_doc_link:hover {\n",
       "  /* unfitted */\n",
       "  background-color: var(--sklearn-color-unfitted-level-3);\n",
       "  color: var(--sklearn-color-background);\n",
       "  text-decoration: none;\n",
       "}\n",
       "\n",
       "#sk-container-id-4 a.estimator_doc_link.fitted:hover {\n",
       "  /* fitted */\n",
       "  background-color: var(--sklearn-color-fitted-level-3);\n",
       "}\n",
       "</style><div id=\"sk-container-id-4\" class=\"sk-top-container\"><div class=\"sk-text-repr-fallback\"><pre>XGBRanker(alpha=0.06622670101921636, base_score=None, booster=None,\n",
       "          callbacks=None, colsample_bylevel=None, colsample_bynode=None,\n",
       "          colsample_bytree=0.811893008351086, device=None,\n",
       "          early_stopping_rounds=None, enable_categorical=False,\n",
       "          eval_metric=&#x27;map&#x27;, feature_types=None, gamma=0.011652061497653847,\n",
       "          grow_policy=None, importance_type=None, interaction_constraints=None,\n",
       "          lambda=0.02160312791766124, learning_rate=0.028229752010860996,\n",
       "          max_bin=None, max_cat_threshold=None, max_cat_to_onehot=None,\n",
       "          max_delta_step=None, max_depth=10, max_leaves=37, min_child_weight=4,\n",
       "          missing=nan, monotone_constraints=None, multi_strategy=None,\n",
       "          n_estimators=779, n_jobs=-1, ...)</pre><b>In a Jupyter environment, please rerun this cell to show the HTML representation or trust the notebook. <br />On GitHub, the HTML representation is unable to render, please try loading this page with nbviewer.org.</b></div><div class=\"sk-container\" hidden><div class=\"sk-item\"><div class=\"sk-estimator fitted sk-toggleable\"><input class=\"sk-toggleable__control sk-hidden--visually\" id=\"sk-estimator-id-4\" type=\"checkbox\" checked><label for=\"sk-estimator-id-4\" class=\"sk-toggleable__label fitted sk-toggleable__label-arrow fitted\">&nbsp;XGBRanker<span class=\"sk-estimator-doc-link fitted\">i<span>Fitted</span></span></label><div class=\"sk-toggleable__content fitted\"><pre>XGBRanker(alpha=0.06622670101921636, base_score=None, booster=None,\n",
       "          callbacks=None, colsample_bylevel=None, colsample_bynode=None,\n",
       "          colsample_bytree=0.811893008351086, device=None,\n",
       "          early_stopping_rounds=None, enable_categorical=False,\n",
       "          eval_metric=&#x27;map&#x27;, feature_types=None, gamma=0.011652061497653847,\n",
       "          grow_policy=None, importance_type=None, interaction_constraints=None,\n",
       "          lambda=0.02160312791766124, learning_rate=0.028229752010860996,\n",
       "          max_bin=None, max_cat_threshold=None, max_cat_to_onehot=None,\n",
       "          max_delta_step=None, max_depth=10, max_leaves=37, min_child_weight=4,\n",
       "          missing=nan, monotone_constraints=None, multi_strategy=None,\n",
       "          n_estimators=779, n_jobs=-1, ...)</pre></div> </div></div></div></div>"
      ],
      "text/plain": [
       "XGBRanker(alpha=0.06622670101921636, base_score=None, booster=None,\n",
       "          callbacks=None, colsample_bylevel=None, colsample_bynode=None,\n",
       "          colsample_bytree=0.811893008351086, device=None,\n",
       "          early_stopping_rounds=None, enable_categorical=False,\n",
       "          eval_metric='map', feature_types=None, gamma=0.011652061497653847,\n",
       "          grow_policy=None, importance_type=None, interaction_constraints=None,\n",
       "          lambda=0.02160312791766124, learning_rate=0.028229752010860996,\n",
       "          max_bin=None, max_cat_threshold=None, max_cat_to_onehot=None,\n",
       "          max_delta_step=None, max_depth=10, max_leaves=37, min_child_weight=4,\n",
       "          missing=nan, monotone_constraints=None, multi_strategy=None,\n",
       "          n_estimators=779, n_jobs=-1, ...)"
      ]
     },
     "execution_count": 80,
     "metadata": {},
     "output_type": "execute_result"
    }
   ],
   "source": [
    "xgb_model = xgb.XGBRanker(**best_params)\n",
    "xgb_model.fit(train_df[xgb_cols], train_df['weight'], qid=quids)"
   ]
  },
  {
   "cell_type": "code",
   "execution_count": null,
   "metadata": {
    "id": "xZ6-3w9J0gEJ"
   },
   "outputs": [],
   "source": [
    "xgb_df = test_df[[\"user_id\", \"item_id\"]].copy()\n",
    "xgb_df[\"xgb_score\"] = xgb_model.predict(test_df[xgb_cols])\n",
    "xgb_df = xgb_df.sort_values([\"user_id\", \"xgb_score\"], ascending=False)\n",
    "xgb_df[\"xgb_rank\"] = xgb_df.groupby(\"user_id\").cumcount() + 1"
   ]
  },
  {
   "cell_type": "code",
   "execution_count": null,
   "metadata": {
    "id": "SjVCNx2p0gEK"
   },
   "outputs": [],
   "source": [
    "xgb_metrics = calc_metrics(\n",
    "    metrics=metrics,\n",
    "    reco=(\n",
    "        xgb_df\n",
    "        .rename(columns={'xgb_rank': Columns.Rank})\n",
    "        [[Columns.User, Columns.Item, Columns.Rank]]\n",
    "    ),\n",
    "    interactions=(\n",
    "        warm_test\n",
    "        [[Columns.User, Columns.Item, Columns.Weight]]\n",
    "    ),\n",
    "    prev_interactions=(\n",
    "        first_train\n",
    "        [[Columns.User, Columns.Item, Columns.Weight]]\n",
    "    ),\n",
    "    catalog=catalog\n",
    ")"
   ]
  },
  {
   "cell_type": "code",
   "execution_count": null,
   "metadata": {
    "id": "LN1pm51O0gEK",
    "outputId": "d34e8a9d-edb2-4fc6-ce7b-a7daada28f95"
   },
   "outputs": [
    {
     "data": {
      "text/plain": [
       "{'hit_rate@10': 0.6434299814929056,\n",
       " 'Recall@10': 0.379106261566934,\n",
       " 'MRR@10': 0.4315229704620898,\n",
       " 'MAP@10': 0.26646730535726526,\n",
       " 'pop_bias@10': 1301.3973280382481,\n",
       " 'serendipity@10': 0.00444981678025427}"
      ]
     },
     "execution_count": 83,
     "metadata": {},
     "output_type": "execute_result"
    }
   ],
   "source": [
    "xgb_metrics"
   ]
  },
  {
   "cell_type": "code",
   "execution_count": null,
   "metadata": {
    "id": "Lh8UJFgV0gEK"
   },
   "outputs": [],
   "source": [
    "models_results_df_test[\"XGB\"] = [xgb_metrics[metric] for metric in models_results_df_test.index]"
   ]
  },
  {
   "cell_type": "markdown",
   "metadata": {},
   "source": [
    "## Важность признаков для XGB"
   ]
  },
  {
   "cell_type": "code",
   "execution_count": null,
   "metadata": {
    "id": "xCJgnoV10gEL",
    "outputId": "0935ab08-5c17-487d-b534-a10557550f2a"
   },
   "outputs": [
    {
     "data": {
      "image/png": "[encoded data removed]",
      "text/plain": [
       "<Figure size 800x1050 with 1 Axes>"
      ]
     },
     "metadata": {},
     "output_type": "display_data"
    }
   ],
   "source": [
    "explainer = shap.Explainer(xgb_model)\n",
    "shap_values = explainer(test_df[xgb_cols]) #.iloc[:100_000]\n",
    "shap.plots.bar(shap_values, max_display=len(cols))"
   ]
  },
  {
   "cell_type": "markdown",
   "metadata": {},
   "source": [
    "## Итоговая таблица с метриками на тесте для всех моделей"
   ]
  },
  {
   "cell_type": "code",
   "execution_count": null,
   "metadata": {
    "id": "FvZygcQT0gEK",
    "outputId": "51bc3c23-142e-4dde-c7d1-80a369786868"
   },
   "outputs": [
    {
     "data": {
      "text/html": [
       "<div>\n",
       "<style scoped>\n",
       "    .dataframe tbody tr th:only-of-type {\n",
       "        vertical-align: middle;\n",
       "    }\n",
       "\n",
       "    .dataframe tbody tr th {\n",
       "        vertical-align: top;\n",
       "    }\n",
       "\n",
       "    .dataframe thead th {\n",
       "        text-align: right;\n",
       "    }\n",
       "</style>\n",
       "<table border=\"1\" class=\"dataframe\">\n",
       "  <thead>\n",
       "    <tr style=\"text-align: right;\">\n",
       "      <th></th>\n",
       "      <th>Popular</th>\n",
       "      <th>LightFM</th>\n",
       "      <th>ItemKNN_BM25</th>\n",
       "      <th>ItemKNN_TF-IDF</th>\n",
       "      <th>EASE</th>\n",
       "      <th>iALS</th>\n",
       "      <th>iALS_w_f</th>\n",
       "      <th>LGBM</th>\n",
       "      <th>XGB</th>\n",
       "    </tr>\n",
       "  </thead>\n",
       "  <tbody>\n",
       "    <tr>\n",
       "      <th>hit_rate@10</th>\n",
       "      <td>9.407773e-02</td>\n",
       "      <td>0.622648</td>\n",
       "      <td>0.605915</td>\n",
       "      <td>0.598627</td>\n",
       "      <td>0.435688</td>\n",
       "      <td>0.616402</td>\n",
       "      <td>0.617404</td>\n",
       "      <td>0.642312</td>\n",
       "      <td>0.643430</td>\n",
       "    </tr>\n",
       "    <tr>\n",
       "      <th>serendipity@10</th>\n",
       "      <td>7.830620e-07</td>\n",
       "      <td>0.004009</td>\n",
       "      <td>0.004437</td>\n",
       "      <td>0.004386</td>\n",
       "      <td>0.002359</td>\n",
       "      <td>0.004525</td>\n",
       "      <td>0.004456</td>\n",
       "      <td>0.004434</td>\n",
       "      <td>0.004450</td>\n",
       "    </tr>\n",
       "    <tr>\n",
       "      <th>Recall@10</th>\n",
       "      <td>3.404534e-02</td>\n",
       "      <td>0.358132</td>\n",
       "      <td>0.353177</td>\n",
       "      <td>0.349071</td>\n",
       "      <td>0.212263</td>\n",
       "      <td>0.361852</td>\n",
       "      <td>0.363202</td>\n",
       "      <td>0.378412</td>\n",
       "      <td>0.379106</td>\n",
       "    </tr>\n",
       "    <tr>\n",
       "      <th>MAP@10</th>\n",
       "      <td>1.223435e-02</td>\n",
       "      <td>0.242663</td>\n",
       "      <td>0.255522</td>\n",
       "      <td>0.253439</td>\n",
       "      <td>0.123670</td>\n",
       "      <td>0.254734</td>\n",
       "      <td>0.258256</td>\n",
       "      <td>0.265675</td>\n",
       "      <td>0.266467</td>\n",
       "    </tr>\n",
       "    <tr>\n",
       "      <th>MRR@10</th>\n",
       "      <td>3.520663e-02</td>\n",
       "      <td>0.402837</td>\n",
       "      <td>0.413104</td>\n",
       "      <td>0.410725</td>\n",
       "      <td>0.250124</td>\n",
       "      <td>0.411776</td>\n",
       "      <td>0.416565</td>\n",
       "      <td>0.430938</td>\n",
       "      <td>0.431523</td>\n",
       "    </tr>\n",
       "    <tr>\n",
       "      <th>pop_bias@10</th>\n",
       "      <td>4.975100e+03</td>\n",
       "      <td>1744.679908</td>\n",
       "      <td>594.380437</td>\n",
       "      <td>587.049858</td>\n",
       "      <td>1195.762781</td>\n",
       "      <td>643.808876</td>\n",
       "      <td>713.349823</td>\n",
       "      <td>1317.012365</td>\n",
       "      <td>1301.397328</td>\n",
       "    </tr>\n",
       "  </tbody>\n",
       "</table>\n",
       "</div>"
      ],
      "text/plain": [
       "                     Popular      LightFM  ItemKNN_BM25  ItemKNN_TF-IDF  \\\n",
       "hit_rate@10     9.407773e-02     0.622648      0.605915        0.598627   \n",
       "serendipity@10  7.830620e-07     0.004009      0.004437        0.004386   \n",
       "Recall@10       3.404534e-02     0.358132      0.353177        0.349071   \n",
       "MAP@10          1.223435e-02     0.242663      0.255522        0.253439   \n",
       "MRR@10          3.520663e-02     0.402837      0.413104        0.410725   \n",
       "pop_bias@10     4.975100e+03  1744.679908    594.380437      587.049858   \n",
       "\n",
       "                       EASE        iALS    iALS_w_f         LGBM          XGB  \n",
       "hit_rate@10        0.435688    0.616402    0.617404     0.642312     0.643430  \n",
       "serendipity@10     0.002359    0.004525    0.004456     0.004434     0.004450  \n",
       "Recall@10          0.212263    0.361852    0.363202     0.378412     0.379106  \n",
       "MAP@10             0.123670    0.254734    0.258256     0.265675     0.266467  \n",
       "MRR@10             0.250124    0.411776    0.416565     0.430938     0.431523  \n",
       "pop_bias@10     1195.762781  643.808876  713.349823  1317.012365  1301.397328  "
      ]
     },
     "execution_count": 85,
     "metadata": {},
     "output_type": "execute_result"
    }
   ],
   "source": [
    "models_results_df_test"
   ]
  },
  {
   "cell_type": "markdown",
   "metadata": {
    "id": "p2A3hoqf0gEL"
   },
   "source": [
    "# 5. Итоги\n",
    "\n",
    "Как мы можем видеть, средняя нормализованная со-встречаемость оказалась очень важным признаком. Косинусное расстояние наоборот, видимо, по тем же причинам, что и результаты рекомендаций таким же способом, не обладает особенной важностью. \n",
    "\n",
    "Так как все модели первого уровня (кроме EASE) показали отличные метрики, прирост на втором уровне не такой существенный.\n",
    "\n",
    "По итогу, вполне достаточным для хороших результатов было бы использование ItemKNN, так как это еще и самая быстрообучающаяся модель.\n",
    "\n",
    "Признаки в силу уменьшения датасета не несут в себе большой дополнительной информации, которая могла бы сильно улучшить финальные рекомендации, а времени на обучение с ними уходит гораздо больше.\n",
    "\n",
    "Из-за отсутствия признаков для пользователей признаки для айтемов, возможно, так же несут в себе меньше информативности, а так же без признаков для холодных пользователей невозможно делать рекомендации кроме как рекомендовать популярное."
   ]
  },
  {
   "cell_type": "code",
   "execution_count": null,
   "metadata": {},
   "outputs": [],
   "source": []
  },
  {
   "cell_type": "code",
   "execution_count": null,
   "metadata": {
    "id": "gkLBk38c0gEL"
   },
   "outputs": [],
   "source": [
    "cold_test = pd.read_parquet('cold_test_2.parquet')"
   ]
  },
  {
   "cell_type": "code",
   "execution_count": null,
   "metadata": {
    "id": "Nj0-IwvA0gEL"
   },
   "outputs": [],
   "source": [
    "cold_test['weight'] = 1\n",
    "cold_test = cold_test.rename(\n",
    "    columns={\n",
    "        'dt': Columns.Datetime,\n",
    "        'nm_id': 'item_id',\n",
    "        'wbuser_id': 'user_id',\n",
    "    }\n",
    ")"
   ]
  },
  {
   "cell_type": "code",
   "execution_count": null,
   "metadata": {
    "id": "7fhVy8OL0gEL"
   },
   "outputs": [],
   "source": [
    "first_train_df = Dataset.construct(first_train)"
   ]
  },
  {
   "cell_type": "code",
   "execution_count": null,
   "metadata": {
    "id": "r-wrDXKQ0gEL"
   },
   "outputs": [],
   "source": [
    "popmpd = PopularModel()\n",
    "popmpd.fit(first_train_df)\n",
    "popular_reco_df = popmpd.recommend(\n",
    "    users=cold_test[Columns.User].unique(),\n",
    "    dataset=first_train_df,\n",
    "    k=10,\n",
    "    filter_viewed=False,\n",
    ")"
   ]
  },
  {
   "cell_type": "code",
   "execution_count": null,
   "metadata": {
    "id": "DjBiGLqd0gEM"
   },
   "outputs": [],
   "source": [
    "popmpd_metrics = calc_metrics(\n",
    "    metrics=metrics,\n",
    "    reco=popular_reco_df,\n",
    "    interactions=cold_test,\n",
    "    prev_interactions=first_train,\n",
    "    catalog=catalog\n",
    ")"
   ]
  },
  {
   "cell_type": "code",
   "execution_count": null,
   "metadata": {
    "id": "_neA9ZPz0gEM",
    "outputId": "7ed6efa8-265c-4ab8-8879-5a5d23868933"
   },
   "outputs": [
    {
     "data": {
      "text/plain": [
       "{'hit_rate@10': 0.1707147814018043,\n",
       " 'Recall@10': 0.04031198322420023,\n",
       " 'MRR@10': 0.06684497648238107,\n",
       " 'MAP@10': 0.015215841525624475,\n",
       " 'pop_bias@10': 4975.099999999999,\n",
       " 'serendipity@10': 1.3571743504998098e-06}"
      ]
     },
     "execution_count": 135,
     "metadata": {},
     "output_type": "execute_result"
    }
   ],
   "source": [
    "popmpd_metrics"
   ]
  },
  {
   "cell_type": "code",
   "execution_count": null,
   "metadata": {
    "id": "XyqDf58B0gEM"
   },
   "outputs": [],
   "source": []
  }
 ],
 "metadata": {
  "colab": {
   "provenance": []
  },
  "kernelspec": {
   "display_name": "Python 3 (ipykernel)",
   "language": "python",
   "name": "python3"
  },
  "language_info": {
   "codemirror_mode": {
    "name": "ipython",
    "version": 3
   },
   "file_extension": ".py",
   "mimetype": "text/x-python",
   "name": "python",
   "nbconvert_exporter": "python",
   "pygments_lexer": "ipython3",
   "version": "3.12.7"
  }
 },
 "nbformat": 4,
 "nbformat_minor": 4
}
