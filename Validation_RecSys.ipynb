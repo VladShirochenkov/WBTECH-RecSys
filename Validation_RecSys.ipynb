{
  "cells": [
    {
      "cell_type": "markdown",
      "metadata": {
        "id": "Bw6zAAoP2i1e"
      },
      "source": [
        "# Описание этапа\n",
        "\n",
        "На данном этапе вам необходимо:\n",
        "\n",
        "* Сформировать обучающую выборку\n",
        "\n",
        "* Спроектировать схему валидации с учетом специфики задачи\n",
        "\n",
        "* Обосновать выбор способа валидации"
      ]
    },
    {
      "cell_type": "markdown",
      "source": [
        "# Данный ноутбук разбит на несколько частей:\n",
        "1. Проектирование схемы валидации\n",
        "2. Новый способ получения эмбеддингов для изображений\n",
        "3. Выбор метрик\n",
        "4. Обнаружение и описание проблем с инференсом во время экспериментов с моделями\n",
        "5. Уменьшение датасета для проведения некоторых экспериментов\n",
        "6. Apriopi"
      ],
      "metadata": {
        "id": "y6blzJVOSEXX"
      }
    },
    {
      "cell_type": "markdown",
      "metadata": {
        "id": "n-f7ge1Z2yQo"
      },
      "source": [
        "# 1. Проектирование схемы валидации\n",
        "\n",
        "Прежде, чем выбирать метрики качества для модели рекомендательных систем, необходимо грамотно выбрать схему валидации, учитывая специфику задачии и данных.\n",
        "\n",
        "#### Существующие подходы для разбиения данных:\n",
        "\n",
        "1. Случайное разбиение:\n",
        "* Leave one out\n",
        " * Для test оставляем одно случайное взаимодействие\n",
        "* Leave P out\n",
        " * Для test оставляем P случайных взаимодействий\n",
        "2. Хронологическое разбиение:\n",
        "* Оставляем в test только последние взаимодействия по пользователям или объектам\n",
        " * Last one out\n",
        " * Last P out\n",
        "3. Разбиение по времени:\n",
        "* Оставляем в test только конкретный временной промежуток, например последний день или последняя неделя\n",
        "---\n",
        "При генерации надо учитывать так же cold start и warm start сценарии"
      ]
    },
    {
      "cell_type": "markdown",
      "metadata": {
        "id": "uWr0VWwp_M2-"
      },
      "source": [
        "## Анализ данных для выбора метода валидации"
      ]
    },
    {
      "cell_type": "code",
      "execution_count": 2,
      "metadata": {
        "id": "oTfYMthLSzQt",
        "colab": {
          "base_uri": "https://localhost:8080/"
        },
        "outputId": "a5ad5d02-16ec-454b-ea62-0f144bc752f2"
      },
      "outputs": [
        {
          "output_type": "stream",
          "name": "stdout",
          "text": [
            "Mounted at /content/drive\n"
          ]
        }
      ],
      "source": [
        "import os\n",
        "import pandas as pd\n",
        "import numpy as np\n",
        "from sklearn.preprocessing import MultiLabelBinarizer\n",
        "import matplotlib.pyplot as plt\n",
        "import seaborn as sns\n",
        "from google.colab import drive\n",
        "drive.mount('/content/drive')\n",
        "os.chdir('/content/drive/My Drive/WBTECH')"
      ]
    },
    {
      "cell_type": "code",
      "execution_count": 2,
      "metadata": {
        "id": "3hP78qhSS-M8"
      },
      "outputs": [],
      "source": [
        "df = pd.read_parquet('clickstream.parquet')"
      ]
    },
    {
      "cell_type": "code",
      "source": [
        "df.head()"
      ],
      "metadata": {
        "id": "cyk3B8lIqwNV"
      },
      "execution_count": null,
      "outputs": []
    },
    {
      "cell_type": "code",
      "execution_count": 4,
      "metadata": {
        "id": "PM9JzWljU6ZV",
        "colab": {
          "base_uri": "https://localhost:8080/"
        },
        "outputId": "5fb626cf-1310-4eef-bf9b-8cf517f2e373"
      },
      "outputs": [
        {
          "output_type": "execute_result",
          "data": {
            "text/plain": [
              "3926535"
            ]
          },
          "metadata": {},
          "execution_count": 4
        }
      ],
      "source": [
        "# Всего пользователей\n",
        "df['wbuser_id'].nunique()"
      ]
    },
    {
      "cell_type": "code",
      "execution_count": 5,
      "metadata": {
        "id": "fxh6HtLzVIyT",
        "colab": {
          "base_uri": "https://localhost:8080/"
        },
        "outputId": "53acbb6c-509e-4066-9ba8-ca5201bc87cc"
      },
      "outputs": [
        {
          "output_type": "execute_result",
          "data": {
            "text/plain": [
              "2455930"
            ]
          },
          "metadata": {},
          "execution_count": 5
        }
      ],
      "source": [
        "# Пользователей в 10 день\n",
        "df[df['day'] == 10]['wbuser_id'].nunique()"
      ]
    },
    {
      "cell_type": "code",
      "execution_count": 6,
      "metadata": {
        "id": "jHJvmpKgVUy-",
        "colab": {
          "base_uri": "https://localhost:8080/"
        },
        "outputId": "5fd6f982-a9d2-4eaf-9da1-efa71805230c"
      },
      "outputs": [
        {
          "output_type": "execute_result",
          "data": {
            "text/plain": [
              "280200"
            ]
          },
          "metadata": {},
          "execution_count": 6
        }
      ],
      "source": [
        "# Товаров в 10 день\n",
        "df[df['day'] == 10]['nm_id'].nunique()"
      ]
    },
    {
      "cell_type": "code",
      "execution_count": 7,
      "metadata": {
        "id": "skbWCjl_VlUA",
        "colab": {
          "base_uri": "https://localhost:8080/"
        },
        "outputId": "20cd99af-f5ba-4608-ad74-05986438cc03"
      },
      "outputs": [
        {
          "output_type": "execute_result",
          "data": {
            "text/plain": [
              "2326375"
            ]
          },
          "metadata": {},
          "execution_count": 7
        }
      ],
      "source": [
        "# Пользователей в 11 день\n",
        "df[df['day'] == 11]['wbuser_id'].nunique()"
      ]
    },
    {
      "cell_type": "code",
      "execution_count": 8,
      "metadata": {
        "id": "N1mpvx3kVnPt",
        "colab": {
          "base_uri": "https://localhost:8080/"
        },
        "outputId": "d98d6696-9df7-4b7a-85d3-3a1c8d955ac5"
      },
      "outputs": [
        {
          "output_type": "execute_result",
          "data": {
            "text/plain": [
              "278328"
            ]
          },
          "metadata": {},
          "execution_count": 8
        }
      ],
      "source": [
        "# Пользователей в 11 день\n",
        "df[df['day'] == 11]['nm_id'].nunique()"
      ]
    },
    {
      "cell_type": "code",
      "execution_count": 9,
      "metadata": {
        "id": "QgCFh5rPVt0y",
        "colab": {
          "base_uri": "https://localhost:8080/"
        },
        "outputId": "9e540b1d-74d5-49be-d664-ff95a515902a"
      },
      "outputs": [
        {
          "output_type": "stream",
          "name": "stdout",
          "text": [
            "Количество пользователей, которые смотрели товары в 11 день и не смотрели в 10 день: 1470605\n"
          ]
        }
      ],
      "source": [
        "users_day10 = set(df[df['day'] == 10]['wbuser_id'])\n",
        "\n",
        "users_day11 = set(df[df['day'] == 11]['wbuser_id'])\n",
        "\n",
        "unique_day11_users = users_day11 - users_day10\n",
        "\n",
        "count_unique_day11 = len(unique_day11_users)\n",
        "\n",
        "print(f\"Количество пользователей, которые смотрели товары в 11 день и не смотрели в 10 день: {count_unique_day11}\")"
      ]
    },
    {
      "cell_type": "code",
      "execution_count": 10,
      "metadata": {
        "id": "367BrrUXVBc2"
      },
      "outputs": [],
      "source": [
        "# Посчитаем количество взаимодействий для каждого пользователя\n",
        "user_counts = df['wbuser_id'].value_counts()"
      ]
    },
    {
      "cell_type": "code",
      "execution_count": 11,
      "metadata": {
        "id": "3r8x_RaJVaN7"
      },
      "outputs": [],
      "source": [
        "# Посчитаем у скольких пользователей меньше 3 взаимодействий\n",
        "min_val = 2\n",
        "filtered_values = user_counts[user_counts <= min_val]"
      ]
    },
    {
      "cell_type": "code",
      "execution_count": 12,
      "metadata": {
        "id": "BtEyl6fOVvmp",
        "colab": {
          "base_uri": "https://localhost:8080/"
        },
        "outputId": "9fafd6e9-c63d-452e-893d-fa3e7333d1d7"
      },
      "outputs": [
        {
          "output_type": "execute_result",
          "data": {
            "text/plain": [
              "1467284"
            ]
          },
          "metadata": {},
          "execution_count": 12
        }
      ],
      "source": [
        "# Количество пользователей во всем датасете у кого меньше 3 взаимодействий\n",
        "len(filtered_values)"
      ]
    },
    {
      "cell_type": "code",
      "execution_count": 13,
      "metadata": {
        "id": "DfmsfGE9a_gC"
      },
      "outputs": [],
      "source": [
        "# Составим датасет только для взаимодействий в 11 день\n",
        "day_11 = df[df['day'] == 11]"
      ]
    },
    {
      "cell_type": "code",
      "execution_count": 14,
      "metadata": {
        "id": "DYGP1WqRbMfm"
      },
      "outputs": [],
      "source": [
        "# Посчитаем количество взаимодействий пользователей в 11 день\n",
        "user_counts_11 = day_11['wbuser_id'].value_counts()"
      ]
    },
    {
      "cell_type": "code",
      "execution_count": 15,
      "metadata": {
        "id": "yjgmq4VkbYDv",
        "colab": {
          "base_uri": "https://localhost:8080/"
        },
        "outputId": "733fdec4-4aea-49ce-8630-83c0c166b485"
      },
      "outputs": [
        {
          "output_type": "stream",
          "name": "stdout",
          "text": [
            "960297\n"
          ]
        }
      ],
      "source": [
        "# Количество пользователей у кого 11 числа меньше 3 взаимодействий\n",
        "min_val = 2\n",
        "filtered_values1 = user_counts_11[user_counts_11 <= min_val]\n",
        "print(len(filtered_values1))"
      ]
    },
    {
      "cell_type": "code",
      "execution_count": 16,
      "metadata": {
        "id": "OZixk4WKg7Ba"
      },
      "outputs": [],
      "source": [
        "# Количество пользователей с 3 и с более чем 3 взаимодействиями в 11 день\n",
        "min_val = 3\n",
        "filtered_values2 = user_counts_11[user_counts_11 == min_val]\n",
        "filtered_values3 = user_counts_11[user_counts_11 > min_val]"
      ]
    },
    {
      "cell_type": "code",
      "execution_count": 17,
      "metadata": {
        "id": "Orml5Zw5bbpA",
        "colab": {
          "base_uri": "https://localhost:8080/"
        },
        "outputId": "5a29893e-89da-433b-800f-1f7b862204d7"
      },
      "outputs": [
        {
          "output_type": "execute_result",
          "data": {
            "text/plain": [
              "(183797, 1182281)"
            ]
          },
          "metadata": {},
          "execution_count": 17
        }
      ],
      "source": [
        "len(filtered_values2), len(filtered_values3)"
      ]
    },
    {
      "cell_type": "code",
      "execution_count": 18,
      "metadata": {
        "id": "pwcCfeGEcv6k",
        "colab": {
          "base_uri": "https://localhost:8080/"
        },
        "outputId": "3b33b3be-1667-4c7f-e5bb-0baa2d7ae6e7"
      },
      "outputs": [
        {
          "output_type": "stream",
          "name": "stdout",
          "text": [
            "Количество пользователей у которых меньше: 663562\n"
          ]
        }
      ],
      "source": [
        "# Посмотрим, сколько пользователей из общего датасета с менее, чем 3 взаимодействиями относятся к 11 дню и не относятся к 10\n",
        "\n",
        "# Фильтруем `filtered_values1` по наличию в `users_day11`\n",
        "common_users_series = filtered_values1[filtered_values1.index.isin(unique_day11_users)]\n",
        "\n",
        "# Количество общих пользователей\n",
        "num_common_users = common_users_series.count()\n",
        "\n",
        "print(f\"Количество пользователей у которых меньше: {num_common_users}\")"
      ]
    },
    {
      "cell_type": "code",
      "source": [
        "# Считаем количество взаимодействий каждого пользователя\n",
        "user_interactions = df.groupby('wbuser_id').size()\n",
        "\n",
        "# Выбираем пользователей, у которых меньше 3 взаимодействий\n",
        "users_less_than_3 = user_interactions[user_interactions < 3].index\n",
        "\n",
        "# Фильтруем исходный DataFrame только с пользователями, у которых <3 взаимодействия\n",
        "filtered_df = df[df['wbuser_id'].isin(users_less_than_3)]\n",
        "\n",
        "# Пользователи, взаимодействия которых только в 11-й день\n",
        "only_day_11_users = filtered_df.groupby('wbuser_id')['day'].unique()\n",
        "only_day_11_users = [user for user, days in only_day_11_users.items() if set(days) == {11}]\n",
        "\n",
        "# Количество таких пользователей\n",
        "count_only_day_11_users = len(only_day_11_users)\n",
        "\n",
        "# Пользователи, которые взаимодействовали и в 10-й, и в 11-й день\n",
        "both_days_users = filtered_df.groupby('wbuser_id')['day'].unique()\n",
        "both_days_users = [user for user, days in both_days_users.items() if set(days) == {10, 11}]\n",
        "\n",
        "# Количество таких пользователей\n",
        "count_both_days_users = len(both_days_users)\n",
        "\n",
        "# Результаты\n",
        "print(\"Количество пользователей, <3 взаимодействий, только в 11 день:\", count_only_day_11_users)\n",
        "print(\"Количество пользователей, <3 взаимодействий, в 10 и 11 дни:\", count_both_days_users)"
      ],
      "metadata": {
        "id": "FNTMoERLhaeB",
        "colab": {
          "base_uri": "https://localhost:8080/"
        },
        "outputId": "d8b989c4-5bde-40f7-f2e4-036c39ef0729"
      },
      "execution_count": 19,
      "outputs": [
        {
          "output_type": "stream",
          "name": "stdout",
          "text": [
            "Количество пользователей, <3 взаимодействий, только в 11 день: 663562\n",
            "Количество пользователей, <3 взаимодействий, в 10 и 11 дни: 50991\n"
          ]
        }
      ]
    },
    {
      "cell_type": "code",
      "source": [
        "only_day_10_users = filtered_df.groupby('wbuser_id')['day'].unique()\n",
        "only_day_10_users = [user for user, days in only_day_10_users.items() if set(days) == {10}]\n",
        "\n",
        "# Количество таких пользователей\n",
        "count_only_day_10_users = len(only_day_10_users)\n",
        "\n",
        "print(\"Количество пользователей, <3 взаимодействий, только в 10 день:\", count_only_day_10_users)"
      ],
      "metadata": {
        "id": "PSZ6-CX_lcVu",
        "colab": {
          "base_uri": "https://localhost:8080/"
        },
        "outputId": "6fc94f7f-7c0a-4cfa-b9c5-30b54b568098"
      },
      "execution_count": 20,
      "outputs": [
        {
          "output_type": "stream",
          "name": "stdout",
          "text": [
            "Количество пользователей, <3 взаимодействий, только в 10 день: 752731\n"
          ]
        }
      ]
    },
    {
      "cell_type": "markdown",
      "metadata": {
        "id": "gQ0bxPDWFCQg"
      },
      "source": [
        "#### Теперь, когда у нас есть больше информации о специфике датасета, можно выделить некоторые ключевые особенности:\n",
        "* Данные собраны всего за два дня\n",
        "* 1.5 миллиона пользователей имеют меньше трех взаимодействий\n",
        "* За 11 день появилось 1,5 миллиона пользователей, которые не взаимодействовали в предыдущий день, и всего 800 тысяч пользователей взаимодействовали оба дня\n",
        "* Есть 660 тысяч пользователей, которые взаимодействовали в 11 день менее трех раз и все эти пользователи - новые пользователи относительно 10 дня. 50 тысяч пользователей взаимодействовали менее 3 раз по 1 взаимодействию каждый день\n",
        "\n",
        "#### Выводы:\n",
        "* Разделять по времени, например, оставивлять последние 6 часов на тест - не совсем корректный подход. Навряд ли при такой валидации можно будет сказать, что полученная модель хорошо или плохо предсказывает поведение пользователей в течение всего дня. К тому же при таком разбиении в подавляющем количестве пользователи будут холодными, что дополнительно помешает понять как модель справляется с рекомендациями для пользователей, которые уже совершали действия\n",
        "* Так как для нас важна хронология событий, оставлять для теста случайные взаимодействия тоже плохой подход. Нужно оставлять для теста последние события\n",
        "* Если забрать последние события у всех пользователей, то модели будет не на чем учиться, так как, например, забрав у всех пользователей, у которых было 3 взаимодействия, 2 последних, модель не сможет научиться определять для такой группы пользователей следующие взаимодействия"
      ]
    },
    {
      "cell_type": "markdown",
      "metadata": {
        "id": "xB4iwI4lIjdX"
      },
      "source": [
        "# Выбранная схема создания обучающей, валидационной и тестовых выборок\n",
        "\n",
        "Схематически выбранный метод представлен на рисунке:\n",
        "\n",
        "![image.png](data:image/png;base64,iVBORw0KGgoAAAANSUhEUgAABb4AAAIICAIAAAAuTW/JAAAgAElEQVR4Aey9T2hlyZ3vebde2MNdFI0NsymVYdoenNAtpl5hajPILfCAsWvx7niE201hGLTpQcKvF9o0jMQYgbHfgDSt6Y1BsvsuvFCaQTMPkYuBK9LQSnKESBKRM3dI9ITmPemKTOWThS5CnKmqn/l1+PyJe06cE/fGPedTFMm5ceLv50T8In5fxYnTivgPAhCAAAQgAAEIQAACEIAABCAAAQhAIINAKyOcYAhAAAIQgAAEIAABCEAAAhCAAAQgAIEI6YROAAEIQAACEIAABCAAAQhAAAIQgAAEMgkgnWSi4QYEIAABCEAAAhCAAAQgAAEIQAACEEA6oQ9AAAIQgAAEIAABCEAAAhCAAAQgAIFMAkgnmWi4AQEIQAACEIAABCAAAQhAAAIQgAAEkE7oAxCAAAQgAAEIQAACEIAABCAAAQhAIJMA0kkmGm5AAAIQgAAEIAABCEAAAhCAAAQgAAGkE/oABCAAAQhAAAIQgAAEIAABCEAAAhDIJIB0komGGxCAAAQgAAEIQAACEIAABCAAAQhAAOmEPgABCEAAAhCAAAQgAAEIQAACEIAABDIJIJ1kouEGBCAAAQhAAAIQgAAEIAABCEAAAhBAOqEPQAACEIAABCAAAQhAAAIQgAAEIACBTAJIJ5louAEBCEAAAhCAAAQgAAEIQAACEIAABJBO6AMQgAAEIAABCEAAAhCAAAQgAAEIQCCTANJJJhpuQAACEIAABCAAAQhAAAIQgAAEIAABpBP6AAQgAAEIQAACEIAABCAAAQhAAAIQyCSAdJKJhhsQgAAEIAABCEAAAhCAAAQgAAEIQADphD4AAQhAAAIQgAAEIAABCEAAAhCAAAQyCSCdZKLhBgQgAAEIQAACEIAABCAAAQhAAAIQQDqhD0AAAhCAAAQgAAEIQAACEIAABCAAgUwCSCeZaLgBAQhAAAIQgAAEIAABCEAAAhCAAASQTugDEIAABCAAAQhAAAIQgAAEIAABCEAgkwDSSSYabkAAAhCAAAQgAAEIQAACEIAABCAAAaQT+gAEIAABCEAAAhCAAAQgAAEIQAACEMgkgHSSiYYbEIAABCAAAQhAAAIQgAAEIAABCEAA6YQ+AAEIQAACEIAABCAAAQhAAAIQgAAEMgkgnWSi4QYEIAABCEAAAhCAAAQgAAEIQAACEEA6oQ9AAAIQgAAEIAABCEAAAhCAAAQgAIFMAkgnmWi4AQEIQAACEIAABCAAAQhAAAIQgAAEkE6q6QMrKyutxH8zMzOdTqfb7Q4Gg2qKKZ3LYDBYXFyUmvb7/dL5kQEEAiUQ/pDc29vrdDrtdlvG4+zs7NbWVqA0qRYEIAABCEAAAhCAAASaTQDppJrnPz8/n1BO/iWg3W53u91qSiqRy97envpprVar1+uVyIykEAiaQMhDcjAYzM7O/ouBMK5mZ2fDUVqDfsBUDgIQgAAEIAABCEAAAmMkgHRSDWzx0+bn583ser3e+vq6qhUrKyvm3XFe9/v9pCeJdDLOR0BZYyYQ8pBcX19vtVrtdntlZaX3xX+moVhcXBwzK4qDAAQgAAEIQAACEIAABOwEkE7sfPLeTfXTJHG/39e/MO/t7eXNsdJ4It/MzMx0u11x29h1UilgMguOQMhDcmtrq9PpxN6YOzo60t0nwdGkQhCAAAQgAAEIQAACEGg2AaSTap6/xU+LomgwGKh4UU15BXOZmZlZX1+XREgnBeERfSoJBD4kU5lKnVut1tHRUWoEAiEAAQhAAAIQgAAEIACBiRBAOqkGu91Pi6JIBQtz48lgMNja2pqfn5+ZmZE/OLfb7U6nY8bZ2tqSvf2xv1FLvbvdrtzN3wytCS/s5IdGzKkj4DYkoyjqdrudTkd3irVarfn5efMAV90eYo5T5dPv92UsO8gfSCeKkQsIQAACEIAABCAAAQgERQDppJrHMdJPU4fKPPGk0+noFv3YhW4SUT/NdN600uLgzc7OasjIC6STkYiIUAMCbkNSlMrYYJSf5klGsoms0+kkQemXfRxOe1XpJJktIRCAAAQgAAEIQAACEIDABAkgnVQDf6SfFkVR0gHrdDrz8/Pdbld3lPR6Pf1zt7peWfqIyjGFPt+DdFLNIyeXsAm4Dcmtra2ZmZmtrS3dM9Lv91Xi1G0mFn1EdpA5HPU6GAzERBRSQsN+CNQOAhCAAAQgAAEIQAACNSGAdFLNg8zjp+WJE0VRr9cTD0pfqNG/hKs7J5XWcBVZ8jQG6SQPJeJMO4E8wy1PHPOsopF7wXSPmIos+THqwCykhObPn5gQgAAEIAABCEAAAhCAgDMBpBNndH+SMI8PlieOZCrSifpp+udo82WfKIpkN0rqWwN/Urk//aEemkozf3qfXxCoA4E8wy1PHGGRjJm6F0x2o7Tb7aIE+/2+vARkvhZUNBPiQwACEIAABCAAAQhAAAKeCCCdVAM26Vkl8xVfK49rFJNOoiiSVwZmZmY0W31bp+jft5FOlCEXNSZQ7ZBM5qZ7vvRtuyiK5G2dmMQ5EvJgMBDj0G63zdxGJiQCBCAAAQhAAAIQgAAEIDAeAkgn1XBOelbJfEUQiUkn+pEd+ZuzxElKJ3t7exKoW0XEc3P4+zbSSfLREFI/As5DUj+yo9+90lFpDl7dC6a7w/RtndiLdSPZLi4uShFFZdCRORMBAhCAAAQgAAEIQAACEKiEANJJJRijkX6aulXqaImHllRM1E8zY0ZRJDH1+En5M7X+zN8MpJP8rIg5vQTchuTR0VFSMdEhaUonyb1g8raOuTUsDz3VTTjiJA8u4kAAAhCAAAQgAAEIQGAiBJBOqsE+0k9TB0n/Ij0YDEQNmZmZ6Xa75lGv4qrFpBPzGAV9W0dzy98MpJP8rIg5vQQchmQU/VEDbbfb6+vr5rszqbnpXjAZhqK5pH5EPAujmgV0kyxEhEMAAhCAAAQgAAEIQCAEAkgn1TyFVM9Ks9YtJ+ZfpGN+l0bWzxjHpBPNZG9vT+QPMzczuf0a6cTOh7v1IOAwJPUdnKT8kZWbqJ8rKyv6YSxTcLGTRDex8+EuBCAAAQhAAAIQgAAEwiGAdFLNs8jyrORjw/pWjp5UEkVR6jGTURSpRBKTTsxP6ridRilNRTqp5pGTS9gEHIakDr3YHpDBYCAjLvbCThRFuhdMdJDZ2dmcVNBNcoIiGgQgAAEIQAACEIAABEIggHRSzVMQP212drZn/Le1tSXh8gJOzB9TP63T6chfqvv9vuoarVYrKZ2o2iIZ5v/7ttlILcLUccwIXEOgBgQchqSeKCQDOYqiwWDQ7XZV+kxKJzqKU8d4FkYdg4uLi720/xxexMsqi3AIQAACEIAABCAAAQhAoDwBpJPyDD/PwZRIxIky/22326nfztC/PMciy5+4k9KJvlDQarXy/307T/WqoUAuEAiGgNuQ7Ha75mDUa8uXxeWWxDRPLLKQsNdNsrIk5xYEIAABCEAAAhCAAAQgMGYCSCfVAJd9++poycXs7Gyn04ltNomV1+121fWamZlZX18fDAadTqfVaiUPXNCPemTdjWWuP+2umsMXjjVnLiAQJgHnIdnr9WQAtlqtdru9uLjY7/dlw1en00k2VveCpd5NxjdHccxi6E+GZCo3AiEAAQhAAAIQgAAEIDApAkgnkyLvWK5u9c/5923HYkgGAQjkI6AHxKbuLMuXB7EgAAEIQAACEIAABCAAgaAJIJ0E/XiSlZN3eRYXF5O3CIEABMZPQF67c/vc1fhrS4kQgAAEIAABCEAAAhCAgAMBpBMHaBNLogcx8PftiT0DCoaAQaDf78tbNisrK0YwlxCAAAQgAAEIQAACEIBArQggnUzT45QjS/j79jQ9M+paawL6Ap3b565qzYbGQQACEIAABCAAAQhAoD4EkE6m5lnq53VSj4+dmmZQUQjUiICc8Zz/gNgaNZ2mQAACEIAABCAAAQhAoEEEkE4a9LBpKgQgAAEIQAACEIAABCAAAQhAAAJFCSCdFCVGfAhAAAIQgAAEIAABCEAAAhCAAAQaRADppEEPm6ZCAAIQgAAEIAABCEAAAhCAAAQgUJQA0klRYsSHAAQgAAEIQAACEIAABCAAAQhAoEEEkE4a9LBpKgQgAAEIQAACEIAABCAAAQhAAAJFCSCdFCVGfAhAAAIQgAAEIAABCEAAAhCAAAQaRADppEEPm6ZCAAIQgAAEIAABCEAAAhCAAAQgUJQA0klRYsSHAAQgAAEIQAACEIAABCAAAQhAoEEEkE4a9LBpKgQgAAEIQAACEIAABCAAAQhAAAJFCSCdFCVGfAhAAAIQgAAEIAABCEAAAhCAAAQaRADppEEPm6ZCAAIQgAAEIAABCEAAAhCAAAQgUJQA0klRYsSHAAQgAAEIQAACEIAABCAAAQhAoEEEkE4a9LBpKgQgAAEIQAACEIAABCAAAQhAAAJFCSCdFCVGfAhAAAIQgAAEIAABCEAAAhCAAAQaRADppEEPm6ZCAAIQgAAEIAABCEAAAhCAAAQgUJQA0klRYsSHAAQgAAEIQAACEIAABCAAAQhAoEEEkE4a9LBpKgQgAAEIQAACEIAABCAAAQhAAAJFCSCdFCVGfAhAAAIQgAAEIAABCEAAAhCAAAQaRADppEEPm6ZCAAIQgAAEIAABCEAAAhCAAAQgUJQA0klRYsSHAAQgAAEIQAACEIAABCAAAQhAoEEEkE4a9LBpKgQgAAEIQAACEIAABCAAAQhAAAJFCSCdFCVGfAhAAAIQgAAEIAABCEAAAhCAAAQaRADppEEPm6ZCAAIQgAAEIAABCEAAAhCAQM0IdDqdVqvV6XRq1q6gmoN0EtTjoDIQgAAEIAABCEAAAhCAAAQgUCWBvb29mZmZVqu1uLhYZb7B5DU/P99qtebn54OpUQ0rgnRSw4dKkyAAAQhAAAIQgAAEIAABCEBgMBjIjozWF/+VERdC3tmBdDKGro50MgbIFAEBCEAAAhCAAAQgAAEIQAACYyWwtbXVbrdFNCkvnYQsT4Rct7E+cp+FIZ34pEveEPBJ4NEnv3z0g1986/s/538INITAox/84tEnv/Q5qsgbAhCAAAQgAIGaENja2hK5ZHFxsd/vI53U5LlOrhkFpJPP/TT+h0AjCUxuhNpKfvSDX/xF5x/+1Y9/8+Ff/5r/IVB7Av/qx7/5i84/PPrBL2yjgnsQgAAEIAABCEDgCwJbW1vz8/NHR0fCA+mEflGSANIJehAERhMoOcw8Jf/W93/+4d/85q/+7p+/89Pf8z8Eak/gr/7unz/8m9986/s/9zSgyBYCEIAABCAAgRoTGCmd9Hq9TqcjL/i02+1Op9Pr9QRI7K0fyarVaq2vrxclJlmtrKykJpS7mm232+10OrOzs1ri/Pz81tZWMi0v7CSZVB5SWDqZWz7gfwg0h4DstKp84FWS4efSyY9//Z2f/r45j4OWNpnAd376+w9//Gukk0qsB5lAAAIQgAAEmkbALp10u12VJ8wLoVShdCJnzbbb7ST/vb09KXpvby+KIn3hyKyPXCcPu0U6SfKsPATpBCUIAjYCSCdN9tVpe1AEkE4qXwGQIQQgAAEIQKA5BLJEByEg4oicihJF0WAw6Ha7MzMzJp9K5ImYPmLmv7i42Gq1tNCtra2ZmZmtrS1956jf7+vXgkRe0eSV1E1z4yKVANKJzW0Oym2gMhMhgHQyEewUCoEkAaST1FmcQAhAAAIQgAAE8hCwSCe9Xk/uDgYDS1ZVyRMq08TKkvCsd3kk8mAwkGj6Uo+EV1W3WJX4aRJAOkE6gYCNANJJ0oMlBAITIYB0Yk7eXEMAAhCAAAQgUIiARTo5OjqSu6nHiGgpVckTsrsk9s6O7kbRPSZabuwitRqpgbGE/CxJAOnE5jZPxD2g0KAIIJ0E9TioTJMJIJ2UnO9JDgEIQAACEGgyAYt0EkWRHsW6vr7e7/dTQVUlT+gmF/OlG9FTZmdnU4s2A1OrkRpopuK6PAGkE6QTCNgIIJ002Ven7UERQDopP+WTAwQgAAEIQKCxBOzSyWAwUPWk1WrNz893u90YqwrliZmZmVar1el0tAh5DSe57UU+siPxpQmpDamwblolLmIEkE5sbnNQbgOVmQgBpJOJYKdQCCQJIJ3E5m9+QgACEIAABCCQn0Cq4hBL3u12RYOQyKa0EUVRhfLEysqKFCGnq+jbOuaGl6Ojo6RiIqlE3DErX2HdzGy5NgkgnSCdQMBGAOkk6cESAoGJEEA6MSdvriEAAQhAAAIQKEQgj3QiGZofsjFPY61Qnuj3+1If2dsib+ukKjXtdjv2DlFqNVIDC/Eh8kgCSCc2t3ki7gGFBkUA6SSox0FlmkwA6WTkjE4ECEAAAhCAAASyCOSXTiQHeX9nfn5eM6xWnpD8RS6Rt3XMV4QGg4FUOPkKT2o1UgO15lxUQgDpBOkEAjYCSCdN9tVpe1AEkE4qmfXJBAIQgAAEINBMAkWlk6QY0el0Wq1WnpNc8xDe2trSjSdyYX4aWT/6Y+opURQNBgN5i8fUdKp9mShP5ZsZB+nE5jYH5TZQmYkQQDqZCHYKhUCSANJJM5cptBoCEIAABCBQCQGLdLK+vi7nwop4MRgMVNcwN32sr6+r2BFF0dHRUa/Xc66bvrMjUsji4mIsK9mKMjs7K6UMBoNutyuBnHUSYzWen0gnSCcQsBFAOkl6sIRAYCIEkE7GsyygFAhAAAIQgEA9COg3gEXvSP6rsohqIrE4sQ0m/X5flQuJaZ6E4gBNtrFIVuaHiiWrbrcbq4/8TL5JxK4TB/gOSZBObG7zRNwDCg2KANJJUI+DyjSZANKJwxxPEghAAAIQgEBjCeSXTmSbibyhI/LE/Py8CismwKOjI9U7Zmdnk3qHGXnktX5YJ6bRaMJer6fFtdvtxcXFfr8vO2JiZ8pKtFig5sNFJQSQTpBOIGAjgHTSZF+dtgdFAOmkklmfTCAAAQhAAAIQgAAEHAggndjc5qDcBiozEQJIJxPBTqEQSBJAOnGY40kCAQhAAAIQgAAEIFAJAaQTpBMI2AggnSQ9WEIgMBECSCeVzPpkAgEIQAACEIAABCDgQADpxOY2T8Q9oNCgCCCdBPU4qEyTCSCdOMzxJIEABCAAAQhAwCuBrCNmU094TT0/xWv1yLxCAkgnSCcQsBFAOpkuX/1u+BBF0ZNnF3mqvbZ9IsZ0bfskT3ziTJYA0kmFcz9ZNYeAfAwi52Jdjh5st9vN4UNLIQABCJQkgHRSEuAUJUc6sbnNk/UTKD0EAkgnITyF/HUQ4/v0xVWeJJu7fYm/udvPE584kyWAdDJFawuqGg4B+bNnzs9nqgMQTv2pCQQgAAEIQCAQAkgnSCcQsBFAOpmst1y0dDGsSCdFuU1FfKSTQNYNVGO6CCCdTNfzorYQgAAEIBAsAaQTm9s8Fe4ElfRKAOnEK97KMxdTi3RSOdgQMkQ6CXYlQcVCJoB0EvLToW4QgAAEIDBFBJBOkE4gYCOAdBKCz5y/DmJ8kU7yE5uimEgnU7S2oKrhEEA6CedZUBMIQAACEJhqAkgnNrd5ipwKquqJANKJJ7CeshVzjHTiCe9ks0U6merVBpWfFAGkk0mRp1wIQAACEKgZAaQTpBMI2AggnXj1lpc2jp+/enN9cy+G9ezy9nHvPFni2vbJy9fvNNr1zf3L1+9Sz3aVfJLSycLq4dMXV5pD//xmbfuk/DGx+o2eZJ2fPLuIouhu+BC7tbnb75/fyJeA7oYP/fOb1IaY0aIoung7fPriamH1MJZb//xGvii0sHr48vU7aX7//EajPe6dn13eSrhwW9o41rvTdYF0Is+Rf+tNoN/vr6yszMzMiOQxPz/f7XaTTT46OlpcXNRoMzMzi4uLvV4vGTNLOun3+4uLi/L9nXa7vbi4OBgMyh8Te3R0JCUma5L1+Z5er9fpdLQmnU4ntSFmtFarNTs7u76+PhgMYgV1Op1Wq7W1tTUYDBYXF6UynU5HokkbZ2dnJTwrk1ie/IQABCAAAQhEUYR0YnObp8uvoLY+CCCd+KAqea5tn4iCELPFL1+/Mwt9+uIqFkF/Pn/1xow5t3wgt2LSydLGsYommjaKItUaUsWLWM6pP1V8Sd7Vapu3HvfOzQrotRlnbvng+as3esu8uHg7jKknIos8f/Xm4u3QjCkZagPNW2eXt7HipuUn0on5HLmuJYGjoyNREMSx138XFxfN9qrAoRH0YmVlxYz5+Trvi/9iX9jZ29tLFtRut0V3aLUKLA5jxfV6PSkxFh5FkVbbvNXtdrXy5oUZJ4qilZUV865ez87OxtST+fn5Vqu1srKi+ohEjqJoMBjEAuVWDE6saH5CAAIQgAAEhECB2VF8yGlZZFNPCFRCAOmkEozJTBZWD3Xnxc7+qUR43DuXwLXtEw0RU3V2eauBO/unqhQ8eXZhZi6RY9KJbrvQyFqQxB+bdCKt+2wHjWz9WFg9fNw7v765N5sg21WiKPpsm4wZTdLGhA9tWhRFZ5e3O/unO/un0nzdEfPk2YUILksbx09fXJl7Usxyw79GOpHuyr91JTAYDHTnxd7enjSz2+1K4NHRkYaIwz8/P6+Be3t7KgpsbW2ZiJLqgFmQ7O8w95uo0GBmkv+6qHQirVtcXOz3P/9a/GAw6Ha7MzMzZomyXaXVaq2vr5vRJO38/LwZWaQTRbT3xX8ijui2F8Urm3eQTkyAXEMAAhCAQBYBpBN2nUDARgDpxJNHrRsrVBCRgpY2ji/eDlUySNUL5pYPFlYPZSNJTHcQS2dKJ7oxxAycWz6QgiT+eKQTrUls50iMsDRZVR69q8lNYiqdxCSVueUD2fZy8XaoOUz7BdJJ1kROeD0I6MYKFUSkXf1+f3Z2ViWDVL1ARAd5fyemOySlE939EXsvptfrSeZj23WiOkts50jsgUqtYpJQFEWa3CSm0klMUomiSDekxPLnJwQgAAEIQCAPAaQTm9s87Z4G9S9PAOmkPMPUHET4sO+A0NdbdFuKmZXeNYUPsXqmSqIaTVKw2Nk/lfhmDmYRI69VzkjGTL6wY24DScaXEK1SagSpramqiHRyfXOfbJ3uXjGlltRspyUQ6STPpE6c6SUgwoeeypHaEH29RfdNmNH0rqmJJKUT2Z8yOztrppVrlW+St3KGqJyRjK+Sjd7Sg1GSsojG2dvbs2yEkVtmctFHZmZmknKMvI6UekuL4wICEIAABCCQRQDpBOkEAjYCSCc+/OqF1UMxSabGkSwoqT6YcVKViGS2Ii4kN2XMLR+o8DEe6WRu+UDfM9KXccwW6VaRLHtdqHVLG8eygeVu+PC4d57UVmJFh/8T6cTeMbg71QQGg0FS40i2KKk+mHFSlYhktskQzcSev0azXBSSTqIo0veM9GWcWOZaJal26r/mGzcinSS3nERRpCrM7OxsqvYUK5qfEIAABCAAAZMA0onNbQ7fl6CGvgkgnfggrJpF6nYSLVG3VGhI7EJsmam/JEOCkk4WVg9VPZHTSWJfFEo92NU02VEUmdAsrZtbPogdxJv1WaIY1WB/Ip3EegI/60RAFQe7S69bKrLanpRF8oRobqpTaEjRC21IMmFq5rGjW5NfFNKv5KSKJhJoQrNIJ1EU6cacVqvVbrdXVlbkTahkbQmBAAQgAAEIxAggnSCdQMBGAOnEhyOt0ol9u0f9pBOBaX4wOIoi860l+dhwFEU5sdulEzkU5smzC/MDQ+b7PjlLCSQa0kls/uZnnQio4mC+a5NsYP2kE2ljt9uVpokUYr61VPSjP3bp5HOT+8Xnn/VUl3a7bWeefAqEQAACEIBAMwkgndjc5kAcBqoxQQJIJz7gL20ci8E1N4wkC9JjSpK3ZEuFZGJu3EhmaxEXcio4qaVLoOaQjGN/20jOqVWhRDmMTBUryNK6WMzN3b5ueLErVrGE4fxEOmnmMqUhre73+8ntIcm2288i0Rd2ut2upk1mmwzRyKkbQ/RungvVgJKRR2be7/dVKNF3cEamihU0UjrR+Pr1ona7nTwYRaNxAQEIQAACEBACSCdIJxCwEUA68eQ5yzEc5oaLZEH2g071rnyOR5KLXVMlYm75QF+BSeavZ7I6SwkqnSRzsOs+WhmRM/QoFj371nwrRyMnL/JLJ7IDJcknmWewIUgnLFzqTUD2QZgbLpLt1c/0mt+U0Wh613wJJSmUyHm0qaeB2KUZLchyodJJcitHzszl9BOtnr5iY76VY6lAfunEPP0kWVtLEdyCAAQgAIFmEkA6sbnNwboQVGxsBJBOPKFWRSP2/Rc5DUQCdXNKUmHRjxOr6CD1FDtuSicqRsReVDHPAUkKHzlbrTU0S5QDaEUbGvnqTUz70AN0Y+3Kqk8seVY0DU/y0VvhXyCdNHOZ0pxW66EeMVlETgORQN2cklRYBoNBqiaSlE6yClKRoszHibWGum1EnmD+Lx/HtA89QFfFFHuXiCW3R7YIPfaE3IUABCAAgQYSQDpBOoGAjQDSiSePWr+Pc31zrzssHvfO5VQO1TJ070b//EZFlp39U333RAOlnmLEY0KG5CkfmpHNF4975yptRFGkxTk0Vmsi0szC6qG+dCOV0Tyfvrg6u7zVj90srB7qxhlT1tEmn13eKpmF1cOd/dOXr9/dDR80w7nlA4t0cnZ5+/L1O81haeM4S64yMwz5GumkgWuURjVZX7eZmZnRHRbdblcEEd0WoXs3Op2Oiix7e3v6qRoNFHpJ6UTVjdnZWcm23+/rezESvwx5rYl8M3gwGGRlvr6+LufCyvsyg8FAN86Y3xvWJs/PzyuZwWCwt7e3uLjYbrfN2lqkEzkXVvkcHR1JVWM5mLlxDQEIQAACEFACSCc2tzlkL4K6jYcA0ok/zrofRO2RXLx8/U4LXVg91ANBYtFUCtHIc8sHEicmnZgbTDSTu+FD+Rd2kl+xkfyvb+5VFtHqxSQVrcnF26HGkQvVODSOXlzf3JuR7dKJpjIvnuJ5C38AACAASURBVL96Y+YwRddIJ+Zz5LqWBMx9HyJhyL+Li4va3sFgoAeCmHHkkzHmKSeSROLE9oCkFjQ7O6vKhRbncHF0dKSHsGoNZ2ZmkpnHJBWNPDs7GytXd8poHL2YmZkxI1ukE00Su1A5xsyHawhAAAIQgECMANIJ0gkEbASQTry61pu7/f75jW4A6Z/fmGe+atGPe+dmtIu3w+ev3phHnGhMycrcxCG3ZM+F3L0bPrx8/U6Sy4aU2NYVzS3nxdr2ieo71zf3T19cLaweyrYac5OIbDMRsUMM8dnlbbKqUmiMzPXNvUReWD00ayXlJl9okmNon796o5ti7oYP/fMb3YRiZjIt10gnsfmbn7Uk0Ov1Op2OSg+dTiephshHds1os7OzWd/ZlazMTRzCTQoSEWFmZmZ9fX0wGMiGlPK7MI6OjlTf0cxlW42ZuWwzEbFDajI/P5+sqllhJTMzMyORYye8SrnJF5qiKOr1eouLi7KLp9VqzczMLC4u6iaUWnYnGgUBCEAAAhUSQDqxuc3T4lFQT38EkE78sSVnCBQigHRS4dxPVhCAAAQgAAEIQAAChQggnSCdQMBGAOmkkHNLZAj4I4B0Umh2JzIEIAABCEAAAhCAQIUEkE5sbrM/H4Ccp4UA0sm0PCnqWXsCSCcVzv1kBQEIQAACEIAABCBQiADSCdIJBGwEkE5q75BrA7OOcU01qVlnlGhuXFROAOkktSsSCAF/BLKOcY0dsyo/s84o8Vc9coYABCAAAQiMkwDSic1trnzpT4ZTRwDpZOoemXOFkU6c0Y0nIdLJOBcHlAWBKIqQTugGEIAABCAAASWAdIJ0AgEbAaST8XjFlAKBkQSQTnTm5gICEIAABCAAAQhAYMwEkE5sbvPIpTwRak8A6aT2j5gGTgsBpJMxrw8oDgIQgAAEIAABCEBACSCdIJ1AwEYA6WRa/GrqWXsCSCc6c3MBAQhAAAIQgAAEIDBmAkgnNre59q4IDRxJAOlkJCIiQGA8BJBOxrw+oDgIQAACEIAABCAAASWAdIJ0AgEbAaST8XjFlAKBkQSQTnTm5gICEIAABCAAAQhAYMwEkE5sbvPIpTwRak8A6aT2j5gGTgsBpJMxrw8oDgIQgAAEIAABCEBACSCdIJ1AwEYA6WRa/GrqWXsCSCc6c3MBAQhAAAIQgAAEIDBmAkgnNre59q4IDRxJAOlkJCIiQGA8BJBOxrw+oDgIQAACEIAABCAAASWAdIJ0AgEbAaST8XjFlAKBkQSQTnTm5gICEIAABCAwkoAsYvkXAg0kMHJ0uEVAOrG5zSOX8kSoPQGxNW6jy3eqP/sv/qr1xX9f+spX5UF87ZvflZD3PvhYQr783tcl5P2PPpUQ+dlqtb4xvzK3fPDtn/xWQz780a/mlg8efe9nGiJJ3v/oUwmhIOEAularNYHO8F/+N8L/+9//vu/BRf4QgAAEIACBaSfQQIeZJhcl8Gd/Pl80yVTE9zR4kU6QTiBgIyDWwdPwK5ntt77/8w9//Ovv/PT3InDwLwQqIdBqtSrJp/JM2HVS0mKQHAIQgAAEGkVAFrGVT8dkWCcCwa76nCF79d2QTmxus/MzI2FtCHgdfiXnb6ST2nSzoBoS7CSKdFLSYpAcAhCAAAQaRQDpJKj1VZiVCXbV54zLq++GdIJ0AgEbAa/Dr+T8jXTibFVJaCGgb+JY4kzkFtJJSYtBcghAAAIQaBQBpJOJLFemq9BgV33OGL36bkgnNrfZ+ZmRsDYEvA6/kvM30kltuhkNyUMA6aSkxSA5BCAAAQg0igDSSZ7VBXFqRsCr74Z0gnQCARsBr8Ov5PyNdFIzW09z7ASQTkpaDJJDAAIQgECjCCCd2NcV3K0lAa++G9KJzW2uZX+iUYUIeB1+JedvpJNCj5LIOQl87ZvfzRlzzNGQTkpaDJJDAAIQgECjCCCdjHmhMo3FBbvqc4bp1XdDOkE6gYCNgNfhV3L+RjpxtqoktBAI9sAwpJOSFoPkEIAABCDQKAJIJ5bVDreEQLCrPucH5NV3Qzqxuc3Oz4yEtSHgdfiVnL+RTmrTzYJqSLCTKNJJSYtBcghAAAIQaBQBpJOg1ldhVibYVZ8zLq++G9IJ0gkEbAS8Dr+S8zfSibNVJaGFwHsffGy5O8FbSCclLQbJIQABCECgUQSQTia4aJmWooNd9TkD9Oq7IZ3Y3GbnZ0bC2hDwOvxKzt9IJ7XpZjQkDwGkk5IWg+QQgAAEINAoAkgneVYXxKkZAa++G9IJ0gkEbAS8Dr+S8zfSSc1sPc2xE0A6KWkxap9czDX/QqCZBGo/wGmgAwEZC/a5lbsQqBkB6fYO4yVPEqQTm9tcs55EcxwIeB1+eYaoJQ7SicMDJclIAl9+7+sj40wkAtKJxRpwK4qiZjrMtBoCIS9UME2TJSB9YyJTNoVOC4FgV33OAL2aRKQTpBMI2Ah4HX4lJ1SkE2erSkILgWAPDEM6KWkxap8cJ8EyrrlVYwIhL1Rqb3YCbyBWscYDv6qmBbvqc26gV5OIdGJzm52fGQlrQ8Dr8Cs54yKd1KabBdWQYCdRpJOSFqP2yXESgrIkVGZsBEJeqNTe7ATeQKzi2Ibh9BYU7KrPGalXk4h0gnQCARsBr8Ov5IyLdOJsVUloIfD+R59a7k7wFtJJSYtR++Q4CRMcnnPLB8GajsliGUPpIS9Uam92Am8gVnEMA3Dai6if6fZqEpFObG7ztA8G6l+egNfhV3LGRTop/3zJYYoIIJ2UtBi1T46TMNnhXL8/XU6WZ/7SQ16o1N7sBN5ArGL+cUTM2hDwahKRTpBOIGAj4HX4lZxxkU5qY+VpSB4CSCclLUbtk+Mk5BlH/uIgnfhja8855IVK7c1O4A3EKtrHDndrScCrSUQ6sbnNtexPNKoQAa/Dr+SMi3RS6FESOSeBYP0fpJOSFqP2yXESco5xT9G+9JWvesqZbO0EQl6o1N7sBN5ArKJ97HB3bvkg2FWf89PxahKRTpBOIGAj4HX4lZxxkU6crSoJLQSCnUSRTkpajNonx0mwjGtu1ZhAyAuV2pudwBuIVazxwK+qacGu+pwb6NUkIp3Y3GbnZ0bC2hDwOvxKzrhIJ7XpZkE1JNhJFOmkpMWofXKchKAsCZUZG4GQFyq1NzuBNxCrOLZhOL0FBbvqc0bq1SQinSCdQMBGwOvwKznjIp04W1USWgh8Y37FcneCt5BOSlqM2ifHSZjg8JxbPvjaN7872Qo0tvSQFyq1NzuBNxCr2FizkL/hwa768jchFtOrSUQ6sbnNsSfBzwYS8Dr8Ss64SCcN7JBNbjLSSUmLUfvkOAmTtQ/1+9PlZHnmLz3khUrtzU7gDcQq5h9HxKwNAa8mEekE6QQCNgJeh1/JGRfppDZWPqiGfPsnvw2qPloZpJOSFqP2yXESdLBM5ALpZCLY55YPQl6o1N7sBN5ArOKkRuUUlRvsqs+ZoVeTiHRic5udnxkJa0PA6/ArOeMindSmmwXVkGD9H6STkhaj9slxEiZrSd774OPJVqCxpYe8UKm92Qm8gVjFxpqF/A0PdtWXvwmxmF5NItIJ0gkEbAS8Dr+SMy7SScxW8rMSAsFOokgnJS1G7ZPjJFRiAchk6giEvFCpvdkJvIFYxakbzuOvcLCrPmcUXk0i0onNbXZ+ZiSsDQGvw6/kjIt0UptuFlRDgp1EkU5KWozaJ8dJCMqSUJmxEQh5oVJ7sxN4A7GKYxuG01tQsKs+Z6ReTSLSCdIJBGwEvA6/kjMu0omzVSWhhcCHP/qV5e4EbyGdlLQYtU+OkzDB4Tm3fPDl974+hgr0z2+iKOqf3+Qpa237RLr92vZJnvhTGifkhUrtzU7gDcQqTumgHme1g131OUPwahKRTmxus/MzI2FtCHgdfiVnXKST2nQzGpKHANJJSYtR++Q4CXnGkb844/nT5dnlbRRFZ5e3eRqyuduXbr+5288Tf0rjhLxQqb3ZCbyBWMUpHdRUuwwBryYR6QTpBAI2Al6HX8kZF+mkjGElbRaBR9/7WdatyYYjnZS0GLVPjpNQdIRWuymjrtLJk2cXURTdDR+K4nWI71ZWyAuV2pudwBuIVXQYhk1LEuyqz/lBeDWJSCc2t9n5mZGwNgS8Dr+SMy7SSW26WVANGY//49BkpJOSFqP2ySt3EhZWD1++fifcljaOHTpt4Emq3ZTx/kefjqG949918vTFlfSBMbTOrayQFyq1NzuBN7ByqziGUUARYyYQ7KrPmYNXk4h0gnQCARsBr8Ov5IyLdOJsVUloIRDsJIp0UtJi1D55tU7Czv7p3fBBoTm/8VHtzg7LyHW4Va104lABhyRIJ0loIS9UdARxMREC1VrFZN8jpAYEgl31ObP1ahKRTmxus/MzI2FtCHgdfiXnUaST2nSzoBoS7CSKdFLSYtQ+eVVOwtLGsfjnJjFn6SRkeSLkumVZRaSTJJmQFyrmIOJ6/ASqsorJXkdIbQgEu+pzJuzVJCKdIJ1AwEbA6/ArOYkinThbVRJOIwGkk5IWo/bJq3ISZLPJ9c394965vkCBdDLSaKSuvxdWD588u7h4O5Tud/F2+PTF1cLqYSy3hdXD56/eaLS74UP//OZx7zwWbW75IEs6WVg9fPri6vrmXgrqn9+sbZ+U1Ibkaz7JgRM7pHZp4/jl63da9PXN/Wc/U9/w2tzt989vpINJG7Vf5SwrCWRu+SDkhUqSHiHjJFCVVUzteARCIEwCXk0i0onNbQ6zQ1CrcRLwOvxKTp9IJ+PsCZQ1cQJIJyUtRu2TV+UkXN/cP31xJR0e6ST/wE9KJwurh6qGmN3v4u3QVE9i70aZMc8ub82YWdLJ0saxKhdmcj2qRhWK/M2ZWz7II2c87p2bL3Zp6XfDh9gXkR/3zvWueSFVylNWVuVDXqiYLeV6/ASqsopZfY9wCARIwKtJRDpBOoGAjYDX4VdyEkU6CdBe16BK4znr0QEU0klJi1H75D6chJHSiWx2UIHA3FUhX0tJxV60/+uHV1L3MmhBkq1s9Di7vFU1QTY47OyfxsotuSkjlltSOtH3np48uxAFZHO3L6yePLuQ5GvbJ7rNR2u4tn2iUkL//MYsKHXXiVmQRI4pGm7SiWSlfcCshlzrQTayyUUCd/ZPpY13wwdT95Fm6oaUhdXDx73z65t7M1tLWWa02HXIC5XU/k/g2Aj4sIqx7sfPaScQ7KrPGaxXk4h0YnObnZ8ZCWtDwOvwKzl3Ip3UppsF1ZCk/xNI9ZBOSlqM2if34SSoK5vqe2ftqpBNK6poJMkXHVPqoqviYOYgjvrF26EEquiQLFd300jMaqWTb8yvmLXa2T+VCsTqLN8t0pdxRPWIqQyxhpiCUVI60VbEWre0caySVurjM2trudY+kIwjqGPiztzywcLqoQgl2natpCmmJDO0lJWMrCEhL1SSnZCQcRLwYRW143FRDwLBrvqc8Xo1iUgnSCcQsBHwOvxKTp9IJ85WlYQWAsFOokgnJS1G7ZP7cBLUlU31vXUziLld4uXrd6YPrz5zag6WkRi7FdNH9O7SxrE8WRUj+uc3Z5e3n+1oUMVB93pEUWS67lXVTStjXsjLMnfDBzMwdq2Vf/7qTezW3PKB3jV5JqWT56/eCAGzaZKbyjdl4GsfiNVwYfVQyk3NXOqpqopd/NKcs8rSCKkXIS9Uam92Am+gD6uY2gkJnF4Cwa76nJF6NYlIJza32fmZkbA2BLwOv5IzLtJJbbpZUA350le+GlR9tDJIJyUtRu2T+3AS1JW1uMepbr/226rkCd3DooKIFKHhSeFA6zC3fJBajdRAM1Wh62//5LdmfNF6YieqmhGyamXGkb0bKkCknnWSFFM0h0oaqH1As5ULzdwysszm6xaYz46zjT1EzTmrLI2QehHyQsUCh1tjIODDKqZ2QgKnl0Cwqz5npF5NItIJ0gkEbAS8Dr+SsybSibNVJeE0EkA6KWkxap/ch5OgrmyqdCLva1zf3FtkC3WwU3PIPxJ1C4a+AyJpxSE3xYWsPKUDmDs4qqqblBj706UUZ9eVFG+WlJCURfKEKIFKGqiV1GzlIuvYV3Ogmc2Pvd4lO4NieWaVFYsW+xnyQsWkwfX4CfiwirHux08IhEbAq0lEOrG5zaF1BeozfgJeh1/JSRTpZPz9gRInSADppKTFqH1yH06CurKpwoe+D3Lxdqjv7MTGSCXeu+QpqoGeaWK+0pJVulkZ6QBjlk7M4szKyLXinUbpRPf7pPaNZGMl5HHvXJ6jPI6Y5qVAspKnhoe8UKm92Qm8gT6sYmonJBAC4RDwahKRTpBOIGAj4HX4lZxxkU7CMdN1qsnXvvndMJuDdFLSYtQ+uQ8nQV3ZLPfY3HpwN3x4/upNTAWoUDrRsvSrt3rYSmzM6kd25IUX89GbWkaFdZtbPojtOpHv+5hvrMQqObd8oNpTFl79Ko2mDWfXSRl6SxvHepqv+US0v2l781yEvFAx+x7X4yfgwyrm6ZPEmSICwa76nBl6NYlIJza32fmZkbA2BLwOv5KTKNJJbbpZUA2J+T/h1A3ppKTFqH1yH06CurJZvr1s/Xj+6o2KFHfDBzNyGQc7Nvr0XFJ9DUTe1nn5+p0ZM/Zd3thzNx31Cus2t3zw4Y9+ZVZDpAH7MbH2w1P1rp6Am3rWiZxHG0WRWbpcj5RmkkmSIdoHYrf0FSp9HLEII38mj4PJKsueVcgLlVj34+eYCfiwivbeyN2pIxDsqs+ZpFeTiHSCdAIBGwGvw6/kDIp04mxVSWghEOwkinRS0mLUPrkPJ0FdWVMNyRo+qlmYn9qtVp4QmeD65t58W0c3oZifxb2+uX/cOzcPYZEO4E86iWHRPTKxw1nmlg9evn6ngbI5JfW8GBVfzFYkd51kFbS2faJ6Vp7HF6u//tQXc8xqyF3RPszHranyXCTbYinLkmHIC5Xam53AG+jDKlq6IremkUCwqz5nmF5NItKJzW12fmYkrA0Br8Ov5IyLdFKbbhZUQ9774OOg6qOVQTopaTFqn9yHk1BIOkl9A6Va6US3Uaxtn4ibLTKKDhMzggbKhXQAf9LJo+/9zCxxYfVQZJG74cOTZxeiO2zu9kUv0Gpohc3zYta2T/R9FhVZJPOk3PCZiqQFyf6UhdVDlbGk1WWkE32CsrtnaeNYT5bRyseEqs3dvmxEUlXr6YsrORdWOMgbVVI3s4GWsky2seuQFyq1NzuBN9CHVYx1P35OO4FgV33OYL2aRKQTpBMI2Ah4HX4lZ1ykE2erSsJpJIB0UtJi1D65DyehqHSirq/66vrWifrbJUef7KR4/uqNbHmIvS2i2xZiR65oNVSzyPNt4EJVTf7p0tz3YXa/i7dDcweHQjbjyHWsdakv7MwtH6QWdDd8UGlDH0ehFmlkQa3VMw9w0T0vete80KeQ1Ubz0F8pzlKW1id2EfJCxaTB9fgJ+LCKse7HTwiERsCrSUQ6sbnNoXUF6jN+Al6HX8lJFOlk/P2BEidIAOmkpMWofXIfToJ6vKm+t5wLqzsL1rZP9A0Oc6QIedELZEOEebfotb6zI9mqcy75qETSP7+RW0sbx9qKKIrGKZ3IW0UvX7+TXSFRFF28HeoOFLPhm7t9M9r1zf3L1+9SmctulNiHabQg0ZXuhg+f5SbNl6L1GZmF5r9eWD18+fqdZH59c28y1KK1jXfDh7PL29iBwXpwrw7Ds8tbc7+JVsZelkYzL0JeqGh7uZgIAR9W0ex7XEMgQAJeTSLSCdIJBGwEvA6/kvMo0kmA9roGVfrye18PsxVIJyUtRu2TV+UkyCshWbjMc0+z4sQ2mDx/9SYWs8wQU3FElIhkVnpsqlno3fBBfHvT7U/ukUnmlj8kueskf1piliEQ8kLF7IRcj59AVVaxTP8kbeAEgl31OXPzahKRTmxus/MzI2FtCHgdfiUnUaST2nSzoBoSrP+DdFLSYtQ+eVVOQn7pJHWvROoGh6cvrkS5uBs+JHdMFLUA+k5HTKPRfB73zjWO7JJYWD2U/RrmTgdVYVLrrLlxETiBkBcqtTc7gTewKqsY+BCgemUIBLvqc26UV5OIdIJ0AgEbAa/Dr+SMi3TibFVJaCEQ7CSKdFLSYtQ+OU6CZVxzq8YEQl6o1N7sBN5ArGKNB35VTQt21efcQK8mEenE5jY7PzMS1oaA1+FXcsZFOqlNNwuqIe9/9GlQ9dHKIJ2UtBi1T46ToINlIhfBmg6loS8o5RkL5TcHabm+L0JeqORBTRx/BLCKvkdfDfIP33QXhezVJCKdIJ1AwEbA6/ArOVkinRQ1psSfagJIJyUtRu2T4yRMdoCH/6dLpJPaGwEaGCOAVZysVaT0iRDw6rshndjc5ok8bwoNioDX4Reb4Yr+RDoJqqtQGd8EkE6KmoimxZ8uJyH/0zEPpvU9ysrkH750UqZ1IacNeaGSv58T0weB6bKKIY8y6jZFBLyaRKQTpBMI2Ah4HX4lp0mkkymy41NU1WD9H6STkhaj9smny0nI/zimRTr50le+OkWGrk5VDXmhkr+fE9MHgemyinUalVPUlmBXfc4MvZpEpBOb2+z8zEhYGwJeh1/JaRLppDbdLKiGBDuJIp2UtBi1T46TEJQloTJjIxDyQqX2ZifwBmIVxzYMp7egYFd9zki9mkSkE6QTCNgIeB1+JWdcpBNnq0pCC4FgJ1Gkk5IWo/bJcRIs45pbNSYQ8kKl9mYn8AZiFWs88KtqWrCrPucGejWJSCc2t9n5mZGwNgS8Dr+SMy7SSW26WVAN+cb8SlD10cognZS0GLVPjpOgg2UiF1/75ncnUi6FhrxQqb3ZCbyBWEXsw0gCwa76RtY8K4JXk4h0gnQCARsBr8Ov5IyLdJJlNAmvJQGkk5IWo/bJcRImO/Dr96fLyfLMX3rIC5Xam53AG4hVzD+OiFkbAl5NItKJzW2uTR+iIc4EvA6/kjMu0onzYyWhhcC3f/Jby90J3kI6KWkxap8cJ2GCw3Nu+QDpZFL8Q16o1N7sBN5ArOKkRuUUlRvsqs+ZoVeTiHSCdAIBGwGvw6/kjIt04mxVSWghEKz/g3RS0mLUPjlOgmVcj+HWex98PIZSKCJJIOSFSu3NTuANxComxwshMQLBrvpi9cz/06tJRDqxuc35HxIx60rA6/ArOeMindS11022XcFOokgnJS1G7ZPjJEzWdFD6pAiEvFCpvdkJvIFYxUmNyikqN9hVnzNDryYR6QTpBAI2Al6HX8kZF+nE2aqS0EIg2EkU6aSkxah9cpwEy7jmVo0JhLxQqb3ZCbyBWMUaD/yqmhbsqs+5gV5NItKJzW12fmYkrA0Br8Ov5IyLdFKbbhZUQz780a+Cqo9WBumkpMWofXKcBB0sE7n48ntfn0i5FBryQqX2ZifwBmIVsQ8jCQS76htZ86wIXk0i0gnSCQRsBLwOv5IzLtJJltEkvJYEkE5KWozaJ8dJmOzAr9+fLifLM3/pIS9Uam92Am8gVjH/OCJmbQh4NYlIJza3uTZ9iIY4E/A6/ErOuEgnzo+VhBYCj773M8vdCd5COilpMWqfXMw1/06KQKvVmlTRlPvok1/WfoDTQAcCMjQmOHFTdPgEgl31OaOTbu8wXvIkQTpBOoGAjYDX4ZdniFriIJ04W1USWggE+6djpBOLNeBWFEX4z5Ml8Gd/Pj/ZCjS8dIwABJIEZFBYZnxuQSDYVZ/zo5FunxwOlYQgndjcZudnRsLaEPA6/EqOYaST2nSzoBoS7CSKdFLSYpAcAhCAAAQaRQDpJKj1VZiVCXbV54zLq++GdIJ0AgEbAa/Dr+T8jXTibFVJaCEQ7CSKdFLSYpAcAhCAAAQaRQDpxLLa4ZYQCHbV5/yAvPpuSCc2t9n5mZGwNgS8Dr+S8zfSSW26GQ3JQwDppKTFIDkEIAABCDSKANJJntUFcWpGwKvvhnSCdAIBGwGvw6/k/I10UjNbT3PsBJBOSloMkkMAAhCAQKMIIJ3Y1xXcrSUBr74b0onNba5lf6JRhQh4HX4l52+kk0KPksg5Cbz/0ac5Y445GtJJSYtBcghAAAIQaBQBpJMxL1SmsbhgV33OML36bkgnSCcQsBHwOvxKzt9IJ85WlYQWAsG+9Yp0UtJikBwCEIAABBpFAOnEstrhlhAIdtXn/IC8+m5IJza32fmZkbA2BLwOv5LzN9JJbbpZUA0JdhJFOilpMUgOAQhAAAKNIoB0EtT6KszKBLvqc8bl1XdDOkE6gYCNgNfhV3L+RjpxtqoktBD40le+ark7wVtIJyUtBskhAAEIQKBRBJBOJrhomZaig131OQP06rshndjcZudnRsLaEPA6/ErO30gntelmNCQPAaSTkhaD5BCAAAQg0CgCSCd5VhfEqRkBr74b0gnSCQRsBLwOv5LzN9JJzWw9zbETQDopaTFIDgEIQAACjSKAdGJfV3C3lgS8+m5IJza3uZb9iUYVIuB1+JWcv5FOCj1KIuck8LVvfjdnzDFHQzopaTFIDgEIQAACjSKAdDLmhco0Fhfsqs8ZplffDekE6QQCNgJeh1/J+RvpxNmqktBCINgDw5BOSloMkkMAAhCAQKMIIJ1YVjvcEgLBrvqcH5BX3w3pxOY2Oz8zEtaGgNfhV3L+RjqpTTcLqiHBTqJIJyUtBskhAAEIQKBRBJBOglpfhVmZYFd9zri8+m5IJ0gnELAR8Dr8Ss7fSCfOVpWEFgLvffCx5e4EbyGdlLQYJIcABCAAgUYRQDqZ4KJlWooOdtXnDNCr74Z0YnObnZ8ZCWtDwOvwKzl/I53UppvRkDwEkE5KWgySQwACEIBAowggneRZXRCnZgS8+m5IJ0gnELAR8Dr8Ss7fSCc1s/XT25yd/dOzy1u3/3f2T3M2HOmkpMUgOQQgAAEINIoA0knOBQbRKiEwntXgyKp69d2QTmxu88hnQ4TaE/A6/ErO30gnte9+E2ngl9/7etFyn764Q6Ei7AAAIABJREFUcu7MT19c5SwO6cQZMgkhAAEIQKCBBJBOci4wmhzNYdWXhWs8q8Gs0jXcq++GdIJ0AgEbAa/Dr+QsjnSiVpKLCgk4HBg2nr8zIJ2UtBgkhwAEIACBRhFAOqlwdVTXrBxWfVkoljaOn764ung7jKLobvgQ24x8N3yIouj65j4WLj/z70HOKl3DvfpuSCc2t1mfAReNJeB1+JWcv5FOGtstvTa8wkm02noinZS0GCSHAAQgAIFGEUA6qXYdUsvcql317eyfim6ytn0Sw7W2fXI3fLgbPiRvxWKW/OnVd0M6QTqBgI2A1+FXcv5GOilpW0meSuD9jz5NDZ94INJJSYtBcghAAAIQaBQBpJOJL13Cr0CFq76F1UPZWpIljqxtn0RRdPF26BWLV98N6cTmNnt9rmQ+FQS8Dr+S8zfSyVR0ISpZFQGkk5IWg+QQgAAEINAoAkgnVa1AyCcPgce98yiKXr5+Z4ncP7+JoqjC13OSZXn13ZBOkE4gYCPgdfiVnL+RTpLmkpAJEtjc7T9/9aZ/fvPk2cXC6mHlNUE6KWkxSA4BCEAAAo0igHRS+VKEDC0E5JhY+/H/eeJYishzy6vvhnRic5vzPB7i1JuA1+FXcv5GOql335tU69zeepU/NWiXvhs+LG0caxOePLuIouj5qzca4nCBdKJ4uYAABCAAAQiMJIB04rDYaFoSt1VfKiWRRfrnN6l3JfDl63dRFNnlFUvyPLe8+m5IJ0gnELAR8Dr8Rs559ghIJ3kMKHGKEnCYRPXtVnmFVfqtuWNzaeNYAsvsRkE6sRsE7kIAAhCAAARMAkgnRZdADYzvsOrLoiRHmURR9Lh3nhpnc7cv/ZMXdmzOZyo7AiEwFQSQTqbiMVHJCgk4TKKy5eRu+CDKiE6NplAiH6vb3O07VxXpxFwQcw0BCEAAAhCwE0A6cV5yNCehw6rPAkcWe1EUnV3ePu6db+725f/HvXPZbyLfJ7bkUP6WV9+NXSeIPhCwEfA6/OwT3si77Dopb17JIUngG/MryUB7iGzRNN/HSQolz1+9iaLoybMLe1aWu0gnI20CESAAAQhAAAJKAOnEsqjglhBwWPVZ0K1tn1zf3GsPTF7wcWKb22khyy0ITAUBpJOpeExUcrIEkod+5QkpWmekk+QShBAIQAACEIBAFgGkk6IrDeKXJ7Cwevj0xZV8pTjWM/vnN+ZBeOXLSs3Bq+/GrhOkHwjYCHgdfjGDUvQnu05SLSaBJQl8+ye/LZrDzv5pFEXmwWBIJ0WHM/EhAAEIQAAC1RJAOim6nmlgfIdVX05Ka9sn+sJOmfe1cxan0bz6bkgnNrdZnwEXjSXgdfiVnCCRThrbLb023O2tV9mfubZ9InVLSicSIevksDwtYtdJSYtBcghAAAIQaBQBpJM8q4uGx3Fb9YUMzavvhnSCdAIBGwGvw6/k/I10ErLhnt66uU2isvHk4u1Q/sIgh4G9fP1uc7e/s396dnkrvb3MRk2kk5IWg+QQgAAEINAoAkgn07sYG1vN3VZ9Y6ueQ0FefTekE5vb7PC0SFIzAl6HX8n5G+mkZp0tkOY4TKJPnl3k6czmGz0OjUU6yQOZOBCAAAQgAAEhgHTisNhoWhKHVV8eRDv7p09fXPXPb84ub1++fvf0xZVuTM6TvEwcr74b0gnSCQRsBLwOv5JTO9JJGcNK2iwCH/7oV1m3ssLl9RxLf74bPjx/9cb8VnFWVpZwpBMLYedbV2//4JyWhBCAAAQaTiBwE4p0YllUcEsIOKz67Og2d/tZH9k5u7wtuRS0Fy13vfpuSCc2tznP4yFOvQl4HX4lFxxIJ/Xue1PUuoXVQ/MksNh1mZd0TAhIJyUtRmry/+7v/unq7R9fp0qNQCAEIAABCGQRCNyEIp2Yqwiux0BgbfskNlj0lW0Jvxs++FZPvPpuSCdIJxCwEfA6/GLGpehPpJMxzAENLOLR934WZquRToqaiDzxH33yyx/+m38avGHvSR5axIEABCDwJwQeffLLkNUTpJMw1zNB1araVZ/sN7kbPjzunZsSydLGsX6xuOTr2yPpefXdkE5sbvPIZ0OE2hPwOvz+ZPot/gPppPbdbyIN9PTWa/m2IJ0UNxKjU4iJQz0ZTYoYEIAABBIExIQGq55I9crPv+RQYwIVrvp0y0nWsSabu30ZQ1XtR059Ll59N6QTpBMI2Ah4HX6JKbhYANJJqsUksCQBt0l0aeP4s7dbvc6FSCfFDES+2I8++bdi5VBP8gEjFgQgAIF/IaAmNEz1BOmk5IqoCcndVn2pZOSjAfZNJf3zmyiKHvfOU3OoJNCr74Z0YnObK3l+ZDLVBLwOv3+Ze52ukE6mumsFW3m3SVS2aMbmwrXtk4u3wyiKrm/un764KtlkpBMnOzEi0Rcm7t/+5Q//kTd3RpDiNgQgAIEEAdOEBqieyCK25ORL8noTcFv1pTKRjwbY13t54qRmnj/Qq++GdIJ0AgEbAa/DLzEFFwtAOslvRonplYBs0bwbPpilrG2f3A0fzD79/NUbM0LRa6QTE2ZV12Li/uv/4f9EPakKKflAAALNIRAzoaGpJ1K9orMt8SHgRiCPLJInjlvpmsqr74Z0YnOb9Rlw0VgCXodfybUF0klju2VoDZctmi9fvzMrJmeqy1FhMlN+tv2kzBs9SCclLUZqcl1Yo56k8iEQAhCAgIVA0oQGpZ5o9czZmWsIeCKws38aRdHF26Elf9mMHNukbInvcMur74Z0gnQCARsBr8PPMhnnuYV04mBPSTKSwPsffToyTixC8m8ISxvH0of1qLDyb7cineQxC0XjmAtr1JOi9IgPAQg0nECqCQ1HPTGrF5u4+QkBIeCw6stCt7B6KAYhSxl53DuXCGX+kJZVuoZ79d2QTmxusz4DLhpLwOvwK7ngQDppbLf02nCHt16T0snzV2+iKDKPCkvGKdoKpJOSFiM1eWxhjXqSSolACEAAAqkEskxoIOpJrHpFp13iN4GAw6rPgkWWf1EUvXz9bmf/VL5PvLB6uLnbf/n6nQyis8tbSw7lb3n13ZBOkE4gYCPgdfilTsP5A5FOyptXckgScJhEY1s0F1YP5ZQT888OSCf5h/Y4YyYX1qgn4+RPWRCAwFQTsJjQENSTZPWSkz4hDSfgsOqzEFtYPZRXcrLG9d3wweuWk7nlA6++G9KJzW229AxuNYSA1+GXZVZyhiOdNKQTjrmZX/rKV4uWqFs0++c3T19cyawZOzVWAjd3+0Uz1/jsOslpGQpFS11Yo54UYkhkCECgsQTsJnTi6klq9XRW5QICc8sHDqu+kdyevriKfShATET//Ma3boJ0grQBgUkSQDoZaR+JAIG55QPZVGKuns0tJ5u7fflEcRlWSCcm3qqusxbWqCdVESYfCECgxgRGmtDJqidZ1SszF5MWAjkJbO72n764kv939k/HIJpIxbz6buw6maRbnrPnEW2CBLwOv5KLCXadTLBjUHSSwJNnF9c391EU3Q0fnjy7MCMsbRxv7vZLzppIJyUtRmpyy8Ia9SSVmNfAdrvdarW2tra8lhJ45kdHR/Pz851Op9//XHLlPwiETCCPCZ2gemKpnjlHcw2BOhHw6rshnSCdQMBGwOvwK7kaQDqpk6EPpy1f++Z3w6mMWROkk5IWIzW5fWGNepIKzV9g64v/1tfX/RVRYc6DwaDb7c7Pz0u1W61Wp9PZ29srWcT6+vp0cSjZXpJPNYGcJnRS6om9euYMy3VjCQS76nN+Il59N6QTm9vs/MxIWBsCXodfyeUC0kltullQDan2wDBt2s7+6dnl7c7+qYYUvUA6KWkxUpOPXFijnqRy8xQ4Bsmgqo0tR0dHkpXqJnqxuLhYhs/e3l6r1Wq3271ez8yn0+mIOmMGcg2ByRLIb0Inop6MrF7RiZj49SPgY9W3tHH8/NWbs8tbOfHk+ub+7PL2ybML+eCOb4ZefTekE6QTCNgIeB1+Jed7pBPfxreZ+fuYRPUwlKcvrpypIp2UtBipyfMsrFFPUtH5CByDdFJVEbLZZGZmZmtrq/fFf4uLi6qedLvdyvlIifPz85XnTIYQcCZQyISOXz3JUz3nSZmE9SBQ+aovefidjq+74UOZzwXkBO7Vd0M6sbnNOZ8Q0WpMwOvwU1PidoF0UuOON8GmvffBx26lL20c7+yf6pFgsYuzy9sois4ubzV8bfukUEFIJ26Gwp4q58Ia9cSOsaq7VekalvpUVUSn01lfXx8MBmZZW1tbkr8PgQPpxETNdSAEiprQMasnOauXcy7un99EUdQ/v8kZn2hFCchOjdhpcUUzKRrfedWXWtDj3rmOzYu3Q1n1nV3eyll4cqvo8i+1IEugV98N6QTpBAI2Al6HnxoXtwukE4vd5NaYCZiTZc7+XHQHipt0IkOYf+0E8vQW1JOcHbtMtKp0DUsdfBch+bfbbUsd3G4hnbhxK5nKbjq4KwQKmdBxqif5q5enCfonkDyRieNAQEerQ9pAksgbOhdvh8kvA2zu9i/eDqMoung79Fpb6fYKs9oLpBOb2+z1uZL5VBDwOvxKDmakk6noQk2o5NLGsUNnLvp3FaQTMUc+/s3ZS1FPHPp5oSSpuka32+10OrOzs3K31WrNz89nfYXHPLd1ZmZmcXFRvlNzdHSkyWMXsSNFClU4GVkyLyOdaFWPjo4k/6xDVWLn6fZ6vU6no5FnZ2eT+2KiKJIzU7a2tgaDgb5k1Ol0km0hJIoiHwanfnkWNaFjU08Edc7qjYw2ddLJk2cX8tW/kU0bGaHCrCxlibIwvft6Nnc//yza3fAh60yTpY1j0Va8bjyRbu/JgCOdIJ1AwEbA6/ArOaqRTizTD7ecCXz5va8XTatLCssrrPLua9GdJmZNykgnZj5clyGAelLSbtuTi+5gKgL6CkxM7xABJZabCgFmZHl3RvUI85Zc+5BOyryw0+v1YhVTNSRWeRPUyspK7K78nJ2djb1VJLtXVlZWTDWq1SqwHo5hr/fPan3vMsanHmnVhI5HPan28U2ddKKHbpTvPBVmVb4y1ebgsOrLqoBQevn6XVaEueWDl6/fRVFU9I9nlgyTt7z6bgWmimqHX7KdhEAgQAJeh1/J9RbSSYAdpgZVcjgwLI8skieOnR7SiZ3P2O7q0v+H/+afBm/+UNKOkdwkIN6+qQhsbW3JUay6BaPf78u+iVarZX4JWMUR2U/x+ZEE/f76+npsP0WyCLMCJa/l4zitVmtlZcU5q6R0IllZXthRgWl9fV122ciHk0Vziek4ko9wmJ+f3/viP5O5c81rmZDFf+WmVU3oGNSTah8f0kkURZX3h4ln6LDqy6pznpVenjhZ+ecM9+q7IZ3YdhzkfEJEqzEBr8Ov5DIL6aTGHW+CTXOYROWgE/vfGcpPlkgnE+wVsaJ16Y96UtKMx5Ln1DUGg4GIAqbDv76+3mq1ZmdnY3nGfuYsIpYq509VJUS/yJkqFs1BOhEayZeYNCsVnqIo0krGJJVYNfgpBKr1vWOWpLE/1YT6Vk+qfXxIJ0gn9jErK73nr95Yoj1/9SaKojJ7kC2Zyy2vvhvSCdIJBGwEvA6/kiszpJOR1pMIDgTe/+jToqmWNo7PLm/tb+c+7p2fXd4+7p0XzVzjI50oihAudOmPelLSkpvJ8+sayS0YuvPClAnMzOU6fxHJtPYQ3XJiCjr2JKl3Ve+IvUmUbLIk13JTc5P2mqqK5DMzMxN7kSc1OYHV+t4h2K5A6qAm1Kt6Uu3jM6WTnf1TOZhDTv20TO47+6f98xs54UIiP3/1JnmGqD6X/PGXNo5fvn6nn24x1xjyMaDk+D27vNWCcl7kyUrP71jbPhFKd8MHVQce98775zeKS742mPrGSuo3jDTzhdXDpy+utL3985tKTgxxWPVloZOzTq5v7rMizC0fSP139k8tcUre8uq7IZ3Y3OaST47kNSDgdfglbXqhEKSTGnSwKW3C0sbx5m7fsvTx0S6kEx9Uy+SpS3/Uk0Km2xI5v66R1BH6/b5svmi3291uN0sXyF+EpZ7JW0dHR1L6yG0vybSxkKLSiWy3kXZl/WuqOUl0sQrw0yRQre9dxuDUL62aUH/qSbWPT6UTOa7C7CdRFCV3ni6sHmbpDnfDh6TaUij+2vaJyjFmTeTMtaxyPUknUoEnzy7MKklZchicWUO9TlZGCZu9XTNX0URzuBs+VKKemMWVvBYCyc4g2WrPyTpHtmTpktyr74Z0gnQCARsBr8NPbZ/bBdJJJRaWTBwIlH/7xqFQpBMHaL6T6NIf9cTNjMdSZeka8pGdmZmZmDQQe+VE9QuJtri4GNu4EUVRVhGxmhT6ORgM5MjVdrtd5lUdKbSodJJ6OG4MlHkoDNJJoYdbre/t2yJNXf5qQj2pJ9U+PnHspf/oloeljWPVKWI7KdRP1m0mC6uHj3vnqi/E3P5C8aXQi7dDzWRn//Ts8tY8rl7WKpW8ZWPPyhxTL1+/29ztP+6dizb05NnF9c39k2cXWk+TWGzzhUU6kSKevrgS0UEx2rd4jH9EqFR0fXP//NWbnf3Tzd3+zv6puV/G/kZP+Tp79d2QTmxuc/mHN4YcZBt8lrw3hgrUuwivw880tQ7XSCf17nuTal2es06QTib1dAIsV5f+qCcOZjyWJKlrHB0dJRUT1QVi0kkURYPBQE6W1Tjmuyo+pBNTN7G/KxRrbNbPotKJHpqblWEsHOkkBsT+s1rfO0ALNvEqqQn1oZ5U+/hUOok5HQurh7IhwnTj5d2N1FMt1rZPpNeZ+RSNLznEpIfY07TrHbHI9p/2rHQQ6Us69twWVg9FP4rFt0snsX06WqWSW4DzrPrszYndldNMlEns4uLt0OuWk7nlA6++G9JJldKJKm2xXpL8aRqLWIcr+lMNmamzFs2E+FkEvA6/ZMcoFIJ0kvXUCC9DIM8kinRShnD90urSH/WkkA1PRk5KJ+Lnt9tt/XaMpBrp//d6Pf34rrn3JFlEshr5QyrXTaIoKiqd6As7Oas9El3OfBoSrVrfu37Wr5IWqQmtXD2p9vGJx3HxdphsddKN1y0kqX6y3tWsNCRnfJEe7Iesaa20FOcLe1ZiDeyViRWdqpKkBkrmyZ0aKjaVdADzrPpilR/5c3O3r3uR1FTK7puRactH8Oq7IZ1UKZ3ouNJeknVRaHTZ+5Boe9c396m2xp6WuyMJeB1+Wd0jZzjSycjHRwQHAnkmUbF1sb+WOJRVKAkv7BTCNebIuvRHPclpwFOjxXSNwWAgIbGdI/qZmOSuEzNbTW6e9BErwoxf9NqHbuIgnXS7XWmU+VaOpS1IJxY4yVvV+t5jtktTVJya0GrVk2ofX6pjL5CTbrwl8tzygf6xWV9jKRpftzboq0PJx61+WfJW0RB7VjJwCi2KUtubGmjJXG4FKJ0o3s3dvvw/Ti/Vq++GdFKldLKweqhdRC7kOOWLt8NYeMm9VdojufBNwOvwS65RCoUgnfh++s3M/xvzKyMbjnQyElEDI+jSH/WkkCU3I8d0jaOjIwnpdrtmtMFgIG/x2KWT1Ndz5DDXlZUVM0OHa0+6iUU6kRdzksfQqkI0koY0E+mk0OOu1vduoGHM32Q1oRWqJ9U+vlTHXhqYlE6km2Xtsi8ff275QDeqRFEkOxpi/rld78j/aOaWD+xZSWMt0ol8ZCd5zmvspNhUwpbM5VZJ6STPqq8Qq4lH9uq7IZ1UKZ0k+0rqGEhGIyRYAl6Hn5g853+RToLtNrWvGNJJ7R+xWwN16Y964mbYY9JJFEX62Rp56WYwGHS7XQlstVqmWDA/P7+4uKg7L/r9vp6fah5BIsJBu92WwL29PbeDXSWfVqu1tbXVS/vPLVuLdKIv5oiQdHR0pC8iraysCLr5+XklMBgM9vb2FhcX2+22+TiQTkwaI6+r9b3dDEtzUqkJrUo9qfbxWZya8lKIdMX8Uov0is3dvimgXLwdmn+ctusdhfqVPSupfKp0srZ9klRMdNyFIJ0U4jAVkb36bkgnSCd+CUzFGLNU0uvwU9PpdoF0Ynlw3HIm8O2f/HZkWqSTkYgaG0GX/qgnDoY9KZ3o2yhyS/+Vc0xi0oneNS9iG0z29vbMu61WSwWIQhWOZZL8adatUM5ZZ53o15e1LPNFJNWJ9K5ezMzMmBVAOjFpjLyu1vdurGHM33A1oZWoJ48++eWf/fm8jIUvfeWrUo2vffO7EvLeBx9LyJff+7qEvP/RpxKiw0e2JHz7J79ttVqvXr2Kouj0/7v+/CTO7/1M48wtH6h08rd/+7dSkOy7f/XqVavVSha0+++eSt/7+OOPJZ//cPk2iqJ//x//k2b74Y9+pQXt7OxI/KWN4/c/+lTiaIv+q+/8ze9+9zuJIGKEtEgD55YPNFuzRRJoFiQhAsEsSKUTiRBrkRQt0kmsoH//H/9TFEV/+MMffve73/33a/+7tkhgSm21oP/7//l/oyg6u7w1n5Fkvvd/PJGczWckt/6n/+V/m1s+kGckcfK0qGRnyCpI9LXdf/dUIsgzWlg97P3+/3r16tXvf//7lf/xfy7U67IKSj4js0X/+V/+UOBU/i/SiV/hwCLQyvE5T55dLKweqmKqZ6AsbRw/f/Xm7PJWv+B1fXP/8vU7fSdQ+oe+Lng3fNAQDZTczKN6rm/uUzVRMy3XJgGkE5MG100gwFknTXjKXtuoS3/Uk6KLNtlOEjvZpNfr6Udk2u324uJiv9/f2tpqtVqdTkeL6Pf7KysrejRsu93udDq6BUOjRVG0t7en0ebn5922h+jOF1nXJv8162aWPvJaX1MyN8tIqqOjI0UxOzsba52A0orNzMzMz89vbW0NBgOzUMnBuXpmVk24Rjrxai1TM1cTWl49qfbxiVOTekysnjyir8yImxNzT7S9ctf8Ik/R+JqVXmgdNET1Dg1xvrBnJaYg6WEtrB7Krdhnm+eWD1I9xNTArMznlg/kVskXdvKs+nJyW9o4lippN5hbPlhYPRQdTW5FURT7VFDOzPNH8+q7IZ1MTDqR4fH81ZtYf5KeoYqJ9jO9iI2Q1MEsgWeXt2pHNHkURVnb4fJ3yubE9Dr8zIficM2uk+b0w3G2NM8kKhYmuUrwWk+OifWKt9rMdemPeuJg20kCgXAIVOt7V2tnapybmtCS6km1j088l6QfoZ/aNV8/edw7l26cVA3048TmKqJo/OTTTzpEehit6cknE+YJsWclLTWbI3lqS2NigX7O2SSWpadkZR6gdCIPUfcBCATdH/Dy9TvpQnfDh/JPxPLUvPpuSCcTlk5kPJxd3u7sn+7sn+qouxs+vHz9bmf/VPvW49656CkxuTdpKczTjKIokkNq55YPljaORdMdg+Bn6dDTdcvr8JOn7/wv0sl09aVpqS3SybQ8qcDr+fnS/7/9x0ef/PKH/+afrt7+wdnQkRACEJgggWp978CtVlDVUxP6hXriaEKrfXwqnURR1D+/kVNF1rZP9G/AsT/uavjTF1cSeWH1UN2Z5LdB88ff3O3LubB6ssnO/mnyc8X6GpH8zXhp43hn/9TtKduzkhGqTpxZhPpuAsckIO/mmJGFcExPsWQut2LYzQzzXOdZ9eXJR91Pk4Puu1HxSJ6y84PIUxOvvhvSyeSlk9gIsfQJu0piJtSYF2+HKr7IpikZw2w8MXFZrr0Ov5KLIaQTy4PjljMBeUXWnlwsjDk72uNXcpddJ5VgHFsmX6z7/1ekk5J2nuQQmCyBan3vsdmfGhSkJjQ06SS5X1666PNXb2LYTVUl1o2vb+6TRxDkj69CRizbu+GDiilSGZVjJGZ+nyvWlrnlA0tWknnqokh308SqKrnF6jMR6STPqi9JIzUkuTiU3TrmX/2TcVKzKhPo1XdDOpmwdJLUXC19RS2FqS+qSmIm1EBTN5EIqcPSTMu1ScDr8IuZ0aI/kU7MJ8X1OAmMYeZLNgfpJMkk2JDPF/0//OOWk8Ebx7+XFjWJxHcmoJ/LSR5ZkgxJHkFiKVc/i5PMJxkSO+TFki23xkYA6WQiZlZNaFAv7MjWddk+8NlGEv1wTP/8JmsTwcLq4ZNnF+Z2lbPLWznnMRVs/vjyuV/5e7BssX/+6k3S65EDJSVayQMfLVlJ/slXk6SN5qGT8lbB0saxaAqxd1uEcCzQkrncSopQqWzHEJh8YUc6iUlmDAtIr74b0smEpZOY3Gjv1g7SSTJD6bKFyk1m0pwQr8Ov5NIH6aQ5/XCcLX30vZ+NLG4MM1+yDkgnSSZhhuiin4NOShr5sSVHOhkb6qkrCOlk/GZWTWhJ3SSKIh7f+B/f1JWYZ9WXs1F6TOyTZxfmd6NNSUvkoSytLWdB9mhefTekk3ClE/3ITnKizb/rJNm3kE6STCwhXodf8skWCkE6sTw4bjkTyPPWK9KJM97aJ9RFP7pJIXtOZAiESQDfe8xGW01oed0E6WTMz25Ki8uz6svfND1VUw2a+SaXaCscE+tXfcj/tAKMaXk7xnJrbvkg9cs42guRTsb2rJFOxoaaggIhkGcS3dk/lcOtx1lndp2Mk7ZbWbroRzfR+ZoLCEw1AaQTN2PolkpNaCW6CdKJ21NoWqo8q778TBZWD031JPby0eZu/+mLK69bTuaWD7z6buw68av7WPQRyy19MSfmnGg40kn+MVwyptfhV3I5xa6Tkg+X5KkEqp1EU4twC0Q6ceM2tlS66Ec3KWnbSQ6BcAggnYzfhFalmyCdpD47dabyjLKY55+a4bQH+lj1LW0cb+72J3UIi1ffDekkROlEtpzcDR9io1FHO9JJjIy/n16HXx6rbYmDdOLvuZNzIQJr2ydPX1xZDn4zc1tYPfzss4KxM/DNCFnXSCdZZEIIRzex2GpuQWB6CSCdjMfAqgmtUDdBOkl9dupM5RmVTZBOUin5C5QVo1dVxavvhnQSonQiO52ub+5jHVdOY46iCOkkRsbfT6/DL4/VtsRBOvG4+B92AAAgAElEQVT33Mm5EAE5+kSOuDcPA0vNZGf/NIqiu+FD0YkT6SSVZwiBuuhnv4nFYnMLAtNIAOlkDDZWTWi1ugnSyRieHUUUJTCGw/K8+m5IJyFKJyqRPH1xJX7I2vaJ+eYY0knRgeoc3+vwK7mKQjpxfqwktBB4/6NPLXdTb6l0klM9kdcVi/4xB+kkFf7EA3XRj25S0qSTHAIBEkA68W1j1YRWrpsgnfh+dvXI32HVN7Lhsr94c7ef/P/l63dRFL18/U5vjfyT28jiYhG8+m5IJyFKJwurhxdvh8kZVAORTmKDxN9Pr8Mv+YgLhSCd+HvuTc7Z4a1XkU6ub+7vhg951BP9fF2h13aQTgLslrroRzcpZL2JDIFpIYB04tXwqgn1oZsgnXh9drXJ3GHVZ2n72vbJ9c19Ifv29MWVJUOHW159N6QTv9KJbBVJ/eOq5dbc8sHC6uHTF1fa+S7eDh/3zueWD8QzMTe6yxaV2MEoqYHS+eRWapUcemftk3gdfoUsSzIy0kntu99EGugwiYp0cnZ5u7Z9klM9ESFYzFrOZiKd5AQ1tmi66Ec3SdpnQiBQDwJIJ/4sqppQT7oJ0om/Z1ennB1WfVnNX1g9lEVgIeuHdOJXjMh6WoRDwAcBpBMfVMkzZAJf+spXi1ZPpZO55YOc6om8s1NovkQ6KfpcvMbXRT+6SaE1IpEhMF0EkE48GVI1of50E6QTT8+uZtk6rPqyCDzunYt9e/riSt/HiV3wwg5CCQTqTADpJMs+Eg4BJWBKJ6Z6YjkLVrbUIZ0ow+m60EU/usl0ucHUFgJFCSCd+DDOakK96iZIJz6eHXlaCMhq8PmrNyPjFFr+WXJLveXVd+OFnTq7/an9icBCBLwOv6IrmFh8Xtgp9CiJ7I9ATDox1ZMoivS4a62AnoTNCzvKZIoudNGPbhKzyfyEQP0IIJ1UbpzVhPrWTZBOKn92ZGgnIKs7pJM/TgRYT3t34W4tCSCd1PKx0igLga9987uWu6m3ktKJqCd6WtPd8OHl63dPX1w9fXElezVlXil0rDov7KTCH3OgLvrRTernJNMiCCQJsPiv1saqCR2DboJ0Uu2zq2tuDqu+LBRr2ydRFF3f3GdFmFs+kBUju07YuwGBehJAOrGYP27VkoDDgWGp0okcd21+VT22KC86cZaRTmQg828WgZw9WRf96CaxzsxPCNSVQJbRINwkUNSEjkc3QTrJ+VwaHs1h1Rc4MRmbnmwyL+zU0+EPvE9PUfW8Dr+So5oXdqaoI01RVR0m0SzpRFq9s3+q20+0z9v3c6biQjoxV+rVXqcCjwWim2jv5QICzSFQrampa24xa5n6U03o2HQTpJPUB0FgjIDDqk9zGMMWEi0r/4XYGU9WGukE6QQCNgJeh1/JUY10kt+MEjM/gfc++Dh/ZIlpl04kztr2yc7+6dMXV58pKUsbx0WLmFs+cJNOSo6y2icXEzfyceiin/0mte8SNBACEMhPoKgJHadugnQycmojwtzygcOqT7khndhsRU7roDS5gEANCCCd1OAh0gTfBBZWDzd3+26CSP66IZ3YZmjXe3lmdnQTV7qkgwAEak6gkAkds26CdJJ/gUFMNwJIJzYDl8c6uHEnFQSCJYB0EuyjoWJNI4B0YpuhXe+NnNnRTVzRkg4CEKg/gfwmdPy6CdJJ05ZJ428v0onNxo20DuN/YJQIAd8EkE58Eyb/0Ah8+b2vj6zSRCZLpBPbDO16zz6zo5u4ciUdBCDQCAI5TehEdBOkk5GLGSLMLR/kWfVlgZrIajCrMhru1XfjrBPbORf6DLhoLAGvw6/ksoKzThrbLb02PM+BYROZLJFOSlqM1OSWdT+6SSoxAiEAAQgogTwmdFK6CdKJ18VSbTLPs+rLauxEVoNZldFwr74b0gnSCQRsBLwOP5163S6QTtRKclEhgTyT6EQmS6QTN0NhT5W17kc3sXPjLgQgAAGLNqEmdIK6iaV6Fa4ZyGraCeRZ9WW1cSKrwazKaLhX3w3pxOY26zPgorEEvA6/kssOpJPGdkuvDX//o09H5j+RyRLppKTFSE2eKp3oop/v6aRCIxACEICAELCb0MnqJkgnIxczRJhbPsiz6ssCNZHVYFZlNNyr74Z0gnQCARsBr8Ov5MoD6UStJBdjJjCRyRLppKTFSE2eXPejm6SCIhACEIBAkoDFhE5cN0E6GfPSqIHFTWQ1OJKzV98N6cTmNo98NkSoPQGvwy85BxcKQTqpffcLtoETmSyRTgrZh5yRY+t+dJOc3IgGAQhAIKlNqAkNQTdJVi/YRQUVm1ICE1kNjmTl1XdDOkE6gYCNgNfhV3LZgXQy0noSwYFAnrdeJzJZIp2UtBipyU3pRBf9vKeTyopAO4G///u/t0fgLgTqRyDVhAaimyCdOCyBGpgkz6ovC8tEVoNZldFwr74b0onNbdZnwEVjCXgdfiXXEEgnje2WXhueZxKdyGSJdFLSYqQm13V/PXSTz5vzg1986/s/5//xE2i1WuMvlBKFwKMf/OLRJ79MHeMEeiWQNKHh6CZIJ14XS7XJPM+qL6uxE1kNZlVGw736bkgnSCcQsBHwOvxKTudIJ2oluaiQQJ5JdCKTJdJJSYuRmlxMXD10k8/9hB/84i/+9T98+ONff/jXO/w/ZgKtVmvMJVLcHwn8+Nd/8a//4dEPfpE6xgn0SiBmQoPSTZBOKlwa1TirPKu+rOZPZDWYVRkN9+q7IZ3Y3GZ9Blw0loDX4VdyOkc6aWy39Nrwb8yvjMx/IpMl0klJi5GaXEzcX/7wHx998ssavKfzhVX8zV/93T9/56e/5/8xE/jSf/bVMZdIcULgr/7unz/88W++9f2fp45xAr0SME1oaLoJ0snIxQwR5pYP8qz6skBNZDWYVRkN9+q7IZ0gnUDARsDr8Cs5nSOdqJXkYswEJjJZIp2UtBipycXE1UM3iaLoc6v417/+zk9/P+YRQXEQmCCBz23jX/8a6STVxPkOVBMaoG6CdDLBUdmQop88u4ii6Mmzi6Da69V3Qzqxuc1B9QMqMxECXodfyRkd6WQiXaL2hX77J78d2Uakk5KDN5zkYuJqsN9EkCKdjBy8RKgfAaSTCVpUMaFh6iZIJ/Ub7D5alGfVV2G5C6uHj3vna9snFeYZy8qr74Z0gnQCARsBr8Ov5GSPdBKzlfyshECet16RTkoO3nCS12a/iSBFOqnECLhl8rVvftctIalKEkA6maBFffTJL4PVTZBOSo6shiTPs+qrBMXO/unL1+/uhg9RFD19cVVJnqmZePXdkE5sbnPq8yCwUQS8Dr+Skz3SSaO64tgam2cSRTopOXjDSR7yot+BEtLJ2AxFsqA8piOZipDyBJBOHGxFVUkCN6GyiC3fx8ihxgR8m+617ZPnr96IYqLjzus7Pl59N6QTpBMI2Ah4HX5qQdwukE5qPJNNsGl5JtGJvN36uXvwY97nd7MWmamu3v4h894U3kA6Cdx0TLB6NS4a6WSCtipwE4p0UuOBX1XT8qz6HMpa2jh+8uzi+ubeHJ53w4eXr9/t7J86ZJg/iVffDenE5jbnf0jErCsBr8PPtCYO10gnde11k23Xhz/61WQrkFU60omDlWhaEqSTrOEzhvD3Pvh4DKVQRJIA0knTDF3+9iKdJMcLITEC1a765CiTi7dDs5eORzHRdnn13ZBOkE4gYCPgdfiZZsXhGulErSQXTSCAdOJgJZqWBOmkCaaANsYIIJ00zdDlby/SSWyw8NMrgZ3901jn7J/fPO6dL6weei03lrlX3w3pxOY2x54EPxtIwOvwi9mXoj+RThrYIcfQ5Eff+1nRUnb2T88ub/P8r7s0ZX69Gz4sbRznLA7ppKiJaGB8pJOco4lodSKAdNJAW5ezyUgndRrpntrisOrLqokchBdF0UQUE62VV98N6QTpBAI2Al6HX86ZLysa0olaSS4qJODw1qtOlll9VcP1THVNsrnbz1l5pBPFyEUWAaSTnKPJR7Qvv/d1H9mS50gCSCdZBoFwpJORw4cIDqu+LGi6tBvzGzqx+nj13ZBObG5z7Enws4EEvA6/kpM60kkDO+QYmuwwiTrsOtnc7X+25eT65j7/Nk6kk5IWownJkU7GYCKyinAwHVlZEV6IANJJE4ybWxuRTgoNpWZGrtB0L6we6ueHpcdOREPx6rshnSCdQMBGwOvwc5sINRXSSTMnOd+trnASrbaqSCc69rnIIoB0Uu2gK5RbsKajUCumMTLSSZZBIBzpZBpH9Jjr7MN0P+6d989vzAE4Tg3Fq++GdGJzm8fcdykuQAJeh59pUxyukU4C7DBUyR8BpBMHK9G0JEgn/gbgyJzf/+jTkXGI4IMA0knTDF3+9iKd+Bhx5JmTgOVrO2vbJzkzcYjm1XdDOkE6gYCNgNfhl3/yS42JdOJgT0kyKQLyUo8eE+tQDaSTVDtAoEkA6cRhZJFk2gkgnZhGgGuTANLJtI/uetR/aeP46Yur65t77Zx68p2PBnr13ZBObG6zj8dJntNFwOvwUwvidoF0Ml19aVpq6+lPx3J4WJnJEunEzVA0KhXSybTYGepZIQGkk0ZZuUKNRTqpcKDVNStPq75UXGvbJ3IYSpnVYGrOZqBX3w3pBOkEAjYCXodfofkvGRnpxDSUXFdFwPmt16WN453906cvrlL/P7u8jaLo7PJW7xbdrol0kjQChMQIIJ1UZQcc8nE2HQ5lkcQkgHQSswP8VAJIJ+ZI4TqVQP1Mt1ffDenE5jan9jACG0XA6/DTuc3tAumkUV1xbI11m0Qf986LduOif3NAOilKuIHxkU7GZiiSBbmZjmQ+hBQlgHTSQFuXs8lIJ0VHUwPjV266N3f7z1+96Z/fPHl2kf8rihWS9+q7IZ0gnUDARsDr8Ms582VFQzqp0M6SlRL40le+qtc5L5Y2jrN6qSX8ybOLnPlLNKQTC0xuCQGkk0Jjam37RLgV3QKWWkrl6+/UUghMEkA6wQBmEUA6SY4XQmIEHFZ9sRzMn7E/pN0NH5Y2jjXCk2cXURQ9f/VGQ3xcePXdkE5sbrOPx0me00XA6/DLmupyhiOdTFdfqnFtZS68Gz5s7vazmslZJznHNdHKEKhWOllYPXz5+p3Ux1z8ZXXyqQvf3O1L6ywjN3+jvjG/kj8yMSskgHRSxmjUOy3SSYUDjaxGElhYPbwbPsiYung7lIuXr99pQv1Lm9fdKF59N6QTpBMI2Ah4HX4lJ2ykE7XFXEyWQB5ZJE8ceyvYdVLSYjQheYXSyc7+qS4BoyhyFheq3dlhHyNF71YrnRQtnfhVEUA6aYJxc2sj0klVo4x88hCQLSd3wwdRRnSKMYUSkVScp9Q81fDquyGd2NzmPI+HOPUm4HX4uU2EmgrppN59b1Kt+9o3v1u0aJkszT8sJHNAOtGRy4U/ApVIJ0sbx3KqsVlP53Werh2dc0iOpqpCqq3bt3/y26oqNi35iC52N3zwVOGc+SOdmEOVa5MA0omnsVmnbB1WfVnNl5We+T5OUih5/upNFEVFX9nOKjE13KvvhnSCdAIBGwGvw8+c3hyukU5SLSaBJQk4HFggrmb//MZS9OPe+dnl7ePeuSWO/Ra7ThysRNOSVCKdyGaT65v7x71zWQiW2XVSrTxhHyNF71ZbNwfTUbTCocVXgJ4qljN/pJOmGbr87UU68TQ265RthaY7+UeyPCGVw/TquyGd2Nzmyp8lGU4dAa/DL//klxoT6WTqutNUVLjCSbTa9iKdpNoBAk0ClUgn1zf3+vknpJP8ozhY05G/CUVj5pQ2imar8XPmj3RiGgGuTQJIJzqauMgiUKHp3tk/jaLI/EMa0skvs7gTDoFaEkA6qeVjpVEWAu998LHlbs5bC6uHlb+egHRiLoi5TiVQiXRidvKR0snC6uHTF1d6Ht7F2+HTF1fyXrccn5xaT7OIPNd6EnPqabVakGS1sHr45NnF2eXt9c29lH43fOif3+zsn8bKUs+8ktFqrr+Fm7mAlqL75zepW7XlDSmtxuPeef/8RusvVGOVl6zWtk/Wtk8k5vXNvfCR91yk9Me9c7l7N3x4+fqdPBp5arq9yGHruKKLPV8zKynFbIV5V5vz9MWVxumf38jXjvLkrzkgncSeAj+VANKJDhMusghUsurTzMWa6VfbktKJRCizB1nLyrrw6rux64RdJxCwEfA6/HRuc7tg10mW0SR8UgTE4TH7s7gr6hGVqRjSiQmW61QCY5ZOFlYPVTQx6yObVlTRMG/JddGBoGfNpvreUoeLt0PJVjSFZKFRFOluGomp/nklI/TDH/1K2yV/e4yiSEPkQmqlVZXA2DcX9KtG1zf3Z5e3Sjh2mpKoLTHI0hBp19nlrWQl+WjRa9snSkw1ixiZWLWTP9e2T8y6nV3eyv+qT2nfuBs+xGKauenD0jhycsrI/M1MkE5SezuBURQhnZgjhesxEBDjf/F2uLnb39ztixF++frd5m5/Z/9UzxFL/TNAVdXz6rshndjc5qoeIflMLwGvw6/kvI50Mr39qpY1V4cntWObx4a5NR/pJBUsgSaBMUsnuhlEHea17ZOXr9+ZfnhV8oR6+7Hho7qD/hGvf34j5wrp2nRzt68ChPmlg6rqFquS/JQ9HUpmbvlAi4uiyKyGnDOtekr//Obl63da+bnlAxVi9C+Zc8sHugTXz6Jv7vYlW7MgFZs0kyiKNMnc8oGcWeh21KsWlCQg1dN9LnPLB0sbx6LUaPfQU2CVhsg6mpslf40zt3yAdGIaAa5NAkgn5kjh2jeBmJZtdkXzOrkhsdqKefXdkE6QTiBgI+B1+Jl2xOEa6aRaU0tuQuDL733dAYW+1yDbTJ6+uBLPQf/wm7pLv1BBSCcOVqJpScYsnUgnt8uC6v2W3NmhS1JTU5hbPtBwdb9Th1VqNVIDU5PnCXz0vZ+Z0WQ/hQlHrIRAMyUVUV1V4zAz0WuRfsw4kk8URaaeIvG1XSonSbhkcjd8MJMsrB7KMHF4QFqQ1tOsgH6hU++KfHN9cy8h8uzOLm81QuwiK/9YNKSTphm6/O1FOokNFn4mCbit+pL5zC0f6FIwq4veDR+ev3pjn61Scy4U6NV3Qzqxuc2FnhORa0nA6/DLsiw5w5FOatnlJt4o88CCnJVZWD2UvzCbf2I1X3CVvyonHYmc+Us0pJOclqHJ0cYsnYg6cH1zb1kIqvfr4JmbA0R3l5jywdzygcgBef6IJx1DtzyY20BK1k3qGTMdMupVJpB9InfDB5EPTElFrIcpZ5gNl2sRSszKW3QrZR7LR7WbWLgwdICQVZDsZIm9YTS3fKAyjVRAkptbYGIVy8o/Fg3ppMlGz952pJPYYOFnkkDMdCcj5A+Rc+7kVZ3kvzHdP3+2RWN69d2QTpBOIGAj4HX42Se8kXeRTooaU+LnIeAwiYovFFNGTOlEHTzzT815KmPGQToZaROIMGbpRN8BuXg7zOrb6v06eOZm/9dXVPTFFnkHRB56VulmDhLTVB8qrNvc8kHMdKhMoMtl+fKChKukIi+t6E+t8M7+6fNXb/QMEZFXzMonxRRNq+3SELnIkk4sWcVyiP3MKkgylDNWtAlyIU9BO4PEFDLJh5iVf6waSCeYviwCSCexwcLPJIGY6U5GmLoQr74b0onNbZ66vkKFKyfgdfhlTXU5w5FOKn/cZDi3fPD+R58W5SAOSexPrDHpJPazaBF/fJ//x7/+1vd/nnOAEK2BBMYsncwtH8jeCkEtW5FVKZBOrt6vessOnV+SaFm6QUPe+Eie06Ef2RHFwewJpvpQYd2S0okKpvLWjJQlW2ZELxBQ0gRzE4p+McestlyblbfoHdquGOoxSyfJ+kuIqTKb3/qJouj65t4UULIaEmsX0kkWasKRTmKDhZ9JAg6rvmQmQYV49d2QTpBOIGAj4HX4lZzUkU6CstRNrkyqLBILjP10wMWuk5IWownJxy+dyNaP56/eqEgRe/9Cvd/y0onu41ChQd40iamWj3vnWpnkQzfVhwrrljqiRRaRl4nEAojoI9ciqYgCYuoFcpZqbCNPUihJhmgdtF0aIhdSbvJsEUtWsRxiP7MKKprhwuqhfkQ5iiLtKln5x6qBdJLs54QIAaST2GDhZxMIePXdkE5sbnMTuhdttBPwOvxKTu1IJ/Znx92xEUiVRWKBcipE7JiGQjVEOilpMZqQfCLSiXZj1SzMbQXq/ao/rPEdLvRru+bbOroJRU7TEN3k+ub+ce/cPIRFOsA4pRP9gowedCJNFiYiqcj3bv7/9u7f1bIiwQN4pwaadaBho4mCDSY9vWLmKBiIPcFM0DgOvf4BrgwGpi2YSJvsYii4dmSw8z+MOGDDBouILAgGYqDIqjRiI3J33QOH47nv1qtbdercOlUfkOG9e0+dW/WpW7++8+7tkWLkmtZ8/LDStPKBeGK8yXjb4YfVopOhm2K+gGZWw6FRY8FDDZmVEp30MLmltVF0Mhssfi0qEP6uk/1vP5k+Mpvzc+pZ9OwmOhGdEAgJFB1+aQvhWEp0kjOxKntIIOFTr9OD0HjbaXQynKDO/LcwxuvP/UF0Mo59PxwSOG10Mv1ndMegZDz9jo+c+1YPXDB+u8ob7302/E3H7FtCphfM7jOgTdOHZet25l99D39CMswAYyLw9Ksf/nTvl+HPc4av+RirOlZpfGT4Yfj7mmnla45Okr8YexbuHNKY4YhODk0IHhedzAaLX/cFEnZ9+zcZHhlmsLRxN53eD90/8vGiZzfRSejYHNlDLmtYoOjwS5tcxlKik4bfeCdsWsIiOvzbH7MvXBjPAONnGfb/Tv6oZopOxrHvh0MCJ49OxrPuGJSMueH0MylHvfNnFw9/VPKf//0/Q5owfnhnuGzIU/7vWzNmX7kyVmO6Pd2v7ey1jvr1zKlj+Ldmhphj+kdnw5+hDY9P/wnh8R8SGh+8fvPOcPFut5tWvoboZPwI1X7njh87mnbE8B00o8PnX92d/jud12/eGfp0vCBw/2nXiE4OTQgeF51MR4qfzxQ4c+o+88pzHxSd/GbOMfzOfce4oD0B0Ul7fapFYYG0RXT/CDRbQb/+7l7mX2OKTn6zJPvlLIGVo5Phe2HHz8u88d5nw9F3FiMONR2GwPCtFuExGH52/MzOcNvpyfzpVz8cI5LPv7o7PPUv//pf08E4TR9WiE7Gv4KZ/dHZGPHsdrvZzDCkLbvd7uvv7g0Ty/D9qRVGJ+MniXa73Zff/Pj93Z9H3jfe+2z8xpmhIcN7Y7fbjd9NM3TlUPbLb34crp9NlaPA7P7TN4no5KzJwGO/Cji7TUeKn88USNv1nXkrH9j5zbxj+J35LvFg2wKik7b7V+v2BR599vX9B899ZDiejWfI6ScXvv7u3keffDs7HZ17w/0LRCe/WZL9cpbAItHJeFg96xV201jkzAt2u93sbxDGLGC8fv/tHf/IGI4M4cJ+wfFAPr7c8H0iw99BjGf7p1/9cNno5L4HHtyvzPDZnNkXmgxf1DIkBdNP8YzFP/rk26G247/aO0Qt459jPP3qh4GvTxqIpj013Hm4yf4r7ie/Y03O/eH6zTsj+Pd3f57Ogddv3hn/OGgQ+Pyru+Nf04xVGiOVIXmZTZWB+491E51M3+p+ngo4u43DxA+HBNJ2fYfuVsPjRc9uPrDjAzsEQgJFh990eUv42Qd2apig1WE1AdFJwizRW5GVo5N/+4/PP/3ih/GQ//3dnz/94ofp4XkcHWMW8NO9X/aP7uNlkT+Mh+1ZRjMW/9vfvxqvGQ/k+1nDmMKcWefxbn6oXEB00ttEF99e0Unlg1f1SggUPbuJTkLH5hLd6Z7bEig6/OIXvzOvFJ1s6720ldo++fIHdVZVdHLmPODBqcAi0Umd73+1InBIQHQynQT8PBUQnRwaNR4fBard9Y01PPaHomc30YnohEBIoOjwmy5vCT+LTo6dTF0fI7Dgp15jXi7+GtFJwizRWxHRSfyAWvzKhx57bvF7umGMgOikt4kuvr2ik5gR1Pk11e76kvul6NlNdBI6Nif3mYLNCBQdfvGL35lXik6aeZtV1ZCERTT+i8FmH+M/quGikzPnAQ9OBUQnR42pZS9OmDqWrcAid5u+nQI/T791ZZHXzbmJ6CTQU50/JTrJGVmdlG1j6p52VtGzm+hEdEIgJFB0+GWu6KKT6UTp56UEEhbR6b/fEX5XT7+i8tgKi07Ctp7d7XYbik7i+2v/606PHTvrXJ8wdaxTsaNeJbJfRCeRUC47rYDo5Kjh3+fFbUzd074renYTnYSOzdNu8HOfAkWHX+aCKjrp8z1ZutVXXnz32JeIj05yzhuik8wZo4fiopNjB++C1198+KkF7+ZW8QL+6qSHyS2tjaKT+HHU7ZUJu77KrYqe3UQnohMCIYGiwy9tIRxLiU4qn7v7qV74AzvDv/Tx9Xf3cj6t8/SrH4pOxrHvh0MCG4pO+pkftLS0gOjk0ITgcdFJ6dHn/hUKFD27iU5Cx+YK3w2qtLJA0eGXuaiLTlZ+M3Tycpeff3PZll6/eefTL37Y7XZff3cv586ik8wZo4fiopOcIabsRgVEJz1MbmltFJ1sdFCvWe3Fd31rVv7M1yp6dhOdiE4IhASKDr+0hXAsJTo5c8b0YKZAiU+9Xr9556d7v+x2u7/9/avk6olOxrHvh0MCopPk8ZVf8P6Lj+TfxB0SBEQnhyYEj4tOEgZUb0VK7PpOa1j07CY6CR2bT9vxXr0GgaLDL3NRF53U8A5prw6FFtEvv/lxt9v5mtjMUa94WEB0csIZqdDUccIWbeWlRSfhaaHnZ0UnWxnFJ6xne1N30bOb6ER0QiAkUHT4ZS7nopMTrjQNv3ShRdRfnWSOd8VjBEQnJ5yaCk0dJ2zRVl5adBIzOfR5jehkK6P4hPVsb+ouenYTnYSOzSd8H3vpSgSKDr/MhVx0UsmbRDViBD765NuPPu2AWaoAABoASURBVPk255tifWAnc8boobjoJGYwFrrm0tUbhe7stmEB0UkPk1taG0Un4bHj2SYFip7dRCeiEwIhgaLDL20hHEuJTpqc8TXqkIDoZBz7fjgkIDo5NHw83rCA6OTQhOBx0UnDA1/TDgkUPbuJTkLH5kNd4vF+BIoOv8xFXXTSz/twzZZW+38di04yZ4weiv//rHj7mdc+/v1f/+E/Ap0IPPPax1deuv34C2/1MMa18SgB0cma26eNvla1u75kz6JnN9GJ6IRASKDo8Dtq/du/WHSSPKsqGBCo9lOvopP9ScAjM4HL12498cd3rrz0/pU//7v/CPQi8NL7T/zxncvXbs2Gg18JiE4Cux1PDQLV7vqSO6jo2U10Ejo2J/eZgs0IFB1+mYu66KSZt1lVDal2ERWdZM4YPRT/dca+duvxF97yH4GuBC5fu3X5D2/3MMa18SgB0UlV+6s6K1Ptri+Zq+jZTXQiOiEQEig6/I5a//YvFp0kz6oKBgTue+DBwLMnfEp0sj8JeIQAAQIECBwSEJ2ccNOylZeudteXDFj07CY6CR2bk/tMwWYEig6/Q0td5OOik2beZhoSIyA6iZwZXEaAAAECBHa7negkZnfhmsYEip7dRCeiEwIhgaLDL3NdF500NtdrTlhAdJI5YyhOgAABAl0JiE7C+wrPNilQ9OwmOgkdm5t8P2nUUQJFh1/m+i06OaorXRwp8NBjz0VeufJlopPMGUNxAgQIEOhKQHSy8kZliy9X7a4vGbPo2U10IjohEBIoOvwy12/RSfKsqmBAoNovDBOdZM4YihMgQIBAVwKik8Bux1ODQLW7vuQOKnp2E52Ejs3JfaZgMwJFh1/m+i06aeZtVlVDql1ERSeZM4biBAgQINCVgOikqv1VnZWpdteXzFX07CY6EZ0QCAkUHX6Z67foJHlWVTAgcPHhpwLPnvAp0UnmjKE4AQIECHQlIDo54aZlKy9d7a4vGbDo2U10Ejo2J/eZgs0IFB1+meu36KSZt5mGxAiITjJnDMUJECBAoCsB0UnM7sI1jQkUPbuJTkQnBEICRYdf5votOmlsrtecsIDoJHPGUJwAAQIEuhIQnYT3FZ5tUqDo2U10Ejo2N/l+0qijBIoOv8z1W3RyVFe6OFLg/ouPRF658mWik8wZQ3ECBAgQ6EpAdLLyRmWLL1ftri8Zs+jZTXQiOiEQEig6/DLXb9FJ8qyqYECg2i8ME51kzhiKEyBAgEBXAqKTwG7HU4NAtbu+5A4qenYTnYSOzcl9pmAzAkWHX+b6LTpp5m1WVUOqXURFJ5kzhuIECBAg0JWA6KSq/VWdlal215fMVfTsJjoRnRAICRQdfpnrt+gkeVZVMCBw6eqNwLMnfEp0kjljKE6AAAECXQmITk64adnKS1e760sGLHp2E52Ejs3JfaZgMwJFh1/m+i06aeZtpiExAqKTzBlDcQIECBDoSkB0ErO7cE1jAkXPbqIT0QmBkEDR4Ze5fotOGpvrNScsIDrJnDEUJ0CAAIGuBEQn4X2FZ5sUKHp2E52Ejs1Nvp806iiBosMvc/0WnRzVlS6OFKj2U6+ik8wZQ3ECBAgQ6EpAdBK58+n5smp3fcmdUvTsJjoRnRAICRQdfpnrt+gkeVZVMCBQ7SIqOsmcMRQnQIAAga4ERCeB3Y6nBoFqd33JHVT07CY6CR2bk/tMwWYEig6/zPVbdNLM26yqhlS7iIpOMmcMxQkQIECgKwHRSVX7qzorU+2uL5mr6NlNdCI6IRASKDr8Mtdv0UnyrKpgQODRZ18PPHvCp0QnmTOG4gQIECDQlYDo5ISblq28dLW7vmTAomc30Uno2JzcZwo2I1B0+GWu36KTZt5mGhIjIDrJnDEUJ0CAAIGuBEQnMbsL1zQmUPTsJjoRnRAICRQdfpnrt+iksbm+kuY8+fIHldRkVg3RSeaMoTgBAgQIdCUgOpltJPy6L1Dtrm+/qpGPFD27iU5Cx+bIHnJZwwJFh1/m+i06afiNd8KmVfupV9FJ5oyhOAECBAh0JSA6OeFuaisvXe2uLxmw6NlNdCI6IRASKDr8Mtdv0UnyrKpgQKDaRVR0kjljKE6AAAECXQmITgK7HU8NAtXu+pI7qOjZTXQSOjYn95mCzQgUHX6Z67fopJm3WVUNqXYRFZ1kzhiKEyBAgEBXAqKTqvZXdVam2l1fMlfRs5voRHRCICRQdPhlrt+ik+RZVcGAwJUX3w08e8KnRCeZM4biBAgQINCVgOjkhJuWrbx0tbu+ZMCiZzfRSejYnNxnCjYjUHT4Za7fopNm3mYaEiMgOsmcMRQnQIAAga4ERCcxuwvXNCZQ9OwmOhGdEAgJFB1+meu36KSxub6S5lx+/s1KajKrhugkc8ZQnAABAgS6EhCdzDYSft0XqHbXt1/VyEeKnt1EJ6Fjc2QPuaxhgaLDL3P9Fp00/MY7YdOq/dSr6CRzxlCcAAECBLoSEJ2ccDe1lZeudteXDFj07CY6EZ0QCAkUHX6Z67foJHlWVTAgUO0iKjrJnDEUJ0CAAIGuBEQngd2OpwaBand9yR1U9OwmOgkdm5P7TMFmBIoOv8z1W3TSzNusqoZUu4iKTjJnDMUJECBAoCsB0UlV+6s6K1Ptri+Zq+jZTXQiOiEQEig6/DLXb9FJ8qyq4BYFRCeZM4biBAgQINCVgOhki7sddc4UKHp2E52Ejs2ZPad4AwJFh1/m+i06aeANpgnxAqKTzBlDcQIECBDoSkB0Er/HcGUzAkXPbqIT0QmBkEDR4Ze5fotOmpnlq2rIpas3qqrPWBnRSeaMoTgBAgQIdCUgOhm3EH44JFDtru9Qhc99vOjZTXQSOjaf2zcuaF6g6PDLXL9FJ82//U7SwGo/9So6yZwxFCdAgACBrgREJyfZR23rRavd9SUzFj27iU5EJwRCAkWHX+b6LTpJnlUVDAhUu4iKTjJnDMUJECBAoCsB0Ulgt+OpQaDaXV9yBxU9u4lOQsfm5D5TsBmBosMvc/0WnTTzNquqIfc98GBV9RkrIzrJnDEUJ0CAAIGuBEQn4xbCD4cEqt31HarwuY8XPbuJTkQnBEICRYdf5votOjl39nRBSwKik8wZQ3ECBAgQ6EpAdNLSLkhbIgWKnt1EJ6Fjc2QPuaxhgaLDL3P9Fp00/MbTtH0B0UnmjKE4AQIECHQlIDrZ30t4pHmBomc30YnohEBIoOjwy1y/RSfNz/4naeBDjz13ktc990VFJ5kzhuIECBAg0JWA6OTcrYULqt31JXdN0bOb6CR0bE7uMwWbESg6/DLXb9FJM2+zqhpS7ReGiU4yZwzFCRAgQKArAdFJVfurOitT7a4vmavo2U10IjohEBIoOvwy12/RSfKsqmBAoNpFVHSSOWMoToAAAQJdCYhOArsdTw0C1e76kjuo6NlNdBI6Nif3mYLNCBQdfpnrt+ikmbdZVQ25+PBTVdVnrIzoJHPGUJwAAQIEuhIQnYxbCD8cEqh213eowuc+XvTsJjoRnRAICRQdfpnrt+jk3NnTBS0JiE4yZwzFCRAgQKArgWET638JdChQaKSLTkLH5pZOHdqSJjDMNYWGX+ZtRSdpfarURgVEJ5kzhuIECBAg0JVAhwdmTSZQ9OwmOhGdEAgJFB1+meu36GSjEUDl1b7/4iN11lB0kjljKE6AAAECBAgQIJAsIDoJHZvrPD+o1ZoCopM1tb1WDQLVfmGY6CR5pVeQAAECBAgQIEAgU0B0IjohEBIQndRwmFeHNQVEJ5nLquIECBAgQIAAAQLtCYhOQsfmNY8rXqtOAdFJnf2iVuUELl29Ue7mOXf2VyftbUG0iAABAgQIECCwFQHRieiEQEhAdJJz1lWWwIICopOtbCzUkwABAgQIECDQnoDoJHRsXnDT71YbFRCdbLTjVLs9AdFJe1sQLSJAgAABAgQIbEVAdCI6IRASEJ20dwLXorCA7zrZyvqtngQIECBAgAABAqsJiE5Cx+bwAcOzPQiITnroZW2cCohOVluAvRABAgQIECBAgMBWBEQnohMCIQHRyfRQ7eceBEQnW1m/1ZMAAQIECBAgQGA1AdFJ6NjcwzFJG8MCopOwj2fbE3j02dfrbJTvOlltZ+CFCBAgQIAAAQIEZgKiE9EJgZCA6KTOU7RadSggOpmt334lQIAAAQIECBBYTUB0Ejo2d3g40eSZgOhkBuLX5gWefPmDOtsoOlltZ+CFCBAgQIAAAQIEZgKiE9EJgZCA6KTOU7RalRPwXSezZdKvBAgQIECAAAECBEQnoWNzucOJO29FQHSylZ5Sz6UERCd2BgQIECBAgAABAgRmAqIT0QmBkIDoZKkDuftsRUB0Mlsm/UqAAAECBAgQIEBAdBI6Nm/lqKOe5QREJ+Vs3blOgSsvvltnxXzXiS0LAQIECBAgQIDAqQREJ6ITAiEB0Umdp2i16lBAdHKqjYLXJUCAAAECBAgQEJ2Ejs0dHk40eSYgOpmB+LV5gcvPv1lnG0UntiwECBAgQIAAAQKnEhCdiE4IhAREJ3WeotWqnIDvOjnVeux1CRAgQIAAAQIEqhUQnYSOzeUOJ+68FQHRyVZ6Sj2XEhCdVLtgqxgBAgQIECBAgMCpBEQnohMCIQHRyVIHcvfZioDo5FTrsdclQIAAAQIECBCoVkB0Ejo2b+Woo57lBEQn5WzdmcBRAr7rpNqdhIoRIECAAAECBJoXEJ2ITgiEBEQnRx1uXUygnIDopPkdiQYSIECAAAECBKoVEJ2Ejs3lzgDuvBUB0clWeko9lxK4dPXGUrda9j6ik2p3EipGgAABAgQIEGheQHQiOiEQEhCdLHv6dbf6BXzXSfMLvwYSIECAAAECBAgcKyA6CR2b6z/kqGFpAdFJaWH3r01AdHLsOup6AgQIECBAgACB5gVEJ6ITAiEB0UltB3v1KS1w3wMPln6JtPv7wE7zOxINJECAAAECBAhUKyA6CR2b0/b3SrUkIDppqTe1ZdMCopNqdxIqRoAAAQIECBBoXkB0IjohEBIQnWz6sK3yLQmITprfkWggAQIECBAgQKBaAdFJ6Njc0qlDW9IERCdpbkptV+Chx56rs/Kik2p3EipGgAABAgQIEGheQHQiOiEQEhCd1HmKVqtyAr4mtvmFXwMJECBAgAABAgSOFRCdhI7N5Q4n7rwVAdHJVnpKPZcSEJ0cu466ngABAgQIECBAoHkB0YnohEBIQHSy1IHcfbYicPHhp+qsqg/sNL8j0UACBAgQIECAQLUCopPQsbnO84NarSkgOllT22sRCAiITqrdSagYAQIECBAgQKB5AdGJ6IRASEB0EjjKeorAmgKik+Z3JBpIgAABAgQIEKhWQHQSOjaveSrwWnUKiE7q7Be1Kidw/8VHyt08586ik2p3EipGgAABAgQIEGheQHQiOiEQEhCd5Jx1ld2igK+JbX7h10ACBAgQIECAAIFjBUQnoWPzFo896rysgOhkWU93q19AdHLsOup6AgQIECBAgACB5gVEJ6ITAiEB0Un9R301XFbg0tUby95wqbv5wE7zOxINJECAAAECBAhUKyA6CR2bl9rxu892BUQn2+07NW9MQHRS7U5CxQgQIECAAAECzQuITkQnBEICopPGjt+as10B0UnzOxINJECAAAECBAhUKyA6CR2bt3vGUPOlBEQnS0m6z1YEfNdJtQu2ihEgQIAAAQIECJxKQHQiOiEQEhCdbOXAr55LCYhOTrUee10CBAgQIECAAIFqBUQnoWPzUkcR99mugOhku32n5mkCopNqF2wVI0CAAAECBAgQOJWA6ER0QiAkIDpJO34rtV2BR599vc7K+66TU20UvC4BAgQIECBAgIDoJHRsrvP8oFZrCohO1tT2WgQCAqITWxYCBAgQIECAAIFTCYhORCcEQgKik8BR1lNNCjz58gd1tkt0cqqNgtclQIAAAQIECBAQnYSOzXWeH9RqTQHRyZraXqsGAd91YmdAgAABAgQIECBAYCYgOhGdEAgJiE5qOMyrw5oCopPZMulXAgQIECBAgAABAqKT0LF5zeOK16pTQHRSZ7+oVTkB0YmdAQECBAgQIECAAIGZgOhEdEIgJCA6KXdEd+c6Ba68+G6dFfNdJ7P1268ECBAgQIAAAQKrCYhOQsfmOs8ParWmgOhkTW2vRSAgIDpZbWfghQgQIECAAAECBGYCohPRCYGQgOgkcJT1VJMCl59/s852iU5m67dfCRAgQIAAAQIEVhMQnYSOzXWeH9RqTQHRyZraXqsGAd91stoC7IUIECBAgAABAgS2IiA6EZ0QCAmITmo4zKvDmgKik62s3+pJgAABAgQIECCwmoDoJHRsXvO44rXqFBCd1NkvalVOQHSy2gLshQgQIECAAAECBLYiIDoRnRAICYhOyh3R3ZnAUQK+62QrGwv1JECAAAECBAi0JyA6CR2bj9rWu7hJAdFJk92qUVsUEJ20twXRIgIECBAgQIDAVgREJ6ITAiGB2qOTv9x+5rWPf//Xf/iPwFICl/7pn5e61bL3eea1j6/85fbjL7y1lfVVPQkQIECAAAECBJoREJ2Ejs1b/D9m1XlZgZqjk8vXbj3xp3d+99LtK39+338ElhK4cOHCUrda9j6/e+n2E3965/K1W80swBpCgAABAgQIECCwFYGjo5PhJOl/CXQlUOd4/rULrt16/IW3/EdgQYELFy4seLdlb3X52q3Lf3i7zvGoVgQIECBAgAABAg0LiE7e7ioC0Ng0gYanAE0jMBN45ZVXZo/4lQABAgQIECBAgEDnAkdEJ51LaT4BAgQIECBAgAABAgQIECDQoYDopMNO12QCBAgQIECAAAECBAgQIEAgVkB0EivlOgIECBAgQIAAAQIECBAgQKBDAdFJh52uyQQIECBAgAABAgQIECBAgECsgOgkVsp1BAgQIECAAAECBAgQIECAQIcCopMOO12TCRAgQIAAAQIECBAgQIAAgVgB0UmslOsIECBAgAABAgQIECBAgACBDgVEJx12uiYTIECAAAECBAgQIECAAAECsQKik1gp1xEgQIAAAQIECBAgQIAAAQIdCohOOux0TSZAgAABAgQIECBAgAABAgRiBUQnsVKuI0CAAAECBAgQIECAAAECBDoUEJ102OmaTIAAAQIECBAgQIAAAQIECMQKiE5ipVxHgAABAgQIECBAgAABAgQIdCggOumw0zWZAAECBAgQIECAAAECBAgQiBUQncRKuY4AAQIECBAgQIAAAQIECBDoUEB00mGnazIBAgQIECBAgAABAgQIECAQKyA6iZVyHQECBAgQIECAAAECBAgQINChgOikw07XZAIECBAgQIAAAQIECBAgQCBWQHQSK+U6AgQIECBAgAABAgQIECBAoEMB0UmHna7JBAgQIECAAAECBAgQIECAQKyA6CRWynUECBAgQIAAAQIECBAgQIBAhwKikw47XZMJECBAgAABAgQIECBAgACBWAHRSayU6wgQIECAAAECBAgQIECAAIEOBUQnHXa6JhMgQIAAAQIECBAgQIAAAQKxAqKTWCnXESBAgAABAgQIECBAgAABAh0KiE467HRNJkCAAAECBAgQIECAAAECBGIFRCexUq4jQIAAAQIECBAgQIAAAQIEOhQQnXTY6ZpMgAABAgQIECBAgAABAgQIxAqITmKlXEeAAAECBAgQIECAAAECBAh0KCA66bDTNZkAAQIECBAgQIAAAQIECBCIFRCdxEq5jgABAgQIECBAgAABAgQIEOhQQHTSYadrMgECBAgQIECAAAECBAgQIBArIDqJlXIdAQIECBAgQIAAAQIECBAg0KGA6KTDTtdkAgQIECBAgAABAgQIECBAIFZAdBIr5ToCBAgQIECAAAECBAgQIECgQwHRSYedrskECBAgQIAAAQIECBAgQIBArIDoJFbKdQQIECBAgAABAgQIECBAgECHAqKTDjtdkwkQIECAAAECBAgQIECAAIFYAdFJrJTrCBAgQIAAAQIECBAgQIAAgQ4FRCcddromEyBAgAABAgQIECBAgAABArECopNYKdcRIECAAAECBAgQIECAAAECHQqITjrsdE0mQIAAAQIECBAgQIAAAQIEYgVEJ7FSriNAgAABAgQIECBAgAABAgQ6FBCddNjpmkyAAAECBAgQIECAAAECBAjECohOYqVcR4AAAQIECBAgQIAAAQIECHQoIDrpsNM1mQABAgQIECBAgAABAgQIEIgVEJ3ESrmOAAECBAgQIECAAAECBAgQ6FBAdNJhp2syAQIECBAgQIAAAQIECBAgECsgOomVch0BAgQIECBAgAABAgQIECDQoYDopMNO12QCBAgQIECAAAECBAgQIEAgVkB0EivlOgIECBAgQIAAAQIECBAgQKBDAdFJh52uyQQIECBAgAABAgQIECBAgECsgOgkVsp1BAgQIECAAAECBAgQIECAQIcCopMOO12TCRAgQIAAAQIECBAgQIAAgVgB0UmslOsIECBAgAABAgQIECBAgACBDgVEJx12uiYTIECAAAECBAgQIECAAAECsQKik1gp1xEgQIAAAQIECBAgQIAAAQIdCohOOux0TSZAgAABAgQIECBAgAABAgRiBUQnsVKuI0CAAAECBAgQIECAAAECBDoUEJ102OmaTIAAAQIECBAgQIAAAQIECMQKiE5ipVxHgAABAgQIECBAgAABAgQIdCggOumw0zWZAAECBAgQIECAAAECBAgQiBUQncRKuY4AAQIECBAgQIAAAQIECBDoUEB00mGnazIBAgQIECBAgAABAgQIECAQKyA6iZVyHQECBAgQIECAAAECBAgQINChgOikw07XZAIECBAgQIAAAQIECBAgQCBWQHQSK+U6AgQIECBAgAABAgQIECBAoEOB/wUmjnlU3ZmcAQAAAABJRU5ErkJggg==)\n",
        "\n",
        "#### Создание выборок по шагам:\n",
        "\n",
        "1. Так как нет признаков для пользователей, а так же в целях повышения производительности моделей, отфильтруем пользователей и товары (>=5 взаимодействий для пользователей и >=2 взаимодействий для товаров)\n",
        "2. 10 день оставляем полностью под трейн\n",
        "3. Из 11 дня выбираем рандомно 10% пользователей, которые взаимодействовали только в 11 день. Они будут холодными пользователями (cold_users)\n",
        "4. У оставшихся пользователей выбираем 4 последних взаимодействия. Это будут теплые пользователи (last_4_iter)\n",
        "5. Делим cold_users. Одна половина станет общим тестом итоговой модели для проверки работоспособности на холодных пользователях (cold_test). Вторая пойдет в валидационный датасет моделей первого этапа (first_val_cold)\n",
        "6. Аналогично поступаем для last_4_iter. Одна половина станет тестом итоговом модели для проверки на теплых пользователях (warm_test). Вторая пойдет в валидационный датасет (first_val_warm)\n",
        "7. first_val так же надо разбить на boost_train и boost_val. Деление будет происходить так: отдельно из 1st_val_cold и 1st_val_warm берем рандомных пользователей так, чтобы конечное разделение получилось примерно 80%/20%. (first_val_warm_train/first_val_warm_val и first_val_cold_train/first_val_cold_val)\n",
        "8. Объединяем first_val_warm_train и first_val_cold_train в boost_train, а first_val_warm_val и first_val_cold_val в boost_val\n",
        "\n",
        "Преимущества используемого подхода:\n",
        "* Оставляем достаточно данных на обучение модели\n",
        "* Полученные выборки получаются достаточно сбалансированными\n",
        "* Полученные выборки достаточно интерпретируемы, так же учитываем взаимодействия в течение всего дня, а не нескольких последних часов\n",
        "* Сохраняется хронологический порядок действий пользователей\n",
        "* Модель обучается и на теплых и на холодных пользователях\n",
        "* Мы можем отдельно проверить работоспособность модели на холодных и на теплых пользователях"
      ]
    },
    {
      "cell_type": "markdown",
      "metadata": {
        "id": "SQPQqer-XtCR"
      },
      "source": [
        "#### Теперь создадим эти выборки"
      ]
    },
    {
      "cell_type": "code",
      "source": [
        "user_counts = df['wbuser_id'].value_counts()"
      ],
      "metadata": {
        "id": "XG2XrDaPUbCD"
      },
      "execution_count": 21,
      "outputs": []
    },
    {
      "cell_type": "code",
      "source": [
        "print(len(user_counts[user_counts >= 5]))\n",
        "print(len(user_counts[user_counts >= 6]))\n",
        "print(len(user_counts[user_counts >= 10]))\n",
        "print(len(user_counts[user_counts >= 11]))\n",
        "print(len(user_counts[user_counts >= 12]))\n",
        "print(len(user_counts[user_counts >= 14]))"
      ],
      "metadata": {
        "colab": {
          "base_uri": "https://localhost:8080/"
        },
        "id": "3VTT2mHyUSmL",
        "outputId": "5ae92270-ee33-41f4-a47d-83ef921a719f"
      },
      "execution_count": 22,
      "outputs": [
        {
          "output_type": "stream",
          "name": "stdout",
          "text": [
            "1939078\n",
            "1762740\n",
            "1291300\n",
            "1208994\n",
            "1136059\n",
            "1012484\n"
          ]
        }
      ]
    },
    {
      "cell_type": "code",
      "source": [
        "users_to_keep = user_counts[user_counts >= 5].index\n",
        "\n",
        "filtered_df = df[df['nm_id'].isin(users_to_keep)]"
      ],
      "metadata": {
        "id": "uXaqBHBRVvY8"
      },
      "execution_count": 26,
      "outputs": []
    },
    {
      "cell_type": "code",
      "source": [
        "item_counts = filtered_df['nm_id'].value_counts()"
      ],
      "metadata": {
        "id": "QHrXWAxHV_c2"
      },
      "execution_count": 27,
      "outputs": []
    },
    {
      "cell_type": "code",
      "source": [
        "print(len(item_counts[item_counts <= 2]))"
      ],
      "metadata": {
        "colab": {
          "base_uri": "https://localhost:8080/"
        },
        "id": "dfymuEBLWK7-",
        "outputId": "0f58f1bc-898a-4509-a778-7eec85cebf54"
      },
      "execution_count": 28,
      "outputs": [
        {
          "output_type": "stream",
          "name": "stdout",
          "text": [
            "0\n"
          ]
        }
      ]
    },
    {
      "cell_type": "code",
      "source": [
        "# Пользователи, взаимодействия которых только в 11-й день\n",
        "only_day_11_users = filtered_df.groupby('wbuser_id')['day'].unique()\n",
        "only_day_11_users = [user for user, days in only_day_11_users.items() if set(days) == {11}]\n",
        "\n",
        "# Количество таких пользователей\n",
        "count_only_day_11_users = len(only_day_11_users)\n",
        "\n",
        "# Пользователи, которые взаимодействовали и в 10-й, и в 11-й день\n",
        "both_days_users = filtered_df.groupby('wbuser_id')['day'].unique()\n",
        "both_days_users = [user for user, days in both_days_users.items() if set(days) == {10, 11}]\n",
        "\n",
        "# Количество таких пользователей\n",
        "count_both_days_users = len(both_days_users)"
      ],
      "metadata": {
        "id": "xqbHQdS5V1bp"
      },
      "execution_count": 30,
      "outputs": []
    },
    {
      "cell_type": "code",
      "source": [
        "count_only_day_11_users, count_both_days_users"
      ],
      "metadata": {
        "colab": {
          "base_uri": "https://localhost:8080/"
        },
        "id": "nec8ruQ4Wbdy",
        "outputId": "05be4788-87e9-4712-c88f-dc0fb96f12ba"
      },
      "execution_count": 31,
      "outputs": [
        {
          "output_type": "execute_result",
          "data": {
            "text/plain": [
              "(1148549, 544503)"
            ]
          },
          "metadata": {},
          "execution_count": 31
        }
      ]
    },
    {
      "cell_type": "code",
      "source": [
        "# Установка фиксированного состояния для воспроизводимости\n",
        "random_seed = 42\n",
        "\n",
        "# Преобразуем список в Series для использования метода sample\n",
        "only_day_11_series = pd.Series(only_day_11_users)\n",
        "\n",
        "# Вычисляем 10% от общего количества пользователей\n",
        "fraction = 0.1\n",
        "\n",
        "# Выбираем случайные 15% пользователей\n",
        "cold_users_selected = only_day_11_series.sample(frac=fraction, random_state=random_seed).tolist()\n",
        "\n",
        "print(f\"Выбрано {len(cold_users_selected)} пользователей для cold_users.\")"
      ],
      "metadata": {
        "colab": {
          "base_uri": "https://localhost:8080/"
        },
        "id": "uSdWa3NuWbg0",
        "outputId": "46115e7d-9477-499e-c3ae-5de55981bd2d"
      },
      "execution_count": 32,
      "outputs": [
        {
          "output_type": "stream",
          "name": "stdout",
          "text": [
            "Выбрано 114855 пользователей для cold_users.\n"
          ]
        }
      ]
    },
    {
      "cell_type": "code",
      "source": [
        "# Создание DataFrame для cold_users\n",
        "cold_users = filtered_df[filtered_df['wbuser_id'].isin(cold_users_selected)].copy()\n",
        "\n",
        "print(f\"cold_users содержит {len(cold_users)} взаимодействий.\")\n",
        "\n",
        "# Удаление взаимодействий cold_users из исходного DataFrame\n",
        "filtered_df = filtered_df[~filtered_df['wbuser_id'].isin(cold_users_selected)].copy()\n",
        "\n",
        "print(f\"Оставшиеся взаимодействия после удаления cold_users: {len(filtered_df)}\")"
      ],
      "metadata": {
        "colab": {
          "base_uri": "https://localhost:8080/"
        },
        "id": "yjh2YvHxXjo4",
        "outputId": "db7df201-049d-4fed-ae12-a0c0bc1a33e9"
      },
      "execution_count": 33,
      "outputs": [
        {
          "output_type": "stream",
          "name": "stdout",
          "text": [
            "cold_users содержит 666226 взаимодействий.\n",
            "Оставшиеся взаимодействия после удаления cold_users: 22688467\n"
          ]
        }
      ]
    },
    {
      "cell_type": "code",
      "source": [
        "# Получение списка оставшихся only_day_11_users после удаления cold_users\n",
        "remaining_only_day_11_users = list(set(only_day_11_users) - set(cold_users_selected))\n",
        "\n",
        "print(f\"Оставшихся пользователей только в день 11: {len(remaining_only_day_11_users)}\")\n",
        "\n",
        "# Фильтрация взаимодействий для оставшихся пользователей only_day_11_users\n",
        "only_day_11_remaining_df = filtered_df[filtered_df['wbuser_id'].isin(remaining_only_day_11_users)].copy()\n",
        "\n",
        "# Фильтрация по времени\n",
        "only_day_11_remaining_df = only_day_11_remaining_df.sort_values(['wbuser_id', 'dt'])\n",
        "\n",
        "# Выбор последних 4 взаимодействий для каждого пользователя\n",
        "warm_users = only_day_11_remaining_df.groupby('wbuser_id').tail(4).copy()\n",
        "\n",
        "print(f\"warm_users содержит {len(warm_users)} взаимодействий.\")\n",
        "\n",
        "# Удаление взаимодействий warm_users из исходного DataFrame\n",
        "warm_user_indexes = warm_users.index\n",
        "filtered_df = filtered_df.drop(warm_user_indexes).copy()\n",
        "\n",
        "print(f\"Оставшиеся взаимодействия после удаления warm_users: {len(filtered_df)}\")"
      ],
      "metadata": {
        "colab": {
          "base_uri": "https://localhost:8080/"
        },
        "id": "bv58fUuGWbjk",
        "outputId": "6c2985a4-4c95-4774-c0e5-4ddf0ea03606"
      },
      "execution_count": 34,
      "outputs": [
        {
          "output_type": "stream",
          "name": "stdout",
          "text": [
            "Оставшихся пользователей только в день 11: 1033694\n",
            "warm_users содержит 2588604 взаимодействий.\n",
            "Оставшиеся взаимодействия после удаления warm_users: 20099863\n"
          ]
        }
      ]
    },
    {
      "cell_type": "code",
      "source": [
        "# Установка фиксированного состояния для воспроизводимости\n",
        "random_seed = 42\n",
        "\n",
        "# Функция для случайного разбиения пользователей на две части (50% на 50%)\n",
        "def split_users(df, user_column='wbuser_id', frac=0.5, random_state=None):\n",
        "    unique_users = df[user_column].unique()\n",
        "    unique_users_df = pd.DataFrame(unique_users, columns=[user_column])\n",
        "\n",
        "    # Перемешиваем пользователей\n",
        "    shuffled_users = unique_users_df.sample(frac=1, random_state=random_state).reset_index(drop=True)\n",
        "\n",
        "    # Определяем размер первой части\n",
        "    split_index = int(len(shuffled_users) * frac)\n",
        "\n",
        "    # Разделяем пользователей\n",
        "    first_part_users = shuffled_users.iloc[:split_index][user_column].tolist()\n",
        "    second_part_users = shuffled_users.iloc[split_index:][user_column].tolist()\n",
        "\n",
        "    return first_part_users, second_part_users\n",
        "\n",
        "# Разбиение cold_users на first_val_cold и cold_test\n",
        "first_val_cold_users, cold_test_users = split_users(cold_users, user_column='wbuser_id',\n",
        "                                                   frac=0.5, random_state=random_seed)\n",
        "\n",
        "print(f\"Количество пользователей в first_val_cold: {len(first_val_cold_users)}\")\n",
        "print(f\"Количество пользователей в cold_test: {len(cold_test_users)}\")\n",
        "\n",
        "# Создание DataFrame для first_val_cold и cold_test\n",
        "first_val_cold = cold_users[cold_users['wbuser_id'].isin(first_val_cold_users)].copy()\n",
        "cold_test = cold_users[cold_users['wbuser_id'].isin(cold_test_users)].copy()\n",
        "\n",
        "# Разбиение warm_users на first_val_warm и warm_test\n",
        "first_val_warm_users, warm_test_users = split_users(warm_users, user_column='wbuser_id',\n",
        "                                                   frac=0.5, random_state=random_seed)\n",
        "\n",
        "print(f\"Количество пользователей в first_val_warm: {len(first_val_warm_users)}\")\n",
        "print(f\"Количество пользователей в warm_test: {len(warm_test_users)}\")\n",
        "\n",
        "# Создание DataFrame для first_val_warm и warm_test\n",
        "first_val_warm = warm_users[warm_users['wbuser_id'].isin(first_val_warm_users)].copy()\n",
        "warm_test = warm_users[warm_users['wbuser_id'].isin(warm_test_users)].copy()\n",
        "\n",
        "# Объединение first_val_cold и first_val_warm в first_val\n",
        "first_val = pd.concat([first_val_cold, first_val_warm], ignore_index=True)\n",
        "\n",
        "print(f\"Итоговый набор first_val содержит {first_val.shape} взаимодействий.\")\n",
        "print(f\"first_val_cold: {first_val_cold.shape}\")\n",
        "print(f\"cold_test: {cold_test.shape}\")\n",
        "print(f\"first_val_warm: {first_val_warm.shape}\")\n",
        "print(f\"warm_test: {warm_test.shape}\")\n",
        "print(f\"first_val: {first_val.shape}\")"
      ],
      "metadata": {
        "colab": {
          "base_uri": "https://localhost:8080/"
        },
        "id": "-dIelSKTX1D2",
        "outputId": "fd2e0fe6-be4e-4201-c5bd-6162f9cc5054"
      },
      "execution_count": 35,
      "outputs": [
        {
          "output_type": "stream",
          "name": "stdout",
          "text": [
            "Количество пользователей в first_val_cold: 57427\n",
            "Количество пользователей в cold_test: 57428\n",
            "Количество пользователей в first_val_warm: 516847\n",
            "Количество пользователей в warm_test: 516847\n",
            "Итоговый набор first_val содержит (1627461, 5) взаимодействий.\n",
            "first_val_cold: (333373, 5)\n",
            "cold_test: (332853, 5)\n",
            "first_val_warm: (1294088, 5)\n",
            "warm_test: (1294516, 5)\n",
            "first_val: (1627461, 5)\n"
          ]
        }
      ]
    },
    {
      "cell_type": "code",
      "source": [
        "# Функция для выборки случайных пользователей\n",
        "def sample_users(df, fraction=0.2, random_state=42):\n",
        "    unique_users = df['wbuser_id'].unique()\n",
        "    sampled_users = pd.Series(unique_users).sample(frac=fraction, random_state=random_state).tolist()\n",
        "    return sampled_users\n",
        "\n",
        "# Выбор 20% пользователей из каждого датафрейма\n",
        "sampled_cold_users = sample_users(first_val_cold, fraction=0.2, random_state=42)\n",
        "sampled_warm_users = sample_users(first_val_warm, fraction=0.2, random_state=42)\n",
        "\n",
        "# Создание boost_val из выбранных пользователей\n",
        "boost_val_cold = first_val_cold[first_val_cold['wbuser_id'].isin(sampled_cold_users)]\n",
        "boost_val_warm = first_val_warm[first_val_warm['wbuser_id'].isin(sampled_warm_users)]\n",
        "boost_val = pd.concat([boost_val_cold, boost_val_warm]).reset_index(drop=True)\n",
        "\n",
        "# Удаление выбранных взаимодействий из исходных датафреймов\n",
        "first_val_cold_remaining = first_val_cold[~first_val_cold['wbuser_id'].isin(sampled_cold_users)]\n",
        "first_val_warm_remaining = first_val_warm[~first_val_warm['wbuser_id'].isin(sampled_warm_users)]\n",
        "\n",
        "# Создание boost_train из оставшихся взаимодействий\n",
        "boost_train = pd.concat([first_val_cold_remaining, first_val_warm_remaining]).reset_index(drop=True)"
      ],
      "metadata": {
        "id": "R7pyJg7WYHY_"
      },
      "execution_count": null,
      "outputs": []
    },
    {
      "cell_type": "code",
      "source": [],
      "metadata": {
        "id": "lbnV4Md5X9F0"
      },
      "execution_count": null,
      "outputs": []
    },
    {
      "cell_type": "code",
      "source": [
        "boost_train.to_parquet('boost_train.parquet')\n",
        "boost_val.to_parquet('boost_val.parquet')\n",
        "first_val.to_parquet('first_val.parquet')\n",
        "cold_test.to_parquet('cold_test.parquet')\n",
        "warm_test.to_parquet('warm_test.parquet')\n",
        "df.to_parquet('first_train.parquet')"
      ],
      "metadata": {
        "id": "iIu0zViQDrWh"
      },
      "execution_count": null,
      "outputs": []
    },
    {
      "cell_type": "markdown",
      "source": [
        "# 2. Новый способ получения эмбеддингов для изображений"
      ],
      "metadata": {
        "id": "-uvY22EQaf7B"
      }
    },
    {
      "cell_type": "markdown",
      "source": [
        "#### Сначала создадим признак, который будет содержать нормированную популярность товара в обучающей выборке"
      ],
      "metadata": {
        "id": "hSMFOEujauDl"
      }
    },
    {
      "cell_type": "code",
      "source": [
        "interactions_df = pd.read_parquet('first_train.parquet')"
      ],
      "metadata": {
        "id": "ImkVucbdJwDL"
      },
      "execution_count": null,
      "outputs": []
    },
    {
      "cell_type": "code",
      "source": [
        "interactions_df = interactions_df.drop(['dt', 'day', 'hour'], axis=1)"
      ],
      "metadata": {
        "id": "O-4aO1OZMrJZ"
      },
      "execution_count": null,
      "outputs": []
    },
    {
      "cell_type": "code",
      "source": [
        "total_users_interactions_count = interactions_df[[\"wbuser_id\", \"user_item_count\"]].groupby(\"wbuser_id\").sum().rename(columns={\"user_item_count\": \"user_inter_count\",})"
      ],
      "metadata": {
        "id": "Xu0Vl6o-s63b"
      },
      "execution_count": null,
      "outputs": []
    },
    {
      "cell_type": "code",
      "source": [
        "interactions_df = interactions_df.join(total_users_interactions_count,on=\"wbuser_id\",how=\"left\")\n",
        "\n",
        "interactions_df[\"user_item_rating\"] = interactions_df[\"user_item_count\"] / interactions_df[\"user_inter_count\"]"
      ],
      "metadata": {
        "id": "ibWgh65Ys-Fk"
      },
      "execution_count": null,
      "outputs": []
    },
    {
      "cell_type": "code",
      "source": [
        "item_popul_df = interactions_df[[\"nm_id\", \"user_item_count\"]].groupby(\"nm_id\").sum().rename(columns={\"user_item_count\": \"item_count\",})\n",
        "\n",
        "item_popul_df[\"item_popul\"] = item_popul_df[\"item_count\"] / item_popul_df.shape[0]\n",
        "\n",
        "item_popul_df = item_popul_df.reset_index()"
      ],
      "metadata": {
        "id": "axHtT9SsOKCO"
      },
      "execution_count": null,
      "outputs": []
    },
    {
      "cell_type": "code",
      "source": [
        "item_popul_df = item_popul_df.sort_values(\"item_popul\", ascending=False)"
      ],
      "metadata": {
        "id": "Fp36nZ-ItDj7"
      },
      "execution_count": null,
      "outputs": []
    },
    {
      "cell_type": "code",
      "source": [
        "items = pd.read_parquet('image_exists.parquet')"
      ],
      "metadata": {
        "id": "JpcGRXoWBvgm"
      },
      "execution_count": null,
      "outputs": []
    },
    {
      "cell_type": "code",
      "source": [
        "embeddings = pd.read_parquet('emb_final.parquet')"
      ],
      "metadata": {
        "id": "d_2mSO2SBvoV"
      },
      "execution_count": null,
      "outputs": []
    },
    {
      "cell_type": "code",
      "source": [
        "result = items.merge(item_popul_df, on='nm_id', how='left')"
      ],
      "metadata": {
        "id": "-NYthYukVdQ1"
      },
      "execution_count": null,
      "outputs": []
    },
    {
      "cell_type": "code",
      "source": [
        "result.index = items.index"
      ],
      "metadata": {
        "id": "p6WkztQcSC1k"
      },
      "execution_count": null,
      "outputs": []
    },
    {
      "cell_type": "code",
      "source": [
        "items = result"
      ],
      "metadata": {
        "id": "o6g19mNXSIvA"
      },
      "execution_count": null,
      "outputs": []
    },
    {
      "cell_type": "code",
      "source": [
        "items = items.drop(['item_count'], axis=1)"
      ],
      "metadata": {
        "id": "d9q1Ws7mSROh"
      },
      "execution_count": null,
      "outputs": []
    },
    {
      "cell_type": "code",
      "source": [
        "items *= 1\n",
        "items = items.fillna(0)"
      ],
      "metadata": {
        "id": "L0jyFmx-MPVX"
      },
      "execution_count": null,
      "outputs": []
    },
    {
      "cell_type": "code",
      "source": [
        "items.index = items.index.astype(int)\n",
        "embeddings.index = embeddings.index.astype(int)"
      ],
      "metadata": {
        "id": "5YMGVc_MPl-r"
      },
      "execution_count": null,
      "outputs": []
    },
    {
      "cell_type": "code",
      "source": [
        "items.index.name = None\n",
        "embeddings.index.name = None"
      ],
      "metadata": {
        "id": "K-YdYGLWPvml"
      },
      "execution_count": null,
      "outputs": []
    },
    {
      "cell_type": "code",
      "source": [
        "items = pd.merge(\n",
        "    items,\n",
        "    embeddings['emb_256'],\n",
        "    left_index=True,\n",
        "    right_index=True,\n",
        "    how='left'\n",
        ")"
      ],
      "metadata": {
        "id": "4sKvdEOiPydA"
      },
      "execution_count": null,
      "outputs": []
    },
    {
      "cell_type": "code",
      "source": [
        "items.to_parquet('items_min.parquet')"
      ],
      "metadata": {
        "id": "FT3RCmt8Th0A"
      },
      "execution_count": null,
      "outputs": []
    },
    {
      "cell_type": "markdown",
      "source": [
        "### Теперь создание эмбеддингов"
      ],
      "metadata": {
        "id": "C6Bv5o8mbaVn"
      }
    },
    {
      "cell_type": "code",
      "source": [
        "import tensorflow as tf"
      ],
      "metadata": {
        "id": "H-FLDD-8bmvr"
      },
      "execution_count": null,
      "outputs": []
    },
    {
      "cell_type": "code",
      "source": [
        "from tensorflow.keras.applications.vgg16 import VGG16, preprocess_input\n",
        "from tensorflow.keras.models import Model\n",
        "from tensorflow.keras.preprocessing import image"
      ],
      "metadata": {
        "id": "HLnNQmRetNK-"
      },
      "execution_count": null,
      "outputs": []
    },
    {
      "cell_type": "code",
      "source": [
        "import zipfile\n",
        "# Пути к файлам\n",
        "zip_path = 'images.zip'\n",
        "extract_path = '/content/images'\n",
        "\n",
        "# Распаковываем архив\n",
        "with zipfile.ZipFile(zip_path, 'r') as zip_ref:\n",
        "    zip_ref.extractall(extract_path)\n",
        "\n",
        "# Проверяем содержимое папки\n",
        "print(\"Содержимое папки images:\", os.listdir('/content/images/images')[:5])"
      ],
      "metadata": {
        "id": "ntTKXHj6bnSJ"
      },
      "execution_count": null,
      "outputs": []
    },
    {
      "cell_type": "code",
      "source": [
        "IMAGE_DIR = '/content/images/images'\n",
        "IMAGE_SIZE = (224, 224)\n",
        "BATCH_SIZE = 128\n",
        "DEFAULT_EMBEDDING = np.zeros(4096)  # Размер эмбеддинга для VGG16 слоя 'fc2'"
      ],
      "metadata": {
        "id": "lFpkOhyXbqBj"
      },
      "execution_count": null,
      "outputs": []
    },
    {
      "cell_type": "code",
      "source": [
        "# Инициализация TPU\n",
        "try:\n",
        "    resolver = tf.distribute.cluster_resolver.TPUClusterResolver()  # Обнаружение TPU\n",
        "    tf.config.experimental_connect_to_cluster(resolver)\n",
        "    tf.tpu.experimental.initialize_tpu_system(resolver)\n",
        "    strategy = tf.distribute.TPUStrategy(resolver)\n",
        "    print(\"Используется TPU\")\n",
        "except ValueError:\n",
        "    strategy = tf.distribute.get_strategy()  # Использование CPU/GPU\n",
        "    print(\"TPU не обнаружен. Используется CPU/GPU\")"
      ],
      "metadata": {
        "id": "ki8NcSgCbsM0"
      },
      "execution_count": null,
      "outputs": []
    },
    {
      "cell_type": "code",
      "source": [
        "# Настройка модели внутри стратегии распределения\n",
        "with strategy.scope():\n",
        "    base_model = VGG16(weights='imagenet')\n",
        "    model = Model(inputs=base_model.input, outputs=base_model.get_layer('fc2').output)"
      ],
      "metadata": {
        "id": "vZA7F5tKbt8B"
      },
      "execution_count": null,
      "outputs": []
    },
    {
      "cell_type": "code",
      "source": [
        "result_df = pd.read_parquet('mini_without_images.parquet')"
      ],
      "metadata": {
        "id": "-nSkTuqObwPq"
      },
      "execution_count": null,
      "outputs": []
    },
    {
      "cell_type": "code",
      "source": [
        "image_indices = result_df.index.astype(str).tolist()\n",
        "image_filenames = [f\"{idx}.jpg\" for idx in image_indices]\n",
        "image_paths = [os.path.join(IMAGE_DIR, fname) for fname in image_filenames]"
      ],
      "metadata": {
        "id": "_UrEouuKby3O"
      },
      "execution_count": null,
      "outputs": []
    },
    {
      "cell_type": "code",
      "source": [
        "existing_mask = [os.path.exists(path) for path in image_paths]\n",
        "result_df['image_exists'] = existing_mask"
      ],
      "metadata": {
        "id": "c7WZbBJOb0p1"
      },
      "execution_count": null,
      "outputs": []
    },
    {
      "cell_type": "code",
      "source": [
        "result_df.to_parquet('image_exists.parquet')"
      ],
      "metadata": {
        "id": "V4Jnx-ZMb2Ef"
      },
      "execution_count": null,
      "outputs": []
    },
    {
      "cell_type": "code",
      "source": [
        "existing_paths = [path for path, exists in zip(image_paths, existing_mask) if exists]\n",
        "existing_ids = [os.path.splitext(os.path.basename(path))[0] for path in existing_paths]\n",
        "\n",
        "print(f\"Найдено {len(existing_paths)} существующих изображений из {len(image_paths)}\")"
      ],
      "metadata": {
        "id": "Ro9gHUeTb4GB"
      },
      "execution_count": null,
      "outputs": []
    },
    {
      "cell_type": "code",
      "source": [
        "embeddings_data = {\n",
        "    'image_id': image_indices,\n",
        "    'embedding': [DEFAULT_EMBEDDING.tolist()] * len(image_indices),  # Инициализация значениями по умолчанию\n",
        "    'image_exists': existing_mask\n",
        "}\n",
        "\n",
        "embeddings_df = pd.DataFrame(embeddings_data)"
      ],
      "metadata": {
        "id": "8J8MakInb6LK"
      },
      "execution_count": null,
      "outputs": []
    },
    {
      "cell_type": "code",
      "source": [
        "embeddings_df = pd.read_parquet('emb_256.parquet')"
      ],
      "metadata": {
        "id": "FcAHD2Tub7-5"
      },
      "execution_count": null,
      "outputs": []
    },
    {
      "cell_type": "code",
      "source": [
        "num_images = len(existing_paths)\n",
        "num_batches = (num_images + BATCH_SIZE - 1) // BATCH_SIZE"
      ],
      "metadata": {
        "id": "NTDl1g_wcIp-"
      },
      "execution_count": null,
      "outputs": []
    },
    {
      "cell_type": "code",
      "source": [
        "def load_and_preprocess_images(batch_paths):\n",
        "    batch_images = []\n",
        "    batch_ids = []\n",
        "    for path in batch_paths:\n",
        "        try:\n",
        "            img = image.load_img(path, target_size=IMAGE_SIZE)\n",
        "            x = image.img_to_array(img)\n",
        "            batch_images.append(x)\n",
        "            current_id = os.path.splitext(os.path.basename(path))[0]\n",
        "            batch_ids.append(current_id)\n",
        "        except Exception as e:\n",
        "            print(f\"Ошибка при загрузке {path}: {e}\")\n",
        "            continue\n",
        "    if not batch_images:\n",
        "        return None, None\n",
        "    x = np.array(batch_images)\n",
        "    x = preprocess_input(x)\n",
        "    return x, batch_ids"
      ],
      "metadata": {
        "id": "CAJebtkZcK39"
      },
      "execution_count": null,
      "outputs": []
    },
    {
      "cell_type": "code",
      "source": [
        "from tqdm import tqdm"
      ],
      "metadata": {
        "id": "4-8NVjpEcLYv"
      },
      "execution_count": null,
      "outputs": []
    },
    {
      "cell_type": "code",
      "source": [
        "embeddings_df.set_index('image_id', inplace=True)"
      ],
      "metadata": {
        "id": "RW2bDU4dcMvj"
      },
      "execution_count": null,
      "outputs": []
    },
    {
      "cell_type": "code",
      "source": [
        "for batch_num in tqdm(range(num_batches), desc=\"Обработка изображений на батчах\"):\n",
        "    batch_paths = existing_paths[batch_num * BATCH_SIZE : (batch_num + 1) * BATCH_SIZE]\n",
        "    batch_ids = []\n",
        "    batch_images = []\n",
        "\n",
        "    for path in batch_paths:\n",
        "        try:\n",
        "            img = image.load_img(path, target_size=IMAGE_SIZE)\n",
        "            x = image.img_to_array(img)\n",
        "            batch_images.append(x)\n",
        "            current_id = os.path.splitext(os.path.basename(path))[0]\n",
        "            batch_ids.append(current_id)\n",
        "        except Exception as e:\n",
        "            print(f\"Ошибка при загрузке {path}: {e}\")\n",
        "            continue\n",
        "\n",
        "    if not batch_images:\n",
        "        continue\n",
        "\n",
        "    x = np.array(batch_images)\n",
        "    x = preprocess_input(x)\n",
        "\n",
        "    # Извлечение эмбеддингов\n",
        "    features_batch = model.predict(x, batch_size=BATCH_SIZE)\n",
        "\n",
        "    # Обновление DataFrame с эмбеддингами\n",
        "    for i, item_id in enumerate(batch_ids):\n",
        "        if item_id in embeddings_df.index:\n",
        "            embeddings_df.at[item_id, 'embedding'] = features_batch[i].tolist()\n",
        "        else:\n",
        "            print(f\"Предупреждение: image_id {item_id} не найден в embeddings_df\")\n",
        "\n",
        "print(\"Эмбеддинги успешно извлечены.\")\n",
        "\n",
        "# Сохранение результата\n",
        "embeddings_df.to_parquet('embeddings_only.parquet', index=False)\n",
        "\n",
        "print(\"Эмбеддинги успешно сохранены в 'embeddings_only.parquet'\")"
      ],
      "metadata": {
        "id": "lLf7p0yvcPTV"
      },
      "execution_count": null,
      "outputs": []
    },
    {
      "cell_type": "code",
      "source": [
        "import numpy as np\n",
        "import pandas as pd\n",
        "from tensorflow.keras.models import Model\n",
        "from tensorflow.keras.layers import Input, Dense, Dropout, GaussianNoise, BatchNormalization, LeakyReLU\n",
        "from tensorflow.keras.optimizers import Adam\n",
        "from tensorflow.keras.callbacks import ModelCheckpoint, ReduceLROnPlateau, EarlyStopping\n",
        "from tensorflow.keras.regularizers import l2\n",
        "\n",
        "# Проверка на наличие пропусков\n",
        "if embeddings_df['embedding'].isnull().any():\n",
        "    raise ValueError(\"Есть пропущенные значения в колонке 'embedding'.\")\n",
        "\n",
        "# Преобразование эмбеддингов в numpy массив\n",
        "X = np.vstack(embeddings_df['embedding'].values)\n",
        "\n",
        "print(f\"Форма входных данных: {X.shape}\")"
      ],
      "metadata": {
        "id": "e5F5AYeZcX1x"
      },
      "execution_count": null,
      "outputs": []
    },
    {
      "cell_type": "code",
      "source": [
        "from tensorflow.keras import layers, models\n",
        "from tensorflow.keras.regularizers import l2\n",
        "from tensorflow.keras.layers import Input, Dense, GaussianNoise, BatchNormalization, LeakyReLU, Dropout\n",
        "\n",
        "# Параметры модели\n",
        "input_dim = 4096\n",
        "encoding_dim = 256      # Размерность закодированного представления\n",
        "\n",
        "with strategy.scope():\n",
        "    def create_autoencoder(input_dim, encoding_dim):\n",
        "        # Входной слой\n",
        "        input_layer = Input(shape=(input_dim,), name=\"Input\")\n",
        "\n",
        "        # Добавление Gaussian шума для регуляризации\n",
        "        x = GaussianNoise(stddev=0.1)(input_layer)\n",
        "\n",
        "        # Энкодер\n",
        "        x = Dense(2048, kernel_regularizer=l2(1e-4))(x)\n",
        "        x = BatchNormalization()(x)\n",
        "        x = LeakyReLU(alpha=0.2)(x)\n",
        "        x = Dropout(0.3)(x)\n",
        "\n",
        "        x = Dense(1024, kernel_regularizer=l2(1e-4))(x)\n",
        "        x = BatchNormalization()(x)\n",
        "        x = LeakyReLU(alpha=0.2)(x)\n",
        "        x = Dropout(0.3)(x)\n",
        "\n",
        "        x = Dense(512, kernel_regularizer=l2(1e-4))(x)\n",
        "        x = BatchNormalization()(x)\n",
        "        x = LeakyReLU(alpha=0.2)(x)\n",
        "        x = Dropout(0.3)(x)\n",
        "\n",
        "        encoded = Dense(encoding_dim, activation='relu', name='encoded_layer')(x)\n",
        "\n",
        "        # Декодер\n",
        "        y = Dense(512, kernel_regularizer=l2(1e-4))(encoded)\n",
        "        y = BatchNormalization()(y)\n",
        "        y = LeakyReLU(alpha=0.2)(y)\n",
        "        y = Dropout(0.3)(y)\n",
        "\n",
        "        y = Dense(1024, kernel_regularizer=l2(1e-4))(y)\n",
        "        y = BatchNormalization()(y)\n",
        "        y = LeakyReLU(alpha=0.2)(y)\n",
        "        y = Dropout(0.3)(y)\n",
        "\n",
        "        y = Dense(2048, kernel_regularizer=l2(1e-4))(y)\n",
        "        y = BatchNormalization()(y)\n",
        "        y = LeakyReLU(alpha=0.2)(y)\n",
        "        y = Dropout(0.3)(y)\n",
        "\n",
        "        decoded = Dense(input_dim, activation='linear', name='decoded_layer')(y)\n",
        "\n",
        "        # Создание модели\n",
        "        autoencoder = models.Model(inputs=input_layer, outputs=decoded)\n",
        "\n",
        "        return autoencoder\n",
        "\n",
        "    # Создание модели\n",
        "    autoencoder = create_autoencoder(input_dim=input_dim, encoding_dim=encoding_dim)\n",
        "\n",
        "    # Компиляция модели\n",
        "    autoencoder.compile(optimizer='adam', loss='mse', metrics=['mae'])\n",
        "\n",
        "    # Вывод сводки модели\n",
        "    autoencoder.summary()"
      ],
      "metadata": {
        "colab": {
          "base_uri": "https://localhost:8080/"
        },
        "id": "N7smxFR6Gi6K",
        "outputId": "3432d0c3-7677-4422-bd5a-02e19156d548"
      },
      "execution_count": null,
      "outputs": [
        {
          "output_type": "stream",
          "name": "stdout",
          "text": [
            "Model: \"model\"\n",
            "_________________________________________________________________\n",
            " Layer (type)                Output Shape              Param #   \n",
            "=================================================================\n",
            " Input (InputLayer)          [(None, 4096)]            0         \n",
            "                                                                 \n",
            " gaussian_noise (GaussianNo  (None, 4096)              0         \n",
            " ise)                                                            \n",
            "                                                                 \n",
            " dense (Dense)               (None, 2048)              8390656   \n",
            "                                                                 \n",
            " batch_normalization (Batch  (None, 2048)              8192      \n",
            " Normalization)                                                  \n",
            "                                                                 \n",
            " leaky_re_lu (LeakyReLU)     (None, 2048)              0         \n",
            "                                                                 \n",
            " dropout (Dropout)           (None, 2048)              0         \n",
            "                                                                 \n",
            " dense_1 (Dense)             (None, 1024)              2098176   \n",
            "                                                                 \n",
            " batch_normalization_1 (Bat  (None, 1024)              4096      \n",
            " chNormalization)                                                \n",
            "                                                                 \n",
            " leaky_re_lu_1 (LeakyReLU)   (None, 1024)              0         \n",
            "                                                                 \n",
            " dropout_1 (Dropout)         (None, 1024)              0         \n",
            "                                                                 \n",
            " dense_2 (Dense)             (None, 512)               524800    \n",
            "                                                                 \n",
            " batch_normalization_2 (Bat  (None, 512)               2048      \n",
            " chNormalization)                                                \n",
            "                                                                 \n",
            " leaky_re_lu_2 (LeakyReLU)   (None, 512)               0         \n",
            "                                                                 \n",
            " dropout_2 (Dropout)         (None, 512)               0         \n",
            "                                                                 \n",
            " encoded_layer (Dense)       (None, 256)               131328    \n",
            "                                                                 \n",
            " dense_3 (Dense)             (None, 512)               131584    \n",
            "                                                                 \n",
            " batch_normalization_3 (Bat  (None, 512)               2048      \n",
            " chNormalization)                                                \n",
            "                                                                 \n",
            " leaky_re_lu_3 (LeakyReLU)   (None, 512)               0         \n",
            "                                                                 \n",
            " dropout_3 (Dropout)         (None, 512)               0         \n",
            "                                                                 \n",
            " dense_4 (Dense)             (None, 1024)              525312    \n",
            "                                                                 \n",
            " batch_normalization_4 (Bat  (None, 1024)              4096      \n",
            " chNormalization)                                                \n",
            "                                                                 \n",
            " leaky_re_lu_4 (LeakyReLU)   (None, 1024)              0         \n",
            "                                                                 \n",
            " dropout_4 (Dropout)         (None, 1024)              0         \n",
            "                                                                 \n",
            " dense_5 (Dense)             (None, 2048)              2099200   \n",
            "                                                                 \n",
            " batch_normalization_5 (Bat  (None, 2048)              8192      \n",
            " chNormalization)                                                \n",
            "                                                                 \n",
            " leaky_re_lu_5 (LeakyReLU)   (None, 2048)              0         \n",
            "                                                                 \n",
            " dropout_5 (Dropout)         (None, 2048)              0         \n",
            "                                                                 \n",
            " decoded_layer (Dense)       (None, 4096)              8392704   \n",
            "                                                                 \n",
            "=================================================================\n",
            "Total params: 22322432 (85.15 MB)\n",
            "Trainable params: 22308096 (85.10 MB)\n",
            "Non-trainable params: 14336 (56.00 KB)\n",
            "_________________________________________________________________\n"
          ]
        }
      ]
    },
    {
      "cell_type": "code",
      "source": [
        "num_samples = len(X)      # Общее количество образцов\n",
        "input_dim = 4096\n",
        "\n",
        "# Разделение на обучающую и валидационную выборки\n",
        "split = int(num_samples * 0.8)\n",
        "X_train, X_val = X[:split], X[split:]\n",
        "\n",
        "# Параметры для Dataset\n",
        "batch_size = 128 * strategy.num_replicas_in_sync\n",
        "buffer_size = 10000\n",
        "\n",
        "# Создание tf.data.Dataset для обучения\n",
        "train_dataset = tf.data.Dataset.from_tensor_slices((X_train, X_train))\n",
        "train_dataset = train_dataset.shuffle(buffer_size).batch(batch_size).prefetch(tf.data.AUTOTUNE)\n",
        "\n",
        "# Создание tf.data.Dataset для валидации\n",
        "val_dataset = tf.data.Dataset.from_tensor_slices((X_val, X_val))\n",
        "val_dataset = val_dataset.batch(batch_size).prefetch(tf.data.AUTOTUNE)"
      ],
      "metadata": {
        "id": "uxCDXBDzcip1"
      },
      "execution_count": null,
      "outputs": []
    },
    {
      "cell_type": "code",
      "source": [
        "from tensorflow.keras.callbacks import EarlyStopping, ReduceLROnPlateau, ModelCheckpoint\n",
        "\n",
        "# Путь для сохранения лучшей модели\n",
        "checkpoint_filepath = 'best_autoencoder_tpu.h5'\n",
        "\n",
        "# Ранняя остановка: останавливаем обучение, если не улучшается метрика в течение 10 эпох\n",
        "early_stop = EarlyStopping(monitor='val_loss', patience=2, restore_best_weights=True, verbose=1)\n",
        "\n",
        "# Понижение скорости обучения: уменьшаем lr, если не улучшается метрика в течение 5 эпох\n",
        "reduce_lr = ReduceLROnPlateau(monitor='val_loss', factor=0.2, patience=1, min_lr=1e-6, verbose=1)\n",
        "\n",
        "# Сохранение лучшей модели\n",
        "model_checkpoint = ModelCheckpoint(filepath=checkpoint_filepath, monitor='val_loss', save_best_only=True, verbose=1)"
      ],
      "metadata": {
        "id": "Z1VdrkPUcoOv"
      },
      "execution_count": null,
      "outputs": []
    },
    {
      "cell_type": "code",
      "source": [
        "# Обучение модели\n",
        "history = autoencoder.fit(\n",
        "    train_dataset,\n",
        "    epochs=100,\n",
        "    validation_data=val_dataset,\n",
        "    callbacks=[early_stop, reduce_lr, model_checkpoint]\n",
        ")"
      ],
      "metadata": {
        "id": "OwNY6f4Mcu9t"
      },
      "execution_count": null,
      "outputs": []
    },
    {
      "cell_type": "code",
      "source": [
        "# Определение модели энкодера\n",
        "encoder = models.Model(inputs=autoencoder.input,\n",
        "                       outputs=autoencoder.get_layer('encoded_layer').output,\n",
        "                       name='Encoder')\n",
        "\n",
        "# Вывод сводки модели энкодера\n",
        "encoder.summary()"
      ],
      "metadata": {
        "colab": {
          "base_uri": "https://localhost:8080/"
        },
        "id": "Q_0YRsW_Vmja",
        "outputId": "7d5061b1-8f24-4645-e9ed-2a71f945baaa"
      },
      "execution_count": null,
      "outputs": [
        {
          "output_type": "stream",
          "name": "stdout",
          "text": [
            "Model: \"Encoder\"\n",
            "_________________________________________________________________\n",
            " Layer (type)                Output Shape              Param #   \n",
            "=================================================================\n",
            " Input (InputLayer)          [(None, 4096)]            0         \n",
            "                                                                 \n",
            " gaussian_noise (GaussianNo  (None, 4096)              0         \n",
            " ise)                                                            \n",
            "                                                                 \n",
            " dense (Dense)               (None, 2048)              8390656   \n",
            "                                                                 \n",
            " batch_normalization (Batch  (None, 2048)              8192      \n",
            " Normalization)                                                  \n",
            "                                                                 \n",
            " leaky_re_lu (LeakyReLU)     (None, 2048)              0         \n",
            "                                                                 \n",
            " dropout (Dropout)           (None, 2048)              0         \n",
            "                                                                 \n",
            " dense_1 (Dense)             (None, 1024)              2098176   \n",
            "                                                                 \n",
            " batch_normalization_1 (Bat  (None, 1024)              4096      \n",
            " chNormalization)                                                \n",
            "                                                                 \n",
            " leaky_re_lu_1 (LeakyReLU)   (None, 1024)              0         \n",
            "                                                                 \n",
            " dropout_1 (Dropout)         (None, 1024)              0         \n",
            "                                                                 \n",
            " dense_2 (Dense)             (None, 512)               524800    \n",
            "                                                                 \n",
            " batch_normalization_2 (Bat  (None, 512)               2048      \n",
            " chNormalization)                                                \n",
            "                                                                 \n",
            " leaky_re_lu_2 (LeakyReLU)   (None, 512)               0         \n",
            "                                                                 \n",
            " dropout_2 (Dropout)         (None, 512)               0         \n",
            "                                                                 \n",
            " encoded_layer (Dense)       (None, 256)               131328    \n",
            "                                                                 \n",
            "=================================================================\n",
            "Total params: 11159296 (42.57 MB)\n",
            "Trainable params: 11152128 (42.54 MB)\n",
            "Non-trainable params: 7168 (28.00 KB)\n",
            "_________________________________________________________________\n"
          ]
        }
      ]
    },
    {
      "cell_type": "code",
      "source": [
        "emb_256 = encoder.predict(X, batch_size=1024)\n",
        "\n",
        "print(f\"Форма полученных эмбеддингов: {emb_256.shape}\")"
      ],
      "metadata": {
        "id": "Hs3KXbIWcvkT"
      },
      "execution_count": null,
      "outputs": []
    },
    {
      "cell_type": "code",
      "source": [
        "embeddings_df['emb_256'] = emb_256.tolist()"
      ],
      "metadata": {
        "id": "gVN_MN1Cc2as"
      },
      "execution_count": null,
      "outputs": []
    },
    {
      "cell_type": "code",
      "source": [
        "embeddings_df.to_parquet('emb_256_final.parquet')"
      ],
      "metadata": {
        "id": "BkFx3_zBc4da"
      },
      "execution_count": null,
      "outputs": []
    },
    {
      "cell_type": "markdown",
      "source": [
        "##### Аналогично я сделал для размерности 512. Получилось значительно ускорить процесс создания эмбеддингов, а так же увеличить точность: для 256 val_mse: 0.2697, val_mae: 0.2871; для 512 val_mse: 0.1385, val_mae: 0.2494"
      ],
      "metadata": {
        "id": "9qbdSQm2c7Ac"
      }
    },
    {
      "cell_type": "markdown",
      "source": [
        "# 3. Метрики\n",
        "\n",
        "1. MAP\n",
        "\n",
        "2. Recall\n",
        "\n",
        "3. MRR\n",
        "\n",
        "4. Serendipity\n",
        "\n",
        "5. HR\n",
        "\n",
        "6. pop_bias"
      ],
      "metadata": {
        "id": "rwP-BF_9GDK3"
      }
    },
    {
      "cell_type": "markdown",
      "source": [
        "# 4. Обнаруженные проблемы:\n",
        "##### При работе в гугл колабе в среде с TPU (так как в других средах не хватает памяти), было обнаружено, что RecTools LightFM и стандартный LightFM конфликтуют с tensorflow, но даже после удаления tensorflow и установки tensorflow-cpu (и без установки этой библиотеки) алгоритм в этой среде работает медленнее, чем в обычной среде выполнения, даже не смотря на то, что в этой среде 96 ядер вместо двух. Рекомендации в обычной среде выполнения даже после некоторого уменьшения датасета считались очень долго. Поэтому было принято решение до защиты данного этапа уменьшить датасет, чтобы провести некоторые эксперименты с моделями. Так же можно отметить, что RecTools EASE потребляет очень много оперативной памяти и я смог его применить только после финального варианта уменьшения датасета"
      ],
      "metadata": {
        "id": "zxGuAM3xe_nv"
      }
    },
    {
      "cell_type": "markdown",
      "source": [
        "# Уменьшение датасета"
      ],
      "metadata": {
        "id": "cOp_NPwbVopY"
      }
    },
    {
      "cell_type": "code",
      "source": [
        "import os\n",
        "import pandas as pd\n",
        "import numpy as np\n",
        "from google.colab import drive\n",
        "drive.mount('/content/drive')\n",
        "os.chdir('/content/drive/My Drive/WBTECH')"
      ],
      "metadata": {
        "colab": {
          "base_uri": "https://localhost:8080/"
        },
        "id": "qW7Cu7QMzfX2",
        "outputId": "3e2ae8c7-c2c4-4d89-9632-e2ccf7f74845"
      },
      "execution_count": null,
      "outputs": [
        {
          "output_type": "stream",
          "name": "stdout",
          "text": [
            "Drive already mounted at /content/drive; to attempt to forcibly remount, call drive.mount(\"/content/drive\", force_remount=True).\n"
          ]
        }
      ]
    },
    {
      "cell_type": "code",
      "source": [
        "df = pd.read_parquet('clickstream.parquet')"
      ],
      "metadata": {
        "id": "8rhqu-ttVm9j"
      },
      "execution_count": null,
      "outputs": []
    },
    {
      "cell_type": "code",
      "source": [
        "user_counts = df['wbuser_id'].value_counts()"
      ],
      "metadata": {
        "id": "kcqDURdhVt3Z"
      },
      "execution_count": null,
      "outputs": []
    },
    {
      "cell_type": "code",
      "source": [
        "print(len(user_counts[user_counts >= 10]))\n",
        "print(len(user_counts[user_counts >= 11]))\n",
        "print(len(user_counts[user_counts >= 12]))\n",
        "print(len(user_counts[user_counts >= 14]))"
      ],
      "metadata": {
        "colab": {
          "base_uri": "https://localhost:8080/"
        },
        "id": "NxSErUYHVt7H",
        "outputId": "64f3a81b-9e56-441e-89ca-2df34be3c2d2"
      },
      "execution_count": null,
      "outputs": [
        {
          "output_type": "stream",
          "name": "stdout",
          "text": [
            "1291300\n",
            "1208994\n",
            "1136059\n",
            "1012484\n"
          ]
        }
      ]
    },
    {
      "cell_type": "code",
      "source": [
        "item_counts = df['nm_id'].value_counts()"
      ],
      "metadata": {
        "id": "tE6J5onZ1FlU"
      },
      "execution_count": null,
      "outputs": []
    },
    {
      "cell_type": "code",
      "source": [
        "print(len(item_counts[item_counts >= 10]))"
      ],
      "metadata": {
        "colab": {
          "base_uri": "https://localhost:8080/"
        },
        "id": "Y2EOcGhd1FuF",
        "outputId": "33281488-158c-4293-ad70-163c9114baaa"
      },
      "execution_count": null,
      "outputs": [
        {
          "output_type": "stream",
          "name": "stdout",
          "text": [
            "211680\n"
          ]
        }
      ]
    },
    {
      "cell_type": "code",
      "source": [
        "items_to_keep = item_counts[item_counts >= 10].index\n",
        "\n",
        "filtered_df = df[df['nm_id'].isin(items_to_keep)]"
      ],
      "metadata": {
        "id": "uA9db3BT0CMq"
      },
      "execution_count": null,
      "outputs": []
    },
    {
      "cell_type": "code",
      "source": [
        "for i in range(4):\n",
        "  # Установка фиксированного состояния для воспроизводимости\n",
        "  random_seed = 42\n",
        "\n",
        "  # Получение уникальных значений nm_id\n",
        "  unique_nm_ids = filtered_df['nm_id'].unique()\n",
        "  total_unique = len(unique_nm_ids)\n",
        "  print(f\"Всего уникальных nm_id: {total_unique}\")\n",
        "\n",
        "  # Расчёт количества nm_id для удаления (50%)\n",
        "  num_to_remove = total_unique // 2  # Используем целочисленное деление\n",
        "\n",
        "  # Случайный выбор 50% nm_id\n",
        "  # Используем функцию np.random.choice для случайного выбора без замены\n",
        "  np.random.seed(random_seed)\n",
        "  nm_ids_to_remove = np.random.choice(unique_nm_ids, size=num_to_remove, replace=False)\n",
        "\n",
        "  print(f\"Количество nm_id, которые будут удалены: {len(nm_ids_to_remove)}\")\n",
        "\n",
        "  # Фильтрация датафрейма для удаления строк с выбранными nm_id\n",
        "  filtered_df_remaining = filtered_df[~filtered_df['nm_id'].isin(nm_ids_to_remove)].copy()\n",
        "\n",
        "  print(f\"Количество строк до удаления: {filtered_df.shape[0]}\")\n",
        "  print(f\"Количество строк после удаления: {filtered_df_remaining.shape[0]}\")\n",
        "  filtered_df = filtered_df_remaining"
      ],
      "metadata": {
        "colab": {
          "base_uri": "https://localhost:8080/"
        },
        "id": "lmwzDfQNVPka",
        "outputId": "5120674c-3ce4-4ba0-8df1-5d39e3dae51b"
      },
      "execution_count": null,
      "outputs": [
        {
          "output_type": "stream",
          "name": "stdout",
          "text": [
            "Всего уникальных nm_id: 211680\n",
            "Количество nm_id, которые будут удалены: 105840\n",
            "Количество строк до удаления: 58290492\n",
            "Количество строк после удаления: 28932345\n",
            "Всего уникальных nm_id: 105840\n",
            "Количество nm_id, которые будут удалены: 52920\n",
            "Количество строк до удаления: 28932345\n",
            "Количество строк после удаления: 14316641\n",
            "Всего уникальных nm_id: 52920\n",
            "Количество nm_id, которые будут удалены: 26460\n",
            "Количество строк до удаления: 14316641\n",
            "Количество строк после удаления: 7050930\n",
            "Всего уникальных nm_id: 26460\n",
            "Количество nm_id, которые будут удалены: 13230\n",
            "Количество строк до удаления: 7050930\n",
            "Количество строк после удаления: 3531679\n"
          ]
        }
      ]
    },
    {
      "cell_type": "code",
      "source": [
        "user_counts = filtered_df['wbuser_id'].value_counts()"
      ],
      "metadata": {
        "id": "7cZUxxUV1vwD"
      },
      "execution_count": null,
      "outputs": []
    },
    {
      "cell_type": "code",
      "source": [
        "print(len(user_counts[user_counts >= 5]))\n",
        "print(len(user_counts[user_counts >= 6]))\n",
        "print(len(user_counts[user_counts >= 10]))\n",
        "print(len(user_counts[user_counts >= 11]))\n",
        "print(len(user_counts[user_counts >= 12]))\n",
        "print(len(user_counts[user_counts >= 14]))"
      ],
      "metadata": {
        "colab": {
          "base_uri": "https://localhost:8080/"
        },
        "id": "qTWkYNtz1v65",
        "outputId": "f07a1bdc-6a28-4c00-b50f-163ccca1b1b2"
      },
      "execution_count": null,
      "outputs": [
        {
          "output_type": "stream",
          "name": "stdout",
          "text": [
            "193736\n",
            "141790\n",
            "50870\n",
            "40930\n",
            "33298\n",
            "22617\n"
          ]
        }
      ]
    },
    {
      "cell_type": "code",
      "source": [
        "users_to_keep = user_counts[user_counts >= 5].index\n",
        "\n",
        "filtered_df = filtered_df[filtered_df['wbuser_id'].isin(users_to_keep)]"
      ],
      "metadata": {
        "id": "YK3zRk8-Vt-p"
      },
      "execution_count": null,
      "outputs": []
    },
    {
      "cell_type": "code",
      "source": [
        "item_counts = filtered_df['nm_id'].value_counts()\n",
        "print(len(item_counts[item_counts <= 2]))"
      ],
      "metadata": {
        "colab": {
          "base_uri": "https://localhost:8080/"
        },
        "id": "Xo62irtAVnBH",
        "outputId": "1cc202f3-dc98-4c16-dc93-78a0fae6429e"
      },
      "execution_count": null,
      "outputs": [
        {
          "output_type": "stream",
          "name": "stdout",
          "text": [
            "230\n"
          ]
        }
      ]
    },
    {
      "cell_type": "code",
      "source": [
        "items_to_keep = item_counts[item_counts >= 3].index\n",
        "\n",
        "filtered_df = filtered_df[filtered_df['nm_id'].isin(items_to_keep)]"
      ],
      "metadata": {
        "id": "I3q7RRVW2Z-h"
      },
      "execution_count": null,
      "outputs": []
    },
    {
      "cell_type": "code",
      "source": [
        "user_counts = filtered_df['wbuser_id'].value_counts()\n",
        "print(len(user_counts[user_counts <= 5]))"
      ],
      "metadata": {
        "colab": {
          "base_uri": "https://localhost:8080/"
        },
        "id": "E-0J0ISsgGwQ",
        "outputId": "fe541753-115b-4761-d398-8e8c921b3421"
      },
      "execution_count": null,
      "outputs": [
        {
          "output_type": "stream",
          "name": "stdout",
          "text": [
            "51999\n"
          ]
        }
      ]
    },
    {
      "cell_type": "code",
      "source": [
        "users_to_keep = user_counts[user_counts >= 5].index\n",
        "\n",
        "filtered_df = filtered_df[filtered_df['wbuser_id'].isin(users_to_keep)]"
      ],
      "metadata": {
        "id": "9herSTbuXKBM"
      },
      "execution_count": null,
      "outputs": []
    },
    {
      "cell_type": "code",
      "source": [
        "item_counts = filtered_df['nm_id'].value_counts()\n",
        "print(len(item_counts[item_counts <= 2]))"
      ],
      "metadata": {
        "colab": {
          "base_uri": "https://localhost:8080/"
        },
        "id": "NaAROuVngXqC",
        "outputId": "9103dba0-65c3-44ce-be86-d724f8106655"
      },
      "execution_count": null,
      "outputs": [
        {
          "output_type": "stream",
          "name": "stdout",
          "text": [
            "0\n"
          ]
        }
      ]
    },
    {
      "cell_type": "code",
      "source": [
        "items_to_keep = item_counts[item_counts >= 3].index\n",
        "\n",
        "filtered_df = filtered_df[filtered_df['nm_id'].isin(items_to_keep)]"
      ],
      "metadata": {
        "id": "SNOuwlgX_Trz"
      },
      "execution_count": null,
      "outputs": []
    },
    {
      "cell_type": "code",
      "source": [
        "user_counts = filtered_df['wbuser_id'].value_counts()\n",
        "print(len(user_counts[user_counts <= 5]))"
      ],
      "metadata": {
        "colab": {
          "base_uri": "https://localhost:8080/"
        },
        "id": "K9jC7rbI_ZV_",
        "outputId": "f617b256-e844-43f7-bfec-f35c8af82db5"
      },
      "execution_count": null,
      "outputs": [
        {
          "output_type": "stream",
          "name": "stdout",
          "text": [
            "51939\n"
          ]
        }
      ]
    },
    {
      "cell_type": "code",
      "source": [
        "item_counts = filtered_df['nm_id'].value_counts()\n",
        "print(len(item_counts[item_counts <= 2]))"
      ],
      "metadata": {
        "colab": {
          "base_uri": "https://localhost:8080/"
        },
        "id": "LQi7Eakl_bzT",
        "outputId": "e94f3cc5-c724-4dc3-f472-72191a03b04b"
      },
      "execution_count": null,
      "outputs": [
        {
          "output_type": "stream",
          "name": "stdout",
          "text": [
            "0\n"
          ]
        }
      ]
    },
    {
      "cell_type": "code",
      "source": [
        "filtered_df.to_parquet('cut_clickstream_2.paqruet')"
      ],
      "metadata": {
        "id": "INmQSXQmYlZB"
      },
      "execution_count": null,
      "outputs": []
    },
    {
      "cell_type": "code",
      "source": [
        "filtered_df = pd.read_parquet('cut_clickstream_2.paqruet')"
      ],
      "metadata": {
        "id": "AIfuOBtshlw2"
      },
      "execution_count": null,
      "outputs": []
    },
    {
      "cell_type": "code",
      "source": [
        "# Пользователи, взаимодействия которых только в 11-й день\n",
        "only_day_11_users = filtered_df.groupby('wbuser_id')['day'].unique()\n",
        "only_day_11_users = [user for user, days in only_day_11_users.items() if set(days) == {11}]\n",
        "\n",
        "# Количество таких пользователей\n",
        "count_only_day_11_users = len(only_day_11_users)\n",
        "\n",
        "# Пользователи, которые взаимодействовали и в 10-й, и в 11-й день\n",
        "both_days_users = filtered_df.groupby('wbuser_id')['day'].unique()\n",
        "both_days_users = [user for user, days in both_days_users.items() if set(days) == {10, 11}]\n",
        "\n",
        "# Количество таких пользователей\n",
        "count_both_days_users = len(both_days_users)"
      ],
      "metadata": {
        "id": "Hx6xTrNrZB6l"
      },
      "execution_count": null,
      "outputs": []
    },
    {
      "cell_type": "code",
      "source": [
        "count_only_day_11_users, count_both_days_users"
      ],
      "metadata": {
        "colab": {
          "base_uri": "https://localhost:8080/"
        },
        "id": "jD5M9ONCZXSJ",
        "outputId": "9dac15bc-fb51-4116-b88f-d49e0f2ced55"
      },
      "execution_count": null,
      "outputs": [
        {
          "output_type": "execute_result",
          "data": {
            "text/plain": [
              "(57634, 76960)"
            ]
          },
          "metadata": {},
          "execution_count": 29
        }
      ]
    },
    {
      "cell_type": "code",
      "source": [],
      "metadata": {
        "id": "IFmg9mJpfE_3"
      },
      "execution_count": null,
      "outputs": []
    },
    {
      "cell_type": "code",
      "source": [
        "# Установка фиксированного состояния для воспроизводимости\n",
        "random_seed = 42\n",
        "\n",
        "# Преобразуем список в Series для использования метода sample\n",
        "only_day_11_series = pd.Series(only_day_11_users)\n",
        "\n",
        "# Вычисляем 10% от общего количества пользователей\n",
        "fraction = 0.1\n",
        "\n",
        "# Выбираем случайные 15% пользователей\n",
        "cold_users_selected = only_day_11_series.sample(frac=fraction, random_state=random_seed).tolist()\n",
        "\n",
        "print(f\"Выбрано {len(cold_users_selected)} пользователей для cold_users.\")"
      ],
      "metadata": {
        "colab": {
          "base_uri": "https://localhost:8080/"
        },
        "id": "Q5vWerC7gXjx",
        "outputId": "af2c008d-84fe-4be0-fa47-beadef491ddd"
      },
      "execution_count": null,
      "outputs": [
        {
          "output_type": "stream",
          "name": "stdout",
          "text": [
            "Выбрано 5763 пользователей для cold_users.\n"
          ]
        }
      ]
    },
    {
      "cell_type": "code",
      "source": [
        "# Создание DataFrame для cold_users\n",
        "cold_users = filtered_df[filtered_df['wbuser_id'].isin(cold_users_selected)].copy()\n",
        "\n",
        "print(f\"cold_users содержит {len(cold_users)} взаимодействий.\")\n",
        "\n",
        "# Удаление взаимодействий cold_users из исходного DataFrame\n",
        "filtered_df = filtered_df[~filtered_df['wbuser_id'].isin(cold_users_selected)].copy()\n",
        "\n",
        "print(f\"Оставшиеся взаимодействия после удаления cold_users: {len(filtered_df)}\")"
      ],
      "metadata": {
        "colab": {
          "base_uri": "https://localhost:8080/"
        },
        "id": "EnD1K7rigomY",
        "outputId": "87582d1c-fde0-485c-d541-d70f3cdf99e1"
      },
      "execution_count": null,
      "outputs": [
        {
          "output_type": "stream",
          "name": "stdout",
          "text": [
            "cold_users содержит 45376 взаимодействий.\n",
            "Оставшиеся взаимодействия после удаления cold_users: 1637902\n"
          ]
        }
      ]
    },
    {
      "cell_type": "code",
      "source": [
        "# Получение списка оставшихся only_day_11_users после удаления cold_users\n",
        "remaining_only_day_11_users = list(set(only_day_11_users) - set(cold_users_selected))\n",
        "\n",
        "print(f\"Оставшихся пользователей только в день 11: {len(remaining_only_day_11_users)}\")\n",
        "\n",
        "# Фильтрация взаимодействий для оставшихся пользователей only_day_11_users\n",
        "only_day_11_remaining_df = filtered_df[filtered_df['wbuser_id'].isin(remaining_only_day_11_users)].copy()\n",
        "\n",
        "# Фильтрация по времени\n",
        " only_day_11_remaining_df = only_day_11_remaining_df.sort_values(['wbuser_id', 'dt'])\n",
        "\n",
        "# Выбор последних 4 взаимодействий для каждого пользователя\n",
        "warm_users = only_day_11_remaining_df.groupby('wbuser_id').tail(4).copy()\n",
        "\n",
        "print(f\"warm_users содержит {len(warm_users)} взаимодействий.\")\n",
        "\n",
        "# Удаление взаимодействий warm_users из исходного DataFrame\n",
        "warm_user_indexes = warm_users.index\n",
        "filtered_df = filtered_df.drop(warm_user_indexes).copy()\n",
        "\n",
        "print(f\"Оставшиеся взаимодействия после удаления warm_users: {len(filtered_df)}\")\n"
      ],
      "metadata": {
        "colab": {
          "base_uri": "https://localhost:8080/"
        },
        "id": "dJIX-R6thDAA",
        "outputId": "bd188069-8e26-43dc-e96b-d31e49ec8d32"
      },
      "execution_count": null,
      "outputs": [
        {
          "output_type": "stream",
          "name": "stdout",
          "text": [
            "Оставшихся пользователей только в день 11: 51871\n",
            "warm_users содержит 207484 взаимодействий.\n",
            "Оставшиеся взаимодействия после удаления warm_users: 1430418\n"
          ]
        }
      ]
    },
    {
      "cell_type": "code",
      "source": [
        "# Установка фиксированного состояния для воспроизводимости\n",
        "random_seed = 42\n",
        "\n",
        "# Функция для случайного разбиения пользователей на две части (50% на 50%)\n",
        "def split_users(df, user_column='wbuser_id', frac=0.5, random_state=None):\n",
        "    unique_users = df[user_column].unique()\n",
        "    unique_users_df = pd.DataFrame(unique_users, columns=[user_column])\n",
        "\n",
        "    # Перемешиваем пользователей\n",
        "    shuffled_users = unique_users_df.sample(frac=1, random_state=random_state).reset_index(drop=True)\n",
        "\n",
        "    # Определяем размер первой части\n",
        "    split_index = int(len(shuffled_users) * frac)\n",
        "\n",
        "    # Разделяем пользователей\n",
        "    first_part_users = shuffled_users.iloc[:split_index][user_column].tolist()\n",
        "    second_part_users = shuffled_users.iloc[split_index:][user_column].tolist()\n",
        "\n",
        "    return first_part_users, second_part_users\n",
        "\n",
        "# Разбиение cold_users на first_val_cold и cold_test\n",
        "first_val_cold_users, cold_test_users = split_users(cold_users, user_column='wbuser_id',\n",
        "                                                   frac=0.5, random_state=random_seed)\n",
        "\n",
        "print(f\"Количество пользователей в first_val_cold: {len(first_val_cold_users)}\")\n",
        "print(f\"Количество пользователей в cold_test: {len(cold_test_users)}\")\n",
        "\n",
        "# Создание DataFrame для first_val_cold и cold_test\n",
        "first_val_cold = cold_users[cold_users['wbuser_id'].isin(first_val_cold_users)].copy()\n",
        "cold_test = cold_users[cold_users['wbuser_id'].isin(cold_test_users)].copy()\n",
        "\n",
        "# Разбиение warm_users на first_val_warm и warm_test\n",
        "first_val_warm_users, warm_test_users = split_users(warm_users, user_column='wbuser_id',\n",
        "                                                   frac=0.5, random_state=random_seed)\n",
        "\n",
        "print(f\"Количество пользователей в first_val_warm: {len(first_val_warm_users)}\")\n",
        "print(f\"Количество пользователей в warm_test: {len(warm_test_users)}\")\n",
        "\n",
        "# Создание DataFrame для first_val_warm и warm_test\n",
        "first_val_warm = warm_users[warm_users['wbuser_id'].isin(first_val_warm_users)].copy()\n",
        "warm_test = warm_users[warm_users['wbuser_id'].isin(warm_test_users)].copy()\n",
        "\n",
        "# Объединение first_val_cold и first_val_warm в first_val\n",
        "first_val = pd.concat([first_val_cold, first_val_warm], ignore_index=True)\n",
        "\n",
        "print(f\"Итоговый набор first_val содержит {first_val.shape} взаимодействий.\")\n",
        "print(f\"first_val_cold: {first_val_cold.shape}\")\n",
        "print(f\"cold_test: {cold_test.shape}\")\n",
        "print(f\"first_val_warm: {first_val_warm.shape}\")\n",
        "print(f\"warm_test: {warm_test.shape}\")\n",
        "print(f\"first_val: {first_val.shape}\")"
      ],
      "metadata": {
        "colab": {
          "base_uri": "https://localhost:8080/"
        },
        "id": "03SNt3R5hHQD",
        "outputId": "84665889-8443-490d-d835-01214cf98c4a"
      },
      "execution_count": null,
      "outputs": [
        {
          "output_type": "stream",
          "name": "stdout",
          "text": [
            "Количество пользователей в first_val_cold: 2881\n",
            "Количество пользователей в cold_test: 2882\n",
            "Количество пользователей в first_val_warm: 25935\n",
            "Количество пользователей в warm_test: 25936\n",
            "Итоговый набор first_val содержит (126525, 5) взаимодействий.\n",
            "first_val_cold: (22785, 5)\n",
            "cold_test: (22591, 5)\n",
            "first_val_warm: (103740, 5)\n",
            "warm_test: (103744, 5)\n",
            "first_val: (126525, 5)\n"
          ]
        }
      ]
    },
    {
      "cell_type": "code",
      "source": [
        "filtered_df = filtered_df.drop(['day', 'hour'], axis=1)"
      ],
      "metadata": {
        "id": "NvoWi3IHnPTT"
      },
      "execution_count": null,
      "outputs": []
    },
    {
      "cell_type": "code",
      "source": [
        "warm_test = warm_test.drop(['day', 'hour'], axis=1)\n",
        "cold_test = cold_test.drop(['day', 'hour'], axis=1)\n",
        "first_val = first_val.drop(['day', 'hour'], axis=1)"
      ],
      "metadata": {
        "id": "vr5sRNlvnjYE"
      },
      "execution_count": null,
      "outputs": []
    },
    {
      "cell_type": "code",
      "source": [
        "filtered_df.to_parquet('first_train_2.parquet', index=False)\n",
        "cold_test.to_parquet('cold_test_2.parquet', index=False)\n",
        "warm_test.to_parquet('warm_test_2.parquet', index=False)\n",
        "first_val.to_parquet('first_val_2.parquet', index=False)"
      ],
      "metadata": {
        "id": "Z2x1PaSOl17S"
      },
      "execution_count": null,
      "outputs": []
    },
    {
      "cell_type": "markdown",
      "source": [
        "# 5. Проведение некоторых экспериментов с моделями"
      ],
      "metadata": {
        "id": "IPUiSJE1goeB"
      }
    },
    {
      "cell_type": "code",
      "source": [
        "!pip install rectools[all]"
      ],
      "metadata": {
        "id": "_3vdqX3_g-9B"
      },
      "execution_count": null,
      "outputs": []
    },
    {
      "cell_type": "code",
      "source": [
        "!pip install lightfm"
      ],
      "metadata": {
        "id": "9M5m6Pcvg8_e"
      },
      "execution_count": null,
      "outputs": []
    },
    {
      "cell_type": "code",
      "source": [
        "import os\n",
        "import pandas as pd\n",
        "import numpy as np\n",
        "from google.colab import drive\n",
        "drive.mount('/content/drive')\n",
        "os.chdir('/content/drive/My Drive/WBTECH')"
      ],
      "metadata": {
        "colab": {
          "base_uri": "https://localhost:8080/"
        },
        "id": "ZsH5Y5VApMei",
        "outputId": "87c727db-e0d1-400b-ef88-7cf2da76f220"
      },
      "execution_count": null,
      "outputs": [
        {
          "output_type": "stream",
          "name": "stdout",
          "text": [
            "Mounted at /content/drive\n"
          ]
        }
      ]
    },
    {
      "cell_type": "code",
      "source": [
        "from rectools.metrics import (\n",
        "    HitRate,\n",
        "    Serendipity,\n",
        "    calc_metrics,\n",
        "    Recall,\n",
        "    MAP,\n",
        "    MRR,\n",
        "    AvgRecPopularity\n",
        ")\n",
        "from rectools import Columns\n",
        "from rectools.dataset import Dataset"
      ],
      "metadata": {
        "id": "Qin_-BZ2pOrW"
      },
      "execution_count": null,
      "outputs": []
    },
    {
      "cell_type": "code",
      "source": [
        "first_train = pd.read_parquet('first_train_2.parquet')\n",
        "first_val = pd.read_parquet('first_val_2.parquet')"
      ],
      "metadata": {
        "id": "IxPqOqvupU1b"
      },
      "execution_count": null,
      "outputs": []
    },
    {
      "cell_type": "code",
      "source": [
        "first_train['watched'] = 1\n",
        "first_val['watched'] = 1"
      ],
      "metadata": {
        "id": "lMaceE0Lpjmg"
      },
      "execution_count": null,
      "outputs": []
    },
    {
      "cell_type": "code",
      "source": [
        "first_train = first_train.rename(\n",
        "    columns={\n",
        "        'watched': Columns.Weight,\n",
        "        'dt': Columns.Datetime,\n",
        "        'nm_id': Columns.Item,\n",
        "        'wbuser_id': Columns.User,\n",
        "    }\n",
        ")"
      ],
      "metadata": {
        "id": "FvinvJV9pmAC"
      },
      "execution_count": null,
      "outputs": []
    },
    {
      "cell_type": "code",
      "source": [
        "first_val = first_val.rename(\n",
        "    columns={\n",
        "        'watched': Columns.Weight,\n",
        "        'dt': Columns.Datetime,\n",
        "        'nm_id': Columns.Item,\n",
        "        'wbuser_id': Columns.User,\n",
        "    }\n",
        ")"
      ],
      "metadata": {
        "id": "2I-tGwoVpozn"
      },
      "execution_count": null,
      "outputs": []
    },
    {
      "cell_type": "code",
      "source": [
        "first_train_df = Dataset.construct(first_train)\n",
        "first_val_df = Dataset.construct(first_val)"
      ],
      "metadata": {
        "id": "MAUuafy6pq0b"
      },
      "execution_count": null,
      "outputs": []
    },
    {
      "cell_type": "code",
      "source": [
        "from rectools.models import PopularModel\n",
        "\n",
        "model = PopularModel()\n",
        "model.fit(first_train_df)\n",
        "recos = model.recommend(\n",
        "    users=first_val[Columns.User].unique(),\n",
        "    dataset=first_train_df,\n",
        "    k=20,\n",
        "    filter_viewed=False,\n",
        ")"
      ],
      "metadata": {
        "id": "c8e77cd5pq28"
      },
      "execution_count": null,
      "outputs": []
    },
    {
      "cell_type": "code",
      "source": [
        "recos"
      ],
      "metadata": {
        "colab": {
          "base_uri": "https://localhost:8080/",
          "height": 423
        },
        "id": "3BcPmm0opw-m",
        "outputId": "f7f4886b-6e54-4bd5-e529-0d57f2d686e8"
      },
      "execution_count": null,
      "outputs": [
        {
          "output_type": "execute_result",
          "data": {
            "text/plain": [
              "        user_id  item_id   score  rank\n",
              "0       2104069    73874  7132.0     1\n",
              "1       2104069    82949  3512.0     2\n",
              "2       2104069   197567  3381.0     3\n",
              "3       2104069    25132  3171.0     4\n",
              "4       2104069   312716  2915.0     5\n",
              "...         ...      ...     ...   ...\n",
              "576315  1054256   208215  2101.0    16\n",
              "576316  1054256    24960  1935.0    17\n",
              "576317  1054256   276234  1901.0    18\n",
              "576318  1054256    22240  1857.0    19\n",
              "576319  1054256    24232  1824.0    20\n",
              "\n",
              "[576320 rows x 4 columns]"
            ],
            "text/html": [
              "\n",
              "  <div id=\"df-1b0ccf43-4cfb-43af-b5c9-be03aacfb3ea\" class=\"colab-df-container\">\n",
              "    <div>\n",
              "<style scoped>\n",
              "    .dataframe tbody tr th:only-of-type {\n",
              "        vertical-align: middle;\n",
              "    }\n",
              "\n",
              "    .dataframe tbody tr th {\n",
              "        vertical-align: top;\n",
              "    }\n",
              "\n",
              "    .dataframe thead th {\n",
              "        text-align: right;\n",
              "    }\n",
              "</style>\n",
              "<table border=\"1\" class=\"dataframe\">\n",
              "  <thead>\n",
              "    <tr style=\"text-align: right;\">\n",
              "      <th></th>\n",
              "      <th>user_id</th>\n",
              "      <th>item_id</th>\n",
              "      <th>score</th>\n",
              "      <th>rank</th>\n",
              "    </tr>\n",
              "  </thead>\n",
              "  <tbody>\n",
              "    <tr>\n",
              "      <th>0</th>\n",
              "      <td>2104069</td>\n",
              "      <td>73874</td>\n",
              "      <td>7132.0</td>\n",
              "      <td>1</td>\n",
              "    </tr>\n",
              "    <tr>\n",
              "      <th>1</th>\n",
              "      <td>2104069</td>\n",
              "      <td>82949</td>\n",
              "      <td>3512.0</td>\n",
              "      <td>2</td>\n",
              "    </tr>\n",
              "    <tr>\n",
              "      <th>2</th>\n",
              "      <td>2104069</td>\n",
              "      <td>197567</td>\n",
              "      <td>3381.0</td>\n",
              "      <td>3</td>\n",
              "    </tr>\n",
              "    <tr>\n",
              "      <th>3</th>\n",
              "      <td>2104069</td>\n",
              "      <td>25132</td>\n",
              "      <td>3171.0</td>\n",
              "      <td>4</td>\n",
              "    </tr>\n",
              "    <tr>\n",
              "      <th>4</th>\n",
              "      <td>2104069</td>\n",
              "      <td>312716</td>\n",
              "      <td>2915.0</td>\n",
              "      <td>5</td>\n",
              "    </tr>\n",
              "    <tr>\n",
              "      <th>...</th>\n",
              "      <td>...</td>\n",
              "      <td>...</td>\n",
              "      <td>...</td>\n",
              "      <td>...</td>\n",
              "    </tr>\n",
              "    <tr>\n",
              "      <th>576315</th>\n",
              "      <td>1054256</td>\n",
              "      <td>208215</td>\n",
              "      <td>2101.0</td>\n",
              "      <td>16</td>\n",
              "    </tr>\n",
              "    <tr>\n",
              "      <th>576316</th>\n",
              "      <td>1054256</td>\n",
              "      <td>24960</td>\n",
              "      <td>1935.0</td>\n",
              "      <td>17</td>\n",
              "    </tr>\n",
              "    <tr>\n",
              "      <th>576317</th>\n",
              "      <td>1054256</td>\n",
              "      <td>276234</td>\n",
              "      <td>1901.0</td>\n",
              "      <td>18</td>\n",
              "    </tr>\n",
              "    <tr>\n",
              "      <th>576318</th>\n",
              "      <td>1054256</td>\n",
              "      <td>22240</td>\n",
              "      <td>1857.0</td>\n",
              "      <td>19</td>\n",
              "    </tr>\n",
              "    <tr>\n",
              "      <th>576319</th>\n",
              "      <td>1054256</td>\n",
              "      <td>24232</td>\n",
              "      <td>1824.0</td>\n",
              "      <td>20</td>\n",
              "    </tr>\n",
              "  </tbody>\n",
              "</table>\n",
              "<p>576320 rows × 4 columns</p>\n",
              "</div>\n",
              "    <div class=\"colab-df-buttons\">\n",
              "\n",
              "  <div class=\"colab-df-container\">\n",
              "    <button class=\"colab-df-convert\" onclick=\"convertToInteractive('df-1b0ccf43-4cfb-43af-b5c9-be03aacfb3ea')\"\n",
              "            title=\"Convert this dataframe to an interactive table.\"\n",
              "            style=\"display:none;\">\n",
              "\n",
              "  <svg xmlns=\"http://www.w3.org/2000/svg\" height=\"24px\" viewBox=\"0 -960 960 960\">\n",
              "    <path d=\"M120-120v-720h720v720H120Zm60-500h600v-160H180v160Zm220 220h160v-160H400v160Zm0 220h160v-160H400v160ZM180-400h160v-160H180v160Zm440 0h160v-160H620v160ZM180-180h160v-160H180v160Zm440 0h160v-160H620v160Z\"/>\n",
              "  </svg>\n",
              "    </button>\n",
              "\n",
              "  <style>\n",
              "    .colab-df-container {\n",
              "      display:flex;\n",
              "      gap: 12px;\n",
              "    }\n",
              "\n",
              "    .colab-df-convert {\n",
              "      background-color: #E8F0FE;\n",
              "      border: none;\n",
              "      border-radius: 50%;\n",
              "      cursor: pointer;\n",
              "      display: none;\n",
              "      fill: #1967D2;\n",
              "      height: 32px;\n",
              "      padding: 0 0 0 0;\n",
              "      width: 32px;\n",
              "    }\n",
              "\n",
              "    .colab-df-convert:hover {\n",
              "      background-color: #E2EBFA;\n",
              "      box-shadow: 0px 1px 2px rgba(60, 64, 67, 0.3), 0px 1px 3px 1px rgba(60, 64, 67, 0.15);\n",
              "      fill: #174EA6;\n",
              "    }\n",
              "\n",
              "    .colab-df-buttons div {\n",
              "      margin-bottom: 4px;\n",
              "    }\n",
              "\n",
              "    [theme=dark] .colab-df-convert {\n",
              "      background-color: #3B4455;\n",
              "      fill: #D2E3FC;\n",
              "    }\n",
              "\n",
              "    [theme=dark] .colab-df-convert:hover {\n",
              "      background-color: #434B5C;\n",
              "      box-shadow: 0px 1px 3px 1px rgba(0, 0, 0, 0.15);\n",
              "      filter: drop-shadow(0px 1px 2px rgba(0, 0, 0, 0.3));\n",
              "      fill: #FFFFFF;\n",
              "    }\n",
              "  </style>\n",
              "\n",
              "    <script>\n",
              "      const buttonEl =\n",
              "        document.querySelector('#df-1b0ccf43-4cfb-43af-b5c9-be03aacfb3ea button.colab-df-convert');\n",
              "      buttonEl.style.display =\n",
              "        google.colab.kernel.accessAllowed ? 'block' : 'none';\n",
              "\n",
              "      async function convertToInteractive(key) {\n",
              "        const element = document.querySelector('#df-1b0ccf43-4cfb-43af-b5c9-be03aacfb3ea');\n",
              "        const dataTable =\n",
              "          await google.colab.kernel.invokeFunction('convertToInteractive',\n",
              "                                                    [key], {});\n",
              "        if (!dataTable) return;\n",
              "\n",
              "        const docLinkHtml = 'Like what you see? Visit the ' +\n",
              "          '<a target=\"_blank\" href=https://colab.research.google.com/notebooks/data_table.ipynb>data table notebook</a>'\n",
              "          + ' to learn more about interactive tables.';\n",
              "        element.innerHTML = '';\n",
              "        dataTable['output_type'] = 'display_data';\n",
              "        await google.colab.output.renderOutput(dataTable, element);\n",
              "        const docLink = document.createElement('div');\n",
              "        docLink.innerHTML = docLinkHtml;\n",
              "        element.appendChild(docLink);\n",
              "      }\n",
              "    </script>\n",
              "  </div>\n",
              "\n",
              "\n",
              "<div id=\"df-96dc1ee1-5a86-44ea-9f3a-d9a0cc78d532\">\n",
              "  <button class=\"colab-df-quickchart\" onclick=\"quickchart('df-96dc1ee1-5a86-44ea-9f3a-d9a0cc78d532')\"\n",
              "            title=\"Suggest charts\"\n",
              "            style=\"display:none;\">\n",
              "\n",
              "<svg xmlns=\"http://www.w3.org/2000/svg\" height=\"24px\"viewBox=\"0 0 24 24\"\n",
              "     width=\"24px\">\n",
              "    <g>\n",
              "        <path d=\"M19 3H5c-1.1 0-2 .9-2 2v14c0 1.1.9 2 2 2h14c1.1 0 2-.9 2-2V5c0-1.1-.9-2-2-2zM9 17H7v-7h2v7zm4 0h-2V7h2v10zm4 0h-2v-4h2v4z\"/>\n",
              "    </g>\n",
              "</svg>\n",
              "  </button>\n",
              "\n",
              "<style>\n",
              "  .colab-df-quickchart {\n",
              "      --bg-color: #E8F0FE;\n",
              "      --fill-color: #1967D2;\n",
              "      --hover-bg-color: #E2EBFA;\n",
              "      --hover-fill-color: #174EA6;\n",
              "      --disabled-fill-color: #AAA;\n",
              "      --disabled-bg-color: #DDD;\n",
              "  }\n",
              "\n",
              "  [theme=dark] .colab-df-quickchart {\n",
              "      --bg-color: #3B4455;\n",
              "      --fill-color: #D2E3FC;\n",
              "      --hover-bg-color: #434B5C;\n",
              "      --hover-fill-color: #FFFFFF;\n",
              "      --disabled-bg-color: #3B4455;\n",
              "      --disabled-fill-color: #666;\n",
              "  }\n",
              "\n",
              "  .colab-df-quickchart {\n",
              "    background-color: var(--bg-color);\n",
              "    border: none;\n",
              "    border-radius: 50%;\n",
              "    cursor: pointer;\n",
              "    display: none;\n",
              "    fill: var(--fill-color);\n",
              "    height: 32px;\n",
              "    padding: 0;\n",
              "    width: 32px;\n",
              "  }\n",
              "\n",
              "  .colab-df-quickchart:hover {\n",
              "    background-color: var(--hover-bg-color);\n",
              "    box-shadow: 0 1px 2px rgba(60, 64, 67, 0.3), 0 1px 3px 1px rgba(60, 64, 67, 0.15);\n",
              "    fill: var(--button-hover-fill-color);\n",
              "  }\n",
              "\n",
              "  .colab-df-quickchart-complete:disabled,\n",
              "  .colab-df-quickchart-complete:disabled:hover {\n",
              "    background-color: var(--disabled-bg-color);\n",
              "    fill: var(--disabled-fill-color);\n",
              "    box-shadow: none;\n",
              "  }\n",
              "\n",
              "  .colab-df-spinner {\n",
              "    border: 2px solid var(--fill-color);\n",
              "    border-color: transparent;\n",
              "    border-bottom-color: var(--fill-color);\n",
              "    animation:\n",
              "      spin 1s steps(1) infinite;\n",
              "  }\n",
              "\n",
              "  @keyframes spin {\n",
              "    0% {\n",
              "      border-color: transparent;\n",
              "      border-bottom-color: var(--fill-color);\n",
              "      border-left-color: var(--fill-color);\n",
              "    }\n",
              "    20% {\n",
              "      border-color: transparent;\n",
              "      border-left-color: var(--fill-color);\n",
              "      border-top-color: var(--fill-color);\n",
              "    }\n",
              "    30% {\n",
              "      border-color: transparent;\n",
              "      border-left-color: var(--fill-color);\n",
              "      border-top-color: var(--fill-color);\n",
              "      border-right-color: var(--fill-color);\n",
              "    }\n",
              "    40% {\n",
              "      border-color: transparent;\n",
              "      border-right-color: var(--fill-color);\n",
              "      border-top-color: var(--fill-color);\n",
              "    }\n",
              "    60% {\n",
              "      border-color: transparent;\n",
              "      border-right-color: var(--fill-color);\n",
              "    }\n",
              "    80% {\n",
              "      border-color: transparent;\n",
              "      border-right-color: var(--fill-color);\n",
              "      border-bottom-color: var(--fill-color);\n",
              "    }\n",
              "    90% {\n",
              "      border-color: transparent;\n",
              "      border-bottom-color: var(--fill-color);\n",
              "    }\n",
              "  }\n",
              "</style>\n",
              "\n",
              "  <script>\n",
              "    async function quickchart(key) {\n",
              "      const quickchartButtonEl =\n",
              "        document.querySelector('#' + key + ' button');\n",
              "      quickchartButtonEl.disabled = true;  // To prevent multiple clicks.\n",
              "      quickchartButtonEl.classList.add('colab-df-spinner');\n",
              "      try {\n",
              "        const charts = await google.colab.kernel.invokeFunction(\n",
              "            'suggestCharts', [key], {});\n",
              "      } catch (error) {\n",
              "        console.error('Error during call to suggestCharts:', error);\n",
              "      }\n",
              "      quickchartButtonEl.classList.remove('colab-df-spinner');\n",
              "      quickchartButtonEl.classList.add('colab-df-quickchart-complete');\n",
              "    }\n",
              "    (() => {\n",
              "      let quickchartButtonEl =\n",
              "        document.querySelector('#df-96dc1ee1-5a86-44ea-9f3a-d9a0cc78d532 button');\n",
              "      quickchartButtonEl.style.display =\n",
              "        google.colab.kernel.accessAllowed ? 'block' : 'none';\n",
              "    })();\n",
              "  </script>\n",
              "</div>\n",
              "    </div>\n",
              "  </div>\n"
            ],
            "application/vnd.google.colaboratory.intrinsic+json": {
              "type": "dataframe",
              "variable_name": "recos"
            }
          },
          "metadata": {},
          "execution_count": 9
        }
      ]
    },
    {
      "cell_type": "code",
      "source": [
        "catalog = first_train[Columns.Item].unique()"
      ],
      "metadata": {
        "id": "LMedE1cTpy6S"
      },
      "execution_count": null,
      "outputs": []
    },
    {
      "cell_type": "code",
      "source": [
        "metrics = {\n",
        "    \"hit_rate@20\": HitRate(k=20),\n",
        "    \"serendipity@20\": Serendipity(k=20),\n",
        "    \"Recall@20\": Recall(k=20),\n",
        "    \"MAP@20\": MAP(k=20),\n",
        "    \"MRR@20\": MRR(k=20),\n",
        "    \"pop_bias@20\": AvgRecPopularity(k=20),\n",
        "}\n",
        "\n",
        "calc_metrics(\n",
        "    metrics,\n",
        "    reco=recos,\n",
        "    interactions=first_val,\n",
        "    prev_interactions=first_train,\n",
        "    catalog=catalog,\n",
        ")"
      ],
      "metadata": {
        "colab": {
          "base_uri": "https://localhost:8080/"
        },
        "id": "MKs7Uzlwp00o",
        "outputId": "00c9b33e-8c22-46dc-aae2-ff60ded32c4a"
      },
      "execution_count": null,
      "outputs": [
        {
          "output_type": "execute_result",
          "data": {
            "text/plain": [
              "{'hit_rate@20': 0.15133953359244864,\n",
              " 'Recall@20': 0.055042811047654294,\n",
              " 'MRR@20': 0.04505636044032271,\n",
              " 'MAP@20': 0.014900224394509408,\n",
              " 'pop_bias@20': 4121.849999999999,\n",
              " 'serendipity@20': 5.346929180098021e-07}"
            ]
          },
          "metadata": {},
          "execution_count": 13
        }
      ]
    },
    {
      "cell_type": "code",
      "source": [
        "from lightfm import LightFM\n",
        "from rectools.models import LightFMWrapperModel"
      ],
      "metadata": {
        "id": "IWQtDKd4p3PF"
      },
      "execution_count": null,
      "outputs": []
    },
    {
      "cell_type": "code",
      "source": [
        "num_threads = os.cpu_count()\n",
        "num_threads"
      ],
      "metadata": {
        "colab": {
          "base_uri": "https://localhost:8080/"
        },
        "id": "vMYEUtXsp3Rw",
        "outputId": "d0cb5440-f647-417e-9ee3-c7a10d297a9c"
      },
      "execution_count": null,
      "outputs": [
        {
          "output_type": "execute_result",
          "data": {
            "text/plain": [
              "2"
            ]
          },
          "metadata": {},
          "execution_count": 13
        }
      ]
    },
    {
      "cell_type": "code",
      "source": [
        "model = LightFMWrapperModel(LightFM(no_components=100, loss=\"warp\", learning_rate=0.1, max_sampled=5,), num_threads=num_threads, epochs=15, verbose=1)\n",
        "model.fit(first_train_df);"
      ],
      "metadata": {
        "id": "vGtDfBc5qFQE",
        "colab": {
          "base_uri": "https://localhost:8080/"
        },
        "outputId": "38cea415-eff8-4df8-9d5a-7ac7c595aa42"
      },
      "execution_count": null,
      "outputs": [
        {
          "output_type": "stream",
          "name": "stderr",
          "text": [
            "Epoch: 100%|██████████| 15/15 [00:49<00:00,  3.27s/it]\n"
          ]
        }
      ]
    },
    {
      "cell_type": "code",
      "source": [
        "%time\n",
        "recos = model.recommend(\n",
        "    users=first_val[Columns.User].unique(),\n",
        "    dataset=first_train_df,\n",
        "    k=20,\n",
        "    filter_viewed=False,\n",
        ")"
      ],
      "metadata": {
        "colab": {
          "base_uri": "https://localhost:8080/"
        },
        "id": "lW2F4eM6ulJI",
        "outputId": "83c96c87-6bda-4c51-e695-3c6124ce2c1e"
      },
      "execution_count": null,
      "outputs": [
        {
          "output_type": "stream",
          "name": "stdout",
          "text": [
            "CPU times: user 4 µs, sys: 0 ns, total: 4 µs\n",
            "Wall time: 18.6 µs\n"
          ]
        }
      ]
    },
    {
      "cell_type": "code",
      "source": [
        "calc_metrics(\n",
        "    metrics,\n",
        "    reco=recos,\n",
        "    interactions=first_val,  # needed fo all `TruePositive` based metrics\n",
        "    prev_interactions=first_train,  # needed for serendipity\n",
        "    catalog=catalog,  # needed for serendipity\n",
        ")"
      ],
      "metadata": {
        "id": "4fpgfaxAqg1F",
        "colab": {
          "base_uri": "https://localhost:8080/"
        },
        "outputId": "36401dbc-4b0c-40a6-f51c-7215b6c1977b"
      },
      "execution_count": null,
      "outputs": [
        {
          "output_type": "execute_result",
          "data": {
            "text/plain": [
              "{'hit_rate@20': 0.5330372015546918,\n",
              " 'Recall@20': 0.28295505849304725,\n",
              " 'MRR@20': 0.27549407677123233,\n",
              " 'MAP@20': 0.15217030760121422,\n",
              " 'pop_bias@20': 1867.573445308162,\n",
              " 'serendipity@20': 0.0014486074033263259}"
            ]
          },
          "metadata": {},
          "execution_count": 20
        }
      ]
    },
    {
      "cell_type": "code",
      "source": [],
      "metadata": {
        "id": "MGJD4ra0kUZ3"
      },
      "execution_count": null,
      "outputs": []
    },
    {
      "cell_type": "code",
      "source": [
        "from rectools.models import EASEModel"
      ],
      "metadata": {
        "id": "FAl-XW5qjoQE"
      },
      "execution_count": null,
      "outputs": []
    },
    {
      "cell_type": "code",
      "source": [
        "model = EASEModel(verbose=1, num_threads=num_threads)\n",
        "model.fit(first_train_df)"
      ],
      "metadata": {
        "colab": {
          "base_uri": "https://localhost:8080/"
        },
        "id": "w4Ux9-e9kVEe",
        "outputId": "b34614de-47f7-4278-babc-b141cdad09b5"
      },
      "execution_count": null,
      "outputs": [
        {
          "output_type": "execute_result",
          "data": {
            "text/plain": [
              "<rectools.models.ease.EASEModel at 0x78eedee9e140>"
            ]
          },
          "metadata": {},
          "execution_count": 22
        }
      ]
    },
    {
      "cell_type": "code",
      "source": [
        "%time\n",
        "recos = model.recommend(\n",
        "    users=first_val[Columns.User].unique(),\n",
        "    dataset=first_train_df,\n",
        "    k=20,\n",
        "    filter_viewed=False,\n",
        "    on_unsupported_targets = 'ignore',\n",
        ")"
      ],
      "metadata": {
        "colab": {
          "base_uri": "https://localhost:8080/"
        },
        "id": "42C-oOf2lNhu",
        "outputId": "6d6760e2-e743-4c58-9c7d-efe80143cef7"
      },
      "execution_count": null,
      "outputs": [
        {
          "output_type": "stream",
          "name": "stdout",
          "text": [
            "CPU times: user 5 µs, sys: 0 ns, total: 5 µs\n",
            "Wall time: 9.54 µs\n"
          ]
        }
      ]
    },
    {
      "cell_type": "code",
      "source": [
        "calc_metrics(\n",
        "    metrics,\n",
        "    reco=recos,\n",
        "    interactions=first_val,  # needed fo all `TruePositive` based metrics\n",
        "    prev_interactions=first_train,  # needed for serendipity\n",
        "    catalog=catalog,  # needed for serendipity\n",
        ")"
      ],
      "metadata": {
        "colab": {
          "base_uri": "https://localhost:8080/"
        },
        "id": "6wC4xknQfVth",
        "outputId": "e8e52fad-808d-4157-c679-3b6de20b266e"
      },
      "execution_count": null,
      "outputs": [
        {
          "output_type": "execute_result",
          "data": {
            "text/plain": [
              "{'hit_rate@20': 0.49899361465852304,\n",
              " 'Recall@20': 0.2585629511382565,\n",
              " 'MRR@20': 0.2934001541945354,\n",
              " 'MAP@20': 0.14644650258241665,\n",
              " 'pop_bias@20': 346.0136495083863,\n",
              " 'serendipity@20': 0.001990639920527485}"
            ]
          },
          "metadata": {},
          "execution_count": 31
        }
      ]
    },
    {
      "cell_type": "code",
      "source": [],
      "metadata": {
        "id": "1nVUSaEGlRF_"
      },
      "execution_count": null,
      "outputs": []
    },
    {
      "cell_type": "code",
      "source": [
        "model = LightFMWrapperModel(LightFM(no_components=100, loss=\"warp\", learning_rate=0.1, max_sampled=5,), num_threads=num_threads, epochs=2, verbose=1)\n",
        "model.fit(first_train_df);"
      ],
      "metadata": {
        "colab": {
          "base_uri": "https://localhost:8080/"
        },
        "id": "2xQr4gD1QJAu",
        "outputId": "d8586fbc-3e73-4627-8444-b074566b7834"
      },
      "execution_count": null,
      "outputs": [
        {
          "output_type": "stream",
          "name": "stderr",
          "text": [
            "Epoch: 100%|██████████| 2/2 [00:08<00:00,  4.39s/it]\n"
          ]
        }
      ]
    },
    {
      "cell_type": "code",
      "source": [
        "%time\n",
        "recos = model.recommend(\n",
        "    users=first_val[Columns.User].unique(),\n",
        "    dataset=first_train_df,\n",
        "    k=20,\n",
        "    filter_viewed=False,\n",
        ")"
      ],
      "metadata": {
        "colab": {
          "base_uri": "https://localhost:8080/"
        },
        "id": "OMx-Uz8OQL9F",
        "outputId": "73f2a7ce-9a9b-4478-d1a2-b100bdb0362e"
      },
      "execution_count": null,
      "outputs": [
        {
          "output_type": "stream",
          "name": "stdout",
          "text": [
            "CPU times: user 3 µs, sys: 0 ns, total: 3 µs\n",
            "Wall time: 9.06 µs\n"
          ]
        }
      ]
    },
    {
      "cell_type": "code",
      "source": [
        "calc_metrics(\n",
        "    metrics,\n",
        "    reco=recos,\n",
        "    interactions=first_val,  # needed fo all `TruePositive` based metrics\n",
        "    prev_interactions=first_train,  # needed for serendipity\n",
        "    catalog=catalog,  # needed for serendipity\n",
        ")"
      ],
      "metadata": {
        "colab": {
          "base_uri": "https://localhost:8080/"
        },
        "id": "ZNc2HM2XQO23",
        "outputId": "caec50a7-f132-4f4c-de41-a0ffc4f74f60"
      },
      "execution_count": null,
      "outputs": [
        {
          "output_type": "execute_result",
          "data": {
            "text/plain": [
              "{'hit_rate@20': 0.3982856746252082,\n",
              " 'Recall@20': 0.1965411782760866,\n",
              " 'MRR@20': 0.1961844189297228,\n",
              " 'MAP@20': 0.10152629438795059,\n",
              " 'pop_bias@20': 2388.9143097584674,\n",
              " 'serendipity@20': 0.0009918298384921059}"
            ]
          },
          "metadata": {},
          "execution_count": 18
        }
      ]
    },
    {
      "cell_type": "code",
      "source": [],
      "metadata": {
        "id": "OEfykw3OQJDe"
      },
      "execution_count": null,
      "outputs": []
    },
    {
      "cell_type": "code",
      "source": [
        "items = pd.read_parquet('items_min.parquet')"
      ],
      "metadata": {
        "id": "POeCt6LPjoZW"
      },
      "execution_count": null,
      "outputs": []
    },
    {
      "cell_type": "code",
      "source": [
        "items = items.rename(\n",
        "    columns={\n",
        "        'nm_id': Columns.Item,\n",
        "    }\n",
        ")"
      ],
      "metadata": {
        "id": "flrAwHDejtw0"
      },
      "execution_count": null,
      "outputs": []
    },
    {
      "cell_type": "code",
      "source": [
        "items = items.loc[items[Columns.Item].isin(first_train[Columns.Item])].copy()"
      ],
      "metadata": {
        "id": "A-54nJW5jvoU"
      },
      "execution_count": null,
      "outputs": []
    },
    {
      "cell_type": "code",
      "source": [
        "# Определяем колонки, которые нужно оставить\n",
        "columns_to_keep_numeric = [str(i) for i in range(100)]\n",
        "columns_to_keep_emb = [f'emb_{i}' for i in range(256)]\n",
        "columns_to_keep = columns_to_keep_numeric # + columns_to_keep_emb\n",
        "\n",
        "# Оставляем только выбранные колонки\n",
        "items = items[columns_to_keep + ['item_id']]\n"
      ],
      "metadata": {
        "id": "CnlbaOKXiZJF"
      },
      "execution_count": null,
      "outputs": []
    },
    {
      "cell_type": "code",
      "source": [
        "item_features_frames = []\n",
        "for feature in items.drop(columns=['item_id']).columns:\n",
        "    feature_frame = items.reindex(columns=[\"item_id\", feature])\n",
        "    feature_frame.columns = [\"id\", \"value\"]\n",
        "    feature_frame[\"feature\"] = feature\n",
        "    item_features_frames.append(feature_frame)\n",
        "item_features = pd.concat(item_features_frames)"
      ],
      "metadata": {
        "id": "CDTAzmPFjymF"
      },
      "execution_count": null,
      "outputs": []
    },
    {
      "cell_type": "code",
      "source": [
        "sparse_features_dataset = Dataset.construct(\n",
        "    interactions_df=first_train,\n",
        "    item_features_df=item_features,  # our flatten dataframe\n",
        "    make_dense_item_features=False  # for `sparse` format\n",
        ")"
      ],
      "metadata": {
        "id": "sG1qLm4djzZ8"
      },
      "execution_count": null,
      "outputs": []
    },
    {
      "cell_type": "code",
      "source": [
        "model = LightFMWrapperModel(LightFM(no_components=100, loss=\"warp\", learning_rate=0.1, max_sampled=5,), num_threads=num_threads, epochs=2, verbose=1)\n",
        "model.fit(sparse_features_dataset);"
      ],
      "metadata": {
        "colab": {
          "base_uri": "https://localhost:8080/"
        },
        "id": "DoMgNa5rj8Lo",
        "outputId": "b7de3326-c239-45b5-f296-927eba600e34"
      },
      "execution_count": null,
      "outputs": [
        {
          "output_type": "stream",
          "name": "stderr",
          "text": [
            "Epoch: 100%|██████████| 2/2 [03:19<00:00, 99.78s/it]\n"
          ]
        }
      ]
    },
    {
      "cell_type": "code",
      "source": [
        "recos = model.recommend(\n",
        "    users=first_val[Columns.User].unique(),\n",
        "    dataset=sparse_features_dataset,\n",
        "    k=20,\n",
        "    filter_viewed=False,\n",
        ")"
      ],
      "metadata": {
        "id": "s2KigvjDjzfm"
      },
      "execution_count": null,
      "outputs": []
    },
    {
      "cell_type": "code",
      "source": [
        "calc_metrics(\n",
        "    metrics,\n",
        "    reco=recos,\n",
        "    interactions=first_val,  # needed fo all `TruePositive` based metrics\n",
        "    prev_interactions=first_train,  # needed for serendipity\n",
        "    catalog=catalog,  # needed for serendipity\n",
        ")"
      ],
      "metadata": {
        "colab": {
          "base_uri": "https://localhost:8080/"
        },
        "id": "Xt7oLvHskEEk",
        "outputId": "267ad773-aa84-41a9-8bc1-3015fdfe8c35"
      },
      "execution_count": null,
      "outputs": [
        {
          "output_type": "execute_result",
          "data": {
            "text/plain": [
              "{'hit_rate@20': 0.35900194336479735,\n",
              " 'Recall@20': 0.17254795922631042,\n",
              " 'MRR@20': 0.14870468661847625,\n",
              " 'MAP@20': 0.07453546715013187,\n",
              " 'pop_bias@20': 2100.9358863131592,\n",
              " 'serendipity@20': 0.0008132559795057523}"
            ]
          },
          "metadata": {},
          "execution_count": 44
        }
      ]
    },
    {
      "cell_type": "code",
      "source": [],
      "metadata": {
        "id": "_pT-24xqiYwx"
      },
      "execution_count": null,
      "outputs": []
    },
    {
      "cell_type": "code",
      "source": [
        "# Определяем бинарные колонки (колонки с двумя уникальными значениями)\n",
        "binary_cols = [col for col in items.columns if items[col].nunique() == 2 and col != 'item_id']\n",
        "\n",
        "# Определяем числовые колонки, исключая бинарные\n",
        "numeric_cols = [col for col in items.select_dtypes(include=[np.number]).columns if col not in binary_cols + ['item_id']]"
      ],
      "metadata": {
        "id": "pyOfYutkwTxk"
      },
      "execution_count": null,
      "outputs": []
    },
    {
      "cell_type": "code",
      "source": [
        "NUM_QUANTILES = 5\n",
        "\n",
        "# Функция для преобразования значений в метки квантилей вида 'колонка_квантиль'\n",
        "def assign_quantile_labels(df, columns, num_quantiles=10):\n",
        "    for col in columns:\n",
        "        try:\n",
        "            # Создаём метки для квантилей, например, '0_1', '0_2', ..., '0_5'\n",
        "            quantile_labels = [f\"{col}_{i}\" for i in range(1, num_quantiles + 1)]\n",
        "\n",
        "            # Используем pd.qcut для разбиения на квантильные интервалы с заданными метками\n",
        "            df[col + '_quantile'] = pd.qcut(df[col], q=num_quantiles, labels=quantile_labels)\n",
        "        except ValueError as e:\n",
        "            print(f\"Ошибка при обработке столбца {col}: {e}\")\n",
        "            unique_values = df[col].nunique()\n",
        "            if unique_values < num_quantiles:\n",
        "                # Создаём метки для существующего количества квантилей\n",
        "                adjusted_labels = [f\"{col}_{i}\" for i in range(1, unique_values + 1)]\n",
        "                df[col + '_quantile'] = pd.qcut(df[col], q=unique_values, labels=adjusted_labels)\n",
        "            else:\n",
        "                raise e\n",
        "    return df\n",
        "\n",
        "# Список колонок с названиями от '0' до '99'\n",
        "columns_to_transform = numeric_cols\n",
        "\n",
        "# Применяем функцию к копии DataFrame\n",
        "items_transformed = assign_quantile_labels(items.copy(), columns_to_transform, NUM_QUANTILES)\n",
        "\n",
        "# Заменяем исходные колонки на квантильные метки\n",
        "for col in columns_to_transform:\n",
        "    quantile_col = col + '_quantile'\n",
        "    if quantile_col in items_transformed.columns:\n",
        "        items_transformed.drop(columns=[col], inplace=True)\n",
        "        items_transformed.rename(columns={quantile_col: col}, inplace=True)"
      ],
      "metadata": {
        "id": "626xv7suwU0I"
      },
      "execution_count": null,
      "outputs": []
    },
    {
      "cell_type": "code",
      "source": [
        "items = items_transformed"
      ],
      "metadata": {
        "colab": {
          "base_uri": "https://localhost:8080/",
          "height": 141
        },
        "id": "jme07QnztsGW",
        "outputId": "76d93be9-6ea9-4dc8-b28d-28f9274fb150"
      },
      "execution_count": null,
      "outputs": [
        {
          "output_type": "error",
          "ename": "NameError",
          "evalue": "name 'items_transformed' is not defined",
          "traceback": [
            "\u001b[0;31m---------------------------------------------------------------------------\u001b[0m",
            "\u001b[0;31mNameError\u001b[0m                                 Traceback (most recent call last)",
            "\u001b[0;32m<ipython-input-33-4c7a68362d44>\u001b[0m in \u001b[0;36m<cell line: 1>\u001b[0;34m()\u001b[0m\n\u001b[0;32m----> 1\u001b[0;31m \u001b[0mitems\u001b[0m \u001b[0;34m=\u001b[0m \u001b[0mitems_transformed\u001b[0m\u001b[0;34m\u001b[0m\u001b[0;34m\u001b[0m\u001b[0m\n\u001b[0m",
            "\u001b[0;31mNameError\u001b[0m: name 'items_transformed' is not defined"
          ]
        }
      ]
    },
    {
      "cell_type": "code",
      "source": [
        "item_features_frames = []\n",
        "for feature in items.drop(columns=['item_id']).columns:\n",
        "    feature_frame = items.reindex(columns=[\"item_id\", feature])\n",
        "    feature_frame.columns = [\"id\", \"value\"]\n",
        "    feature_frame[\"feature\"] = feature\n",
        "    item_features_frames.append(feature_frame)\n",
        "item_features = pd.concat(item_features_frames)"
      ],
      "metadata": {
        "id": "_nJtzSOanrPi"
      },
      "execution_count": null,
      "outputs": []
    },
    {
      "cell_type": "code",
      "source": [
        "item_features = item_features.sort_values('id')"
      ],
      "metadata": {
        "id": "k1V41Daat9HL"
      },
      "execution_count": null,
      "outputs": []
    },
    {
      "cell_type": "code",
      "source": [
        "sparse_features_dataset = Dataset.construct(\n",
        "    interactions_df=first_train,\n",
        "    item_features_df=item_features,  # our flatten dataframe\n",
        "    cat_item_features = columns_to_transform,\n",
        "    make_dense_item_features=False  # for `sparse` format\n",
        ")"
      ],
      "metadata": {
        "id": "7sM2jq9jwU3Y"
      },
      "execution_count": null,
      "outputs": []
    },
    {
      "cell_type": "code",
      "source": [
        "model = LightFMWrapperModel(LightFM(no_components=100, loss=\"warp\", learning_rate=0.1, max_sampled=5,), num_threads=num_threads, epochs=2, verbose=1)\n",
        "model.fit(sparse_features_dataset);"
      ],
      "metadata": {
        "colab": {
          "base_uri": "https://localhost:8080/"
        },
        "id": "T5WQD6oennY8",
        "outputId": "92cf24c0-ef96-40db-9a06-a1f67d86397d"
      },
      "execution_count": null,
      "outputs": [
        {
          "output_type": "stream",
          "name": "stderr",
          "text": [
            "Epoch: 100%|██████████| 2/2 [05:02<00:00, 151.47s/it]\n"
          ]
        }
      ]
    },
    {
      "cell_type": "code",
      "source": [
        "recos = model.recommend(\n",
        "    users=first_val[Columns.User].unique(),\n",
        "    dataset=sparse_features_dataset,\n",
        "    k=20,\n",
        "    filter_viewed=False,\n",
        ")"
      ],
      "metadata": {
        "id": "k_hkoWWnnzAX"
      },
      "execution_count": null,
      "outputs": []
    },
    {
      "cell_type": "code",
      "source": [
        "calc_metrics(\n",
        "    metrics,\n",
        "    reco=recos,\n",
        "    interactions=first_val,  # needed fo all `TruePositive` based metrics\n",
        "    prev_interactions=first_train,  # needed for serendipity\n",
        "    catalog=catalog,  # needed for serendipity\n",
        ")"
      ],
      "metadata": {
        "colab": {
          "base_uri": "https://localhost:8080/"
        },
        "id": "ohUEdCOVnzk9",
        "outputId": "5525a6fc-0ca4-4b8f-ffa7-1979f625906e"
      },
      "execution_count": null,
      "outputs": [
        {
          "output_type": "execute_result",
          "data": {
            "text/plain": [
              "{'hit_rate@20': 0.01679622431982232,\n",
              " 'Recall@20': 0.004807533305449325,\n",
              " 'MRR@20': 0.007497096191645617,\n",
              " 'MAP@20': 0.0017959293871372135,\n",
              " 'pop_bias@20': 251.39020509439203,\n",
              " 'serendipity@20': 2.041517148062449e-05}"
            ]
          },
          "metadata": {},
          "execution_count": 58
        }
      ]
    },
    {
      "cell_type": "code",
      "source": [],
      "metadata": {
        "id": "wGHqTET9UQXb"
      },
      "execution_count": null,
      "outputs": []
    },
    {
      "cell_type": "code",
      "source": [
        "# Импортируем необходимый класс\n",
        "from sklearn.preprocessing import MinMaxScaler\n",
        "\n",
        "# Определяем бинарные колонки (колонки с двумя уникальными значениями)\n",
        "binary_cols = [col for col in items.columns if items[col].nunique() == 2 and col != 'item_id']\n",
        "\n",
        "# Определяем числовые колонки, исключая бинарные\n",
        "numeric_cols = [col for col in items.select_dtypes(include=[np.number]).columns if col not in binary_cols + ['item_id']]\n",
        "\n",
        "# Инициализируем скейлер\n",
        "scaler = MinMaxScaler()\n",
        "\n",
        "# Создаем DataFrame для масштабированных данных\n",
        "items_scaled = items.copy()\n",
        "\n",
        "# Применяем масштабирование только к числовым колонкам\n",
        "items_scaled[numeric_cols] = scaler.fit_transform(items_scaled[numeric_cols])\n",
        "\n",
        "items[numeric_cols] = items_scaled[numeric_cols]"
      ],
      "metadata": {
        "id": "xm9khPpkUQed"
      },
      "execution_count": null,
      "outputs": []
    },
    {
      "cell_type": "code",
      "source": [
        "item_features_frames = []\n",
        "for feature in items.drop(columns=['item_id']).columns:\n",
        "    feature_frame = items.reindex(columns=[\"item_id\", feature])\n",
        "    feature_frame.columns = [\"id\", \"value\"]\n",
        "    feature_frame[\"feature\"] = feature\n",
        "    item_features_frames.append(feature_frame)\n",
        "item_features = pd.concat(item_features_frames)"
      ],
      "metadata": {
        "id": "-HFChe9PUWry"
      },
      "execution_count": null,
      "outputs": []
    },
    {
      "cell_type": "code",
      "source": [
        "item_features = item_features.sort_values('id')"
      ],
      "metadata": {
        "id": "a88Mz7hFUXSg"
      },
      "execution_count": null,
      "outputs": []
    },
    {
      "cell_type": "code",
      "source": [
        "sparse_features_dataset = Dataset.construct(\n",
        "    interactions_df=first_train,\n",
        "    item_features_df=item_features,  # our flatten dataframe\n",
        "    make_dense_item_features=False  # for `sparse` format\n",
        ")"
      ],
      "metadata": {
        "id": "wqFyFxrGVX7x"
      },
      "execution_count": null,
      "outputs": []
    },
    {
      "cell_type": "code",
      "source": [
        "model = LightFMWrapperModel(LightFM(no_components=100, loss=\"warp\", learning_rate=0.1, max_sampled=5,), num_threads=num_threads, epochs=2, verbose=1)\n",
        "model.fit(sparse_features_dataset);"
      ],
      "metadata": {
        "colab": {
          "base_uri": "https://localhost:8080/"
        },
        "id": "RjjoMhOxUar3",
        "outputId": "6cfeb162-7a0c-4c29-ff99-44a97817a0c9"
      },
      "execution_count": null,
      "outputs": [
        {
          "output_type": "stream",
          "name": "stderr",
          "text": [
            "Epoch: 100%|██████████| 2/2 [03:25<00:00, 102.66s/it]\n"
          ]
        }
      ]
    },
    {
      "cell_type": "code",
      "source": [
        "recos = model.recommend(\n",
        "    users=first_val[Columns.User].unique(),\n",
        "    dataset=sparse_features_dataset,\n",
        "    k=20,\n",
        "    filter_viewed=False,\n",
        ")"
      ],
      "metadata": {
        "id": "tsIgPeZ7UdRr"
      },
      "execution_count": null,
      "outputs": []
    },
    {
      "cell_type": "code",
      "source": [
        "calc_metrics(\n",
        "    metrics,\n",
        "    reco=recos,\n",
        "    interactions=first_val,  # needed fo all `TruePositive` based metrics\n",
        "    prev_interactions=first_train,  # needed for serendipity\n",
        "    catalog=catalog,  # needed for serendipity\n",
        ")"
      ],
      "metadata": {
        "colab": {
          "base_uri": "https://localhost:8080/"
        },
        "id": "emMEblIQUjJr",
        "outputId": "8dc210c1-1935-430e-8626-eb8f54c25fc5"
      },
      "execution_count": null,
      "outputs": [
        {
          "output_type": "execute_result",
          "data": {
            "text/plain": [
              "{'hit_rate@20': 0.36465852304275403,\n",
              " 'Recall@20': 0.17624897306544512,\n",
              " 'MRR@20': 0.1440785296325581,\n",
              " 'MAP@20': 0.07150516467118045,\n",
              " 'pop_bias@20': 2409.103369655747,\n",
              " 'serendipity@20': 0.0007495060320805548}"
            ]
          },
          "metadata": {},
          "execution_count": 69
        }
      ]
    },
    {
      "cell_type": "code",
      "source": [],
      "metadata": {
        "id": "ebhmQ2XAUQrT"
      },
      "execution_count": null,
      "outputs": []
    },
    {
      "cell_type": "code",
      "source": [
        "# Определяем колонки, которые нужно оставить\n",
        "columns_to_keep_numeric = [str(i) for i in range(100)]\n",
        "columns_to_keep_emb = [f'emb_{i}' for i in range(256)]\n",
        "columns_to_keep = columns_to_keep_numeric\n",
        "\n",
        "# Оставляем только выбранные колонки\n",
        "items = items[columns_to_keep + ['item_id']]"
      ],
      "metadata": {
        "id": "NHpZpSC2YtU9"
      },
      "execution_count": null,
      "outputs": []
    },
    {
      "cell_type": "code",
      "source": [
        "item_features_frames = []\n",
        "for feature in items.drop(columns=['item_id']).columns:\n",
        "    feature_frame = items.reindex(columns=[\"item_id\", feature])\n",
        "    feature_frame.columns = [\"id\", \"value\"]\n",
        "    feature_frame[\"feature\"] = feature\n",
        "    item_features_frames.append(feature_frame)\n",
        "item_features = pd.concat(item_features_frames)"
      ],
      "metadata": {
        "id": "WQD0FCo8YtXR"
      },
      "execution_count": null,
      "outputs": []
    },
    {
      "cell_type": "code",
      "source": [
        "sparse_features_dataset = Dataset.construct(\n",
        "    interactions_df=first_train,\n",
        "    item_features_df=item_features,  # our flatten dataframe\n",
        "    make_dense_item_features=False  # for `sparse` format\n",
        ")"
      ],
      "metadata": {
        "id": "J6u6wl54ZDKG"
      },
      "execution_count": null,
      "outputs": []
    },
    {
      "cell_type": "code",
      "source": [
        "model = LightFMWrapperModel(LightFM(no_components=100, loss=\"warp\", learning_rate=0.1, max_sampled=5,), num_threads=num_threads, epochs=5, verbose=1)\n",
        "model.fit(sparse_features_dataset);"
      ],
      "metadata": {
        "colab": {
          "base_uri": "https://localhost:8080/"
        },
        "id": "If29351JYM_G",
        "outputId": "fc98bbe8-2547-417f-adb0-4371c7a4f712"
      },
      "execution_count": null,
      "outputs": [
        {
          "output_type": "stream",
          "name": "stderr",
          "text": [
            "Epoch: 100%|██████████| 5/5 [06:36<00:00, 79.21s/it]\n"
          ]
        }
      ]
    },
    {
      "cell_type": "code",
      "source": [
        "recos = model.recommend(\n",
        "    users=first_val[Columns.User].unique(),\n",
        "    dataset=sparse_features_dataset,\n",
        "    k=20,\n",
        "    filter_viewed=False,\n",
        ")"
      ],
      "metadata": {
        "id": "NlY0Gvk8YNBz"
      },
      "execution_count": null,
      "outputs": []
    },
    {
      "cell_type": "code",
      "source": [
        "metrics = {\n",
        "    \"hit_rate@20\": HitRate(k=20),\n",
        "    \"serendipity@20\": Serendipity(k=20),\n",
        "    \"Recall@20\": Recall(k=20),\n",
        "    \"MAP@20\": MAP(k=20),\n",
        "    \"MRR@20\": MRR(k=20),\n",
        "    \"pop_bias@20\": AvgRecPopularity(k=20),\n",
        "}\n",
        "\n",
        "calc_metrics(\n",
        "    metrics,\n",
        "    reco=recos,\n",
        "    interactions=first_val,  # needed fo all `TruePositive` based metrics\n",
        "    prev_interactions=first_train,  # needed for serendipity\n",
        "    catalog=catalog,  # needed for serendipity\n",
        ")"
      ],
      "metadata": {
        "colab": {
          "base_uri": "https://localhost:8080/"
        },
        "id": "opsUeDg9YNEi",
        "outputId": "875a4d0e-25d5-447e-d267-140425989299"
      },
      "execution_count": null,
      "outputs": [
        {
          "output_type": "execute_result",
          "data": {
            "text/plain": [
              "{'hit_rate@20': 0.43781232648528595,\n",
              " 'Recall@20': 0.22136115329442496,\n",
              " 'MRR@20': 0.20250253908671714,\n",
              " 'MAP@20': 0.10628498640238888,\n",
              " 'pop_bias@20': 1873.1525038173236,\n",
              " 'serendipity@20': 0.0011178995018613028}"
            ]
          },
          "metadata": {},
          "execution_count": 32
        }
      ]
    },
    {
      "cell_type": "code",
      "source": [],
      "metadata": {
        "id": "9faPXQ-WYb4K"
      },
      "execution_count": null,
      "outputs": []
    },
    {
      "cell_type": "code",
      "source": [
        "# Импортируем необходимый класс\n",
        "from sklearn.preprocessing import MinMaxScaler\n",
        "\n",
        "# Определяем бинарные колонки (колонки с двумя уникальными значениями)\n",
        "binary_cols = [col for col in items.columns if items[col].nunique() == 2 and col != 'item_id']\n",
        "\n",
        "# Определяем числовые колонки, исключая бинарные\n",
        "numeric_cols = [col for col in items.select_dtypes(include=[np.number]).columns if col not in binary_cols + ['item_id']]\n",
        "\n",
        "# Инициализируем скейлер\n",
        "scaler = MinMaxScaler()\n",
        "\n",
        "# Создаем DataFrame для масштабированных данных\n",
        "items_scaled = items.copy()\n",
        "\n",
        "# Применяем масштабирование только к числовым колонкам\n",
        "items_scaled[numeric_cols] = scaler.fit_transform(items_scaled[numeric_cols])\n",
        "\n",
        "items[numeric_cols] = items_scaled[numeric_cols]"
      ],
      "metadata": {
        "id": "b_QF7Rn4ZKZ7"
      },
      "execution_count": null,
      "outputs": []
    },
    {
      "cell_type": "code",
      "source": [
        "item_features_frames = []\n",
        "for feature in items.drop(columns=['item_id']).columns:\n",
        "    feature_frame = items.reindex(columns=[\"item_id\", feature])\n",
        "    feature_frame.columns = [\"id\", \"value\"]\n",
        "    feature_frame[\"feature\"] = feature\n",
        "    item_features_frames.append(feature_frame)\n",
        "item_features = pd.concat(item_features_frames)"
      ],
      "metadata": {
        "id": "_KeoFPq8ZRoT"
      },
      "execution_count": null,
      "outputs": []
    },
    {
      "cell_type": "code",
      "source": [
        "sparse_features_dataset = Dataset.construct(\n",
        "    interactions_df=first_train,\n",
        "    item_features_df=item_features,  # our flatten dataframe\n",
        "    make_dense_item_features=False  # for `sparse` format\n",
        ")"
      ],
      "metadata": {
        "id": "tWngnwPyZSJf"
      },
      "execution_count": null,
      "outputs": []
    },
    {
      "cell_type": "code",
      "source": [
        "model = LightFMWrapperModel(LightFM(no_components=100, loss=\"warp\", learning_rate=0.1, max_sampled=5,), num_threads=num_threads, epochs=5, verbose=1)\n",
        "model.fit(sparse_features_dataset);"
      ],
      "metadata": {
        "colab": {
          "base_uri": "https://localhost:8080/"
        },
        "id": "NhBTz9TGYb6t",
        "outputId": "761bbb8e-c69f-45b7-bcaa-4bfad531f606"
      },
      "execution_count": null,
      "outputs": [
        {
          "output_type": "stream",
          "name": "stderr",
          "text": [
            "Epoch: 100%|██████████| 5/5 [06:53<00:00, 82.70s/it]\n"
          ]
        }
      ]
    },
    {
      "cell_type": "code",
      "source": [
        "recos = model.recommend(\n",
        "    users=first_val[Columns.User].unique(),\n",
        "    dataset=sparse_features_dataset,\n",
        "    k=20,\n",
        "    filter_viewed=False,\n",
        ")"
      ],
      "metadata": {
        "id": "xD2kD0rBYci9"
      },
      "execution_count": null,
      "outputs": []
    },
    {
      "cell_type": "code",
      "source": [
        "calc_metrics(\n",
        "    metrics,\n",
        "    reco=recos,\n",
        "    interactions=first_val,  # needed fo all `TruePositive` based metrics\n",
        "    prev_interactions=first_train,  # needed for serendipity\n",
        "    catalog=catalog,  # needed for serendipity\n",
        ")"
      ],
      "metadata": {
        "colab": {
          "base_uri": "https://localhost:8080/"
        },
        "id": "t2BWNwZgYclU",
        "outputId": "f8dbd919-29e7-42f1-9977-1f8e18223a3d"
      },
      "execution_count": null,
      "outputs": [
        {
          "output_type": "execute_result",
          "data": {
            "text/plain": [
              "{'hit_rate@20': 0.467899777901166,\n",
              " 'Recall@20': 0.24067664203378994,\n",
              " 'MRR@20': 0.2174729883729861,\n",
              " 'MAP@20': 0.11505217931073904,\n",
              " 'pop_bias@20': 2081.9871009161575,\n",
              " 'serendipity@20': 0.001172879725804899}"
            ]
          },
          "metadata": {},
          "execution_count": 44
        }
      ]
    },
    {
      "cell_type": "code",
      "source": [],
      "metadata": {
        "id": "XaCdackvYNWA"
      },
      "execution_count": null,
      "outputs": []
    },
    {
      "cell_type": "code",
      "source": [
        "items = pd.read_parquet('items_brand_color_cluster_textemb_2.parquet')"
      ],
      "metadata": {
        "id": "6VoD5fc3kxbM"
      },
      "execution_count": null,
      "outputs": []
    },
    {
      "cell_type": "code",
      "source": [
        "items = items.rename(\n",
        "    columns={\n",
        "        'nm_id': Columns.Item,\n",
        "    }\n",
        ")"
      ],
      "metadata": {
        "id": "jxAOKck7mxTj"
      },
      "execution_count": null,
      "outputs": []
    },
    {
      "cell_type": "code",
      "source": [
        "items = items.loc[items[Columns.Item].isin(first_train[Columns.Item])].copy()"
      ],
      "metadata": {
        "id": "jcfJCP5Wm1Vp"
      },
      "execution_count": null,
      "outputs": []
    },
    {
      "cell_type": "code",
      "source": [
        "text_columns = [f'text_{i}' for i in range(100)]\n",
        "\n",
        "# Добавление 'item_id' в список столбцов\n",
        "columns_to_keep = ['item_id'] + text_columns"
      ],
      "metadata": {
        "id": "lzORD_yv8Hju"
      },
      "execution_count": null,
      "outputs": []
    },
    {
      "cell_type": "code",
      "source": [
        "items = items[columns_to_keep]"
      ],
      "metadata": {
        "id": "blkW75ct78St"
      },
      "execution_count": null,
      "outputs": []
    },
    {
      "cell_type": "code",
      "source": [
        "# Импортируем необходимый класс\n",
        "from sklearn.preprocessing import MinMaxScaler\n",
        "\n",
        "# Определяем бинарные колонки (колонки с двумя уникальными значениями)\n",
        "binary_cols = [col for col in items.columns if items[col].nunique() == 2 and col != 'item_id']\n",
        "\n",
        "# Определяем числовые колонки, исключая бинарные\n",
        "numeric_cols = [col for col in items.select_dtypes(include=[np.number]).columns if col not in binary_cols + ['item_id']]\n",
        "\n",
        "# Инициализируем скейлер\n",
        "scaler = MinMaxScaler()\n",
        "\n",
        "# Создаем DataFrame для масштабированных данных\n",
        "items_scaled = items.copy()\n",
        "\n",
        "# Применяем масштабирование только к числовым колонкам\n",
        "items_scaled[numeric_cols] = scaler.fit_transform(items_scaled[numeric_cols])\n",
        "\n",
        "items[numeric_cols] = items_scaled[numeric_cols]"
      ],
      "metadata": {
        "id": "yb5Zouwdnt5x"
      },
      "execution_count": null,
      "outputs": []
    },
    {
      "cell_type": "code",
      "source": [
        "item_features_frames = []\n",
        "for feature in items.drop(columns=['item_id']).columns:\n",
        "    feature_frame = items.reindex(columns=[\"item_id\", feature])\n",
        "    feature_frame.columns = [\"id\", \"value\"]\n",
        "    feature_frame[\"feature\"] = feature\n",
        "    item_features_frames.append(feature_frame)\n",
        "item_features = pd.concat(item_features_frames)"
      ],
      "metadata": {
        "id": "eoyxHSLcm5xi"
      },
      "execution_count": null,
      "outputs": []
    },
    {
      "cell_type": "code",
      "source": [
        "sparse_features_dataset = Dataset.construct(\n",
        "    interactions_df=first_train,\n",
        "    item_features_df=item_features,  # our flatten dataframe\n",
        "    make_dense_item_features=False  # for `sparse` format\n",
        ")"
      ],
      "metadata": {
        "id": "Q3k8ufcSm-4P"
      },
      "execution_count": null,
      "outputs": []
    },
    {
      "cell_type": "code",
      "source": [
        "model = LightFMWrapperModel(LightFM(no_components=400, loss=\"warp\", learning_rate=0.1, max_sampled=25,), num_threads=num_threads, epochs=5, verbose=1)\n",
        "model.fit(sparse_features_dataset);"
      ],
      "metadata": {
        "colab": {
          "base_uri": "https://localhost:8080/"
        },
        "id": "esYbyOiynBIH",
        "outputId": "6f5fe664-e8a4-4806-ff48-d47981f5f21d"
      },
      "execution_count": null,
      "outputs": [
        {
          "output_type": "stream",
          "name": "stderr",
          "text": [
            "Epoch: 100%|██████████| 5/5 [1:02:43<00:00, 752.79s/it]\n"
          ]
        }
      ]
    },
    {
      "cell_type": "code",
      "source": [
        "recos = model.recommend(\n",
        "    users=first_val[Columns.User].unique(),\n",
        "    dataset=sparse_features_dataset,\n",
        "    k=20,\n",
        "    filter_viewed=False,\n",
        ")"
      ],
      "metadata": {
        "id": "E0Hk_-aF9twm"
      },
      "execution_count": null,
      "outputs": []
    },
    {
      "cell_type": "code",
      "source": [
        "metrics = {\n",
        "    \"hit_rate@20\": HitRate(k=20),\n",
        "    \"serendipity@20\": Serendipity(k=20),\n",
        "    \"Recall@20\": Recall(k=20),\n",
        "    \"MAP@20\": MAP(k=20),\n",
        "    \"MRR@20\": MRR(k=20),\n",
        "    \"pop_bias@20\": AvgRecPopularity(k=20),\n",
        "}\n",
        "\n",
        "calc_metrics(\n",
        "    metrics,\n",
        "    reco=recos,\n",
        "    interactions=first_val,  # needed fo all `TruePositive` based metrics\n",
        "    prev_interactions=first_train,  # needed for serendipity\n",
        "    catalog=catalog,  # needed for serendipity\n",
        ")"
      ],
      "metadata": {
        "colab": {
          "base_uri": "https://localhost:8080/"
        },
        "id": "rM4GYOBT9tzQ",
        "outputId": "55c27fc9-dd0c-45e7-ae37-0a0793bfc569"
      },
      "execution_count": null,
      "outputs": [
        {
          "output_type": "execute_result",
          "data": {
            "text/plain": [
              "{'hit_rate@20': 0.5649639089394781,\n",
              " 'Recall@20': 0.3062711999865681,\n",
              " 'MRR@20': 0.2866706067524114,\n",
              " 'MAP@20': 0.16197215442776833,\n",
              " 'pop_bias@20': 1703.5640095780122,\n",
              " 'serendipity@20': 0.00162899664560419}"
            ]
          },
          "metadata": {},
          "execution_count": 33
        }
      ]
    },
    {
      "cell_type": "code",
      "source": [],
      "metadata": {
        "id": "YcRRytTLAFae"
      },
      "execution_count": null,
      "outputs": []
    },
    {
      "cell_type": "code",
      "source": [
        "model = LightFMWrapperModel(LightFM(no_components=400, loss=\"warp\", learning_rate=0.1, max_sampled=25,), num_threads=num_threads, epochs=5, verbose=1)\n",
        "model.fit(first_train_df);"
      ],
      "metadata": {
        "colab": {
          "base_uri": "https://localhost:8080/"
        },
        "id": "39F_ng1tAFdP",
        "outputId": "4e255350-9094-49d7-975e-00aa24b2e18a"
      },
      "execution_count": null,
      "outputs": [
        {
          "output_type": "stream",
          "name": "stderr",
          "text": [
            "Epoch: 100%|██████████| 5/5 [01:53<00:00, 22.74s/it]\n"
          ]
        }
      ]
    },
    {
      "cell_type": "code",
      "source": [
        "recos = model.recommend(\n",
        "    users=first_val[Columns.User].unique(),\n",
        "    dataset=first_train_df,\n",
        "    k=20,\n",
        "    filter_viewed=False,\n",
        ")"
      ],
      "metadata": {
        "id": "yDS6c_qOAZEk"
      },
      "execution_count": null,
      "outputs": []
    },
    {
      "cell_type": "code",
      "source": [
        "calc_metrics(\n",
        "    metrics,\n",
        "    reco=recos,\n",
        "    interactions=first_val,  # needed fo all `TruePositive` based metrics\n",
        "    prev_interactions=first_train,  # needed for serendipity\n",
        "    catalog=catalog,  # needed for serendipity\n",
        ")"
      ],
      "metadata": {
        "colab": {
          "base_uri": "https://localhost:8080/"
        },
        "id": "izjS53v-AbMj",
        "outputId": "185d78ce-ce5d-4b77-b528-036d500bdfc9"
      },
      "execution_count": null,
      "outputs": [
        {
          "output_type": "execute_result",
          "data": {
            "text/plain": [
              "{'hit_rate@20': 0.5636799000555247,\n",
              " 'Recall@20': 0.3063104723410399,\n",
              " 'MRR@20': 0.29058832621930014,\n",
              " 'MAP@20': 0.1653713298589204,\n",
              " 'pop_bias@20': 1601.226089672404,\n",
              " 'serendipity@20': 0.0016599472618883274}"
            ]
          },
          "metadata": {},
          "execution_count": 36
        }
      ]
    },
    {
      "cell_type": "code",
      "source": [],
      "metadata": {
        "id": "IZHYhVNJKZo7"
      },
      "execution_count": null,
      "outputs": []
    },
    {
      "cell_type": "code",
      "source": [
        "items = pd.read_parquet('items_brand_color_cluster_textemb_2.parquet')"
      ],
      "metadata": {
        "id": "SdCvlYflJ6Vk"
      },
      "execution_count": null,
      "outputs": []
    },
    {
      "cell_type": "code",
      "source": [
        "columns_to_add = [\n",
        "    'cluster_0', 'cluster_1', 'cluster_2', 'cluster_3', 'cluster_4',\n",
        "    'cluster_5', 'cluster_6', 'cluster_7', 'cluster_8',\n",
        "    'abitonero', 'bravomoda', 'farika', 'lulla', 'lussotico',\n",
        "    'obba', 'pimari', 'rokko', 'withstreet',\n",
        "    'тысячастолицqianzhidu', 'черный', 'белый', 'бежевый',\n",
        "    'синий', 'зеленый', 'коричневый', 'серый',\n",
        "    'красный', 'розовый', 'молочный', 'other'\n",
        "]"
      ],
      "metadata": {
        "id": "gWFdAypGKZre"
      },
      "execution_count": null,
      "outputs": []
    },
    {
      "cell_type": "code",
      "source": [
        "items = items.rename(\n",
        "    columns={\n",
        "        'nm_id': Columns.Item,\n",
        "    }\n",
        ")"
      ],
      "metadata": {
        "id": "lUCOsfbdJzBb"
      },
      "execution_count": null,
      "outputs": []
    },
    {
      "cell_type": "code",
      "source": [
        "items = items.loc[items[Columns.Item].isin(first_train[Columns.Item])].copy()"
      ],
      "metadata": {
        "id": "vEhqmx8uJ9uM"
      },
      "execution_count": null,
      "outputs": []
    },
    {
      "cell_type": "code",
      "source": [
        "# Добавление 'item_id' в список столбцов\n",
        "columns_to_keep = ['item_id'] + columns_to_add"
      ],
      "metadata": {
        "id": "UEp6-1ljKA3_"
      },
      "execution_count": null,
      "outputs": []
    },
    {
      "cell_type": "code",
      "source": [
        "items = items[columns_to_keep]"
      ],
      "metadata": {
        "id": "dgbNtm0GKGgj"
      },
      "execution_count": null,
      "outputs": []
    },
    {
      "cell_type": "code",
      "source": [
        "item_features_frames = []\n",
        "for feature in items.drop(columns=['item_id']).columns:\n",
        "    feature_frame = items.reindex(columns=[\"item_id\", feature])\n",
        "    feature_frame.columns = [\"id\", \"value\"]\n",
        "    feature_frame[\"feature\"] = feature\n",
        "    item_features_frames.append(feature_frame)\n",
        "item_features = pd.concat(item_features_frames)"
      ],
      "metadata": {
        "id": "g159vWUfKVqY"
      },
      "execution_count": null,
      "outputs": []
    },
    {
      "cell_type": "code",
      "source": [
        "sparse_features_dataset = Dataset.construct(\n",
        "    interactions_df=first_train,\n",
        "    item_features_df=item_features,  # our flatten dataframe\n",
        "    make_dense_item_features=False  # for `sparse` format\n",
        ")"
      ],
      "metadata": {
        "id": "uQ1jexOfKX6J"
      },
      "execution_count": null,
      "outputs": []
    },
    {
      "cell_type": "code",
      "source": [
        "model = LightFMWrapperModel(LightFM(no_components=400, loss=\"warp\", learning_rate=0.1, max_sampled=25,), num_threads=num_threads, epochs=5, verbose=1)\n",
        "model.fit(sparse_features_dataset);"
      ],
      "metadata": {
        "colab": {
          "base_uri": "https://localhost:8080/"
        },
        "id": "QRZOX00eKYY9",
        "outputId": "145f6757-75c6-44b4-e7d7-0366f262fe0b"
      },
      "execution_count": null,
      "outputs": [
        {
          "output_type": "stream",
          "name": "stderr",
          "text": [
            "Epoch: 100%|██████████| 5/5 [09:09<00:00, 109.85s/it]\n"
          ]
        }
      ]
    },
    {
      "cell_type": "code",
      "source": [
        "recos = model.recommend(\n",
        "    users=first_val[Columns.User].unique(),\n",
        "    dataset=sparse_features_dataset,\n",
        "    k=20,\n",
        "    filter_viewed=False,\n",
        ")"
      ],
      "metadata": {
        "id": "jPgX_F6-Ka7I"
      },
      "execution_count": null,
      "outputs": []
    },
    {
      "cell_type": "code",
      "source": [
        "metrics = {\n",
        "    \"hit_rate@20\": HitRate(k=20),\n",
        "    \"serendipity@20\": Serendipity(k=20),\n",
        "    \"Recall@20\": Recall(k=20),\n",
        "    \"MAP@20\": MAP(k=20),\n",
        "    \"MRR@20\": MRR(k=20),\n",
        "    \"pop_bias@20\": AvgRecPopularity(k=20),\n",
        "}\n",
        "\n",
        "calc_metrics(\n",
        "    metrics,\n",
        "    reco=recos,\n",
        "    interactions=first_val,  # needed fo all `TruePositive` based metrics\n",
        "    prev_interactions=first_train,  # needed for serendipity\n",
        "    catalog=catalog,  # needed for serendipity\n",
        ")"
      ],
      "metadata": {
        "id": "UKVtszHFKa9x",
        "colab": {
          "base_uri": "https://localhost:8080/"
        },
        "outputId": "73012f5f-51a8-40c0-fa65-547846cec62b"
      },
      "execution_count": null,
      "outputs": [
        {
          "output_type": "execute_result",
          "data": {
            "text/plain": [
              "{'hit_rate@20': 0.5052054414214325,\n",
              " 'Recall@20': 0.2647273059169384,\n",
              " 'MRR@20': 0.26210245800713744,\n",
              " 'MAP@20': 0.1425657361721784,\n",
              " 'pop_bias@20': 1415.8060348417546,\n",
              " 'serendipity@20': 0.0014123795093925096}"
            ]
          },
          "metadata": {},
          "execution_count": 24
        }
      ]
    },
    {
      "cell_type": "markdown",
      "source": [
        "## Результаты экспериментов:\n",
        "Используя некатегориальные признаки для LightFM лучше всего использовать MinMax scaler, разбиение OHE по квантилям в случае с эмбеддингами не оправдано, такое разбиение возможно для другого вида признаков, например, рост. EASE имеет намного более низкое значение pop_bias. Это навряд ли может быть связано с нестандартными рекомендациями, так как serendipity такой же, как у LightFM. Скорее всего это связано с особенностью подсчета метрики, так как EASE ничего не рекомендует cold_users. Не получилось добиться для LightFM с помощью признаков результатов лучше, чем с чисто коллаборативной информацией. Так же использование direct признаков сильно замедляет модель, для таких признаков, возможно, из RecTools лучше подойдет iALS, который к тому же, как написано в документации библиотеки, не требует обработки direct признаков."
      ],
      "metadata": {
        "id": "NWV_29SnhGBy"
      }
    },
    {
      "cell_type": "markdown",
      "source": [
        "# 6. Apriori"
      ],
      "metadata": {
        "id": "MF-I5LYojHku"
      }
    },
    {
      "cell_type": "markdown",
      "source": [
        "##### При помощи алгоритма apriori найдем закономерности в покупках из датасета, то есть, например, какой товар покупают часто с другим товаром"
      ],
      "metadata": {
        "id": "nA1zWDZMjMmp"
      }
    },
    {
      "cell_type": "code",
      "source": [
        "!pip install efficient_apriori"
      ],
      "metadata": {
        "colab": {
          "base_uri": "https://localhost:8080/"
        },
        "id": "Z8FTP-DxkjVf",
        "outputId": "90934d95-9766-4690-f758-31a19b18dcf3"
      },
      "execution_count": 3,
      "outputs": [
        {
          "output_type": "stream",
          "name": "stdout",
          "text": [
            "Collecting efficient_apriori\n",
            "  Downloading efficient_apriori-2.0.5-py3-none-any.whl.metadata (6.7 kB)\n",
            "Downloading efficient_apriori-2.0.5-py3-none-any.whl (14 kB)\n",
            "Installing collected packages: efficient_apriori\n",
            "Successfully installed efficient_apriori-2.0.5\n"
          ]
        }
      ]
    },
    {
      "cell_type": "code",
      "source": [
        "import pandas as pd\n",
        "import numpy as np\n",
        "from tqdm import tqdm\n",
        "from efficient_apriori import apriori\n",
        "tqdm.pandas()"
      ],
      "metadata": {
        "id": "LO165gKDj9zK"
      },
      "execution_count": 4,
      "outputs": []
    },
    {
      "cell_type": "code",
      "source": [
        "df = pd.read_parquet('first_train_2.parquet')"
      ],
      "metadata": {
        "id": "-rCQkhEbkrqT"
      },
      "execution_count": 5,
      "outputs": []
    },
    {
      "cell_type": "code",
      "source": [
        "df['dt_hour'] = df['dt'].dt.floor('h')"
      ],
      "metadata": {
        "id": "150vLajemp2e"
      },
      "execution_count": 18,
      "outputs": []
    },
    {
      "cell_type": "code",
      "source": [
        "t = df.groupby([\"wbuser_id\", \"dt_hour\"])[\"nm_id\"].progress_apply(lambda x: tuple(x)).to_frame().reset_index()"
      ],
      "metadata": {
        "colab": {
          "base_uri": "https://localhost:8080/"
        },
        "id": "CLZX6lJwk9bT",
        "outputId": "c9068685-cb9c-4854-a093-eb711ff112d4"
      },
      "execution_count": 19,
      "outputs": [
        {
          "output_type": "stream",
          "name": "stderr",
          "text": [
            "100%|██████████| 478956/478956 [00:18<00:00, 25650.22it/s]\n"
          ]
        }
      ]
    },
    {
      "cell_type": "code",
      "source": [
        "t.head()"
      ],
      "metadata": {
        "id": "Z2WaJghwqQ5n"
      },
      "execution_count": null,
      "outputs": []
    },
    {
      "cell_type": "code",
      "source": [
        "itemsets, rules = apriori(t[\"nm_id\"].tolist(), min_support=0.001,  min_confidence=0.001)"
      ],
      "metadata": {
        "id": "SZ2Klhj_lfHd"
      },
      "execution_count": 42,
      "outputs": []
    },
    {
      "cell_type": "code",
      "source": [
        "arr_first = []\n",
        "arr_second = []\n",
        "arr_conf = []\n",
        "arr_supp = []\n",
        "arr_lift = []\n",
        "\n",
        "for rule in rules:\n",
        "    arr_first.append(list(rule.lhs))\n",
        "    arr_second.append(list(rule.rhs))\n",
        "    arr_conf.append(rule.confidence)\n",
        "    arr_supp.append(rule.support)\n",
        "    arr_lift.append(rule.lift)\n",
        "    print(rule)"
      ],
      "metadata": {
        "colab": {
          "base_uri": "https://localhost:8080/"
        },
        "id": "STgitWyTlvPN",
        "outputId": "f10769c8-1f9a-4d56-bd5b-bbf0e62f7a92"
      },
      "execution_count": 47,
      "outputs": [
        {
          "output_type": "stream",
          "name": "stdout",
          "text": [
            "{321550} -> {24960} (conf: 0.830, supp: 0.002, lift: 177.322, conv: 5.869)\n",
            "{24960} -> {321550} (conf: 0.338, supp: 0.002, lift: 177.322, conv: 1.509)\n",
            "{404447} -> {60386} (conf: 0.461, supp: 0.001, lift: 332.150, conv: 1.853)\n",
            "{60386} -> {404447} (conf: 0.723, supp: 0.001, lift: 332.150, conv: 3.606)\n",
            "{312716} -> {73874} (conf: 0.165, supp: 0.001, lift: 9.552, conv: 1.176)\n",
            "{73874} -> {312716} (conf: 0.066, supp: 0.001, lift: 9.552, conv: 1.064)\n",
            "{276234} -> {75768} (conf: 0.509, supp: 0.002, lift: 87.876, conv: 2.023)\n",
            "{75768} -> {276234} (conf: 0.406, supp: 0.002, lift: 87.876, conv: 1.675)\n",
            "{106831} -> {82949} (conf: 0.750, supp: 0.001, lift: 89.984, conv: 3.967)\n",
            "{82949} -> {106831} (conf: 0.126, supp: 0.001, lift: 89.984, conv: 1.143)\n",
            "{367279} -> {94573} (conf: 0.363, supp: 0.001, lift: 211.247, conv: 1.566)\n",
            "{94573} -> {367279} (conf: 0.664, supp: 0.001, lift: 211.247, conv: 2.969)\n",
            "{394709} -> {94573} (conf: 0.707, supp: 0.001, lift: 411.863, conv: 3.405)\n",
            "{94573} -> {394709} (conf: 0.678, supp: 0.001, lift: 411.863, conv: 3.097)\n",
            "{144495} -> {131034} (conf: 0.901, supp: 0.001, lift: 311.247, conv: 10.106)\n",
            "{131034} -> {144495} (conf: 0.487, supp: 0.001, lift: 311.247, conv: 1.948)\n",
            "{143921} -> {140446} (conf: 0.581, supp: 0.002, lift: 115.055, conv: 2.372)\n",
            "{140446} -> {143921} (conf: 0.486, supp: 0.002, lift: 115.055, conv: 1.936)\n",
            "{316828} -> {213570} (conf: 0.721, supp: 0.001, lift: 224.573, conv: 3.569)\n",
            "{213570} -> {316828} (conf: 0.336, supp: 0.001, lift: 224.573, conv: 1.503)\n",
            "{276298} -> {219146} (conf: 0.577, supp: 0.001, lift: 164.502, conv: 2.358)\n",
            "{219146} -> {276298} (conf: 0.397, supp: 0.001, lift: 164.502, conv: 1.655)\n",
            "{392568} -> {241661} (conf: 0.699, supp: 0.001, lift: 444.927, conv: 3.312)\n",
            "{241661} -> {392568} (conf: 0.650, supp: 0.001, lift: 444.927, conv: 2.855)\n",
            "{372213} -> {260853} (conf: 0.629, supp: 0.001, lift: 320.699, conv: 2.693)\n",
            "{260853} -> {372213} (conf: 0.551, supp: 0.001, lift: 320.699, conv: 2.224)\n",
            "{334325} -> {268188} (conf: 0.568, supp: 0.002, lift: 183.700, conv: 2.310)\n",
            "{268188} -> {334325} (conf: 0.726, supp: 0.002, lift: 183.700, conv: 3.636)\n",
            "{354296} -> {271003} (conf: 0.464, supp: 0.001, lift: 278.201, conv: 1.863)\n",
            "{271003} -> {354296} (conf: 0.663, supp: 0.001, lift: 278.201, conv: 2.963)\n",
            "{329507} -> {315930} (conf: 0.288, supp: 0.001, lift: 111.387, conv: 1.400)\n",
            "{315930} -> {329507} (conf: 0.389, supp: 0.001, lift: 111.387, conv: 1.631)\n",
            "{394709} -> {367279} (conf: 0.741, supp: 0.001, lift: 235.699, conv: 3.851)\n",
            "{367279} -> {394709} (conf: 0.388, supp: 0.001, lift: 235.699, conv: 1.631)\n",
            "{404926} -> {367396} (conf: 0.476, supp: 0.001, lift: 193.038, conv: 1.902)\n",
            "{367396} -> {404926} (conf: 0.413, supp: 0.001, lift: 193.038, conv: 1.699)\n"
          ]
        }
      ]
    },
    {
      "cell_type": "code",
      "source": [
        "ap = pd.DataFrame()\n",
        "ap[\"from\"] = arr_first\n",
        "ap[\"to\"] = arr_second\n",
        "ap[\"conf\"] = arr_conf\n",
        "ap[\"supp\"] = arr_supp\n",
        "ap[\"lift\"] = arr_lift"
      ],
      "metadata": {
        "id": "4a2VHlc_lwa3"
      },
      "execution_count": 48,
      "outputs": []
    },
    {
      "cell_type": "code",
      "source": [
        "ap.sort_values([\"lift\"], ascending=False).head(20)"
      ],
      "metadata": {
        "colab": {
          "base_uri": "https://localhost:8080/",
          "height": 676
        },
        "id": "zDw5_GlLl3CH",
        "outputId": "69f45748-a475-4c8b-ad0e-82aa29eff4ff"
      },
      "execution_count": 52,
      "outputs": [
        {
          "output_type": "execute_result",
          "data": {
            "text/plain": [
              "        from        to      conf      supp        lift\n",
              "23  [241661]  [392568]  0.650266  0.001021  444.926831\n",
              "22  [392568]  [241661]  0.698571  0.001021  444.926831\n",
              "13   [94573]  [394709]  0.677616  0.001163  411.863000\n",
              "12  [394709]   [94573]  0.706853  0.001163  411.863000\n",
              "2   [404447]   [60386]  0.461170  0.001004  332.150370\n",
              "3    [60386]  [404447]  0.723308  0.001004  332.150370\n",
              "25  [260853]  [372213]  0.551064  0.001082  320.699062\n",
              "24  [372213]  [260853]  0.629405  0.001082  320.699062\n",
              "14  [144495]  [131034]  0.901333  0.001411  311.246581\n",
              "15  [131034]  [144495]  0.487383  0.001411  311.246581\n",
              "28  [354296]  [271003]  0.464098  0.001107  278.200947\n",
              "29  [271003]  [354296]  0.663329  0.001107  278.200947\n",
              "33  [367279]  [394709]  0.387782  0.001219  235.698748\n",
              "32  [394709]  [367279]  0.741117  0.001219  235.698748\n",
              "18  [316828]  [213570]  0.720670  0.001077  224.573460\n",
              "19  [213570]  [316828]  0.335719  0.001077  224.573460\n",
              "10  [367279]   [94573]  0.362550  0.001140  211.247448\n",
              "11   [94573]  [367279]  0.664234  0.001140  211.247448\n",
              "35  [367396]  [404926]  0.412712  0.001017  193.037914\n",
              "34  [404926]  [367396]  0.475586  0.001017  193.037914"
            ],
            "text/html": [
              "\n",
              "  <div id=\"df-8ad9ffcd-8253-46bc-b673-6ea4bdba65b5\" class=\"colab-df-container\">\n",
              "    <div>\n",
              "<style scoped>\n",
              "    .dataframe tbody tr th:only-of-type {\n",
              "        vertical-align: middle;\n",
              "    }\n",
              "\n",
              "    .dataframe tbody tr th {\n",
              "        vertical-align: top;\n",
              "    }\n",
              "\n",
              "    .dataframe thead th {\n",
              "        text-align: right;\n",
              "    }\n",
              "</style>\n",
              "<table border=\"1\" class=\"dataframe\">\n",
              "  <thead>\n",
              "    <tr style=\"text-align: right;\">\n",
              "      <th></th>\n",
              "      <th>from</th>\n",
              "      <th>to</th>\n",
              "      <th>conf</th>\n",
              "      <th>supp</th>\n",
              "      <th>lift</th>\n",
              "    </tr>\n",
              "  </thead>\n",
              "  <tbody>\n",
              "    <tr>\n",
              "      <th>23</th>\n",
              "      <td>[241661]</td>\n",
              "      <td>[392568]</td>\n",
              "      <td>0.650266</td>\n",
              "      <td>0.001021</td>\n",
              "      <td>444.926831</td>\n",
              "    </tr>\n",
              "    <tr>\n",
              "      <th>22</th>\n",
              "      <td>[392568]</td>\n",
              "      <td>[241661]</td>\n",
              "      <td>0.698571</td>\n",
              "      <td>0.001021</td>\n",
              "      <td>444.926831</td>\n",
              "    </tr>\n",
              "    <tr>\n",
              "      <th>13</th>\n",
              "      <td>[94573]</td>\n",
              "      <td>[394709]</td>\n",
              "      <td>0.677616</td>\n",
              "      <td>0.001163</td>\n",
              "      <td>411.863000</td>\n",
              "    </tr>\n",
              "    <tr>\n",
              "      <th>12</th>\n",
              "      <td>[394709]</td>\n",
              "      <td>[94573]</td>\n",
              "      <td>0.706853</td>\n",
              "      <td>0.001163</td>\n",
              "      <td>411.863000</td>\n",
              "    </tr>\n",
              "    <tr>\n",
              "      <th>2</th>\n",
              "      <td>[404447]</td>\n",
              "      <td>[60386]</td>\n",
              "      <td>0.461170</td>\n",
              "      <td>0.001004</td>\n",
              "      <td>332.150370</td>\n",
              "    </tr>\n",
              "    <tr>\n",
              "      <th>3</th>\n",
              "      <td>[60386]</td>\n",
              "      <td>[404447]</td>\n",
              "      <td>0.723308</td>\n",
              "      <td>0.001004</td>\n",
              "      <td>332.150370</td>\n",
              "    </tr>\n",
              "    <tr>\n",
              "      <th>25</th>\n",
              "      <td>[260853]</td>\n",
              "      <td>[372213]</td>\n",
              "      <td>0.551064</td>\n",
              "      <td>0.001082</td>\n",
              "      <td>320.699062</td>\n",
              "    </tr>\n",
              "    <tr>\n",
              "      <th>24</th>\n",
              "      <td>[372213]</td>\n",
              "      <td>[260853]</td>\n",
              "      <td>0.629405</td>\n",
              "      <td>0.001082</td>\n",
              "      <td>320.699062</td>\n",
              "    </tr>\n",
              "    <tr>\n",
              "      <th>14</th>\n",
              "      <td>[144495]</td>\n",
              "      <td>[131034]</td>\n",
              "      <td>0.901333</td>\n",
              "      <td>0.001411</td>\n",
              "      <td>311.246581</td>\n",
              "    </tr>\n",
              "    <tr>\n",
              "      <th>15</th>\n",
              "      <td>[131034]</td>\n",
              "      <td>[144495]</td>\n",
              "      <td>0.487383</td>\n",
              "      <td>0.001411</td>\n",
              "      <td>311.246581</td>\n",
              "    </tr>\n",
              "    <tr>\n",
              "      <th>28</th>\n",
              "      <td>[354296]</td>\n",
              "      <td>[271003]</td>\n",
              "      <td>0.464098</td>\n",
              "      <td>0.001107</td>\n",
              "      <td>278.200947</td>\n",
              "    </tr>\n",
              "    <tr>\n",
              "      <th>29</th>\n",
              "      <td>[271003]</td>\n",
              "      <td>[354296]</td>\n",
              "      <td>0.663329</td>\n",
              "      <td>0.001107</td>\n",
              "      <td>278.200947</td>\n",
              "    </tr>\n",
              "    <tr>\n",
              "      <th>33</th>\n",
              "      <td>[367279]</td>\n",
              "      <td>[394709]</td>\n",
              "      <td>0.387782</td>\n",
              "      <td>0.001219</td>\n",
              "      <td>235.698748</td>\n",
              "    </tr>\n",
              "    <tr>\n",
              "      <th>32</th>\n",
              "      <td>[394709]</td>\n",
              "      <td>[367279]</td>\n",
              "      <td>0.741117</td>\n",
              "      <td>0.001219</td>\n",
              "      <td>235.698748</td>\n",
              "    </tr>\n",
              "    <tr>\n",
              "      <th>18</th>\n",
              "      <td>[316828]</td>\n",
              "      <td>[213570]</td>\n",
              "      <td>0.720670</td>\n",
              "      <td>0.001077</td>\n",
              "      <td>224.573460</td>\n",
              "    </tr>\n",
              "    <tr>\n",
              "      <th>19</th>\n",
              "      <td>[213570]</td>\n",
              "      <td>[316828]</td>\n",
              "      <td>0.335719</td>\n",
              "      <td>0.001077</td>\n",
              "      <td>224.573460</td>\n",
              "    </tr>\n",
              "    <tr>\n",
              "      <th>10</th>\n",
              "      <td>[367279]</td>\n",
              "      <td>[94573]</td>\n",
              "      <td>0.362550</td>\n",
              "      <td>0.001140</td>\n",
              "      <td>211.247448</td>\n",
              "    </tr>\n",
              "    <tr>\n",
              "      <th>11</th>\n",
              "      <td>[94573]</td>\n",
              "      <td>[367279]</td>\n",
              "      <td>0.664234</td>\n",
              "      <td>0.001140</td>\n",
              "      <td>211.247448</td>\n",
              "    </tr>\n",
              "    <tr>\n",
              "      <th>35</th>\n",
              "      <td>[367396]</td>\n",
              "      <td>[404926]</td>\n",
              "      <td>0.412712</td>\n",
              "      <td>0.001017</td>\n",
              "      <td>193.037914</td>\n",
              "    </tr>\n",
              "    <tr>\n",
              "      <th>34</th>\n",
              "      <td>[404926]</td>\n",
              "      <td>[367396]</td>\n",
              "      <td>0.475586</td>\n",
              "      <td>0.001017</td>\n",
              "      <td>193.037914</td>\n",
              "    </tr>\n",
              "  </tbody>\n",
              "</table>\n",
              "</div>\n",
              "    <div class=\"colab-df-buttons\">\n",
              "\n",
              "  <div class=\"colab-df-container\">\n",
              "    <button class=\"colab-df-convert\" onclick=\"convertToInteractive('df-8ad9ffcd-8253-46bc-b673-6ea4bdba65b5')\"\n",
              "            title=\"Convert this dataframe to an interactive table.\"\n",
              "            style=\"display:none;\">\n",
              "\n",
              "  <svg xmlns=\"http://www.w3.org/2000/svg\" height=\"24px\" viewBox=\"0 -960 960 960\">\n",
              "    <path d=\"M120-120v-720h720v720H120Zm60-500h600v-160H180v160Zm220 220h160v-160H400v160Zm0 220h160v-160H400v160ZM180-400h160v-160H180v160Zm440 0h160v-160H620v160ZM180-180h160v-160H180v160Zm440 0h160v-160H620v160Z\"/>\n",
              "  </svg>\n",
              "    </button>\n",
              "\n",
              "  <style>\n",
              "    .colab-df-container {\n",
              "      display:flex;\n",
              "      gap: 12px;\n",
              "    }\n",
              "\n",
              "    .colab-df-convert {\n",
              "      background-color: #E8F0FE;\n",
              "      border: none;\n",
              "      border-radius: 50%;\n",
              "      cursor: pointer;\n",
              "      display: none;\n",
              "      fill: #1967D2;\n",
              "      height: 32px;\n",
              "      padding: 0 0 0 0;\n",
              "      width: 32px;\n",
              "    }\n",
              "\n",
              "    .colab-df-convert:hover {\n",
              "      background-color: #E2EBFA;\n",
              "      box-shadow: 0px 1px 2px rgba(60, 64, 67, 0.3), 0px 1px 3px 1px rgba(60, 64, 67, 0.15);\n",
              "      fill: #174EA6;\n",
              "    }\n",
              "\n",
              "    .colab-df-buttons div {\n",
              "      margin-bottom: 4px;\n",
              "    }\n",
              "\n",
              "    [theme=dark] .colab-df-convert {\n",
              "      background-color: #3B4455;\n",
              "      fill: #D2E3FC;\n",
              "    }\n",
              "\n",
              "    [theme=dark] .colab-df-convert:hover {\n",
              "      background-color: #434B5C;\n",
              "      box-shadow: 0px 1px 3px 1px rgba(0, 0, 0, 0.15);\n",
              "      filter: drop-shadow(0px 1px 2px rgba(0, 0, 0, 0.3));\n",
              "      fill: #FFFFFF;\n",
              "    }\n",
              "  </style>\n",
              "\n",
              "    <script>\n",
              "      const buttonEl =\n",
              "        document.querySelector('#df-8ad9ffcd-8253-46bc-b673-6ea4bdba65b5 button.colab-df-convert');\n",
              "      buttonEl.style.display =\n",
              "        google.colab.kernel.accessAllowed ? 'block' : 'none';\n",
              "\n",
              "      async function convertToInteractive(key) {\n",
              "        const element = document.querySelector('#df-8ad9ffcd-8253-46bc-b673-6ea4bdba65b5');\n",
              "        const dataTable =\n",
              "          await google.colab.kernel.invokeFunction('convertToInteractive',\n",
              "                                                    [key], {});\n",
              "        if (!dataTable) return;\n",
              "\n",
              "        const docLinkHtml = 'Like what you see? Visit the ' +\n",
              "          '<a target=\"_blank\" href=https://colab.research.google.com/notebooks/data_table.ipynb>data table notebook</a>'\n",
              "          + ' to learn more about interactive tables.';\n",
              "        element.innerHTML = '';\n",
              "        dataTable['output_type'] = 'display_data';\n",
              "        await google.colab.output.renderOutput(dataTable, element);\n",
              "        const docLink = document.createElement('div');\n",
              "        docLink.innerHTML = docLinkHtml;\n",
              "        element.appendChild(docLink);\n",
              "      }\n",
              "    </script>\n",
              "  </div>\n",
              "\n",
              "\n",
              "<div id=\"df-0205ec60-2405-4a95-a48b-cde0d38fe5d1\">\n",
              "  <button class=\"colab-df-quickchart\" onclick=\"quickchart('df-0205ec60-2405-4a95-a48b-cde0d38fe5d1')\"\n",
              "            title=\"Suggest charts\"\n",
              "            style=\"display:none;\">\n",
              "\n",
              "<svg xmlns=\"http://www.w3.org/2000/svg\" height=\"24px\"viewBox=\"0 0 24 24\"\n",
              "     width=\"24px\">\n",
              "    <g>\n",
              "        <path d=\"M19 3H5c-1.1 0-2 .9-2 2v14c0 1.1.9 2 2 2h14c1.1 0 2-.9 2-2V5c0-1.1-.9-2-2-2zM9 17H7v-7h2v7zm4 0h-2V7h2v10zm4 0h-2v-4h2v4z\"/>\n",
              "    </g>\n",
              "</svg>\n",
              "  </button>\n",
              "\n",
              "<style>\n",
              "  .colab-df-quickchart {\n",
              "      --bg-color: #E8F0FE;\n",
              "      --fill-color: #1967D2;\n",
              "      --hover-bg-color: #E2EBFA;\n",
              "      --hover-fill-color: #174EA6;\n",
              "      --disabled-fill-color: #AAA;\n",
              "      --disabled-bg-color: #DDD;\n",
              "  }\n",
              "\n",
              "  [theme=dark] .colab-df-quickchart {\n",
              "      --bg-color: #3B4455;\n",
              "      --fill-color: #D2E3FC;\n",
              "      --hover-bg-color: #434B5C;\n",
              "      --hover-fill-color: #FFFFFF;\n",
              "      --disabled-bg-color: #3B4455;\n",
              "      --disabled-fill-color: #666;\n",
              "  }\n",
              "\n",
              "  .colab-df-quickchart {\n",
              "    background-color: var(--bg-color);\n",
              "    border: none;\n",
              "    border-radius: 50%;\n",
              "    cursor: pointer;\n",
              "    display: none;\n",
              "    fill: var(--fill-color);\n",
              "    height: 32px;\n",
              "    padding: 0;\n",
              "    width: 32px;\n",
              "  }\n",
              "\n",
              "  .colab-df-quickchart:hover {\n",
              "    background-color: var(--hover-bg-color);\n",
              "    box-shadow: 0 1px 2px rgba(60, 64, 67, 0.3), 0 1px 3px 1px rgba(60, 64, 67, 0.15);\n",
              "    fill: var(--button-hover-fill-color);\n",
              "  }\n",
              "\n",
              "  .colab-df-quickchart-complete:disabled,\n",
              "  .colab-df-quickchart-complete:disabled:hover {\n",
              "    background-color: var(--disabled-bg-color);\n",
              "    fill: var(--disabled-fill-color);\n",
              "    box-shadow: none;\n",
              "  }\n",
              "\n",
              "  .colab-df-spinner {\n",
              "    border: 2px solid var(--fill-color);\n",
              "    border-color: transparent;\n",
              "    border-bottom-color: var(--fill-color);\n",
              "    animation:\n",
              "      spin 1s steps(1) infinite;\n",
              "  }\n",
              "\n",
              "  @keyframes spin {\n",
              "    0% {\n",
              "      border-color: transparent;\n",
              "      border-bottom-color: var(--fill-color);\n",
              "      border-left-color: var(--fill-color);\n",
              "    }\n",
              "    20% {\n",
              "      border-color: transparent;\n",
              "      border-left-color: var(--fill-color);\n",
              "      border-top-color: var(--fill-color);\n",
              "    }\n",
              "    30% {\n",
              "      border-color: transparent;\n",
              "      border-left-color: var(--fill-color);\n",
              "      border-top-color: var(--fill-color);\n",
              "      border-right-color: var(--fill-color);\n",
              "    }\n",
              "    40% {\n",
              "      border-color: transparent;\n",
              "      border-right-color: var(--fill-color);\n",
              "      border-top-color: var(--fill-color);\n",
              "    }\n",
              "    60% {\n",
              "      border-color: transparent;\n",
              "      border-right-color: var(--fill-color);\n",
              "    }\n",
              "    80% {\n",
              "      border-color: transparent;\n",
              "      border-right-color: var(--fill-color);\n",
              "      border-bottom-color: var(--fill-color);\n",
              "    }\n",
              "    90% {\n",
              "      border-color: transparent;\n",
              "      border-bottom-color: var(--fill-color);\n",
              "    }\n",
              "  }\n",
              "</style>\n",
              "\n",
              "  <script>\n",
              "    async function quickchart(key) {\n",
              "      const quickchartButtonEl =\n",
              "        document.querySelector('#' + key + ' button');\n",
              "      quickchartButtonEl.disabled = true;  // To prevent multiple clicks.\n",
              "      quickchartButtonEl.classList.add('colab-df-spinner');\n",
              "      try {\n",
              "        const charts = await google.colab.kernel.invokeFunction(\n",
              "            'suggestCharts', [key], {});\n",
              "      } catch (error) {\n",
              "        console.error('Error during call to suggestCharts:', error);\n",
              "      }\n",
              "      quickchartButtonEl.classList.remove('colab-df-spinner');\n",
              "      quickchartButtonEl.classList.add('colab-df-quickchart-complete');\n",
              "    }\n",
              "    (() => {\n",
              "      let quickchartButtonEl =\n",
              "        document.querySelector('#df-0205ec60-2405-4a95-a48b-cde0d38fe5d1 button');\n",
              "      quickchartButtonEl.style.display =\n",
              "        google.colab.kernel.accessAllowed ? 'block' : 'none';\n",
              "    })();\n",
              "  </script>\n",
              "</div>\n",
              "    </div>\n",
              "  </div>\n"
            ],
            "application/vnd.google.colaboratory.intrinsic+json": {
              "type": "dataframe",
              "summary": "{\n  \"name\": \"ap\",\n  \"rows\": 20,\n  \"fields\": [\n    {\n      \"column\": \"from\",\n      \"properties\": {\n        \"dtype\": \"object\",\n        \"semantic_type\": \"\",\n        \"description\": \"\"\n      }\n    },\n    {\n      \"column\": \"to\",\n      \"properties\": {\n        \"dtype\": \"object\",\n        \"semantic_type\": \"\",\n        \"description\": \"\"\n      }\n    },\n    {\n      \"column\": \"conf\",\n      \"properties\": {\n        \"dtype\": \"number\",\n        \"std\": 0.15385222403126508,\n        \"min\": 0.33571893298633704,\n        \"max\": 0.9013333333333333,\n        \"num_unique_values\": 20,\n        \"samples\": [\n          0.6502659574468085,\n          0.6642335766423357,\n          0.33571893298633704\n        ],\n        \"semantic_type\": \"\",\n        \"description\": \"\"\n      }\n    },\n    {\n      \"column\": \"supp\",\n      \"properties\": {\n        \"dtype\": \"number\",\n        \"std\": 0.00011884853093393142,\n        \"min\": 0.0010042676153968215,\n        \"max\": 0.0014114031351522896,\n        \"num_unique_values\": 10,\n        \"samples\": [\n          0.0011399794553153108,\n          0.0011629460743784398,\n          0.0011065734639507596\n        ],\n        \"semantic_type\": \"\",\n        \"description\": \"\"\n      }\n    },\n    {\n      \"column\": \"lift\",\n      \"properties\": {\n        \"dtype\": \"number\",\n        \"std\": 82.45601246396761,\n        \"min\": 193.03791379766946,\n        \"max\": 444.9268313069909,\n        \"num_unique_values\": 10,\n        \"samples\": [\n          211.2474481635502,\n          411.8629997406351,\n          278.2009473312744\n        ],\n        \"semantic_type\": \"\",\n        \"description\": \"\"\n      }\n    }\n  ]\n}"
            }
          },
          "metadata": {},
          "execution_count": 52
        }
      ]
    }
  ],
  "metadata": {
    "colab": {
      "provenance": []
    },
    "kernelspec": {
      "display_name": "Python 3",
      "name": "python3"
    },
    "language_info": {
      "name": "python"
    }
  },
  "nbformat": 4,
  "nbformat_minor": 0
}